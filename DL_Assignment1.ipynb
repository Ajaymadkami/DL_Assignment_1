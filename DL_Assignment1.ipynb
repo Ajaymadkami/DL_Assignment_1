{
  "cells": [
    {
      "cell_type": "code",
      "execution_count": null,
      "metadata": {
        "colab": {
          "base_uri": "https://localhost:8080/"
        },
        "id": "e18DdeH_ZCs5",
        "outputId": "034fa9b4-c053-4a6c-c111-fe97beba6106"
      },
      "outputs": [
        {
          "name": "stdout",
          "output_type": "stream",
          "text": [
            "Requirement already satisfied: wandb in /usr/local/lib/python3.11/dist-packages (0.19.7)\n",
            "Requirement already satisfied: click!=8.0.0,>=7.1 in /usr/local/lib/python3.11/dist-packages (from wandb) (8.1.8)\n",
            "Requirement already satisfied: docker-pycreds>=0.4.0 in /usr/local/lib/python3.11/dist-packages (from wandb) (0.4.0)\n",
            "Requirement already satisfied: gitpython!=3.1.29,>=1.0.0 in /usr/local/lib/python3.11/dist-packages (from wandb) (3.1.44)\n",
            "Requirement already satisfied: platformdirs in /usr/local/lib/python3.11/dist-packages (from wandb) (4.3.6)\n",
            "Requirement already satisfied: protobuf!=4.21.0,!=5.28.0,<6,>=3.19.0 in /usr/local/lib/python3.11/dist-packages (from wandb) (4.25.6)\n",
            "Requirement already satisfied: psutil>=5.0.0 in /usr/local/lib/python3.11/dist-packages (from wandb) (5.9.5)\n",
            "Requirement already satisfied: pydantic<3,>=2.6 in /usr/local/lib/python3.11/dist-packages (from wandb) (2.10.6)\n",
            "Requirement already satisfied: pyyaml in /usr/local/lib/python3.11/dist-packages (from wandb) (6.0.2)\n",
            "Requirement already satisfied: requests<3,>=2.0.0 in /usr/local/lib/python3.11/dist-packages (from wandb) (2.32.3)\n",
            "Requirement already satisfied: sentry-sdk>=2.0.0 in /usr/local/lib/python3.11/dist-packages (from wandb) (2.22.0)\n",
            "Requirement already satisfied: setproctitle in /usr/local/lib/python3.11/dist-packages (from wandb) (1.3.5)\n",
            "Requirement already satisfied: setuptools in /usr/local/lib/python3.11/dist-packages (from wandb) (75.1.0)\n",
            "Requirement already satisfied: typing-extensions<5,>=4.4 in /usr/local/lib/python3.11/dist-packages (from wandb) (4.12.2)\n",
            "Requirement already satisfied: six>=1.4.0 in /usr/local/lib/python3.11/dist-packages (from docker-pycreds>=0.4.0->wandb) (1.17.0)\n",
            "Requirement already satisfied: gitdb<5,>=4.0.1 in /usr/local/lib/python3.11/dist-packages (from gitpython!=3.1.29,>=1.0.0->wandb) (4.0.12)\n",
            "Requirement already satisfied: annotated-types>=0.6.0 in /usr/local/lib/python3.11/dist-packages (from pydantic<3,>=2.6->wandb) (0.7.0)\n",
            "Requirement already satisfied: pydantic-core==2.27.2 in /usr/local/lib/python3.11/dist-packages (from pydantic<3,>=2.6->wandb) (2.27.2)\n",
            "Requirement already satisfied: charset-normalizer<4,>=2 in /usr/local/lib/python3.11/dist-packages (from requests<3,>=2.0.0->wandb) (3.4.1)\n",
            "Requirement already satisfied: idna<4,>=2.5 in /usr/local/lib/python3.11/dist-packages (from requests<3,>=2.0.0->wandb) (3.10)\n",
            "Requirement already satisfied: urllib3<3,>=1.21.1 in /usr/local/lib/python3.11/dist-packages (from requests<3,>=2.0.0->wandb) (2.3.0)\n",
            "Requirement already satisfied: certifi>=2017.4.17 in /usr/local/lib/python3.11/dist-packages (from requests<3,>=2.0.0->wandb) (2025.1.31)\n",
            "Requirement already satisfied: smmap<6,>=3.0.1 in /usr/local/lib/python3.11/dist-packages (from gitdb<5,>=4.0.1->gitpython!=3.1.29,>=1.0.0->wandb) (5.0.2)\n"
          ]
        }
      ],
      "source": [
        "!pip install wandb"
      ]
    },
    {
      "cell_type": "code",
      "execution_count": 1,
      "metadata": {
        "colab": {
          "base_uri": "https://localhost:8080/",
          "height": 208
        },
        "id": "WDk6N4JIZvSD",
        "outputId": "2a582cf1-6505-442c-b550-86047f457b15"
      },
      "outputs": [
        {
          "output_type": "stream",
          "name": "stderr",
          "text": [
            "\u001b[34m\u001b[1mwandb\u001b[0m: Using wandb-core as the SDK backend.  Please refer to https://wandb.me/wandb-core for more information.\n"
          ]
        },
        {
          "output_type": "display_data",
          "data": {
            "text/plain": [
              "<IPython.core.display.Javascript object>"
            ],
            "application/javascript": [
              "\n",
              "        window._wandbApiKey = new Promise((resolve, reject) => {\n",
              "            function loadScript(url) {\n",
              "            return new Promise(function(resolve, reject) {\n",
              "                let newScript = document.createElement(\"script\");\n",
              "                newScript.onerror = reject;\n",
              "                newScript.onload = resolve;\n",
              "                document.body.appendChild(newScript);\n",
              "                newScript.src = url;\n",
              "            });\n",
              "            }\n",
              "            loadScript(\"https://cdn.jsdelivr.net/npm/postmate/build/postmate.min.js\").then(() => {\n",
              "            const iframe = document.createElement('iframe')\n",
              "            iframe.style.cssText = \"width:0;height:0;border:none\"\n",
              "            document.body.appendChild(iframe)\n",
              "            const handshake = new Postmate({\n",
              "                container: iframe,\n",
              "                url: 'https://wandb.ai/authorize'\n",
              "            });\n",
              "            const timeout = setTimeout(() => reject(\"Couldn't auto authenticate\"), 5000)\n",
              "            handshake.then(function(child) {\n",
              "                child.on('authorize', data => {\n",
              "                    clearTimeout(timeout)\n",
              "                    resolve(data)\n",
              "                });\n",
              "            });\n",
              "            })\n",
              "        });\n",
              "    "
            ]
          },
          "metadata": {}
        },
        {
          "output_type": "stream",
          "name": "stderr",
          "text": [
            "\u001b[34m\u001b[1mwandb\u001b[0m: Logging into wandb.ai. (Learn how to deploy a W&B server locally: https://wandb.me/wandb-server)\n",
            "\u001b[34m\u001b[1mwandb\u001b[0m: You can find your API key in your browser here: https://wandb.ai/authorize\n",
            "wandb: Paste an API key from your profile and hit enter:"
          ]
        },
        {
          "name": "stdout",
          "output_type": "stream",
          "text": [
            " ··········\n"
          ]
        },
        {
          "output_type": "stream",
          "name": "stderr",
          "text": [
            "\u001b[34m\u001b[1mwandb\u001b[0m: \u001b[33mWARNING\u001b[0m If you're specifying your api key in code, ensure this code is not shared publicly.\n",
            "\u001b[34m\u001b[1mwandb\u001b[0m: \u001b[33mWARNING\u001b[0m Consider setting the WANDB_API_KEY environment variable, or running `wandb login` from the command line.\n",
            "\u001b[34m\u001b[1mwandb\u001b[0m: No netrc file found, creating one.\n",
            "\u001b[34m\u001b[1mwandb\u001b[0m: Appending key for api.wandb.ai to your netrc file: /root/.netrc\n",
            "\u001b[34m\u001b[1mwandb\u001b[0m: Currently logged in as: \u001b[33majay-madkami-iitm\u001b[0m (\u001b[33majay-madkami-iitm-indian-institute-of-technology-mad\u001b[0m) to \u001b[32mhttps://api.wandb.ai\u001b[0m. Use \u001b[1m`wandb login --relogin`\u001b[0m to force relogin\n"
          ]
        },
        {
          "output_type": "execute_result",
          "data": {
            "text/plain": [
              "True"
            ]
          },
          "metadata": {},
          "execution_count": 1
        }
      ],
      "source": [
        "import wandb\n",
        "wandb.login()"
      ]
    },
    {
      "cell_type": "markdown",
      "metadata": {
        "id": "aaKhlESLmjUU"
      },
      "source": [
        "**Question 1** : Download the fashion-MNIST dataset and plot 1 sample image for each class as shown in the grid below. Use from keras.datasets import fashion_mnist for getting the fashion mnist dataset."
      ]
    },
    {
      "cell_type": "code",
      "execution_count": null,
      "metadata": {
        "colab": {
          "base_uri": "https://localhost:8080/",
          "height": 416
        },
        "id": "CI701pYnNm93",
        "outputId": "bdfb13df-833b-4b1c-dcec-50709f50ddce"
      },
      "outputs": [
        {
          "data": {
            "text/html": [
              "Tracking run with wandb version 0.19.7"
            ],
            "text/plain": [
              "<IPython.core.display.HTML object>"
            ]
          },
          "metadata": {},
          "output_type": "display_data"
        },
        {
          "data": {
            "text/html": [
              "Run data is saved locally in <code>/content/wandb/run-20250310_074703-ubao0vb1</code>"
            ],
            "text/plain": [
              "<IPython.core.display.HTML object>"
            ]
          },
          "metadata": {},
          "output_type": "display_data"
        },
        {
          "data": {
            "text/html": [
              "Syncing run <strong><a href='https://wandb.ai/ajay-madkami-iitm-indian-institute-of-technology-mad/Assignment1/runs/ubao0vb1' target=\"_blank\">electric-hill-550</a></strong> to <a href='https://wandb.ai/ajay-madkami-iitm-indian-institute-of-technology-mad/Assignment1' target=\"_blank\">Weights & Biases</a> (<a href='https://wandb.me/developer-guide' target=\"_blank\">docs</a>)<br>"
            ],
            "text/plain": [
              "<IPython.core.display.HTML object>"
            ]
          },
          "metadata": {},
          "output_type": "display_data"
        },
        {
          "data": {
            "text/html": [
              " View project at <a href='https://wandb.ai/ajay-madkami-iitm-indian-institute-of-technology-mad/Assignment1' target=\"_blank\">https://wandb.ai/ajay-madkami-iitm-indian-institute-of-technology-mad/Assignment1</a>"
            ],
            "text/plain": [
              "<IPython.core.display.HTML object>"
            ]
          },
          "metadata": {},
          "output_type": "display_data"
        },
        {
          "data": {
            "text/html": [
              " View run at <a href='https://wandb.ai/ajay-madkami-iitm-indian-institute-of-technology-mad/Assignment1/runs/ubao0vb1' target=\"_blank\">https://wandb.ai/ajay-madkami-iitm-indian-institute-of-technology-mad/Assignment1/runs/ubao0vb1</a>"
            ],
            "text/plain": [
              "<IPython.core.display.HTML object>"
            ]
          },
          "metadata": {},
          "output_type": "display_data"
        },
        {
          "name": "stdout",
          "output_type": "stream",
          "text": [
            "Downloading data from https://storage.googleapis.com/tensorflow/tf-keras-datasets/train-labels-idx1-ubyte.gz\n",
            "\u001b[1m29515/29515\u001b[0m \u001b[32m━━━━━━━━━━━━━━━━━━━━\u001b[0m\u001b[37m\u001b[0m \u001b[1m0s\u001b[0m 0us/step\n",
            "Downloading data from https://storage.googleapis.com/tensorflow/tf-keras-datasets/train-images-idx3-ubyte.gz\n",
            "\u001b[1m26421880/26421880\u001b[0m \u001b[32m━━━━━━━━━━━━━━━━━━━━\u001b[0m\u001b[37m\u001b[0m \u001b[1m2s\u001b[0m 0us/step\n",
            "Downloading data from https://storage.googleapis.com/tensorflow/tf-keras-datasets/t10k-labels-idx1-ubyte.gz\n",
            "\u001b[1m5148/5148\u001b[0m \u001b[32m━━━━━━━━━━━━━━━━━━━━\u001b[0m\u001b[37m\u001b[0m \u001b[1m0s\u001b[0m 0us/step\n",
            "Downloading data from https://storage.googleapis.com/tensorflow/tf-keras-datasets/t10k-images-idx3-ubyte.gz\n",
            "\u001b[1m4422102/4422102\u001b[0m \u001b[32m━━━━━━━━━━━━━━━━━━━━\u001b[0m\u001b[37m\u001b[0m \u001b[1m1s\u001b[0m 0us/step\n",
            "X_train shape: (48000, 784)\n",
            "Y_train shape: (48000, 10)\n",
            "X_validation shape: (12000, 784)\n",
            "Y_validation shape: (12000, 10)\n",
            "X_test shape: (10000, 784)\n",
            "Y_test shape: (10000, 10)\n"
          ]
        },
        {
          "data": {
            "text/html": [],
            "text/plain": [
              "<IPython.core.display.HTML object>"
            ]
          },
          "metadata": {},
          "output_type": "display_data"
        },
        {
          "data": {
            "text/html": [
              " View run <strong style=\"color:#cdcd00\">electric-hill-550</strong> at: <a href='https://wandb.ai/ajay-madkami-iitm-indian-institute-of-technology-mad/Assignment1/runs/ubao0vb1' target=\"_blank\">https://wandb.ai/ajay-madkami-iitm-indian-institute-of-technology-mad/Assignment1/runs/ubao0vb1</a><br> View project at: <a href='https://wandb.ai/ajay-madkami-iitm-indian-institute-of-technology-mad/Assignment1' target=\"_blank\">https://wandb.ai/ajay-madkami-iitm-indian-institute-of-technology-mad/Assignment1</a><br>Synced 5 W&B file(s), 10 media file(s), 0 artifact file(s) and 0 other file(s)"
            ],
            "text/plain": [
              "<IPython.core.display.HTML object>"
            ]
          },
          "metadata": {},
          "output_type": "display_data"
        },
        {
          "data": {
            "text/html": [
              "Find logs at: <code>./wandb/run-20250310_074703-ubao0vb1/logs</code>"
            ],
            "text/plain": [
              "<IPython.core.display.HTML object>"
            ]
          },
          "metadata": {},
          "output_type": "display_data"
        }
      ],
      "source": [
        "import numpy as np\n",
        "import matplotlib.pyplot as plt\n",
        "import wandb\n",
        "from keras.datasets import fashion_mnist\n",
        "from keras.utils import to_categorical\n",
        "\n",
        "# Initialize WandB\n",
        "wandb.init(project=\"Assignment1\")\n",
        "\n",
        "# Load the dataset\n",
        "(X_train, Y_train), (X_test, Y_test) = fashion_mnist.load_data()\n",
        "\n",
        "# Split training set into training and validation sets\n",
        "split = int(0.8 * len(X_train))  # 80% for training, 20% for validation\n",
        "X_validation, Y_validation = X_train[split:], Y_train[split:]\n",
        "X_train, Y_train = X_train[:split], Y_train[:split]\n",
        "\n",
        "# Flatten the images\n",
        "X_train = X_train.reshape(X_train.shape[0], 28 * 28)\n",
        "X_validation = X_validation.reshape(X_validation.shape[0], 28 * 28)\n",
        "X_test = X_test.reshape(X_test.shape[0], 28 * 28)\n",
        "\n",
        "# Normalize the data (scale pixel values to [0, 1])\n",
        "X_train = X_train.astype('float32') / 255.0\n",
        "X_validation = X_validation.astype('float32') / 255.0\n",
        "X_test = X_test.astype('float32') / 255.0\n",
        "\n",
        "# One-hot encoding of labels\n",
        "Y_train = to_categorical(Y_train, 10)\n",
        "Y_validation = to_categorical(Y_validation, 10)\n",
        "Y_test = to_categorical(Y_test, 10)\n",
        "\n",
        "# Log dataset details to WandB\n",
        "wandb.config.update({\n",
        "    \"train_size\": X_train.shape[0],\n",
        "    \"validation_size\": X_validation.shape[0],\n",
        "    \"test_size\": X_test.shape[0],\n",
        "    \"image_shape\": (28, 28)\n",
        "})\n",
        "\n",
        "# Class names in Fashion MNIST dataset\n",
        "class_names = ['T-shirt/top', 'Trouser', 'Pullover', 'Dress', 'Coat',\n",
        "               'Sandal', 'Shirt', 'Sneaker', 'Bag', 'Ankle boot']\n",
        "\n",
        "# Log sample images to WandB\n",
        "wandb.log({\"sample_images\": [wandb.Image(X_train[i].reshape(28, 28), caption=class_names[Y_train[i].argmax()]) for i in range(10)]})\n",
        "\n",
        "# Print dataset shapes\n",
        "print(\"X_train shape:\", X_train.shape)\n",
        "print(\"Y_train shape:\", Y_train.shape)\n",
        "print(\"X_validation shape:\", X_validation.shape)\n",
        "print(\"Y_validation shape:\", Y_validation.shape)\n",
        "print(\"X_test shape:\", X_test.shape)\n",
        "print(\"Y_test shape:\", Y_test.shape)\n",
        "\n",
        "# Finish WandB run\n",
        "wandb.finish()\n"
      ]
    },
    {
      "cell_type": "code",
      "execution_count": null,
      "metadata": {
        "colab": {
          "base_uri": "https://localhost:8080/",
          "height": 493
        },
        "id": "Z9r2mi-UPU2y",
        "outputId": "3f71812f-5da4-41fb-e0c0-5861d18d1f46"
      },
      "outputs": [
        {
          "data": {
            "image/png": "[encoded data removed]",
            "text/plain": [
              "<Figure size 1000x500 with 10 Axes>"
            ]
          },
          "metadata": {},
          "output_type": "display_data"
        }
      ],
      "source": [
        "# Plot sample images\n",
        "fig, axes = plt.subplots(2, 5, figsize=(10, 5))\n",
        "fig.suptitle(\"Sample Images from Fashion MNIST Classes\", fontsize=14)\n",
        "\n",
        "for i in range(10):\n",
        "    ax = axes[i // 5, i % 5]\n",
        "    idx = np.where(Y_train.argmax(axis=1) == i)[0][0]  # Find an index for each class\n",
        "    ax.imshow(X_train[idx].reshape(28, 28), cmap='gray')\n",
        "    ax.set_title(class_names[i])\n",
        "    ax.axis('off')\n",
        "\n",
        "plt.tight_layout()\n",
        "plt.show()  # Ensure images are displayed in the output\n"
      ]
    },
    {
      "cell_type": "markdown",
      "metadata": {
        "id": "lI1l6MDemAlc"
      },
      "source": [
        "**Question 2** : Implement a feedforward neural network which takes images from the fashion-mnist data as input and outputs a probability distribution over the 10 classes.\n",
        "\n",
        "\n",
        "**Question 3 **:\n",
        "Implement the backpropagation algorithm with support for the following optimisation functions\n",
        "\n",
        "**SGD**"
      ]
    },
    {
      "cell_type": "code",
      "execution_count": null,
      "metadata": {
        "colab": {
          "base_uri": "https://localhost:8080/",
          "height": 661
        },
        "id": "aqYI_PIpzjt2",
        "outputId": "71feba4d-14cd-4328-c080-9c4cc8ae5463"
      },
      "outputs": [
        {
          "data": {
            "text/html": [
              "Tracking run with wandb version 0.19.7"
            ],
            "text/plain": [
              "<IPython.core.display.HTML object>"
            ]
          },
          "metadata": {},
          "output_type": "display_data"
        },
        {
          "data": {
            "text/html": [
              "Run data is saved locally in <code>/content/wandb/run-20250309_095617-es87mzd3</code>"
            ],
            "text/plain": [
              "<IPython.core.display.HTML object>"
            ]
          },
          "metadata": {},
          "output_type": "display_data"
        },
        {
          "data": {
            "text/html": [
              "Syncing run <strong><a href='https://wandb.ai/ajay-madkami-iitm-indian-institute-of-technology-mad/Assignment1/runs/es87mzd3' target=\"_blank\">SGD-training</a></strong> to <a href='https://wandb.ai/ajay-madkami-iitm-indian-institute-of-technology-mad/Assignment1' target=\"_blank\">Weights & Biases</a> (<a href='https://wandb.me/developer-guide' target=\"_blank\">docs</a>)<br>"
            ],
            "text/plain": [
              "<IPython.core.display.HTML object>"
            ]
          },
          "metadata": {},
          "output_type": "display_data"
        },
        {
          "data": {
            "text/html": [
              " View project at <a href='https://wandb.ai/ajay-madkami-iitm-indian-institute-of-technology-mad/Assignment1' target=\"_blank\">https://wandb.ai/ajay-madkami-iitm-indian-institute-of-technology-mad/Assignment1</a>"
            ],
            "text/plain": [
              "<IPython.core.display.HTML object>"
            ]
          },
          "metadata": {},
          "output_type": "display_data"
        },
        {
          "data": {
            "text/html": [
              " View run at <a href='https://wandb.ai/ajay-madkami-iitm-indian-institute-of-technology-mad/Assignment1/runs/es87mzd3' target=\"_blank\">https://wandb.ai/ajay-madkami-iitm-indian-institute-of-technology-mad/Assignment1/runs/es87mzd3</a>"
            ],
            "text/plain": [
              "<IPython.core.display.HTML object>"
            ]
          },
          "metadata": {},
          "output_type": "display_data"
        },
        {
          "name": "stdout",
          "output_type": "stream",
          "text": [
            "Epoch 1/10, Loss: 0.3164, Validation Accuracy: 84.28%\n",
            "Epoch 2/10, Loss: 0.2728, Validation Accuracy: 85.71%\n",
            "Epoch 3/10, Loss: 0.2484, Validation Accuracy: 86.24%\n",
            "Epoch 4/10, Loss: 0.2505, Validation Accuracy: 86.60%\n",
            "Epoch 5/10, Loss: 0.2399, Validation Accuracy: 87.04%\n",
            "Epoch 6/10, Loss: 0.2313, Validation Accuracy: 87.15%\n",
            "Epoch 7/10, Loss: 0.2243, Validation Accuracy: 87.29%\n",
            "Epoch 8/10, Loss: 0.2299, Validation Accuracy: 87.43%\n",
            "Epoch 9/10, Loss: 0.2295, Validation Accuracy: 87.46%\n",
            "Epoch 10/10, Loss: 0.2158, Validation Accuracy: 87.47%\n"
          ]
        },
        {
          "data": {
            "text/html": [],
            "text/plain": [
              "<IPython.core.display.HTML object>"
            ]
          },
          "metadata": {},
          "output_type": "display_data"
        },
        {
          "data": {
            "text/html": [
              "<br>    <style><br>        .wandb-row {<br>            display: flex;<br>            flex-direction: row;<br>            flex-wrap: wrap;<br>            justify-content: flex-start;<br>            width: 100%;<br>        }<br>        .wandb-col {<br>            display: flex;<br>            flex-direction: column;<br>            flex-basis: 100%;<br>            flex: 1;<br>            padding: 10px;<br>        }<br>    </style><br><div class=\"wandb-row\"><div class=\"wandb-col\"><h3>Run history:</h3><br/><table class=\"wandb\"><tr><td>epoch</td><td>▁▂▃▃▄▅▆▆▇█</td></tr><tr><td>loss</td><td>█▅▃▃▃▂▂▂▂▁</td></tr><tr><td>validation_accuracy</td><td>▁▄▅▆▇▇████</td></tr></table><br/></div><div class=\"wandb-col\"><h3>Run summary:</h3><br/><table class=\"wandb\"><tr><td>epoch</td><td>10</td></tr><tr><td>loss</td><td>0.21581</td></tr><tr><td>validation_accuracy</td><td>87.46667</td></tr></table><br/></div></div>"
            ],
            "text/plain": [
              "<IPython.core.display.HTML object>"
            ]
          },
          "metadata": {},
          "output_type": "display_data"
        },
        {
          "data": {
            "text/html": [
              " View run <strong style=\"color:#cdcd00\">SGD-training</strong> at: <a href='https://wandb.ai/ajay-madkami-iitm-indian-institute-of-technology-mad/Assignment1/runs/es87mzd3' target=\"_blank\">https://wandb.ai/ajay-madkami-iitm-indian-institute-of-technology-mad/Assignment1/runs/es87mzd3</a><br> View project at: <a href='https://wandb.ai/ajay-madkami-iitm-indian-institute-of-technology-mad/Assignment1' target=\"_blank\">https://wandb.ai/ajay-madkami-iitm-indian-institute-of-technology-mad/Assignment1</a><br>Synced 5 W&B file(s), 0 media file(s), 0 artifact file(s) and 0 other file(s)"
            ],
            "text/plain": [
              "<IPython.core.display.HTML object>"
            ]
          },
          "metadata": {},
          "output_type": "display_data"
        },
        {
          "data": {
            "text/html": [
              "Find logs at: <code>./wandb/run-20250309_095617-es87mzd3/logs</code>"
            ],
            "text/plain": [
              "<IPython.core.display.HTML object>"
            ]
          },
          "metadata": {},
          "output_type": "display_data"
        }
      ],
      "source": [
        "import numpy as np\n",
        "import wandb\n",
        "from keras.datasets import fashion_mnist\n",
        "from keras.utils import to_categorical\n",
        "\n",
        "def initialize_network(num_hidden_layers, num_nodes_hidden_layers, input_size, output_size):\n",
        "    weights = []\n",
        "    biases = []\n",
        "    layer_sizes = [input_size] + [num_nodes_hidden_layers] * num_hidden_layers + [output_size]\n",
        "\n",
        "    for i in range(len(layer_sizes) - 1):\n",
        "        weights.append(np.random.randn(layer_sizes[i], layer_sizes[i+1]) * np.sqrt(2. / layer_sizes[i]))\n",
        "        biases.append(np.zeros((1, layer_sizes[i+1])))\n",
        "\n",
        "    return weights, biases\n",
        "\n",
        "def apply_optimizer(weights, biases, gradients_w, gradients_b, lr):\n",
        "    for i in range(len(weights)):\n",
        "        weights[i] -= lr * gradients_w[i]\n",
        "        biases[i] -= lr * gradients_b[i]\n",
        "    return weights, biases\n",
        "\n",
        "def forward_propagation(X, weights, biases, num_hidden_layers, activation):\n",
        "    activations = [X]\n",
        "    for i in range(num_hidden_layers):\n",
        "        z = np.dot(activations[-1], weights[i]) + biases[i]\n",
        "        a = np.maximum(0, z) if activation == 'relu' else 1 / (1 + np.exp(-z))\n",
        "        activations.append(a)\n",
        "\n",
        "    z_out = np.dot(activations[-1], weights[-1]) + biases[-1]\n",
        "    exp_scores = np.exp(z_out - np.max(z_out, axis=1, keepdims=True))\n",
        "    activations.append(exp_scores / np.sum(exp_scores, axis=1, keepdims=True))\n",
        "    return activations\n",
        "\n",
        "def backward_propagation(X, Y, weights, biases, activations, num_hidden_layers):\n",
        "    gradients_w = [None] * len(weights)\n",
        "    gradients_b = [None] * len(biases)\n",
        "\n",
        "    delta = activations[-1] - Y\n",
        "    gradients_w[-1] = np.dot(activations[-2].T, delta) / X.shape[0]\n",
        "    gradients_b[-1] = np.sum(delta, axis=0, keepdims=True) / X.shape[0]\n",
        "\n",
        "    for i in range(num_hidden_layers, 0, -1):\n",
        "        delta = np.dot(delta, weights[i].T) * (activations[i] > 0)\n",
        "        gradients_w[i-1] = np.dot(activations[i-1].T, delta) / X.shape[0]\n",
        "        gradients_b[i-1] = np.sum(delta, axis=0, keepdims=True) / X.shape[0]\n",
        "\n",
        "    return gradients_w, gradients_b\n",
        "\n",
        "def cross_entropy_loss(predictions, Y):\n",
        "    return -np.mean(np.sum(Y * np.log(predictions + 1e-9), axis=1))\n",
        "\n",
        "def calculate_accuracy(X_test, Y_test, weights, biases, num_hidden_layers, activation):\n",
        "    activations = forward_propagation(X_test, weights, biases, num_hidden_layers, activation)\n",
        "    predictions = np.argmax(activations[-1], axis=1)\n",
        "    actual = np.argmax(Y_test, axis=1)\n",
        "    return np.mean(predictions == actual) * 100\n",
        "\n",
        "def sgd_optimizer(lr, X_train, Y_train, X_valid, Y_valid, epochs, activation, num_hidden_layers, num_nodes_hidden_layers, batch_size, input_size, output_size):\n",
        "    wandb.init(project=\"Assignment1\", name=\"SGD-training\")\n",
        "    weights, biases = initialize_network(num_hidden_layers, num_nodes_hidden_layers, input_size, output_size)\n",
        "\n",
        "    for epoch in range(epochs):\n",
        "        for i in range(0, X_train.shape[0], batch_size):\n",
        "            x_batch = X_train[i:i+batch_size]\n",
        "            y_batch = Y_train[i:i+batch_size]\n",
        "            activations = forward_propagation(x_batch, weights, biases, num_hidden_layers, activation)\n",
        "            gradients_w, gradients_b = backward_propagation(x_batch, y_batch, weights, biases, activations, num_hidden_layers)\n",
        "            weights, biases = apply_optimizer(weights, biases, gradients_w, gradients_b, lr)\n",
        "\n",
        "        val_acc = calculate_accuracy(X_valid, Y_valid, weights, biases, num_hidden_layers, activation)\n",
        "        loss = cross_entropy_loss(activations[-1], y_batch)\n",
        "        print(f\"Epoch {epoch + 1}/{epochs}, Loss: {loss:.4f}, Validation Accuracy: {val_acc:.2f}%\")\n",
        "        wandb.log({\"epoch\": epoch + 1, \"loss\": loss, \"validation_accuracy\": val_acc})\n",
        "\n",
        "    wandb.finish()\n",
        "\n",
        "# Load data and preprocess\n",
        "(X_train, Y_train), (X_test, Y_test) = fashion_mnist.load_data()\n",
        "X_train, X_test = X_train.reshape(-1, 28*28) / 255.0, X_test.reshape(-1, 28*28) / 255.0\n",
        "Y_train, Y_test = to_categorical(Y_train, 10), to_categorical(Y_test, 10)\n",
        "\n",
        "# Split train into train and validation sets\n",
        "split_idx = int(0.8 * X_train.shape[0])\n",
        "X_valid, Y_valid = X_train[split_idx:], Y_train[split_idx:]\n",
        "X_train, Y_train = X_train[:split_idx], Y_train[:split_idx]\n",
        "\n",
        "# Run optimizer function\n",
        "sgd_optimizer(lr=0.1, X_train=X_train, Y_train=Y_train, X_valid=X_valid, Y_valid=Y_valid,\n",
        "                   epochs=10, activation='relu', num_hidden_layers=2, num_nodes_hidden_layers=128,\n",
        "                   batch_size=64, input_size=28*28, output_size=10)\n"
      ]
    },
    {
      "cell_type": "markdown",
      "metadata": {
        "id": "cJJA3fcxpZwq"
      },
      "source": [
        "**Momentum based gradient descent**"
      ]
    },
    {
      "cell_type": "code",
      "execution_count": null,
      "metadata": {
        "colab": {
          "base_uri": "https://localhost:8080/",
          "height": 661
        },
        "id": "aB_Z6cj6UsF6",
        "outputId": "96c7b85c-1181-4e86-9c33-c15e11061ea8"
      },
      "outputs": [
        {
          "data": {
            "text/html": [
              "Tracking run with wandb version 0.19.7"
            ],
            "text/plain": [
              "<IPython.core.display.HTML object>"
            ]
          },
          "metadata": {},
          "output_type": "display_data"
        },
        {
          "data": {
            "text/html": [
              "Run data is saved locally in <code>/content/wandb/run-20250309_095634-f39cdkse</code>"
            ],
            "text/plain": [
              "<IPython.core.display.HTML object>"
            ]
          },
          "metadata": {},
          "output_type": "display_data"
        },
        {
          "data": {
            "text/html": [
              "Syncing run <strong><a href='https://wandb.ai/ajay-madkami-iitm-indian-institute-of-technology-mad/Assignment1/runs/f39cdkse' target=\"_blank\">Momentum-training</a></strong> to <a href='https://wandb.ai/ajay-madkami-iitm-indian-institute-of-technology-mad/Assignment1' target=\"_blank\">Weights & Biases</a> (<a href='https://wandb.me/developer-guide' target=\"_blank\">docs</a>)<br>"
            ],
            "text/plain": [
              "<IPython.core.display.HTML object>"
            ]
          },
          "metadata": {},
          "output_type": "display_data"
        },
        {
          "data": {
            "text/html": [
              " View project at <a href='https://wandb.ai/ajay-madkami-iitm-indian-institute-of-technology-mad/Assignment1' target=\"_blank\">https://wandb.ai/ajay-madkami-iitm-indian-institute-of-technology-mad/Assignment1</a>"
            ],
            "text/plain": [
              "<IPython.core.display.HTML object>"
            ]
          },
          "metadata": {},
          "output_type": "display_data"
        },
        {
          "data": {
            "text/html": [
              " View run at <a href='https://wandb.ai/ajay-madkami-iitm-indian-institute-of-technology-mad/Assignment1/runs/f39cdkse' target=\"_blank\">https://wandb.ai/ajay-madkami-iitm-indian-institute-of-technology-mad/Assignment1/runs/f39cdkse</a>"
            ],
            "text/plain": [
              "<IPython.core.display.HTML object>"
            ]
          },
          "metadata": {},
          "output_type": "display_data"
        },
        {
          "name": "stdout",
          "output_type": "stream",
          "text": [
            "Epoch 1/10, Loss: 0.3361, Validation Accuracy: 80.84%\n",
            "Epoch 2/10, Loss: 0.2680, Validation Accuracy: 83.60%\n",
            "Epoch 3/10, Loss: 0.2642, Validation Accuracy: 83.58%\n",
            "Epoch 4/10, Loss: 0.2695, Validation Accuracy: 83.40%\n",
            "Epoch 5/10, Loss: 0.2711, Validation Accuracy: 82.68%\n",
            "Epoch 6/10, Loss: 0.4026, Validation Accuracy: 84.40%\n",
            "Epoch 7/10, Loss: 0.2498, Validation Accuracy: 85.61%\n",
            "Epoch 8/10, Loss: 0.2557, Validation Accuracy: 84.66%\n",
            "Epoch 9/10, Loss: 0.2146, Validation Accuracy: 85.62%\n",
            "Epoch 10/10, Loss: 0.3233, Validation Accuracy: 83.60%\n"
          ]
        },
        {
          "data": {
            "text/html": [],
            "text/plain": [
              "<IPython.core.display.HTML object>"
            ]
          },
          "metadata": {},
          "output_type": "display_data"
        },
        {
          "data": {
            "text/html": [
              "<br>    <style><br>        .wandb-row {<br>            display: flex;<br>            flex-direction: row;<br>            flex-wrap: wrap;<br>            justify-content: flex-start;<br>            width: 100%;<br>        }<br>        .wandb-col {<br>            display: flex;<br>            flex-direction: column;<br>            flex-basis: 100%;<br>            flex: 1;<br>            padding: 10px;<br>        }<br>    </style><br><div class=\"wandb-row\"><div class=\"wandb-col\"><h3>Run history:</h3><br/><table class=\"wandb\"><tr><td>epoch</td><td>▁▂▃▃▄▅▆▆▇█</td></tr><tr><td>loss</td><td>▆▃▃▃▃█▂▃▁▅</td></tr><tr><td>validation_accuracy</td><td>▁▅▅▅▄▆█▇█▅</td></tr></table><br/></div><div class=\"wandb-col\"><h3>Run summary:</h3><br/><table class=\"wandb\"><tr><td>epoch</td><td>10</td></tr><tr><td>loss</td><td>0.32331</td></tr><tr><td>validation_accuracy</td><td>83.6</td></tr></table><br/></div></div>"
            ],
            "text/plain": [
              "<IPython.core.display.HTML object>"
            ]
          },
          "metadata": {},
          "output_type": "display_data"
        },
        {
          "data": {
            "text/html": [
              " View run <strong style=\"color:#cdcd00\">Momentum-training</strong> at: <a href='https://wandb.ai/ajay-madkami-iitm-indian-institute-of-technology-mad/Assignment1/runs/f39cdkse' target=\"_blank\">https://wandb.ai/ajay-madkami-iitm-indian-institute-of-technology-mad/Assignment1/runs/f39cdkse</a><br> View project at: <a href='https://wandb.ai/ajay-madkami-iitm-indian-institute-of-technology-mad/Assignment1' target=\"_blank\">https://wandb.ai/ajay-madkami-iitm-indian-institute-of-technology-mad/Assignment1</a><br>Synced 5 W&B file(s), 0 media file(s), 0 artifact file(s) and 0 other file(s)"
            ],
            "text/plain": [
              "<IPython.core.display.HTML object>"
            ]
          },
          "metadata": {},
          "output_type": "display_data"
        },
        {
          "data": {
            "text/html": [
              "Find logs at: <code>./wandb/run-20250309_095634-f39cdkse/logs</code>"
            ],
            "text/plain": [
              "<IPython.core.display.HTML object>"
            ]
          },
          "metadata": {},
          "output_type": "display_data"
        }
      ],
      "source": [
        "import numpy as np\n",
        "import wandb\n",
        "from keras.datasets import fashion_mnist\n",
        "from keras.utils import to_categorical\n",
        "\n",
        "def initialize_network(num_hidden_layers, num_nodes_hidden_layers, input_size, output_size):\n",
        "    weights = []\n",
        "    biases = []\n",
        "    layer_sizes = [input_size] + [num_nodes_hidden_layers] * num_hidden_layers + [output_size]\n",
        "\n",
        "    for i in range(len(layer_sizes) - 1):\n",
        "        weights.append(np.random.randn(layer_sizes[i], layer_sizes[i+1]) * np.sqrt(2. / layer_sizes[i]))\n",
        "        biases.append(np.zeros((1, layer_sizes[i+1])))\n",
        "\n",
        "    return weights, biases\n",
        "\n",
        "def apply_momentum(weights, biases, gradients_w, gradients_b, lr, velocity_w, velocity_b, momentum=0.9):\n",
        "    for i in range(len(weights)):\n",
        "        velocity_w[i] = momentum * velocity_w[i] - lr * gradients_w[i]\n",
        "        velocity_b[i] = momentum * velocity_b[i] - lr * gradients_b[i]\n",
        "        weights[i] += velocity_w[i]\n",
        "        biases[i] += velocity_b[i]\n",
        "    return weights, biases, velocity_w, velocity_b\n",
        "\n",
        "def forward_propagation(X, weights, biases, num_hidden_layers, activation):\n",
        "    activations = [X]\n",
        "    for i in range(num_hidden_layers):\n",
        "        z = np.dot(activations[-1], weights[i]) + biases[i]\n",
        "        a = np.maximum(0, z) if activation == 'relu' else 1 / (1 + np.exp(-z))\n",
        "        activations.append(a)\n",
        "\n",
        "    z_out = np.dot(activations[-1], weights[-1]) + biases[-1]\n",
        "    exp_scores = np.exp(z_out - np.max(z_out, axis=1, keepdims=True))\n",
        "    activations.append(exp_scores / np.sum(exp_scores, axis=1, keepdims=True))\n",
        "    return activations\n",
        "\n",
        "def backward_propagation(X, Y, weights, biases, activations, num_hidden_layers):\n",
        "    gradients_w = [None] * len(weights)\n",
        "    gradients_b = [None] * len(biases)\n",
        "\n",
        "    delta = activations[-1] - Y\n",
        "    gradients_w[-1] = np.dot(activations[-2].T, delta) / X.shape[0]\n",
        "    gradients_b[-1] = np.sum(delta, axis=0, keepdims=True) / X.shape[0]\n",
        "\n",
        "    for i in range(num_hidden_layers, 0, -1):\n",
        "        delta = np.dot(delta, weights[i].T) * (activations[i] > 0)\n",
        "        gradients_w[i-1] = np.dot(activations[i-1].T, delta) / X.shape[0]\n",
        "        gradients_b[i-1] = np.sum(delta, axis=0, keepdims=True) / X.shape[0]\n",
        "\n",
        "    return gradients_w, gradients_b\n",
        "\n",
        "def cross_entropy_loss(predictions, Y):\n",
        "    return -np.mean(np.sum(Y * np.log(predictions + 1e-9), axis=1))\n",
        "\n",
        "def calculate_accuracy(X_test, Y_test, weights, biases, num_hidden_layers, activation):\n",
        "    activations = forward_propagation(X_test, weights, biases, num_hidden_layers, activation)\n",
        "    predictions = np.argmax(activations[-1], axis=1)\n",
        "    actual = np.argmax(Y_test, axis=1)\n",
        "    return np.mean(predictions == actual) * 100\n",
        "\n",
        "def momentum_optimizer(lr, X_train, Y_train, X_valid, Y_valid, epochs, activation, num_hidden_layers, num_nodes_hidden_layers, batch_size, input_size, output_size, momentum=0.9):\n",
        "    wandb.init(project=\"Assignment1\", name=\"Momentum-training\")\n",
        "    weights, biases = initialize_network(num_hidden_layers, num_nodes_hidden_layers, input_size, output_size)\n",
        "    velocity_w = [np.zeros_like(w) for w in weights]\n",
        "    velocity_b = [np.zeros_like(b) for b in biases]\n",
        "\n",
        "    for epoch in range(epochs):\n",
        "        for i in range(0, X_train.shape[0], batch_size):\n",
        "            x_batch = X_train[i:i+batch_size]\n",
        "            y_batch = Y_train[i:i+batch_size]\n",
        "            activations = forward_propagation(x_batch, weights, biases, num_hidden_layers, activation)\n",
        "            gradients_w, gradients_b = backward_propagation(x_batch, y_batch, weights, biases, activations, num_hidden_layers)\n",
        "            weights, biases, velocity_w, velocity_b = apply_momentum(weights, biases, gradients_w, gradients_b, lr, velocity_w, velocity_b, momentum)\n",
        "\n",
        "        val_acc = calculate_accuracy(X_valid, Y_valid, weights, biases, num_hidden_layers, activation)\n",
        "        loss = cross_entropy_loss(activations[-1], y_batch)\n",
        "        print(f\"Epoch {epoch + 1}/{epochs}, Loss: {loss:.4f}, Validation Accuracy: {val_acc:.2f}%\")\n",
        "        wandb.log({\"epoch\": epoch + 1, \"loss\": loss, \"validation_accuracy\": val_acc})\n",
        "\n",
        "    wandb.finish()\n",
        "\n",
        "# Load data and preprocess\n",
        "(X_train, Y_train), (X_test, Y_test) = fashion_mnist.load_data()\n",
        "X_train, X_test = X_train.reshape(-1, 28*28) / 255.0, X_test.reshape(-1, 28*28) / 255.0\n",
        "Y_train, Y_test = to_categorical(Y_train, 10), to_categorical(Y_test, 10)\n",
        "\n",
        "# Split train into train and validation sets\n",
        "split_idx = int(0.8 * X_train.shape[0])\n",
        "X_valid, Y_valid = X_train[split_idx:], Y_train[split_idx:]\n",
        "X_train, Y_train = X_train[:split_idx], Y_train[:split_idx]\n",
        "\n",
        "# Run momentum optimizer function\n",
        "momentum_optimizer(lr=0.1, X_train=X_train, Y_train=Y_train, X_valid=X_valid, Y_valid=Y_valid,\n",
        "                   epochs=10, activation='relu', num_hidden_layers=2, num_nodes_hidden_layers=128,\n",
        "                   batch_size=64, input_size=28*28, output_size=10, momentum=0.9)\n"
      ]
    },
    {
      "cell_type": "markdown",
      "metadata": {
        "id": "y-0zrHCWzqp2"
      },
      "source": [
        "**NESTROV**"
      ]
    },
    {
      "cell_type": "code",
      "execution_count": null,
      "metadata": {
        "colab": {
          "base_uri": "https://localhost:8080/",
          "height": 609
        },
        "id": "R7XGR0q0l-gK",
        "outputId": "020e4458-6cb5-4e80-d10d-084b1b2f9ab4"
      },
      "outputs": [
        {
          "data": {
            "text/html": [
              "Changes to your `wandb` environment variables will be ignored because your `wandb` session has already started. For more information on how to modify your settings with `wandb.init()` arguments, please refer to <a href='https://wandb.me/wandb-init' target=\"_blank\">the W&B docs</a>."
            ],
            "text/plain": [
              "<IPython.core.display.HTML object>"
            ]
          },
          "metadata": {},
          "output_type": "display_data"
        },
        {
          "data": {
            "text/html": [
              "Ignoring project 'Assignment1' when running a sweep."
            ],
            "text/plain": [
              "<IPython.core.display.HTML object>"
            ]
          },
          "metadata": {},
          "output_type": "display_data"
        },
        {
          "data": {
            "text/html": [
              "Tracking run with wandb version 0.19.7"
            ],
            "text/plain": [
              "<IPython.core.display.HTML object>"
            ]
          },
          "metadata": {},
          "output_type": "display_data"
        },
        {
          "data": {
            "text/html": [
              "Run data is saved locally in <code>/content/wandb/run-20250309_100015-21dimmsy</code>"
            ],
            "text/plain": [
              "<IPython.core.display.HTML object>"
            ]
          },
          "metadata": {},
          "output_type": "display_data"
        },
        {
          "data": {
            "text/html": [
              "Syncing run <strong><a href='https://wandb.ai/ajay-madkami-iitm-indian-institute-of-technology-mad/Assignment1/runs/21dimmsy' target=\"_blank\">Nesterov-training</a></strong> to <a href='https://wandb.ai/ajay-madkami-iitm-indian-institute-of-technology-mad/Assignment1' target=\"_blank\">Weights & Biases</a> (<a href='https://wandb.me/developer-guide' target=\"_blank\">docs</a>)<br>Sweep page: <a href='https://wandb.ai/ajay-madkami-iitm-indian-institute-of-technology-mad/Assignment1/sweeps/y86qmxg5' target=\"_blank\">https://wandb.ai/ajay-madkami-iitm-indian-institute-of-technology-mad/Assignment1/sweeps/y86qmxg5</a>"
            ],
            "text/plain": [
              "<IPython.core.display.HTML object>"
            ]
          },
          "metadata": {},
          "output_type": "display_data"
        },
        {
          "data": {
            "text/html": [
              " View project at <a href='https://wandb.ai/ajay-madkami-iitm-indian-institute-of-technology-mad/Assignment1' target=\"_blank\">https://wandb.ai/ajay-madkami-iitm-indian-institute-of-technology-mad/Assignment1</a>"
            ],
            "text/plain": [
              "<IPython.core.display.HTML object>"
            ]
          },
          "metadata": {},
          "output_type": "display_data"
        },
        {
          "data": {
            "text/html": [
              " View sweep at <a href='https://wandb.ai/ajay-madkami-iitm-indian-institute-of-technology-mad/Assignment1/sweeps/y86qmxg5' target=\"_blank\">https://wandb.ai/ajay-madkami-iitm-indian-institute-of-technology-mad/Assignment1/sweeps/y86qmxg5</a>"
            ],
            "text/plain": [
              "<IPython.core.display.HTML object>"
            ]
          },
          "metadata": {},
          "output_type": "display_data"
        },
        {
          "data": {
            "text/html": [
              " View run at <a href='https://wandb.ai/ajay-madkami-iitm-indian-institute-of-technology-mad/Assignment1/runs/21dimmsy' target=\"_blank\">https://wandb.ai/ajay-madkami-iitm-indian-institute-of-technology-mad/Assignment1/runs/21dimmsy</a>"
            ],
            "text/plain": [
              "<IPython.core.display.HTML object>"
            ]
          },
          "metadata": {},
          "output_type": "display_data"
        },
        {
          "name": "stdout",
          "output_type": "stream",
          "text": [
            "Epoch 1/2, Loss: 0.3250, Validation Accuracy: 85.28%\n",
            "Epoch 2/2, Loss: 0.2594, Validation Accuracy: 86.54%\n"
          ]
        },
        {
          "data": {
            "text/html": [],
            "text/plain": [
              "<IPython.core.display.HTML object>"
            ]
          },
          "metadata": {},
          "output_type": "display_data"
        },
        {
          "data": {
            "text/html": [
              "<br>    <style><br>        .wandb-row {<br>            display: flex;<br>            flex-direction: row;<br>            flex-wrap: wrap;<br>            justify-content: flex-start;<br>            width: 100%;<br>        }<br>        .wandb-col {<br>            display: flex;<br>            flex-direction: column;<br>            flex-basis: 100%;<br>            flex: 1;<br>            padding: 10px;<br>        }<br>    </style><br><div class=\"wandb-row\"><div class=\"wandb-col\"><h3>Run history:</h3><br/><table class=\"wandb\"><tr><td>epoch</td><td>▁█</td></tr><tr><td>loss</td><td>█▁</td></tr><tr><td>validation_accuracy</td><td>▁█</td></tr></table><br/></div><div class=\"wandb-col\"><h3>Run summary:</h3><br/><table class=\"wandb\"><tr><td>epoch</td><td>2</td></tr><tr><td>loss</td><td>0.25942</td></tr><tr><td>validation_accuracy</td><td>86.54167</td></tr></table><br/></div></div>"
            ],
            "text/plain": [
              "<IPython.core.display.HTML object>"
            ]
          },
          "metadata": {},
          "output_type": "display_data"
        },
        {
          "data": {
            "text/html": [
              " View run <strong style=\"color:#cdcd00\">Nesterov-training</strong> at: <a href='https://wandb.ai/ajay-madkami-iitm-indian-institute-of-technology-mad/Assignment1/runs/21dimmsy' target=\"_blank\">https://wandb.ai/ajay-madkami-iitm-indian-institute-of-technology-mad/Assignment1/runs/21dimmsy</a><br> View project at: <a href='https://wandb.ai/ajay-madkami-iitm-indian-institute-of-technology-mad/Assignment1' target=\"_blank\">https://wandb.ai/ajay-madkami-iitm-indian-institute-of-technology-mad/Assignment1</a><br>Synced 5 W&B file(s), 0 media file(s), 0 artifact file(s) and 0 other file(s)"
            ],
            "text/plain": [
              "<IPython.core.display.HTML object>"
            ]
          },
          "metadata": {},
          "output_type": "display_data"
        },
        {
          "data": {
            "text/html": [
              "Find logs at: <code>./wandb/run-20250309_100015-21dimmsy/logs</code>"
            ],
            "text/plain": [
              "<IPython.core.display.HTML object>"
            ]
          },
          "metadata": {},
          "output_type": "display_data"
        }
      ],
      "source": [
        "import numpy as np\n",
        "import wandb\n",
        "from keras.datasets import fashion_mnist\n",
        "from keras.utils import to_categorical\n",
        "\n",
        "def initialize_network(num_hidden_layers, num_nodes_hidden_layers, input_size, output_size):\n",
        "    weights = []\n",
        "    biases = []\n",
        "    layer_sizes = [input_size] + [num_nodes_hidden_layers] * num_hidden_layers + [output_size]\n",
        "\n",
        "    for i in range(len(layer_sizes) - 1):\n",
        "        weights.append(np.random.randn(layer_sizes[i], layer_sizes[i+1]) * np.sqrt(2. / layer_sizes[i]))\n",
        "        biases.append(np.zeros((1, layer_sizes[i+1])))\n",
        "\n",
        "    return weights, biases\n",
        "\n",
        "def apply_nesterov(weights, biases, gradients_w, gradients_b, lr, velocity_w, velocity_b, momentum=0.9):\n",
        "    for i in range(len(weights)):\n",
        "        velocity_w[i] = momentum * velocity_w[i] - lr * gradients_w[i]\n",
        "        velocity_b[i] = momentum * velocity_b[i] - lr * gradients_b[i]\n",
        "\n",
        "        weights[i] += momentum * velocity_w[i] - lr * gradients_w[i]\n",
        "        biases[i] += momentum * velocity_b[i] - lr * gradients_b[i]\n",
        "    return weights, biases, velocity_w, velocity_b\n",
        "\n",
        "def forward_propagation(X, weights, biases, num_hidden_layers, activation):\n",
        "    activations = [X]\n",
        "    for i in range(num_hidden_layers):\n",
        "        z = np.dot(activations[-1], weights[i]) + biases[i]\n",
        "        a = np.maximum(0, z) if activation == 'relu' else 1 / (1 + np.exp(-z))\n",
        "        activations.append(a)\n",
        "\n",
        "    z_out = np.dot(activations[-1], weights[-1]) + biases[-1]\n",
        "    exp_scores = np.exp(z_out - np.max(z_out, axis=1, keepdims=True))\n",
        "    activations.append(exp_scores / np.sum(exp_scores, axis=1, keepdims=True))\n",
        "    return activations\n",
        "\n",
        "def backward_propagation(X, Y, weights, biases, activations, num_hidden_layers):\n",
        "    gradients_w = [None] * len(weights)\n",
        "    gradients_b = [None] * len(biases)\n",
        "\n",
        "    delta = activations[-1] - Y\n",
        "    gradients_w[-1] = np.dot(activations[-2].T, delta) / X.shape[0]\n",
        "    gradients_b[-1] = np.sum(delta, axis=0, keepdims=True) / X.shape[0]\n",
        "\n",
        "    for i in range(num_hidden_layers, 0, -1):\n",
        "        delta = np.dot(delta, weights[i].T) * (activations[i] > 0)\n",
        "        gradients_w[i-1] = np.dot(activations[i-1].T, delta) / X.shape[0]\n",
        "        gradients_b[i-1] = np.sum(delta, axis=0, keepdims=True) / X.shape[0]\n",
        "\n",
        "    return gradients_w, gradients_b\n",
        "\n",
        "def cross_entropy_loss(predictions, Y):\n",
        "    return -np.mean(np.sum(Y * np.log(predictions + 1e-9), axis=1))\n",
        "\n",
        "def calculate_accuracy(X_test, Y_test, weights, biases, num_hidden_layers, activation):\n",
        "    activations = forward_propagation(X_test, weights, biases, num_hidden_layers, activation)\n",
        "    predictions = np.argmax(activations[-1], axis=1)\n",
        "    actual = np.argmax(Y_test, axis=1)\n",
        "    return np.mean(predictions == actual) * 100\n",
        "\n",
        "def nesterov_optimizer(lr, X_train, Y_train, X_valid, Y_valid, epochs, activation, num_hidden_layers, num_nodes_hidden_layers, batch_size, input_size, output_size, momentum=0.9):\n",
        "    wandb.init(project=\"Assignment1\", name=\"Nesterov-training\")\n",
        "    weights, biases = initialize_network(num_hidden_layers, num_nodes_hidden_layers, input_size, output_size)\n",
        "    velocity_w = [np.zeros_like(w) for w in weights]\n",
        "    velocity_b = [np.zeros_like(b) for b in biases]\n",
        "\n",
        "    for epoch in range(epochs):\n",
        "        for i in range(0, X_train.shape[0], batch_size):\n",
        "            x_batch = X_train[i:i+batch_size]\n",
        "            y_batch = Y_train[i:i+batch_size]\n",
        "            activations = forward_propagation(x_batch, weights, biases, num_hidden_layers, activation)\n",
        "            gradients_w, gradients_b = backward_propagation(x_batch, y_batch, weights, biases, activations, num_hidden_layers)\n",
        "            weights, biases, velocity_w, velocity_b = apply_nesterov(weights, biases, gradients_w, gradients_b, lr, velocity_w, velocity_b, momentum)\n",
        "\n",
        "        val_acc = calculate_accuracy(X_valid, Y_valid, weights, biases, num_hidden_layers, activation)\n",
        "        loss = cross_entropy_loss(activations[-1], y_batch)\n",
        "        print(f\"Epoch {epoch + 1}/{epochs}, Loss: {loss:.4f}, Validation Accuracy: {val_acc:.2f}%\")\n",
        "        wandb.log({\"epoch\": epoch + 1, \"loss\": loss, \"validation_accuracy\": val_acc})\n",
        "\n",
        "    wandb.finish()\n",
        "\n",
        "# Load data and preprocess\n",
        "(X_train, Y_train), (X_test, Y_test) = fashion_mnist.load_data()\n",
        "X_train, X_test = X_train.reshape(-1, 28*28) / 255.0, X_test.reshape(-1, 28*28) / 255.0\n",
        "Y_train, Y_test = to_categorical(Y_train, 10), to_categorical(Y_test, 10)\n",
        "\n",
        "# Split train into train and validation sets\n",
        "split_idx = int(0.8 * X_train.shape[0])\n",
        "X_valid, Y_valid = X_train[split_idx:], Y_train[split_idx:]\n",
        "X_train, Y_train = X_train[:split_idx], Y_train[:split_idx]\n",
        "\n",
        "# Run Nesterov optimizer function\n",
        "nesterov_optimizer(lr=0.01, X_train=X_train, Y_train=Y_train, X_valid=X_valid, Y_valid=Y_valid,\n",
        "                   epochs=2, activation='relu', num_hidden_layers=2, num_nodes_hidden_layers=128,\n",
        "                   batch_size=64, input_size=28*28, output_size=10, momentum=0.9)"
      ]
    },
    {
      "cell_type": "markdown",
      "metadata": {
        "id": "WGnCx8c_VXMx"
      },
      "source": [
        "**RMSPROP**"
      ]
    },
    {
      "cell_type": "code",
      "execution_count": null,
      "metadata": {
        "colab": {
          "base_uri": "https://localhost:8080/",
          "height": 661
        },
        "id": "mwkypBDsR3WT",
        "outputId": "acd6209d-31e4-4e9d-def6-0c3693e3e6fc"
      },
      "outputs": [
        {
          "data": {
            "text/html": [
              "Tracking run with wandb version 0.19.7"
            ],
            "text/plain": [
              "<IPython.core.display.HTML object>"
            ]
          },
          "metadata": {},
          "output_type": "display_data"
        },
        {
          "data": {
            "text/html": [
              "Run data is saved locally in <code>/content/wandb/run-20250309_095711-1148byf2</code>"
            ],
            "text/plain": [
              "<IPython.core.display.HTML object>"
            ]
          },
          "metadata": {},
          "output_type": "display_data"
        },
        {
          "data": {
            "text/html": [
              "Syncing run <strong><a href='https://wandb.ai/ajay-madkami-iitm-indian-institute-of-technology-mad/Assignment1/runs/1148byf2' target=\"_blank\">RMSprop-training</a></strong> to <a href='https://wandb.ai/ajay-madkami-iitm-indian-institute-of-technology-mad/Assignment1' target=\"_blank\">Weights & Biases</a> (<a href='https://wandb.me/developer-guide' target=\"_blank\">docs</a>)<br>"
            ],
            "text/plain": [
              "<IPython.core.display.HTML object>"
            ]
          },
          "metadata": {},
          "output_type": "display_data"
        },
        {
          "data": {
            "text/html": [
              " View project at <a href='https://wandb.ai/ajay-madkami-iitm-indian-institute-of-technology-mad/Assignment1' target=\"_blank\">https://wandb.ai/ajay-madkami-iitm-indian-institute-of-technology-mad/Assignment1</a>"
            ],
            "text/plain": [
              "<IPython.core.display.HTML object>"
            ]
          },
          "metadata": {},
          "output_type": "display_data"
        },
        {
          "data": {
            "text/html": [
              " View run at <a href='https://wandb.ai/ajay-madkami-iitm-indian-institute-of-technology-mad/Assignment1/runs/1148byf2' target=\"_blank\">https://wandb.ai/ajay-madkami-iitm-indian-institute-of-technology-mad/Assignment1/runs/1148byf2</a>"
            ],
            "text/plain": [
              "<IPython.core.display.HTML object>"
            ]
          },
          "metadata": {},
          "output_type": "display_data"
        },
        {
          "name": "stdout",
          "output_type": "stream",
          "text": [
            "Epoch 1/10, Loss: 0.2877, Validation Accuracy: 85.66%\n",
            "Epoch 2/10, Loss: 0.2564, Validation Accuracy: 86.34%\n",
            "Epoch 3/10, Loss: 0.2229, Validation Accuracy: 87.08%\n",
            "Epoch 4/10, Loss: 0.1884, Validation Accuracy: 86.76%\n",
            "Epoch 5/10, Loss: 0.1830, Validation Accuracy: 87.25%\n",
            "Epoch 6/10, Loss: 0.1945, Validation Accuracy: 87.16%\n",
            "Epoch 7/10, Loss: 0.1800, Validation Accuracy: 87.71%\n",
            "Epoch 8/10, Loss: 0.1609, Validation Accuracy: 87.40%\n",
            "Epoch 9/10, Loss: 0.1744, Validation Accuracy: 87.47%\n",
            "Epoch 10/10, Loss: 0.1585, Validation Accuracy: 87.43%\n"
          ]
        },
        {
          "data": {
            "text/html": [],
            "text/plain": [
              "<IPython.core.display.HTML object>"
            ]
          },
          "metadata": {},
          "output_type": "display_data"
        },
        {
          "data": {
            "text/html": [
              "<br>    <style><br>        .wandb-row {<br>            display: flex;<br>            flex-direction: row;<br>            flex-wrap: wrap;<br>            justify-content: flex-start;<br>            width: 100%;<br>        }<br>        .wandb-col {<br>            display: flex;<br>            flex-direction: column;<br>            flex-basis: 100%;<br>            flex: 1;<br>            padding: 10px;<br>        }<br>    </style><br><div class=\"wandb-row\"><div class=\"wandb-col\"><h3>Run history:</h3><br/><table class=\"wandb\"><tr><td>epoch</td><td>▁▂▃▃▄▅▆▆▇█</td></tr><tr><td>loss</td><td>█▆▄▃▂▃▂▁▂▁</td></tr><tr><td>validation_accuracy</td><td>▁▃▆▅▆▆█▇▇▇</td></tr></table><br/></div><div class=\"wandb-col\"><h3>Run summary:</h3><br/><table class=\"wandb\"><tr><td>epoch</td><td>10</td></tr><tr><td>loss</td><td>0.15848</td></tr><tr><td>validation_accuracy</td><td>87.43333</td></tr></table><br/></div></div>"
            ],
            "text/plain": [
              "<IPython.core.display.HTML object>"
            ]
          },
          "metadata": {},
          "output_type": "display_data"
        },
        {
          "data": {
            "text/html": [
              " View run <strong style=\"color:#cdcd00\">RMSprop-training</strong> at: <a href='https://wandb.ai/ajay-madkami-iitm-indian-institute-of-technology-mad/Assignment1/runs/1148byf2' target=\"_blank\">https://wandb.ai/ajay-madkami-iitm-indian-institute-of-technology-mad/Assignment1/runs/1148byf2</a><br> View project at: <a href='https://wandb.ai/ajay-madkami-iitm-indian-institute-of-technology-mad/Assignment1' target=\"_blank\">https://wandb.ai/ajay-madkami-iitm-indian-institute-of-technology-mad/Assignment1</a><br>Synced 5 W&B file(s), 0 media file(s), 0 artifact file(s) and 0 other file(s)"
            ],
            "text/plain": [
              "<IPython.core.display.HTML object>"
            ]
          },
          "metadata": {},
          "output_type": "display_data"
        },
        {
          "data": {
            "text/html": [
              "Find logs at: <code>./wandb/run-20250309_095711-1148byf2/logs</code>"
            ],
            "text/plain": [
              "<IPython.core.display.HTML object>"
            ]
          },
          "metadata": {},
          "output_type": "display_data"
        }
      ],
      "source": [
        "import numpy as np\n",
        "import wandb\n",
        "from keras.datasets import fashion_mnist\n",
        "from keras.utils import to_categorical\n",
        "\n",
        "def initialize_network(num_hidden_layers, num_nodes_hidden_layers, input_size, output_size):\n",
        "    weights = []\n",
        "    biases = []\n",
        "    layer_sizes = [input_size] + [num_nodes_hidden_layers] * num_hidden_layers + [output_size]\n",
        "\n",
        "    for i in range(len(layer_sizes) - 1):\n",
        "        weights.append(np.random.randn(layer_sizes[i], layer_sizes[i+1]) * np.sqrt(2. / layer_sizes[i]))\n",
        "        biases.append(np.zeros((1, layer_sizes[i+1])))\n",
        "\n",
        "    return weights, biases\n",
        "\n",
        "def apply_rmsprop(weights, biases, gradients_w, gradients_b, lr, cache_w, cache_b, beta=0.9, epsilon=1e-8):\n",
        "    for i in range(len(weights)):\n",
        "        cache_w[i] = beta * cache_w[i] + (1 - beta) * (gradients_w[i] ** 2)\n",
        "        cache_b[i] = beta * cache_b[i] + (1 - beta) * (gradients_b[i] ** 2)\n",
        "\n",
        "        weights[i] -= lr * gradients_w[i] / (np.sqrt(cache_w[i]) + epsilon)\n",
        "        biases[i] -= lr * gradients_b[i] / (np.sqrt(cache_b[i]) + epsilon)\n",
        "\n",
        "    return weights, biases, cache_w, cache_b\n",
        "\n",
        "def forward_propagation(X, weights, biases, num_hidden_layers, activation):\n",
        "    activations = [X]\n",
        "    for i in range(num_hidden_layers):\n",
        "        z = np.dot(activations[-1], weights[i]) + biases[i]\n",
        "        a = np.maximum(0, z) if activation == 'relu' else 1 / (1 + np.exp(-z))\n",
        "        activations.append(a)\n",
        "\n",
        "    z_out = np.dot(activations[-1], weights[-1]) + biases[-1]\n",
        "    exp_scores = np.exp(z_out - np.max(z_out, axis=1, keepdims=True))\n",
        "    activations.append(exp_scores / np.sum(exp_scores, axis=1, keepdims=True))\n",
        "    return activations\n",
        "\n",
        "def backward_propagation(X, Y, weights, biases, activations, num_hidden_layers):\n",
        "    gradients_w = [None] * len(weights)\n",
        "    gradients_b = [None] * len(biases)\n",
        "\n",
        "    delta = activations[-1] - Y\n",
        "    gradients_w[-1] = np.dot(activations[-2].T, delta) / X.shape[0]\n",
        "    gradients_b[-1] = np.sum(delta, axis=0, keepdims=True) / X.shape[0]\n",
        "\n",
        "    for i in range(num_hidden_layers, 0, -1):\n",
        "        delta = np.dot(delta, weights[i].T) * (activations[i] > 0)\n",
        "        gradients_w[i-1] = np.dot(activations[i-1].T, delta) / X.shape[0]\n",
        "        gradients_b[i-1] = np.sum(delta, axis=0, keepdims=True) / X.shape[0]\n",
        "\n",
        "    return gradients_w, gradients_b\n",
        "\n",
        "def cross_entropy_loss(predictions, Y):\n",
        "    return -np.mean(np.sum(Y * np.log(predictions + 1e-9), axis=1))\n",
        "\n",
        "def calculate_accuracy(X_test, Y_test, weights, biases, num_hidden_layers, activation):\n",
        "    activations = forward_propagation(X_test, weights, biases, num_hidden_layers, activation)\n",
        "    predictions = np.argmax(activations[-1], axis=1)\n",
        "    actual = np.argmax(Y_test, axis=1)\n",
        "    return np.mean(predictions == actual) * 100\n",
        "\n",
        "def rmsprop_optimizer(lr, X_train, Y_train, X_valid, Y_valid, epochs, activation, num_hidden_layers, num_nodes_hidden_layers, batch_size, input_size, output_size, beta=0.9, epsilon=1e-8):\n",
        "    wandb.init(project=\"Assignment1\", name=\"RMSprop-training\")\n",
        "    weights, biases = initialize_network(num_hidden_layers, num_nodes_hidden_layers, input_size, output_size)\n",
        "    cache_w = [np.zeros_like(w) for w in weights]\n",
        "    cache_b = [np.zeros_like(b) for b in biases]\n",
        "\n",
        "    for epoch in range(epochs):\n",
        "        for i in range(0, X_train.shape[0], batch_size):\n",
        "            x_batch = X_train[i:i+batch_size]\n",
        "            y_batch = Y_train[i:i+batch_size]\n",
        "            activations = forward_propagation(x_batch, weights, biases, num_hidden_layers, activation)\n",
        "            gradients_w, gradients_b = backward_propagation(x_batch, y_batch, weights, biases, activations, num_hidden_layers)\n",
        "            weights, biases, cache_w, cache_b = apply_rmsprop(weights, biases, gradients_w, gradients_b, lr, cache_w, cache_b, beta, epsilon)\n",
        "\n",
        "        val_acc = calculate_accuracy(X_valid, Y_valid, weights, biases, num_hidden_layers, activation)\n",
        "        loss = cross_entropy_loss(activations[-1], y_batch)\n",
        "        print(f\"Epoch {epoch + 1}/{epochs}, Loss: {loss:.4f}, Validation Accuracy: {val_acc:.2f}%\")\n",
        "        wandb.log({\"epoch\": epoch + 1, \"loss\": loss, \"validation_accuracy\": val_acc})\n",
        "\n",
        "    wandb.finish()\n",
        "\n",
        "# Load data and preprocess\n",
        "(X_train, Y_train), (X_test, Y_test) = fashion_mnist.load_data()\n",
        "X_train, X_test = X_train.reshape(-1, 28*28) / 255.0, X_test.reshape(-1, 28*28) / 255.0\n",
        "Y_train, Y_test = to_categorical(Y_train, 10), to_categorical(Y_test, 10)\n",
        "\n",
        "# Split train into train and validation sets\n",
        "split_idx = int(0.8 * X_train.shape[0])\n",
        "X_valid, Y_valid = X_train[split_idx:], Y_train[split_idx:]\n",
        "X_train, Y_train = X_train[:split_idx], Y_train[:split_idx]\n",
        "\n",
        "# Run RMSprop optimizer function\n",
        "rmsprop_optimizer(lr=0.001, X_train=X_train, Y_train=Y_train, X_valid=X_valid, Y_valid=Y_valid,\n",
        "                   epochs=10, activation='relu', num_hidden_layers=2, num_nodes_hidden_layers=128,\n",
        "                   batch_size=64, input_size=28*28, output_size=10, beta=0.9, epsilon=1e-8)\n"
      ]
    },
    {
      "cell_type": "markdown",
      "metadata": {
        "id": "VVxMEoCyWGqi"
      },
      "source": [
        "**ADAM**"
      ]
    },
    {
      "cell_type": "code",
      "execution_count": null,
      "metadata": {
        "colab": {
          "base_uri": "https://localhost:8080/",
          "height": 661
        },
        "id": "ILBZxfAEVoEg",
        "outputId": "5d631427-2332-4403-ee96-70ab6afb4a61"
      },
      "outputs": [
        {
          "data": {
            "text/html": [
              "Tracking run with wandb version 0.19.7"
            ],
            "text/plain": [
              "<IPython.core.display.HTML object>"
            ]
          },
          "metadata": {},
          "output_type": "display_data"
        },
        {
          "data": {
            "text/html": [
              "Run data is saved locally in <code>/content/wandb/run-20250309_095732-9tqgqt98</code>"
            ],
            "text/plain": [
              "<IPython.core.display.HTML object>"
            ]
          },
          "metadata": {},
          "output_type": "display_data"
        },
        {
          "data": {
            "text/html": [
              "Syncing run <strong><a href='https://wandb.ai/ajay-madkami-iitm-indian-institute-of-technology-mad/Assignment1/runs/9tqgqt98' target=\"_blank\">Adam-training</a></strong> to <a href='https://wandb.ai/ajay-madkami-iitm-indian-institute-of-technology-mad/Assignment1' target=\"_blank\">Weights & Biases</a> (<a href='https://wandb.me/developer-guide' target=\"_blank\">docs</a>)<br>"
            ],
            "text/plain": [
              "<IPython.core.display.HTML object>"
            ]
          },
          "metadata": {},
          "output_type": "display_data"
        },
        {
          "data": {
            "text/html": [
              " View project at <a href='https://wandb.ai/ajay-madkami-iitm-indian-institute-of-technology-mad/Assignment1' target=\"_blank\">https://wandb.ai/ajay-madkami-iitm-indian-institute-of-technology-mad/Assignment1</a>"
            ],
            "text/plain": [
              "<IPython.core.display.HTML object>"
            ]
          },
          "metadata": {},
          "output_type": "display_data"
        },
        {
          "data": {
            "text/html": [
              " View run at <a href='https://wandb.ai/ajay-madkami-iitm-indian-institute-of-technology-mad/Assignment1/runs/9tqgqt98' target=\"_blank\">https://wandb.ai/ajay-madkami-iitm-indian-institute-of-technology-mad/Assignment1/runs/9tqgqt98</a>"
            ],
            "text/plain": [
              "<IPython.core.display.HTML object>"
            ]
          },
          "metadata": {},
          "output_type": "display_data"
        },
        {
          "name": "stdout",
          "output_type": "stream",
          "text": [
            "Epoch 1/10, Loss: 0.2883, Validation Accuracy: 85.10%\n",
            "Epoch 2/10, Loss: 0.2681, Validation Accuracy: 86.31%\n",
            "Epoch 3/10, Loss: 0.2441, Validation Accuracy: 87.32%\n",
            "Epoch 4/10, Loss: 0.2198, Validation Accuracy: 87.02%\n",
            "Epoch 5/10, Loss: 0.2191, Validation Accuracy: 87.39%\n",
            "Epoch 6/10, Loss: 0.2204, Validation Accuracy: 87.54%\n",
            "Epoch 7/10, Loss: 0.1778, Validation Accuracy: 87.71%\n",
            "Epoch 8/10, Loss: 0.1784, Validation Accuracy: 87.72%\n",
            "Epoch 9/10, Loss: 0.1776, Validation Accuracy: 87.89%\n",
            "Epoch 10/10, Loss: 0.1426, Validation Accuracy: 88.28%\n"
          ]
        },
        {
          "data": {
            "text/html": [],
            "text/plain": [
              "<IPython.core.display.HTML object>"
            ]
          },
          "metadata": {},
          "output_type": "display_data"
        },
        {
          "data": {
            "text/html": [
              "<br>    <style><br>        .wandb-row {<br>            display: flex;<br>            flex-direction: row;<br>            flex-wrap: wrap;<br>            justify-content: flex-start;<br>            width: 100%;<br>        }<br>        .wandb-col {<br>            display: flex;<br>            flex-direction: column;<br>            flex-basis: 100%;<br>            flex: 1;<br>            padding: 10px;<br>        }<br>    </style><br><div class=\"wandb-row\"><div class=\"wandb-col\"><h3>Run history:</h3><br/><table class=\"wandb\"><tr><td>epoch</td><td>▁▂▃▃▄▅▆▆▇█</td></tr><tr><td>loss</td><td>█▇▆▅▅▅▃▃▃▁</td></tr><tr><td>validation_accuracy</td><td>▁▄▆▅▆▆▇▇▇█</td></tr></table><br/></div><div class=\"wandb-col\"><h3>Run summary:</h3><br/><table class=\"wandb\"><tr><td>epoch</td><td>10</td></tr><tr><td>loss</td><td>0.14263</td></tr><tr><td>validation_accuracy</td><td>88.28333</td></tr></table><br/></div></div>"
            ],
            "text/plain": [
              "<IPython.core.display.HTML object>"
            ]
          },
          "metadata": {},
          "output_type": "display_data"
        },
        {
          "data": {
            "text/html": [
              " View run <strong style=\"color:#cdcd00\">Adam-training</strong> at: <a href='https://wandb.ai/ajay-madkami-iitm-indian-institute-of-technology-mad/Assignment1/runs/9tqgqt98' target=\"_blank\">https://wandb.ai/ajay-madkami-iitm-indian-institute-of-technology-mad/Assignment1/runs/9tqgqt98</a><br> View project at: <a href='https://wandb.ai/ajay-madkami-iitm-indian-institute-of-technology-mad/Assignment1' target=\"_blank\">https://wandb.ai/ajay-madkami-iitm-indian-institute-of-technology-mad/Assignment1</a><br>Synced 5 W&B file(s), 0 media file(s), 0 artifact file(s) and 0 other file(s)"
            ],
            "text/plain": [
              "<IPython.core.display.HTML object>"
            ]
          },
          "metadata": {},
          "output_type": "display_data"
        },
        {
          "data": {
            "text/html": [
              "Find logs at: <code>./wandb/run-20250309_095732-9tqgqt98/logs</code>"
            ],
            "text/plain": [
              "<IPython.core.display.HTML object>"
            ]
          },
          "metadata": {},
          "output_type": "display_data"
        }
      ],
      "source": [
        "import numpy as np\n",
        "import wandb\n",
        "from keras.datasets import fashion_mnist\n",
        "from keras.utils import to_categorical\n",
        "\n",
        "def initialize_network(num_hidden_layers, num_nodes_hidden_layers, input_size, output_size):\n",
        "    weights = []\n",
        "    biases = []\n",
        "    layer_sizes = [input_size] + [num_nodes_hidden_layers] * num_hidden_layers + [output_size]\n",
        "\n",
        "    for i in range(len(layer_sizes) - 1):\n",
        "        weights.append(np.random.randn(layer_sizes[i], layer_sizes[i+1]) * np.sqrt(2. / layer_sizes[i]))\n",
        "        biases.append(np.zeros((1, layer_sizes[i+1])))\n",
        "\n",
        "    return weights, biases\n",
        "\n",
        "def apply_adam(weights, biases, gradients_w, gradients_b, lr, m_w, v_w, m_b, v_b, t, beta1=0.9, beta2=0.999, epsilon=1e-8):\n",
        "    for i in range(len(weights)):\n",
        "        m_w[i] = beta1 * m_w[i] + (1 - beta1) * gradients_w[i]\n",
        "        v_w[i] = beta2 * v_w[i] + (1 - beta2) * (gradients_w[i] ** 2)\n",
        "        m_b[i] = beta1 * m_b[i] + (1 - beta1) * gradients_b[i]\n",
        "        v_b[i] = beta2 * v_b[i] + (1 - beta2) * (gradients_b[i] ** 2)\n",
        "\n",
        "        m_w_hat = m_w[i] / (1 - beta1 ** t)\n",
        "        v_w_hat = v_w[i] / (1 - beta2 ** t)\n",
        "        m_b_hat = m_b[i] / (1 - beta1 ** t)\n",
        "        v_b_hat = v_b[i] / (1 - beta2 ** t)\n",
        "\n",
        "        weights[i] -= lr * m_w_hat / (np.sqrt(v_w_hat) + epsilon)\n",
        "        biases[i] -= lr * m_b_hat / (np.sqrt(v_b_hat) + epsilon)\n",
        "\n",
        "    return weights, biases, m_w, v_w, m_b, v_b\n",
        "\n",
        "def forward_propagation(X, weights, biases, num_hidden_layers, activation):\n",
        "    activations = [X]\n",
        "    for i in range(num_hidden_layers):\n",
        "        z = np.dot(activations[-1], weights[i]) + biases[i]\n",
        "        a = np.maximum(0, z) if activation == 'relu' else 1 / (1 + np.exp(-z))\n",
        "        activations.append(a)\n",
        "\n",
        "    z_out = np.dot(activations[-1], weights[-1]) + biases[-1]\n",
        "    exp_scores = np.exp(z_out - np.max(z_out, axis=1, keepdims=True))\n",
        "    activations.append(exp_scores / np.sum(exp_scores, axis=1, keepdims=True))\n",
        "    return activations\n",
        "\n",
        "def backward_propagation(X, Y, weights, biases, activations, num_hidden_layers):\n",
        "    gradients_w = [None] * len(weights)\n",
        "    gradients_b = [None] * len(biases)\n",
        "\n",
        "    delta = activations[-1] - Y\n",
        "    gradients_w[-1] = np.dot(activations[-2].T, delta) / X.shape[0]\n",
        "    gradients_b[-1] = np.sum(delta, axis=0, keepdims=True) / X.shape[0]\n",
        "\n",
        "    for i in range(num_hidden_layers, 0, -1):\n",
        "        delta = np.dot(delta, weights[i].T) * (activations[i] > 0)\n",
        "        gradients_w[i-1] = np.dot(activations[i-1].T, delta) / X.shape[0]\n",
        "        gradients_b[i-1] = np.sum(delta, axis=0, keepdims=True) / X.shape[0]\n",
        "\n",
        "    return gradients_w, gradients_b\n",
        "\n",
        "def adam_optimizer(lr, X_train, Y_train, X_valid, Y_valid, epochs, activation, num_hidden_layers, num_nodes_hidden_layers, batch_size, input_size, output_size, beta1=0.9, beta2=0.999, epsilon=1e-8):\n",
        "    wandb.init(project=\"Assignment1\", name=\"Adam-training\")\n",
        "    weights, biases = initialize_network(num_hidden_layers, num_nodes_hidden_layers, input_size, output_size)\n",
        "    m_w = [np.zeros_like(w) for w in weights]\n",
        "    v_w = [np.zeros_like(w) for w in weights]\n",
        "    m_b = [np.zeros_like(b) for b in biases]\n",
        "    v_b = [np.zeros_like(b) for b in biases]\n",
        "\n",
        "    t = 0\n",
        "    for epoch in range(epochs):\n",
        "        for i in range(0, X_train.shape[0], batch_size):\n",
        "            x_batch = X_train[i:i+batch_size]\n",
        "            y_batch = Y_train[i:i+batch_size]\n",
        "            activations = forward_propagation(x_batch, weights, biases, num_hidden_layers, activation)\n",
        "            gradients_w, gradients_b = backward_propagation(x_batch, y_batch, weights, biases, activations, num_hidden_layers)\n",
        "            t += 1\n",
        "            weights, biases, m_w, v_w, m_b, v_b = apply_adam(weights, biases, gradients_w, gradients_b, lr, m_w, v_w, m_b, v_b, t, beta1, beta2, epsilon)\n",
        "\n",
        "        val_acc = calculate_accuracy(X_valid, Y_valid, weights, biases, num_hidden_layers, activation)\n",
        "        loss = cross_entropy_loss(activations[-1], y_batch)\n",
        "        print(f\"Epoch {epoch + 1}/{epochs}, Loss: {loss:.4f}, Validation Accuracy: {val_acc:.2f}%\")\n",
        "        wandb.log({\"epoch\": epoch + 1, \"loss\": loss, \"validation_accuracy\": val_acc})\n",
        "\n",
        "    wandb.finish()\n",
        "\n",
        "# Load data and preprocess\n",
        "(X_train, Y_train), (X_test, Y_test) = fashion_mnist.load_data()\n",
        "X_train, X_test = X_train.reshape(-1, 28*28) / 255.0, X_test.reshape(-1, 28*28) / 255.0\n",
        "Y_train, Y_test = to_categorical(Y_train, 10), to_categorical(Y_test, 10)\n",
        "\n",
        "# Split train into train and validation sets\n",
        "split_idx = int(0.8 * X_train.shape[0])\n",
        "X_valid, Y_valid = X_train[split_idx:], Y_train[split_idx:]\n",
        "X_train, Y_train = X_train[:split_idx], Y_train[:split_idx]\n",
        "\n",
        "# Run Adam optimizer function\n",
        "adam_optimizer(lr=0.001, X_train=X_train, Y_train=Y_train, X_valid=X_valid, Y_valid=Y_valid,\n",
        "               epochs=10, activation='relu', num_hidden_layers=2, num_nodes_hidden_layers=128,\n",
        "               batch_size=64, input_size=28*28, output_size=10, beta1=0.9, beta2=0.999, epsilon=1e-8)\n"
      ]
    },
    {
      "cell_type": "markdown",
      "metadata": {
        "id": "rx8GvNdSYDC8"
      },
      "source": [
        "**NADAM**"
      ]
    },
    {
      "cell_type": "code",
      "execution_count": null,
      "metadata": {
        "colab": {
          "base_uri": "https://localhost:8080/",
          "height": 661
        },
        "id": "5AqaA7bTW0Ll",
        "outputId": "2d04e802-792a-407b-aed2-c27e0b2fe587"
      },
      "outputs": [
        {
          "data": {
            "text/html": [
              "Tracking run with wandb version 0.19.7"
            ],
            "text/plain": [
              "<IPython.core.display.HTML object>"
            ]
          },
          "metadata": {},
          "output_type": "display_data"
        },
        {
          "data": {
            "text/html": [
              "Run data is saved locally in <code>/content/wandb/run-20250309_095758-fd3lkhgu</code>"
            ],
            "text/plain": [
              "<IPython.core.display.HTML object>"
            ]
          },
          "metadata": {},
          "output_type": "display_data"
        },
        {
          "data": {
            "text/html": [
              "Syncing run <strong><a href='https://wandb.ai/ajay-madkami-iitm-indian-institute-of-technology-mad/Assignment1/runs/fd3lkhgu' target=\"_blank\">Nadam-training</a></strong> to <a href='https://wandb.ai/ajay-madkami-iitm-indian-institute-of-technology-mad/Assignment1' target=\"_blank\">Weights & Biases</a> (<a href='https://wandb.me/developer-guide' target=\"_blank\">docs</a>)<br>"
            ],
            "text/plain": [
              "<IPython.core.display.HTML object>"
            ]
          },
          "metadata": {},
          "output_type": "display_data"
        },
        {
          "data": {
            "text/html": [
              " View project at <a href='https://wandb.ai/ajay-madkami-iitm-indian-institute-of-technology-mad/Assignment1' target=\"_blank\">https://wandb.ai/ajay-madkami-iitm-indian-institute-of-technology-mad/Assignment1</a>"
            ],
            "text/plain": [
              "<IPython.core.display.HTML object>"
            ]
          },
          "metadata": {},
          "output_type": "display_data"
        },
        {
          "data": {
            "text/html": [
              " View run at <a href='https://wandb.ai/ajay-madkami-iitm-indian-institute-of-technology-mad/Assignment1/runs/fd3lkhgu' target=\"_blank\">https://wandb.ai/ajay-madkami-iitm-indian-institute-of-technology-mad/Assignment1/runs/fd3lkhgu</a>"
            ],
            "text/plain": [
              "<IPython.core.display.HTML object>"
            ]
          },
          "metadata": {},
          "output_type": "display_data"
        },
        {
          "name": "stdout",
          "output_type": "stream",
          "text": [
            "Epoch 1/10, Loss: 0.2725, Validation Accuracy: 86.39%\n",
            "Epoch 2/10, Loss: 0.2374, Validation Accuracy: 87.12%\n",
            "Epoch 3/10, Loss: 0.2194, Validation Accuracy: 87.31%\n",
            "Epoch 4/10, Loss: 0.2128, Validation Accuracy: 87.24%\n",
            "Epoch 5/10, Loss: 0.1991, Validation Accuracy: 87.73%\n",
            "Epoch 6/10, Loss: 0.1830, Validation Accuracy: 87.59%\n",
            "Epoch 7/10, Loss: 0.1622, Validation Accuracy: 87.95%\n",
            "Epoch 8/10, Loss: 0.1557, Validation Accuracy: 87.66%\n",
            "Epoch 9/10, Loss: 0.1484, Validation Accuracy: 87.62%\n",
            "Epoch 10/10, Loss: 0.1362, Validation Accuracy: 87.88%\n"
          ]
        },
        {
          "data": {
            "text/html": [],
            "text/plain": [
              "<IPython.core.display.HTML object>"
            ]
          },
          "metadata": {},
          "output_type": "display_data"
        },
        {
          "data": {
            "text/html": [
              "<br>    <style><br>        .wandb-row {<br>            display: flex;<br>            flex-direction: row;<br>            flex-wrap: wrap;<br>            justify-content: flex-start;<br>            width: 100%;<br>        }<br>        .wandb-col {<br>            display: flex;<br>            flex-direction: column;<br>            flex-basis: 100%;<br>            flex: 1;<br>            padding: 10px;<br>        }<br>    </style><br><div class=\"wandb-row\"><div class=\"wandb-col\"><h3>Run history:</h3><br/><table class=\"wandb\"><tr><td>epoch</td><td>▁▂▃▃▄▅▆▆▇█</td></tr><tr><td>loss</td><td>█▆▅▅▄▃▂▂▂▁</td></tr><tr><td>validation_accuracy</td><td>▁▄▅▅▇▆█▇▇█</td></tr></table><br/></div><div class=\"wandb-col\"><h3>Run summary:</h3><br/><table class=\"wandb\"><tr><td>epoch</td><td>10</td></tr><tr><td>loss</td><td>0.13618</td></tr><tr><td>validation_accuracy</td><td>87.875</td></tr></table><br/></div></div>"
            ],
            "text/plain": [
              "<IPython.core.display.HTML object>"
            ]
          },
          "metadata": {},
          "output_type": "display_data"
        },
        {
          "data": {
            "text/html": [
              " View run <strong style=\"color:#cdcd00\">Nadam-training</strong> at: <a href='https://wandb.ai/ajay-madkami-iitm-indian-institute-of-technology-mad/Assignment1/runs/fd3lkhgu' target=\"_blank\">https://wandb.ai/ajay-madkami-iitm-indian-institute-of-technology-mad/Assignment1/runs/fd3lkhgu</a><br> View project at: <a href='https://wandb.ai/ajay-madkami-iitm-indian-institute-of-technology-mad/Assignment1' target=\"_blank\">https://wandb.ai/ajay-madkami-iitm-indian-institute-of-technology-mad/Assignment1</a><br>Synced 5 W&B file(s), 0 media file(s), 0 artifact file(s) and 0 other file(s)"
            ],
            "text/plain": [
              "<IPython.core.display.HTML object>"
            ]
          },
          "metadata": {},
          "output_type": "display_data"
        },
        {
          "data": {
            "text/html": [
              "Find logs at: <code>./wandb/run-20250309_095758-fd3lkhgu/logs</code>"
            ],
            "text/plain": [
              "<IPython.core.display.HTML object>"
            ]
          },
          "metadata": {},
          "output_type": "display_data"
        }
      ],
      "source": [
        "import numpy as np\n",
        "import wandb\n",
        "from keras.datasets import fashion_mnist\n",
        "from keras.utils import to_categorical\n",
        "\n",
        "def initialize_network(num_hidden_layers, num_nodes_hidden_layers, input_size, output_size):\n",
        "    weights = []\n",
        "    biases = []\n",
        "    layer_sizes = [input_size] + [num_nodes_hidden_layers] * num_hidden_layers + [output_size]\n",
        "\n",
        "    for i in range(len(layer_sizes) - 1):\n",
        "        weights.append(np.random.randn(layer_sizes[i], layer_sizes[i+1]) * np.sqrt(2. / layer_sizes[i]))\n",
        "        biases.append(np.zeros((1, layer_sizes[i+1])))\n",
        "\n",
        "    return weights, biases\n",
        "\n",
        "def apply_nadam(weights, biases, gradients_w, gradients_b, lr, m_w, v_w, m_b, v_b, t, beta1=0.9, beta2=0.999, epsilon=1e-8):\n",
        "    for i in range(len(weights)):\n",
        "        m_w[i] = beta1 * m_w[i] + (1 - beta1) * gradients_w[i]\n",
        "        v_w[i] = beta2 * v_w[i] + (1 - beta2) * (gradients_w[i] ** 2)\n",
        "        m_b[i] = beta1 * m_b[i] + (1 - beta1) * gradients_b[i]\n",
        "        v_b[i] = beta2 * v_b[i] + (1 - beta2) * (gradients_b[i] ** 2)\n",
        "\n",
        "        m_w_hat = (beta1 * m_w[i] + (1 - beta1) * gradients_w[i]) / (1 - beta1 ** t)\n",
        "        v_w_hat = v_w[i] / (1 - beta2 ** t)\n",
        "        m_b_hat = (beta1 * m_b[i] + (1 - beta1) * gradients_b[i]) / (1 - beta1 ** t)\n",
        "        v_b_hat = v_b[i] / (1 - beta2 ** t)\n",
        "\n",
        "        weights[i] -= lr * m_w_hat / (np.sqrt(v_w_hat) + epsilon)\n",
        "        biases[i] -= lr * m_b_hat / (np.sqrt(v_b_hat) + epsilon)\n",
        "\n",
        "    return weights, biases, m_w, v_w, m_b, v_b\n",
        "\n",
        "def nadam_optimizer(lr, X_train, Y_train, X_valid, Y_valid, epochs, activation, num_hidden_layers, num_nodes_hidden_layers, batch_size, input_size, output_size, beta1=0.9, beta2=0.999, epsilon=1e-8):\n",
        "    wandb.init(project=\"Assignment1\", name=\"Nadam-training\")\n",
        "    weights, biases = initialize_network(num_hidden_layers, num_nodes_hidden_layers, input_size, output_size)\n",
        "    m_w = [np.zeros_like(w) for w in weights]\n",
        "    v_w = [np.zeros_like(w) for w in weights]\n",
        "    m_b = [np.zeros_like(b) for b in biases]\n",
        "    v_b = [np.zeros_like(b) for b in biases]\n",
        "\n",
        "    t = 0\n",
        "    for epoch in range(epochs):\n",
        "        for i in range(0, X_train.shape[0], batch_size):\n",
        "            x_batch = X_train[i:i+batch_size]\n",
        "            y_batch = Y_train[i:i+batch_size]\n",
        "            activations = forward_propagation(x_batch, weights, biases, num_hidden_layers, activation)\n",
        "            gradients_w, gradients_b = backward_propagation(x_batch, y_batch, weights, biases, activations, num_hidden_layers)\n",
        "            t += 1\n",
        "            weights, biases, m_w, v_w, m_b, v_b = apply_nadam(weights, biases, gradients_w, gradients_b, lr, m_w, v_w, m_b, v_b, t, beta1, beta2, epsilon)\n",
        "\n",
        "        val_acc = calculate_accuracy(X_valid, Y_valid, weights, biases, num_hidden_layers, activation)\n",
        "        loss = cross_entropy_loss(activations[-1], y_batch)\n",
        "        print(f\"Epoch {epoch + 1}/{epochs}, Loss: {loss:.4f}, Validation Accuracy: {val_acc:.2f}%\")\n",
        "        wandb.log({\"epoch\": epoch + 1, \"loss\": loss, \"validation_accuracy\": val_acc})\n",
        "\n",
        "    wandb.finish()\n",
        "\n",
        "# Load data and preprocess\n",
        "(X_train, Y_train), (X_test, Y_test) = fashion_mnist.load_data()\n",
        "X_train, X_test = X_train.reshape(-1, 28*28) / 255.0, X_test.reshape(-1, 28*28) / 255.0\n",
        "Y_train, Y_test = to_categorical(Y_train, 10), to_categorical(Y_test, 10)\n",
        "\n",
        "# Split train into train and validation sets\n",
        "split_idx = int(0.8 * X_train.shape[0])\n",
        "X_valid, Y_valid = X_train[split_idx:], Y_train[split_idx:]\n",
        "X_train, Y_train = X_train[:split_idx], Y_train[:split_idx]\n",
        "\n",
        "# Run Nadam optimizer function\n",
        "nadam_optimizer(lr=0.001, X_train=X_train, Y_train=Y_train, X_valid=X_valid, Y_valid=Y_valid,\n",
        "               epochs=10, activation='relu', num_hidden_layers=2, num_nodes_hidden_layers=128,\n",
        "               batch_size=64, input_size=28*28, output_size=10, beta1=0.9, beta2=0.999, epsilon=1e-8)\n"
      ]
    },
    {
      "cell_type": "markdown",
      "metadata": {
        "id": "7KTApJ0rZllb"
      },
      "source": [
        "**Question 4**\n",
        "Use the sweep functionality provided by wandb to find the best values for the hyperparameters listed below. Use the standard train/test split of fashion_mnist (use (X_train, y_train), (X_test, y_test) = fashion_mnist.load_data()). Keep 10% of the training data aside as validation data for this hyperparameter search. Here are some suggestions for different values to try for hyperparameters. As you can quickly see that this leads to an exponential number of combinations. You will have to think about strategies to do this hyperparameter search efficiently. Check out the options provided by wandb.sweep and write down what strategy you chose and why."
      ]
    },
    {
      "cell_type": "code",
      "execution_count": null,
      "metadata": {
        "colab": {
          "base_uri": "https://localhost:8080/",
          "height": 1000
        },
        "id": "4k3Bv_iC3h88",
        "outputId": "d0937a7e-4719-4e36-bd29-b55d13953503"
      },
      "outputs": [
        {
          "name": "stdout",
          "output_type": "stream",
          "text": [
            "Create sweep with ID: y86qmxg5\n",
            "Sweep URL: https://wandb.ai/ajay-madkami-iitm-indian-institute-of-technology-mad/Assignment1/sweeps/y86qmxg5\n"
          ]
        },
        {
          "name": "stderr",
          "output_type": "stream",
          "text": [
            "\u001b[34m\u001b[1mwandb\u001b[0m: Agent Starting Run: ir8tize3 with config:\n",
            "\u001b[34m\u001b[1mwandb\u001b[0m: \tactivation: tanh\n",
            "\u001b[34m\u001b[1mwandb\u001b[0m: \tbatch_size: 16\n",
            "\u001b[34m\u001b[1mwandb\u001b[0m: \tepochs: 10\n",
            "\u001b[34m\u001b[1mwandb\u001b[0m: \tinit_method: xavier\n",
            "\u001b[34m\u001b[1mwandb\u001b[0m: \tlearning_rate: 0.0001\n",
            "\u001b[34m\u001b[1mwandb\u001b[0m: \tnum_hidden_layers: 3\n",
            "\u001b[34m\u001b[1mwandb\u001b[0m: \tnum_hidden_nodes: 32\n",
            "\u001b[34m\u001b[1mwandb\u001b[0m: \toptimizer: momentum\n"
          ]
        },
        {
          "data": {
            "text/html": [
              "Ignoring project 'Assignment1' when running a sweep."
            ],
            "text/plain": [
              "<IPython.core.display.HTML object>"
            ]
          },
          "metadata": {},
          "output_type": "display_data"
        },
        {
          "data": {
            "text/html": [
              "Tracking run with wandb version 0.19.7"
            ],
            "text/plain": [
              "<IPython.core.display.HTML object>"
            ]
          },
          "metadata": {},
          "output_type": "display_data"
        },
        {
          "data": {
            "text/html": [
              "Run data is saved locally in <code>/content/wandb/run-20250309_095826-ir8tize3</code>"
            ],
            "text/plain": [
              "<IPython.core.display.HTML object>"
            ]
          },
          "metadata": {},
          "output_type": "display_data"
        },
        {
          "data": {
            "text/html": [
              "Syncing run <strong><a href='https://wandb.ai/ajay-madkami-iitm-indian-institute-of-technology-mad/Assignment1/runs/ir8tize3' target=\"_blank\">playful-sweep-1</a></strong> to <a href='https://wandb.ai/ajay-madkami-iitm-indian-institute-of-technology-mad/Assignment1' target=\"_blank\">Weights & Biases</a> (<a href='https://wandb.me/developer-guide' target=\"_blank\">docs</a>)<br>Sweep page: <a href='https://wandb.ai/ajay-madkami-iitm-indian-institute-of-technology-mad/Assignment1/sweeps/y86qmxg5' target=\"_blank\">https://wandb.ai/ajay-madkami-iitm-indian-institute-of-technology-mad/Assignment1/sweeps/y86qmxg5</a>"
            ],
            "text/plain": [
              "<IPython.core.display.HTML object>"
            ]
          },
          "metadata": {},
          "output_type": "display_data"
        },
        {
          "data": {
            "text/html": [
              " View project at <a href='https://wandb.ai/ajay-madkami-iitm-indian-institute-of-technology-mad/Assignment1' target=\"_blank\">https://wandb.ai/ajay-madkami-iitm-indian-institute-of-technology-mad/Assignment1</a>"
            ],
            "text/plain": [
              "<IPython.core.display.HTML object>"
            ]
          },
          "metadata": {},
          "output_type": "display_data"
        },
        {
          "data": {
            "text/html": [
              " View sweep at <a href='https://wandb.ai/ajay-madkami-iitm-indian-institute-of-technology-mad/Assignment1/sweeps/y86qmxg5' target=\"_blank\">https://wandb.ai/ajay-madkami-iitm-indian-institute-of-technology-mad/Assignment1/sweeps/y86qmxg5</a>"
            ],
            "text/plain": [
              "<IPython.core.display.HTML object>"
            ]
          },
          "metadata": {},
          "output_type": "display_data"
        },
        {
          "data": {
            "text/html": [
              " View run at <a href='https://wandb.ai/ajay-madkami-iitm-indian-institute-of-technology-mad/Assignment1/runs/ir8tize3' target=\"_blank\">https://wandb.ai/ajay-madkami-iitm-indian-institute-of-technology-mad/Assignment1/runs/ir8tize3</a>"
            ],
            "text/plain": [
              "<IPython.core.display.HTML object>"
            ]
          },
          "metadata": {},
          "output_type": "display_data"
        },
        {
          "name": "stdout",
          "output_type": "stream",
          "text": [
            "Epoch 1/10, Train Loss: 0.2007, Train Accuracy: 47.34%, Val Loss: 0.2006, Val Accuracy: 47.44%\n",
            "Epoch 2/10, Train Loss: 0.1826, Train Accuracy: 49.50%, Val Loss: 0.1825, Val Accuracy: 50.17%\n",
            "Epoch 3/10, Train Loss: 0.1692, Train Accuracy: 51.07%, Val Loss: 0.1689, Val Accuracy: 51.73%\n",
            "Epoch 4/10, Train Loss: 0.1583, Train Accuracy: 53.47%, Val Loss: 0.1580, Val Accuracy: 53.97%\n",
            "Epoch 5/10, Train Loss: 0.1492, Train Accuracy: 58.29%, Val Loss: 0.1488, Val Accuracy: 58.75%\n",
            "Epoch 6/10, Train Loss: 0.1415, Train Accuracy: 61.93%, Val Loss: 0.1411, Val Accuracy: 62.47%\n",
            "Epoch 7/10, Train Loss: 0.1348, Train Accuracy: 63.77%, Val Loss: 0.1344, Val Accuracy: 64.27%\n",
            "Epoch 8/10, Train Loss: 0.1290, Train Accuracy: 65.10%, Val Loss: 0.1285, Val Accuracy: 66.00%\n",
            "Epoch 9/10, Train Loss: 0.1238, Train Accuracy: 66.19%, Val Loss: 0.1233, Val Accuracy: 66.98%\n",
            "Epoch 10/10, Train Loss: 0.1191, Train Accuracy: 67.14%, Val Loss: 0.1186, Val Accuracy: 68.08%\n"
          ]
        },
        {
          "data": {
            "text/html": [],
            "text/plain": [
              "<IPython.core.display.HTML object>"
            ]
          },
          "metadata": {},
          "output_type": "display_data"
        },
        {
          "data": {
            "text/html": [
              "<br>    <style><br>        .wandb-row {<br>            display: flex;<br>            flex-direction: row;<br>            flex-wrap: wrap;<br>            justify-content: flex-start;<br>            width: 100%;<br>        }<br>        .wandb-col {<br>            display: flex;<br>            flex-direction: column;<br>            flex-basis: 100%;<br>            flex: 1;<br>            padding: 10px;<br>        }<br>    </style><br><div class=\"wandb-row\"><div class=\"wandb-col\"><h3>Run history:</h3><br/><table class=\"wandb\"><tr><td>epoch</td><td>▁▂▃▃▄▅▆▆▇█</td></tr><tr><td>train_accuracy</td><td>▁▂▂▃▅▆▇▇██</td></tr><tr><td>train_loss</td><td>█▆▅▄▄▃▂▂▁▁</td></tr><tr><td>val_accuracy</td><td>▁▂▂▃▅▆▇▇██</td></tr><tr><td>val_loss</td><td>█▆▅▄▄▃▂▂▁▁</td></tr></table><br/></div><div class=\"wandb-col\"><h3>Run summary:</h3><br/><table class=\"wandb\"><tr><td>epoch</td><td>10</td></tr><tr><td>train_accuracy</td><td>67.14375</td></tr><tr><td>train_loss</td><td>0.11909</td></tr><tr><td>val_accuracy</td><td>68.075</td></tr><tr><td>val_loss</td><td>0.11857</td></tr></table><br/></div></div>"
            ],
            "text/plain": [
              "<IPython.core.display.HTML object>"
            ]
          },
          "metadata": {},
          "output_type": "display_data"
        },
        {
          "data": {
            "text/html": [
              " View run <strong style=\"color:#cdcd00\">playful-sweep-1</strong> at: <a href='https://wandb.ai/ajay-madkami-iitm-indian-institute-of-technology-mad/Assignment1/runs/ir8tize3' target=\"_blank\">https://wandb.ai/ajay-madkami-iitm-indian-institute-of-technology-mad/Assignment1/runs/ir8tize3</a><br> View project at: <a href='https://wandb.ai/ajay-madkami-iitm-indian-institute-of-technology-mad/Assignment1' target=\"_blank\">https://wandb.ai/ajay-madkami-iitm-indian-institute-of-technology-mad/Assignment1</a><br>Synced 5 W&B file(s), 0 media file(s), 0 artifact file(s) and 0 other file(s)"
            ],
            "text/plain": [
              "<IPython.core.display.HTML object>"
            ]
          },
          "metadata": {},
          "output_type": "display_data"
        },
        {
          "data": {
            "text/html": [
              "Find logs at: <code>./wandb/run-20250309_095826-ir8tize3/logs</code>"
            ],
            "text/plain": [
              "<IPython.core.display.HTML object>"
            ]
          },
          "metadata": {},
          "output_type": "display_data"
        },
        {
          "name": "stderr",
          "output_type": "stream",
          "text": [
            "\u001b[34m\u001b[1mwandb\u001b[0m: Agent Starting Run: 24a61mv6 with config:\n",
            "\u001b[34m\u001b[1mwandb\u001b[0m: \tactivation: tanh\n",
            "\u001b[34m\u001b[1mwandb\u001b[0m: \tbatch_size: 32\n",
            "\u001b[34m\u001b[1mwandb\u001b[0m: \tepochs: 10\n",
            "\u001b[34m\u001b[1mwandb\u001b[0m: \tinit_method: random\n",
            "\u001b[34m\u001b[1mwandb\u001b[0m: \tlearning_rate: 0.001\n",
            "\u001b[34m\u001b[1mwandb\u001b[0m: \tnum_hidden_layers: 3\n",
            "\u001b[34m\u001b[1mwandb\u001b[0m: \tnum_hidden_nodes: 32\n",
            "\u001b[34m\u001b[1mwandb\u001b[0m: \toptimizer: nesterov\n"
          ]
        },
        {
          "data": {
            "text/html": [
              "Ignoring project 'Assignment1' when running a sweep."
            ],
            "text/plain": [
              "<IPython.core.display.HTML object>"
            ]
          },
          "metadata": {},
          "output_type": "display_data"
        },
        {
          "data": {
            "text/html": [
              "Tracking run with wandb version 0.19.7"
            ],
            "text/plain": [
              "<IPython.core.display.HTML object>"
            ]
          },
          "metadata": {},
          "output_type": "display_data"
        },
        {
          "data": {
            "text/html": [
              "Run data is saved locally in <code>/content/wandb/run-20250309_095846-24a61mv6</code>"
            ],
            "text/plain": [
              "<IPython.core.display.HTML object>"
            ]
          },
          "metadata": {},
          "output_type": "display_data"
        },
        {
          "data": {
            "text/html": [
              "Syncing run <strong><a href='https://wandb.ai/ajay-madkami-iitm-indian-institute-of-technology-mad/Assignment1/runs/24a61mv6' target=\"_blank\">lilac-sweep-2</a></strong> to <a href='https://wandb.ai/ajay-madkami-iitm-indian-institute-of-technology-mad/Assignment1' target=\"_blank\">Weights & Biases</a> (<a href='https://wandb.me/developer-guide' target=\"_blank\">docs</a>)<br>Sweep page: <a href='https://wandb.ai/ajay-madkami-iitm-indian-institute-of-technology-mad/Assignment1/sweeps/y86qmxg5' target=\"_blank\">https://wandb.ai/ajay-madkami-iitm-indian-institute-of-technology-mad/Assignment1/sweeps/y86qmxg5</a>"
            ],
            "text/plain": [
              "<IPython.core.display.HTML object>"
            ]
          },
          "metadata": {},
          "output_type": "display_data"
        },
        {
          "data": {
            "text/html": [
              " View project at <a href='https://wandb.ai/ajay-madkami-iitm-indian-institute-of-technology-mad/Assignment1' target=\"_blank\">https://wandb.ai/ajay-madkami-iitm-indian-institute-of-technology-mad/Assignment1</a>"
            ],
            "text/plain": [
              "<IPython.core.display.HTML object>"
            ]
          },
          "metadata": {},
          "output_type": "display_data"
        },
        {
          "data": {
            "text/html": [
              " View sweep at <a href='https://wandb.ai/ajay-madkami-iitm-indian-institute-of-technology-mad/Assignment1/sweeps/y86qmxg5' target=\"_blank\">https://wandb.ai/ajay-madkami-iitm-indian-institute-of-technology-mad/Assignment1/sweeps/y86qmxg5</a>"
            ],
            "text/plain": [
              "<IPython.core.display.HTML object>"
            ]
          },
          "metadata": {},
          "output_type": "display_data"
        },
        {
          "data": {
            "text/html": [
              " View run at <a href='https://wandb.ai/ajay-madkami-iitm-indian-institute-of-technology-mad/Assignment1/runs/24a61mv6' target=\"_blank\">https://wandb.ai/ajay-madkami-iitm-indian-institute-of-technology-mad/Assignment1/runs/24a61mv6</a>"
            ],
            "text/plain": [
              "<IPython.core.display.HTML object>"
            ]
          },
          "metadata": {},
          "output_type": "display_data"
        },
        {
          "name": "stdout",
          "output_type": "stream",
          "text": [
            "Epoch 1/10, Train Loss: 0.2303, Train Accuracy: 10.11%, Val Loss: 0.2303, Val Accuracy: 9.57%\n",
            "Epoch 2/10, Train Loss: 0.2303, Train Accuracy: 10.11%, Val Loss: 0.2303, Val Accuracy: 9.57%\n",
            "Epoch 3/10, Train Loss: 0.2303, Train Accuracy: 10.11%, Val Loss: 0.2303, Val Accuracy: 9.57%\n",
            "Epoch 4/10, Train Loss: 0.2303, Train Accuracy: 10.11%, Val Loss: 0.2303, Val Accuracy: 9.57%\n",
            "Epoch 5/10, Train Loss: 0.2303, Train Accuracy: 10.11%, Val Loss: 0.2303, Val Accuracy: 9.57%\n",
            "Epoch 6/10, Train Loss: 0.2303, Train Accuracy: 10.11%, Val Loss: 0.2303, Val Accuracy: 9.57%\n",
            "Epoch 7/10, Train Loss: 0.2303, Train Accuracy: 10.11%, Val Loss: 0.2303, Val Accuracy: 9.57%\n",
            "Epoch 8/10, Train Loss: 0.2303, Train Accuracy: 10.11%, Val Loss: 0.2303, Val Accuracy: 9.57%\n",
            "Epoch 9/10, Train Loss: 0.2303, Train Accuracy: 10.11%, Val Loss: 0.2303, Val Accuracy: 9.57%\n",
            "Epoch 10/10, Train Loss: 0.2303, Train Accuracy: 10.11%, Val Loss: 0.2303, Val Accuracy: 9.57%\n"
          ]
        },
        {
          "data": {
            "text/html": [],
            "text/plain": [
              "<IPython.core.display.HTML object>"
            ]
          },
          "metadata": {},
          "output_type": "display_data"
        },
        {
          "data": {
            "text/html": [
              "<br>    <style><br>        .wandb-row {<br>            display: flex;<br>            flex-direction: row;<br>            flex-wrap: wrap;<br>            justify-content: flex-start;<br>            width: 100%;<br>        }<br>        .wandb-col {<br>            display: flex;<br>            flex-direction: column;<br>            flex-basis: 100%;<br>            flex: 1;<br>            padding: 10px;<br>        }<br>    </style><br><div class=\"wandb-row\"><div class=\"wandb-col\"><h3>Run history:</h3><br/><table class=\"wandb\"><tr><td>epoch</td><td>▁▂▃▃▄▅▆▆▇█</td></tr><tr><td>train_accuracy</td><td>▁▁▁▁▁▁▁▁▁▁</td></tr><tr><td>train_loss</td><td>█▇▅▄▄▃▂▂▁▁</td></tr><tr><td>val_accuracy</td><td>▁▁▁▁▁▁▁▁▁▁</td></tr><tr><td>val_loss</td><td>▁▂▃▄▅▆▇▇██</td></tr></table><br/></div><div class=\"wandb-col\"><h3>Run summary:</h3><br/><table class=\"wandb\"><tr><td>epoch</td><td>10</td></tr><tr><td>train_accuracy</td><td>10.10625</td></tr><tr><td>train_loss</td><td>0.23026</td></tr><tr><td>val_accuracy</td><td>9.575</td></tr><tr><td>val_loss</td><td>0.23027</td></tr></table><br/></div></div>"
            ],
            "text/plain": [
              "<IPython.core.display.HTML object>"
            ]
          },
          "metadata": {},
          "output_type": "display_data"
        },
        {
          "data": {
            "text/html": [
              " View run <strong style=\"color:#cdcd00\">lilac-sweep-2</strong> at: <a href='https://wandb.ai/ajay-madkami-iitm-indian-institute-of-technology-mad/Assignment1/runs/24a61mv6' target=\"_blank\">https://wandb.ai/ajay-madkami-iitm-indian-institute-of-technology-mad/Assignment1/runs/24a61mv6</a><br> View project at: <a href='https://wandb.ai/ajay-madkami-iitm-indian-institute-of-technology-mad/Assignment1' target=\"_blank\">https://wandb.ai/ajay-madkami-iitm-indian-institute-of-technology-mad/Assignment1</a><br>Synced 5 W&B file(s), 0 media file(s), 0 artifact file(s) and 0 other file(s)"
            ],
            "text/plain": [
              "<IPython.core.display.HTML object>"
            ]
          },
          "metadata": {},
          "output_type": "display_data"
        },
        {
          "data": {
            "text/html": [
              "Find logs at: <code>./wandb/run-20250309_095846-24a61mv6/logs</code>"
            ],
            "text/plain": [
              "<IPython.core.display.HTML object>"
            ]
          },
          "metadata": {},
          "output_type": "display_data"
        },
        {
          "name": "stderr",
          "output_type": "stream",
          "text": [
            "\u001b[34m\u001b[1mwandb\u001b[0m: Agent Starting Run: 9pl8o0ur with config:\n",
            "\u001b[34m\u001b[1mwandb\u001b[0m: \tactivation: tanh\n",
            "\u001b[34m\u001b[1mwandb\u001b[0m: \tbatch_size: 32\n",
            "\u001b[34m\u001b[1mwandb\u001b[0m: \tepochs: 10\n",
            "\u001b[34m\u001b[1mwandb\u001b[0m: \tinit_method: xavier\n",
            "\u001b[34m\u001b[1mwandb\u001b[0m: \tlearning_rate: 0.001\n",
            "\u001b[34m\u001b[1mwandb\u001b[0m: \tnum_hidden_layers: 3\n",
            "\u001b[34m\u001b[1mwandb\u001b[0m: \tnum_hidden_nodes: 32\n",
            "\u001b[34m\u001b[1mwandb\u001b[0m: \toptimizer: rmsprop\n"
          ]
        },
        {
          "data": {
            "text/html": [
              "Ignoring project 'Assignment1' when running a sweep."
            ],
            "text/plain": [
              "<IPython.core.display.HTML object>"
            ]
          },
          "metadata": {},
          "output_type": "display_data"
        },
        {
          "data": {
            "text/html": [
              "Tracking run with wandb version 0.19.7"
            ],
            "text/plain": [
              "<IPython.core.display.HTML object>"
            ]
          },
          "metadata": {},
          "output_type": "display_data"
        },
        {
          "data": {
            "text/html": [
              "Run data is saved locally in <code>/content/wandb/run-20250309_095902-9pl8o0ur</code>"
            ],
            "text/plain": [
              "<IPython.core.display.HTML object>"
            ]
          },
          "metadata": {},
          "output_type": "display_data"
        },
        {
          "data": {
            "text/html": [
              "Syncing run <strong><a href='https://wandb.ai/ajay-madkami-iitm-indian-institute-of-technology-mad/Assignment1/runs/9pl8o0ur' target=\"_blank\">solar-sweep-3</a></strong> to <a href='https://wandb.ai/ajay-madkami-iitm-indian-institute-of-technology-mad/Assignment1' target=\"_blank\">Weights & Biases</a> (<a href='https://wandb.me/developer-guide' target=\"_blank\">docs</a>)<br>Sweep page: <a href='https://wandb.ai/ajay-madkami-iitm-indian-institute-of-technology-mad/Assignment1/sweeps/y86qmxg5' target=\"_blank\">https://wandb.ai/ajay-madkami-iitm-indian-institute-of-technology-mad/Assignment1/sweeps/y86qmxg5</a>"
            ],
            "text/plain": [
              "<IPython.core.display.HTML object>"
            ]
          },
          "metadata": {},
          "output_type": "display_data"
        },
        {
          "data": {
            "text/html": [
              " View project at <a href='https://wandb.ai/ajay-madkami-iitm-indian-institute-of-technology-mad/Assignment1' target=\"_blank\">https://wandb.ai/ajay-madkami-iitm-indian-institute-of-technology-mad/Assignment1</a>"
            ],
            "text/plain": [
              "<IPython.core.display.HTML object>"
            ]
          },
          "metadata": {},
          "output_type": "display_data"
        },
        {
          "data": {
            "text/html": [
              " View sweep at <a href='https://wandb.ai/ajay-madkami-iitm-indian-institute-of-technology-mad/Assignment1/sweeps/y86qmxg5' target=\"_blank\">https://wandb.ai/ajay-madkami-iitm-indian-institute-of-technology-mad/Assignment1/sweeps/y86qmxg5</a>"
            ],
            "text/plain": [
              "<IPython.core.display.HTML object>"
            ]
          },
          "metadata": {},
          "output_type": "display_data"
        },
        {
          "data": {
            "text/html": [
              " View run at <a href='https://wandb.ai/ajay-madkami-iitm-indian-institute-of-technology-mad/Assignment1/runs/9pl8o0ur' target=\"_blank\">https://wandb.ai/ajay-madkami-iitm-indian-institute-of-technology-mad/Assignment1/runs/9pl8o0ur</a>"
            ],
            "text/plain": [
              "<IPython.core.display.HTML object>"
            ]
          },
          "metadata": {},
          "output_type": "display_data"
        },
        {
          "name": "stdout",
          "output_type": "stream",
          "text": [
            "Epoch 1/10, Train Loss: 0.1506, Train Accuracy: 60.05%, Val Loss: 0.1500, Val Accuracy: 60.38%\n",
            "Epoch 2/10, Train Loss: 0.1177, Train Accuracy: 64.50%, Val Loss: 0.1169, Val Accuracy: 64.80%\n",
            "Epoch 3/10, Train Loss: 0.1007, Train Accuracy: 67.71%, Val Loss: 0.0999, Val Accuracy: 68.03%\n",
            "Epoch 4/10, Train Loss: 0.0901, Train Accuracy: 70.82%, Val Loss: 0.0893, Val Accuracy: 70.78%\n",
            "Epoch 5/10, Train Loss: 0.0827, Train Accuracy: 73.13%, Val Loss: 0.0820, Val Accuracy: 73.10%\n",
            "Epoch 6/10, Train Loss: 0.0771, Train Accuracy: 74.96%, Val Loss: 0.0765, Val Accuracy: 74.64%\n",
            "Epoch 7/10, Train Loss: 0.0727, Train Accuracy: 76.43%, Val Loss: 0.0722, Val Accuracy: 76.04%\n",
            "Epoch 8/10, Train Loss: 0.0690, Train Accuracy: 77.65%, Val Loss: 0.0685, Val Accuracy: 77.08%\n",
            "Epoch 9/10, Train Loss: 0.0657, Train Accuracy: 78.68%, Val Loss: 0.0654, Val Accuracy: 78.01%\n",
            "Epoch 10/10, Train Loss: 0.0629, Train Accuracy: 79.46%, Val Loss: 0.0626, Val Accuracy: 78.90%\n"
          ]
        },
        {
          "data": {
            "text/html": [],
            "text/plain": [
              "<IPython.core.display.HTML object>"
            ]
          },
          "metadata": {},
          "output_type": "display_data"
        },
        {
          "data": {
            "text/html": [
              "<br>    <style><br>        .wandb-row {<br>            display: flex;<br>            flex-direction: row;<br>            flex-wrap: wrap;<br>            justify-content: flex-start;<br>            width: 100%;<br>        }<br>        .wandb-col {<br>            display: flex;<br>            flex-direction: column;<br>            flex-basis: 100%;<br>            flex: 1;<br>            padding: 10px;<br>        }<br>    </style><br><div class=\"wandb-row\"><div class=\"wandb-col\"><h3>Run history:</h3><br/><table class=\"wandb\"><tr><td>epoch</td><td>▁▂▃▃▄▅▆▆▇█</td></tr><tr><td>train_accuracy</td><td>▁▃▄▅▆▆▇▇██</td></tr><tr><td>train_loss</td><td>█▅▄▃▃▂▂▁▁▁</td></tr><tr><td>val_accuracy</td><td>▁▃▄▅▆▆▇▇██</td></tr><tr><td>val_loss</td><td>█▅▄▃▃▂▂▁▁▁</td></tr></table><br/></div><div class=\"wandb-col\"><h3>Run summary:</h3><br/><table class=\"wandb\"><tr><td>epoch</td><td>10</td></tr><tr><td>train_accuracy</td><td>79.4625</td></tr><tr><td>train_loss</td><td>0.06292</td></tr><tr><td>val_accuracy</td><td>78.9</td></tr><tr><td>val_loss</td><td>0.06265</td></tr></table><br/></div></div>"
            ],
            "text/plain": [
              "<IPython.core.display.HTML object>"
            ]
          },
          "metadata": {},
          "output_type": "display_data"
        },
        {
          "data": {
            "text/html": [
              " View run <strong style=\"color:#cdcd00\">solar-sweep-3</strong> at: <a href='https://wandb.ai/ajay-madkami-iitm-indian-institute-of-technology-mad/Assignment1/runs/9pl8o0ur' target=\"_blank\">https://wandb.ai/ajay-madkami-iitm-indian-institute-of-technology-mad/Assignment1/runs/9pl8o0ur</a><br> View project at: <a href='https://wandb.ai/ajay-madkami-iitm-indian-institute-of-technology-mad/Assignment1' target=\"_blank\">https://wandb.ai/ajay-madkami-iitm-indian-institute-of-technology-mad/Assignment1</a><br>Synced 5 W&B file(s), 0 media file(s), 0 artifact file(s) and 0 other file(s)"
            ],
            "text/plain": [
              "<IPython.core.display.HTML object>"
            ]
          },
          "metadata": {},
          "output_type": "display_data"
        },
        {
          "data": {
            "text/html": [
              "Find logs at: <code>./wandb/run-20250309_095902-9pl8o0ur/logs</code>"
            ],
            "text/plain": [
              "<IPython.core.display.HTML object>"
            ]
          },
          "metadata": {},
          "output_type": "display_data"
        },
        {
          "name": "stderr",
          "output_type": "stream",
          "text": [
            "\u001b[34m\u001b[1mwandb\u001b[0m: Sweep Agent: Waiting for job.\n",
            "\u001b[34m\u001b[1mwandb\u001b[0m: Job received.\n",
            "\u001b[34m\u001b[1mwandb\u001b[0m: Agent Starting Run: 7uvaeh5a with config:\n",
            "\u001b[34m\u001b[1mwandb\u001b[0m: \tactivation: sigmoid\n",
            "\u001b[34m\u001b[1mwandb\u001b[0m: \tbatch_size: 32\n",
            "\u001b[34m\u001b[1mwandb\u001b[0m: \tepochs: 10\n",
            "\u001b[34m\u001b[1mwandb\u001b[0m: \tinit_method: xavier\n",
            "\u001b[34m\u001b[1mwandb\u001b[0m: \tlearning_rate: 0.0001\n",
            "\u001b[34m\u001b[1mwandb\u001b[0m: \tnum_hidden_layers: 3\n",
            "\u001b[34m\u001b[1mwandb\u001b[0m: \tnum_hidden_nodes: 64\n",
            "\u001b[34m\u001b[1mwandb\u001b[0m: \toptimizer: adam\n"
          ]
        },
        {
          "data": {
            "text/html": [
              "Ignoring project 'Assignment1' when running a sweep."
            ],
            "text/plain": [
              "<IPython.core.display.HTML object>"
            ]
          },
          "metadata": {},
          "output_type": "display_data"
        },
        {
          "data": {
            "text/html": [
              "Tracking run with wandb version 0.19.7"
            ],
            "text/plain": [
              "<IPython.core.display.HTML object>"
            ]
          },
          "metadata": {},
          "output_type": "display_data"
        },
        {
          "data": {
            "text/html": [
              "Run data is saved locally in <code>/content/wandb/run-20250309_095927-7uvaeh5a</code>"
            ],
            "text/plain": [
              "<IPython.core.display.HTML object>"
            ]
          },
          "metadata": {},
          "output_type": "display_data"
        },
        {
          "data": {
            "text/html": [
              "Syncing run <strong><a href='https://wandb.ai/ajay-madkami-iitm-indian-institute-of-technology-mad/Assignment1/runs/7uvaeh5a' target=\"_blank\">laced-sweep-4</a></strong> to <a href='https://wandb.ai/ajay-madkami-iitm-indian-institute-of-technology-mad/Assignment1' target=\"_blank\">Weights & Biases</a> (<a href='https://wandb.me/developer-guide' target=\"_blank\">docs</a>)<br>Sweep page: <a href='https://wandb.ai/ajay-madkami-iitm-indian-institute-of-technology-mad/Assignment1/sweeps/y86qmxg5' target=\"_blank\">https://wandb.ai/ajay-madkami-iitm-indian-institute-of-technology-mad/Assignment1/sweeps/y86qmxg5</a>"
            ],
            "text/plain": [
              "<IPython.core.display.HTML object>"
            ]
          },
          "metadata": {},
          "output_type": "display_data"
        },
        {
          "data": {
            "text/html": [
              " View project at <a href='https://wandb.ai/ajay-madkami-iitm-indian-institute-of-technology-mad/Assignment1' target=\"_blank\">https://wandb.ai/ajay-madkami-iitm-indian-institute-of-technology-mad/Assignment1</a>"
            ],
            "text/plain": [
              "<IPython.core.display.HTML object>"
            ]
          },
          "metadata": {},
          "output_type": "display_data"
        },
        {
          "data": {
            "text/html": [
              " View sweep at <a href='https://wandb.ai/ajay-madkami-iitm-indian-institute-of-technology-mad/Assignment1/sweeps/y86qmxg5' target=\"_blank\">https://wandb.ai/ajay-madkami-iitm-indian-institute-of-technology-mad/Assignment1/sweeps/y86qmxg5</a>"
            ],
            "text/plain": [
              "<IPython.core.display.HTML object>"
            ]
          },
          "metadata": {},
          "output_type": "display_data"
        },
        {
          "data": {
            "text/html": [
              " View run at <a href='https://wandb.ai/ajay-madkami-iitm-indian-institute-of-technology-mad/Assignment1/runs/7uvaeh5a' target=\"_blank\">https://wandb.ai/ajay-madkami-iitm-indian-institute-of-technology-mad/Assignment1/runs/7uvaeh5a</a>"
            ],
            "text/plain": [
              "<IPython.core.display.HTML object>"
            ]
          },
          "metadata": {},
          "output_type": "display_data"
        },
        {
          "name": "stdout",
          "output_type": "stream",
          "text": [
            "Epoch 1/10, Train Loss: 0.2397, Train Accuracy: 9.99%, Val Loss: 0.2393, Val Accuracy: 10.03%\n",
            "Epoch 2/10, Train Loss: 0.2350, Train Accuracy: 9.99%, Val Loss: 0.2347, Val Accuracy: 10.03%\n",
            "Epoch 3/10, Train Loss: 0.2327, Train Accuracy: 9.99%, Val Loss: 0.2324, Val Accuracy: 10.03%\n",
            "Epoch 4/10, Train Loss: 0.2315, Train Accuracy: 9.99%, Val Loss: 0.2313, Val Accuracy: 10.03%\n",
            "Epoch 5/10, Train Loss: 0.2309, Train Accuracy: 9.99%, Val Loss: 0.2308, Val Accuracy: 10.03%\n",
            "Epoch 6/10, Train Loss: 0.2305, Train Accuracy: 9.99%, Val Loss: 0.2305, Val Accuracy: 10.03%\n",
            "Epoch 7/10, Train Loss: 0.2304, Train Accuracy: 9.99%, Val Loss: 0.2303, Val Accuracy: 10.03%\n",
            "Epoch 8/10, Train Loss: 0.2303, Train Accuracy: 10.01%, Val Loss: 0.2302, Val Accuracy: 10.05%\n",
            "Epoch 9/10, Train Loss: 0.2302, Train Accuracy: 10.59%, Val Loss: 0.2302, Val Accuracy: 10.50%\n",
            "Epoch 10/10, Train Loss: 0.2302, Train Accuracy: 12.01%, Val Loss: 0.2302, Val Accuracy: 11.97%\n"
          ]
        },
        {
          "data": {
            "text/html": [],
            "text/plain": [
              "<IPython.core.display.HTML object>"
            ]
          },
          "metadata": {},
          "output_type": "display_data"
        },
        {
          "data": {
            "text/html": [
              "<br>    <style><br>        .wandb-row {<br>            display: flex;<br>            flex-direction: row;<br>            flex-wrap: wrap;<br>            justify-content: flex-start;<br>            width: 100%;<br>        }<br>        .wandb-col {<br>            display: flex;<br>            flex-direction: column;<br>            flex-basis: 100%;<br>            flex: 1;<br>            padding: 10px;<br>        }<br>    </style><br><div class=\"wandb-row\"><div class=\"wandb-col\"><h3>Run history:</h3><br/><table class=\"wandb\"><tr><td>epoch</td><td>▁▂▃▃▄▅▆▆▇█</td></tr><tr><td>train_accuracy</td><td>▁▁▁▁▁▁▁▁▃█</td></tr><tr><td>train_loss</td><td>█▅▃▂▂▁▁▁▁▁</td></tr><tr><td>val_accuracy</td><td>▁▁▁▁▁▁▁▁▃█</td></tr><tr><td>val_loss</td><td>█▄▃▂▁▁▁▁▁▁</td></tr></table><br/></div><div class=\"wandb-col\"><h3>Run summary:</h3><br/><table class=\"wandb\"><tr><td>epoch</td><td>10</td></tr><tr><td>train_accuracy</td><td>12.01458</td></tr><tr><td>train_loss</td><td>0.23018</td></tr><tr><td>val_accuracy</td><td>11.96667</td></tr><tr><td>val_loss</td><td>0.23017</td></tr></table><br/></div></div>"
            ],
            "text/plain": [
              "<IPython.core.display.HTML object>"
            ]
          },
          "metadata": {},
          "output_type": "display_data"
        },
        {
          "data": {
            "text/html": [
              " View run <strong style=\"color:#cdcd00\">laced-sweep-4</strong> at: <a href='https://wandb.ai/ajay-madkami-iitm-indian-institute-of-technology-mad/Assignment1/runs/7uvaeh5a' target=\"_blank\">https://wandb.ai/ajay-madkami-iitm-indian-institute-of-technology-mad/Assignment1/runs/7uvaeh5a</a><br> View project at: <a href='https://wandb.ai/ajay-madkami-iitm-indian-institute-of-technology-mad/Assignment1' target=\"_blank\">https://wandb.ai/ajay-madkami-iitm-indian-institute-of-technology-mad/Assignment1</a><br>Synced 5 W&B file(s), 0 media file(s), 0 artifact file(s) and 0 other file(s)"
            ],
            "text/plain": [
              "<IPython.core.display.HTML object>"
            ]
          },
          "metadata": {},
          "output_type": "display_data"
        },
        {
          "data": {
            "text/html": [
              "Find logs at: <code>./wandb/run-20250309_095927-7uvaeh5a/logs</code>"
            ],
            "text/plain": [
              "<IPython.core.display.HTML object>"
            ]
          },
          "metadata": {},
          "output_type": "display_data"
        },
        {
          "name": "stderr",
          "output_type": "stream",
          "text": [
            "\u001b[34m\u001b[1mwandb\u001b[0m: Agent Starting Run: 21dimmsy with config:\n",
            "\u001b[34m\u001b[1mwandb\u001b[0m: \tactivation: relu\n",
            "\u001b[34m\u001b[1mwandb\u001b[0m: \tbatch_size: 16\n",
            "\u001b[34m\u001b[1mwandb\u001b[0m: \tepochs: 10\n",
            "\u001b[34m\u001b[1mwandb\u001b[0m: \tinit_method: random\n",
            "\u001b[34m\u001b[1mwandb\u001b[0m: \tlearning_rate: 0.0001\n",
            "\u001b[34m\u001b[1mwandb\u001b[0m: \tnum_hidden_layers: 3\n",
            "\u001b[34m\u001b[1mwandb\u001b[0m: \tnum_hidden_nodes: 32\n",
            "\u001b[34m\u001b[1mwandb\u001b[0m: \toptimizer: rmsprop\n"
          ]
        },
        {
          "data": {
            "text/html": [
              "Ignoring project 'Assignment1' when running a sweep."
            ],
            "text/plain": [
              "<IPython.core.display.HTML object>"
            ]
          },
          "metadata": {},
          "output_type": "display_data"
        },
        {
          "data": {
            "text/html": [
              "Tracking run with wandb version 0.19.7"
            ],
            "text/plain": [
              "<IPython.core.display.HTML object>"
            ]
          },
          "metadata": {},
          "output_type": "display_data"
        },
        {
          "data": {
            "text/html": [
              "Run data is saved locally in <code>/content/wandb/run-20250309_095952-21dimmsy</code>"
            ],
            "text/plain": [
              "<IPython.core.display.HTML object>"
            ]
          },
          "metadata": {},
          "output_type": "display_data"
        },
        {
          "data": {
            "text/html": [
              "Syncing run <strong><a href='https://wandb.ai/ajay-madkami-iitm-indian-institute-of-technology-mad/Assignment1/runs/21dimmsy' target=\"_blank\">copper-sweep-5</a></strong> to <a href='https://wandb.ai/ajay-madkami-iitm-indian-institute-of-technology-mad/Assignment1' target=\"_blank\">Weights & Biases</a> (<a href='https://wandb.me/developer-guide' target=\"_blank\">docs</a>)<br>Sweep page: <a href='https://wandb.ai/ajay-madkami-iitm-indian-institute-of-technology-mad/Assignment1/sweeps/y86qmxg5' target=\"_blank\">https://wandb.ai/ajay-madkami-iitm-indian-institute-of-technology-mad/Assignment1/sweeps/y86qmxg5</a>"
            ],
            "text/plain": [
              "<IPython.core.display.HTML object>"
            ]
          },
          "metadata": {},
          "output_type": "display_data"
        },
        {
          "data": {
            "text/html": [
              " View project at <a href='https://wandb.ai/ajay-madkami-iitm-indian-institute-of-technology-mad/Assignment1' target=\"_blank\">https://wandb.ai/ajay-madkami-iitm-indian-institute-of-technology-mad/Assignment1</a>"
            ],
            "text/plain": [
              "<IPython.core.display.HTML object>"
            ]
          },
          "metadata": {},
          "output_type": "display_data"
        },
        {
          "data": {
            "text/html": [
              " View sweep at <a href='https://wandb.ai/ajay-madkami-iitm-indian-institute-of-technology-mad/Assignment1/sweeps/y86qmxg5' target=\"_blank\">https://wandb.ai/ajay-madkami-iitm-indian-institute-of-technology-mad/Assignment1/sweeps/y86qmxg5</a>"
            ],
            "text/plain": [
              "<IPython.core.display.HTML object>"
            ]
          },
          "metadata": {},
          "output_type": "display_data"
        },
        {
          "data": {
            "text/html": [
              " View run at <a href='https://wandb.ai/ajay-madkami-iitm-indian-institute-of-technology-mad/Assignment1/runs/21dimmsy' target=\"_blank\">https://wandb.ai/ajay-madkami-iitm-indian-institute-of-technology-mad/Assignment1/runs/21dimmsy</a>"
            ],
            "text/plain": [
              "<IPython.core.display.HTML object>"
            ]
          },
          "metadata": {},
          "output_type": "display_data"
        },
        {
          "name": "stdout",
          "output_type": "stream",
          "text": [
            "Epoch 1/10, Train Loss: 0.2303, Train Accuracy: 10.11%, Val Loss: 0.2303, Val Accuracy: 9.57%\n",
            "Epoch 2/10, Train Loss: 0.2303, Train Accuracy: 10.11%, Val Loss: 0.2303, Val Accuracy: 9.57%\n",
            "Epoch 3/10, Train Loss: 0.2303, Train Accuracy: 10.11%, Val Loss: 0.2303, Val Accuracy: 9.57%\n",
            "Epoch 4/10, Train Loss: 0.2303, Train Accuracy: 10.11%, Val Loss: 0.2303, Val Accuracy: 9.57%\n",
            "Epoch 5/10, Train Loss: 0.2303, Train Accuracy: 10.11%, Val Loss: 0.2303, Val Accuracy: 9.57%\n",
            "Epoch 6/10, Train Loss: 0.2303, Train Accuracy: 10.11%, Val Loss: 0.2303, Val Accuracy: 9.57%\n"
          ]
        },
        {
          "name": "stderr",
          "output_type": "stream",
          "text": [
            "\u001b[34m\u001b[1mwandb\u001b[0m: Ctrl + C detected. Stopping sweep.\n"
          ]
        },
        {
          "name": "stdout",
          "output_type": "stream",
          "text": [
            "Epoch 7/10, Train Loss: 0.2303, Train Accuracy: 10.11%, Val Loss: 0.2303, Val Accuracy: 9.57%\n"
          ]
        }
      ],
      "source": [
        "import numpy as np\n",
        "import wandb\n",
        "from keras.datasets import fashion_mnist\n",
        "from keras.utils import to_categorical\n",
        "\n",
        "def apply_sgd(weights, biases, gradients_w, gradients_b, lr):\n",
        "    for i in range(len(weights)):\n",
        "        weights[i] -= lr * gradients_w[i]\n",
        "        biases[i] -= lr * gradients_b[i]\n",
        "    return weights, biases\n",
        "\n",
        "def compute_loss_and_accuracy(X, Y, weights, biases, activation):\n",
        "    predictions = forward_propagation(X, weights, biases, activation)[-1]\n",
        "    loss = -np.mean(Y * np.log(predictions + 1e-8))\n",
        "    acc = np.mean(np.argmax(predictions, axis=1) == np.argmax(Y, axis=1)) * 100\n",
        "    return loss, acc\n",
        "\n",
        "def train_model():\n",
        "    wandb.init(project='Assignment1')\n",
        "    config = wandb.config\n",
        "\n",
        "    weights, biases, velocities_w, velocities_b, moment_w, moment_b = initialize_network(config.num_hidden_layers, config.num_hidden_nodes, 28*28, 10, config.init_method)\n",
        "\n",
        "    for epoch in range(config.epochs):\n",
        "        # Training\n",
        "        for i in range(0, X_train.shape[0], config.batch_size):\n",
        "            x_batch = X_train[i:i+config.batch_size]\n",
        "            y_batch = Y_train[i:i+config.batch_size]\n",
        "            activations = forward_propagation(x_batch, weights, biases, config.activation)\n",
        "            gradients_w, gradients_b = backward_propagation(x_batch, y_batch, weights, biases, activations, config.activation)\n",
        "            weights, biases = apply_sgd(weights, biases, gradients_w, gradients_b, config.learning_rate)\n",
        "\n",
        "        # Compute Training and Validation Metrics\n",
        "        train_loss, train_acc = compute_loss_and_accuracy(X_train, Y_train, weights, biases, config.activation)\n",
        "        val_loss, val_acc = compute_loss_and_accuracy(X_valid, Y_valid, weights, biases, config.activation)\n",
        "\n",
        "        print(f\"Epoch {epoch + 1}/{config.epochs}, Train Loss: {train_loss:.4f}, Train Accuracy: {train_acc:.2f}%, \"\n",
        "              f\"Val Loss: {val_loss:.4f}, Val Accuracy: {val_acc:.2f}%\")\n",
        "\n",
        "        # Log Metrics to Weights & Biases\n",
        "        wandb.log({\n",
        "            \"epoch\": epoch + 1,\n",
        "            \"train_loss\": train_loss,\n",
        "            \"train_accuracy\": train_acc,\n",
        "            \"val_loss\": val_loss,\n",
        "            \"val_accuracy\": val_acc\n",
        "        })\n",
        "\n",
        "    wandb.finish()\n",
        "\n",
        "(X_train, Y_train), (X_test, Y_test) = fashion_mnist.load_data()\n",
        "X_train, X_test = X_train.reshape(-1, 28*28) / 255.0, X_test.reshape(-1, 28*28) / 255.0\n",
        "Y_train, Y_test = to_categorical(Y_train, 10), to_categorical(Y_test, 10)\n",
        "\n",
        "split_idx = int(0.8 * X_train.shape[0])\n",
        "X_valid, Y_valid = X_train[split_idx:], Y_train[split_idx:]\n",
        "X_train, Y_train = X_train[:split_idx], Y_train[:split_idx]\n",
        "\n",
        "\n",
        "def initialize_network(num_hidden_layers, num_nodes_hidden_layers, input_size, output_size, init_method):\n",
        "    weights = []\n",
        "    biases = []\n",
        "    velocities_w = []\n",
        "    velocities_b = []\n",
        "    moment_w = []\n",
        "    moment_b = []\n",
        "    layer_sizes = [input_size] + [num_nodes_hidden_layers] * num_hidden_layers + [output_size]\n",
        "\n",
        "    for i in range(len(layer_sizes) - 1):\n",
        "        if init_method == \"xavier\":\n",
        "            weights.append(np.random.randn(layer_sizes[i], layer_sizes[i+1]) * np.sqrt(1. / layer_sizes[i]))\n",
        "        else:  # Default to random\n",
        "            weights.append(np.random.randn(layer_sizes[i], layer_sizes[i+1]) * 0.01)\n",
        "        biases.append(np.zeros((1, layer_sizes[i+1])))\n",
        "\n",
        "        # Initialize velocity and moment terms for optimizers\n",
        "        velocities_w.append(np.zeros_like(weights[-1]))\n",
        "        velocities_b.append(np.zeros_like(biases[-1]))\n",
        "        moment_w.append(np.zeros_like(weights[-1]))\n",
        "        moment_b.append(np.zeros_like(biases[-1]))\n",
        "\n",
        "    return weights, biases, velocities_w, velocities_b, moment_w, moment_b\n",
        "\n",
        "def forward_propagation(X, weights, biases, activation):\n",
        "    activations = [X]\n",
        "    for i in range(len(weights) - 1):\n",
        "        Z = np.dot(activations[-1], weights[i]) + biases[i]\n",
        "        if activation == \"relu\":\n",
        "            A = np.maximum(0, Z)\n",
        "        elif activation == \"tanh\":\n",
        "            A = np.tanh(Z)\n",
        "        else:  # Default sigmoid\n",
        "            A = 1 / (1 + np.exp(-Z))\n",
        "        activations.append(A)\n",
        "\n",
        "    Z_final = np.dot(activations[-1], weights[-1]) + biases[-1]\n",
        "    exp_vals = np.exp(Z_final - np.max(Z_final, axis=1, keepdims=True))\n",
        "    activations.append(exp_vals / np.sum(exp_vals, axis=1, keepdims=True))\n",
        "    return activations\n",
        "\n",
        "def backward_propagation(X, Y, weights, biases, activations, activation):\n",
        "    gradients_w = [None] * len(weights)\n",
        "    gradients_b = [None] * len(biases)\n",
        "\n",
        "    dA = activations[-1] - Y\n",
        "\n",
        "    for i in reversed(range(len(weights))):\n",
        "        dZ = dA\n",
        "        gradients_w[i] = np.dot(activations[i].T, dZ) / X.shape[0]\n",
        "        gradients_b[i] = np.sum(dZ, axis=0, keepdims=True) / X.shape[0]\n",
        "        if i > 0:\n",
        "            dA = np.dot(dZ, weights[i].T)\n",
        "            if activation == \"relu\":\n",
        "                dA[activations[i] <= 0] = 0\n",
        "            elif activation == \"tanh\":\n",
        "                dA *= 1 - activations[i] ** 2\n",
        "            elif activation == \"sigmoid\":\n",
        "                dA *= activations[i] * (1 - activations[i])\n",
        "\n",
        "    return gradients_w, gradients_b\n",
        "\n",
        "def apply_optimizer(weights, biases, gradients_w, gradients_b, velocities_w, velocities_b, moment_w, moment_b, config, epoch):\n",
        "    beta1 = 0.9\n",
        "    beta2 = 0.999\n",
        "    epsilon = 1e-8\n",
        "\n",
        "    for i in range(len(weights)):\n",
        "        if config.optimizer == \"sgd\":\n",
        "            weights[i] -= config.learning_rate * gradients_w[i]\n",
        "            biases[i] -= config.learning_rate * gradients_b[i]\n",
        "\n",
        "        elif config.optimizer == \"momentum\":\n",
        "            velocities_w[i] = beta1 * velocities_w[i] + config.learning_rate * gradients_w[i]\n",
        "            velocities_b[i] = beta1 * velocities_b[i] + config.learning_rate * gradients_b[i]\n",
        "            weights[i] -= velocities_w[i]\n",
        "            biases[i] -= velocities_b[i]\n",
        "\n",
        "        elif config.optimizer == \"nesterov\":\n",
        "            temp_w = weights[i] - beta1 * velocities_w[i]\n",
        "            temp_b = biases[i] - beta1 * velocities_b[i]\n",
        "            velocities_w[i] = beta1 * velocities_w[i] + config.learning_rate * gradients_w[i]\n",
        "            velocities_b[i] = beta1 * velocities_b[i] + config.learning_rate * gradients_b[i]\n",
        "            weights[i] = temp_w - velocities_w[i]\n",
        "            biases[i] = temp_b - velocities_b[i]\n",
        "\n",
        "        elif config.optimizer == \"rmsprop\":\n",
        "            moment_w[i] = beta2 * moment_w[i] + (1 - beta2) * (gradients_w[i] ** 2)\n",
        "            moment_b[i] = beta2 * moment_b[i] + (1 - beta2) * (gradients_b[i] ** 2)\n",
        "            weights[i] -= config.learning_rate * gradients_w[i] / (np.sqrt(moment_w[i]) + epsilon)\n",
        "            biases[i] -= config.learning_rate * gradients_b[i] / (np.sqrt(moment_b[i]) + epsilon)\n",
        "\n",
        "        elif config.optimizer == \"adam\":\n",
        "            moment_w[i] = beta1 * moment_w[i] + (1 - beta1) * gradients_w[i]\n",
        "            moment_b[i] = beta1 * moment_b[i] + (1 - beta1) * gradients_b[i]\n",
        "            velocities_w[i] = beta2 * velocities_w[i] + (1 - beta2) * (gradients_w[i] ** 2)\n",
        "            velocities_b[i] = beta2 * velocities_b[i] + (1 - beta2) * (gradients_b[i] ** 2)\n",
        "\n",
        "            m_w_hat = moment_w[i] / (1 - beta1 ** (epoch + 1))\n",
        "            m_b_hat = moment_b[i] / (1 - beta1 ** (epoch + 1))\n",
        "            v_w_hat = velocities_w[i] / (1 - beta2 ** (epoch + 1))\n",
        "            v_b_hat = velocities_b[i] / (1 - beta2 ** (epoch + 1))\n",
        "\n",
        "            weights[i] -= config.learning_rate * m_w_hat / (np.sqrt(v_w_hat) + epsilon)\n",
        "            biases[i] -= config.learning_rate * m_b_hat / (np.sqrt(v_b_hat) + epsilon)\n",
        "\n",
        "        elif config.optimizer == \"nadam\":\n",
        "            m_w_hat = beta1 * moment_w[i] + (1 - beta1) * gradients_w[i]\n",
        "            m_b_hat = beta1 * moment_b[i] + (1 - beta1) * gradients_b[i]\n",
        "            v_w_hat = beta2 * velocities_w[i] + (1 - beta2) * (gradients_w[i] ** 2)\n",
        "            v_b_hat = beta2 * velocities_b[i] + (1 - beta2) * (gradients_b[i] ** 2)\n",
        "\n",
        "            weights[i] -= config.learning_rate * (beta1 * m_w_hat + (1 - beta1) * gradients_w[i]) / (np.sqrt(v_w_hat) + epsilon)\n",
        "            biases[i] -= config.learning_rate * (beta1 * m_b_hat + (1 - beta1) * gradients_b[i]) / (np.sqrt(v_b_hat) + epsilon)\n",
        "\n",
        "    return weights, biases\n",
        "\n",
        "sweep_config = {\n",
        "    'method': 'random',\n",
        "    'metric': {'name': 'val_accuracy', 'goal': 'maximize'},\n",
        "    'parameters': {\n",
        "        'epochs': {'values': [5, 10]},\n",
        "        'num_hidden_layers': {'values': [3, 4, 5]},\n",
        "        'num_hidden_nodes': {'values': [32, 64, 128]},\n",
        "        'batch_size': {'values': [16, 32, 64]},\n",
        "        'learning_rate': {'values': [0.0001, 0.001]},\n",
        "        'activation': {'values': ['relu', 'tanh','sigmoid']},\n",
        "        'optimizer': {'values': ['sgd', 'momentum', 'nesterov', 'rmsprop', 'adam', 'nadam']},\n",
        "        'init_method': {'values': ['xavier', 'random']}\n",
        "    }\n",
        "}\n",
        "\n",
        "\n",
        "sweep_id = wandb.sweep(sweep=sweep_config, project='Assignment1')\n",
        "wandb.agent(sweep_id, function=train_model, count=100)\n"
      ]
    },
    {
      "cell_type": "markdown",
      "metadata": {
        "id": "O50CJ1We6W1C"
      },
      "source": [
        "**Question 7** : For the best model identified above, report the accuracy on the test set of fashion_mnist and plot the confusion matrix as shown below. More marks for creativity (less marks for producing the plot shown below as it is)"
      ]
    },
    {
      "cell_type": "code",
      "execution_count": null,
      "metadata": {
        "colab": {
          "base_uri": "https://localhost:8080/",
          "height": 998
        },
        "id": "m_P7KTlRXuHR",
        "outputId": "b2c1dc0a-b746-4ed4-9ce1-2dfa1523a71e"
      },
      "outputs": [
        {
          "name": "stdout",
          "output_type": "stream",
          "text": [
            "Epoch 1/10, Train Accuracy: 0.86, Validation Accuracy: 0.85\n",
            "Epoch 2/10, Train Accuracy: 0.88, Validation Accuracy: 0.87\n",
            "Epoch 3/10, Train Accuracy: 0.88, Validation Accuracy: 0.87\n",
            "Epoch 4/10, Train Accuracy: 0.89, Validation Accuracy: 0.87\n",
            "Epoch 5/10, Train Accuracy: 0.89, Validation Accuracy: 0.88\n",
            "Epoch 6/10, Train Accuracy: 0.90, Validation Accuracy: 0.88\n",
            "Epoch 7/10, Train Accuracy: 0.90, Validation Accuracy: 0.88\n",
            "Epoch 8/10, Train Accuracy: 0.90, Validation Accuracy: 0.88\n",
            "Epoch 9/10, Train Accuracy: 0.90, Validation Accuracy: 0.88\n",
            "Epoch 10/10, Train Accuracy: 0.90, Validation Accuracy: 0.88\n",
            "Test Accuracy: 0.87\n"
          ]
        },
        {
          "data": {
            "text/html": [
              "Changes to your `wandb` environment variables will be ignored because your `wandb` session has already started. For more information on how to modify your settings with `wandb.init()` arguments, please refer to <a href='https://wandb.me/wandb-init' target=\"_blank\">the W&B docs</a>."
            ],
            "text/plain": [
              "<IPython.core.display.HTML object>"
            ]
          },
          "metadata": {},
          "output_type": "display_data"
        },
        {
          "data": {
            "text/html": [
              "Ignoring project 'Assignment1' when running a sweep."
            ],
            "text/plain": [
              "<IPython.core.display.HTML object>"
            ]
          },
          "metadata": {},
          "output_type": "display_data"
        },
        {
          "data": {
            "text/html": [
              "Tracking run with wandb version 0.19.7"
            ],
            "text/plain": [
              "<IPython.core.display.HTML object>"
            ]
          },
          "metadata": {},
          "output_type": "display_data"
        },
        {
          "data": {
            "text/html": [
              "Run data is saved locally in <code>/content/wandb/run-20250309_101847-21dimmsy</code>"
            ],
            "text/plain": [
              "<IPython.core.display.HTML object>"
            ]
          },
          "metadata": {},
          "output_type": "display_data"
        },
        {
          "data": {
            "text/html": [
              "Syncing run <strong><a href='https://wandb.ai/ajay-madkami-iitm-indian-institute-of-technology-mad/Assignment1/runs/21dimmsy' target=\"_blank\">Nadam-training</a></strong> to <a href='https://wandb.ai/ajay-madkami-iitm-indian-institute-of-technology-mad/Assignment1' target=\"_blank\">Weights & Biases</a> (<a href='https://wandb.me/developer-guide' target=\"_blank\">docs</a>)<br>Sweep page: <a href='https://wandb.ai/ajay-madkami-iitm-indian-institute-of-technology-mad/Assignment1/sweeps/y86qmxg5' target=\"_blank\">https://wandb.ai/ajay-madkami-iitm-indian-institute-of-technology-mad/Assignment1/sweeps/y86qmxg5</a>"
            ],
            "text/plain": [
              "<IPython.core.display.HTML object>"
            ]
          },
          "metadata": {},
          "output_type": "display_data"
        },
        {
          "data": {
            "text/html": [
              " View project at <a href='https://wandb.ai/ajay-madkami-iitm-indian-institute-of-technology-mad/Assignment1' target=\"_blank\">https://wandb.ai/ajay-madkami-iitm-indian-institute-of-technology-mad/Assignment1</a>"
            ],
            "text/plain": [
              "<IPython.core.display.HTML object>"
            ]
          },
          "metadata": {},
          "output_type": "display_data"
        },
        {
          "data": {
            "text/html": [
              " View sweep at <a href='https://wandb.ai/ajay-madkami-iitm-indian-institute-of-technology-mad/Assignment1/sweeps/y86qmxg5' target=\"_blank\">https://wandb.ai/ajay-madkami-iitm-indian-institute-of-technology-mad/Assignment1/sweeps/y86qmxg5</a>"
            ],
            "text/plain": [
              "<IPython.core.display.HTML object>"
            ]
          },
          "metadata": {},
          "output_type": "display_data"
        },
        {
          "data": {
            "text/html": [
              " View run at <a href='https://wandb.ai/ajay-madkami-iitm-indian-institute-of-technology-mad/Assignment1/runs/21dimmsy' target=\"_blank\">https://wandb.ai/ajay-madkami-iitm-indian-institute-of-technology-mad/Assignment1/runs/21dimmsy</a>"
            ],
            "text/plain": [
              "<IPython.core.display.HTML object>"
            ]
          },
          "metadata": {},
          "output_type": "display_data"
        },
        {
          "data": {
            "image/png": "[encoded data removed]",
            "text/plain": [
              "<Figure size 800x600 with 2 Axes>"
            ]
          },
          "metadata": {},
          "output_type": "display_data"
        },
        {
          "data": {
            "text/html": [],
            "text/plain": [
              "<IPython.core.display.HTML object>"
            ]
          },
          "metadata": {},
          "output_type": "display_data"
        },
        {
          "data": {
            "text/html": [
              " View run <strong style=\"color:#cdcd00\">Nadam-training</strong> at: <a href='https://wandb.ai/ajay-madkami-iitm-indian-institute-of-technology-mad/Assignment1/runs/21dimmsy' target=\"_blank\">https://wandb.ai/ajay-madkami-iitm-indian-institute-of-technology-mad/Assignment1/runs/21dimmsy</a><br> View project at: <a href='https://wandb.ai/ajay-madkami-iitm-indian-institute-of-technology-mad/Assignment1' target=\"_blank\">https://wandb.ai/ajay-madkami-iitm-indian-institute-of-technology-mad/Assignment1</a><br>Synced 5 W&B file(s), 1 media file(s), 0 artifact file(s) and 0 other file(s)"
            ],
            "text/plain": [
              "<IPython.core.display.HTML object>"
            ]
          },
          "metadata": {},
          "output_type": "display_data"
        },
        {
          "data": {
            "text/html": [
              "Find logs at: <code>./wandb/run-20250309_101847-21dimmsy/logs</code>"
            ],
            "text/plain": [
              "<IPython.core.display.HTML object>"
            ]
          },
          "metadata": {},
          "output_type": "display_data"
        }
      ],
      "source": [
        "import numpy as np\n",
        "import matplotlib.pyplot as plt\n",
        "import seaborn as sns\n",
        "from keras.datasets import fashion_mnist\n",
        "from keras.utils import to_categorical\n",
        "from sklearn.metrics import accuracy_score, confusion_matrix\n",
        "import wandb\n",
        "\n",
        "def initialize_network(num_hidden_layers, num_nodes_hidden_layers, input_size, output_size):\n",
        "    weights = []\n",
        "    biases = []\n",
        "    layer_sizes = [input_size] + [num_nodes_hidden_layers] * num_hidden_layers + [output_size]\n",
        "\n",
        "    for i in range(len(layer_sizes) - 1):\n",
        "        weights.append(np.random.randn(layer_sizes[i], layer_sizes[i+1]) * np.sqrt(1. / layer_sizes[i]))\n",
        "        biases.append(np.zeros((1, layer_sizes[i+1])))\n",
        "\n",
        "    return weights, biases\n",
        "\n",
        "def forward_propagation(X, weights, biases, num_hidden_layers, activation):\n",
        "    activations = [X]\n",
        "    for i in range(num_hidden_layers):\n",
        "        z = np.dot(activations[-1], weights[i]) + biases[i]\n",
        "        a = np.tanh(z)\n",
        "        activations.append(a)\n",
        "\n",
        "    z_out = np.dot(activations[-1], weights[-1]) + biases[-1]\n",
        "    exp_scores = np.exp(z_out - np.max(z_out, axis=1, keepdims=True))\n",
        "    activations.append(exp_scores / np.sum(exp_scores, axis=1, keepdims=True))\n",
        "    return activations\n",
        "\n",
        "def backward_propagation(X, Y, weights, biases, activations, num_hidden_layers):\n",
        "    gradients_w = [None] * len(weights)\n",
        "    gradients_b = [None] * len(biases)\n",
        "\n",
        "    delta = activations[-1] - Y\n",
        "    gradients_w[-1] = np.dot(activations[-2].T, delta) / X.shape[0]\n",
        "    gradients_b[-1] = np.sum(delta, axis=0, keepdims=True) / X.shape[0]\n",
        "\n",
        "    for i in range(num_hidden_layers, 0, -1):\n",
        "        delta = np.dot(delta, weights[i].T) * (1 - activations[i] ** 2)\n",
        "        gradients_w[i-1] = np.dot(activations[i-1].T, delta) / X.shape[0]\n",
        "        gradients_b[i-1] = np.sum(delta, axis=0, keepdims=True) / X.shape[0]\n",
        "\n",
        "    return gradients_w, gradients_b\n",
        "\n",
        "def apply_nadam(weights, biases, gradients_w, gradients_b, lr, m_w, v_w, m_b, v_b, t, beta1=0.9, beta2=0.999, epsilon=1e-8):\n",
        "    for i in range(len(weights)):\n",
        "        m_w[i] = beta1 * m_w[i] + (1 - beta1) * gradients_w[i]\n",
        "        v_w[i] = beta2 * v_w[i] + (1 - beta2) * (gradients_w[i] ** 2)\n",
        "        m_b[i] = beta1 * m_b[i] + (1 - beta1) * gradients_b[i]\n",
        "        v_b[i] = beta2 * v_b[i] + (1 - beta2) * (gradients_b[i] ** 2)\n",
        "\n",
        "        m_w_hat = m_w[i] / (1 - beta1 ** t)\n",
        "        v_w_hat = v_w[i] / (1 - beta2 ** t)\n",
        "        m_b_hat = m_b[i] / (1 - beta1 ** t)\n",
        "        v_b_hat = v_b[i] / (1 - beta2 ** t)\n",
        "\n",
        "        weights[i] -= lr * m_w_hat / (np.sqrt(v_w_hat) + epsilon)\n",
        "        biases[i] -= lr * m_b_hat / (np.sqrt(v_b_hat) + epsilon)\n",
        "\n",
        "    return weights, biases, m_w, v_w, m_b, v_b\n",
        "\n",
        "def calculate_accuracy(X, Y, weights, biases, num_hidden_layers):\n",
        "    activations = forward_propagation(X, weights, biases, num_hidden_layers, activation='tanh')\n",
        "    predictions = np.argmax(activations[-1], axis=1)\n",
        "    labels = np.argmax(Y, axis=1)\n",
        "    return accuracy_score(labels, predictions)\n",
        "\n",
        "def plot_confusion_matrix(X, Y, weights, biases, num_hidden_layers):\n",
        "    wandb.init(project=\"Assignment1\")\n",
        "    activations = forward_propagation(X, weights, biases, num_hidden_layers, activation='tanh')\n",
        "    predictions = np.argmax(activations[-1], axis=1)\n",
        "    labels = np.argmax(Y, axis=1)\n",
        "    cm = confusion_matrix(labels, predictions)\n",
        "    plt.figure(figsize=(8,6))\n",
        "    sns.heatmap(cm, annot=True, fmt='d', cmap='Blues', xticklabels=range(10), yticklabels=range(10))\n",
        "    plt.xlabel('Predicted')\n",
        "    plt.ylabel('Actual')\n",
        "    plt.title('Confusion Matrix')\n",
        "    plt.savefig(\"confusion_matrix.png\")\n",
        "    wandb.log({\"Confusion Matrix\": wandb.Image(\"confusion_matrix.png\")})\n",
        "    plt.show()\n",
        "    wandb.finish()\n",
        "\n",
        "def nadam_optimizer(lr, X_train, Y_train, X_valid, Y_valid, X_test, Y_test, epochs, num_hidden_layers, num_nodes_hidden_layers, batch_size, input_size, output_size):\n",
        "    weights, biases = initialize_network(num_hidden_layers, num_nodes_hidden_layers, input_size, output_size)\n",
        "    m_w = [np.zeros_like(w) for w in weights]\n",
        "    v_w = [np.zeros_like(w) for w in weights]\n",
        "    m_b = [np.zeros_like(b) for b in biases]\n",
        "    v_b = [np.zeros_like(b) for b in biases]\n",
        "\n",
        "    t = 0\n",
        "    for epoch in range(epochs):\n",
        "        for i in range(0, X_train.shape[0], batch_size):\n",
        "            x_batch = X_train[i:i+batch_size]\n",
        "            y_batch = Y_train[i:i+batch_size]\n",
        "            activations = forward_propagation(x_batch, weights, biases, num_hidden_layers, activation='tanh')\n",
        "            gradients_w, gradients_b = backward_propagation(x_batch, y_batch, weights, biases, activations, num_hidden_layers)\n",
        "            t += 1\n",
        "            weights, biases, m_w, v_w, m_b, v_b = apply_nadam(weights, biases, gradients_w, gradients_b, lr, m_w, v_w, m_b, v_b, t)\n",
        "\n",
        "        train_acc = calculate_accuracy(X_train, Y_train, weights, biases, num_hidden_layers)\n",
        "        val_acc = calculate_accuracy(X_valid, Y_valid, weights, biases, num_hidden_layers)\n",
        "        print(f\"Epoch {epoch + 1}/{epochs}, Train Accuracy: {train_acc:.2f}, Validation Accuracy: {val_acc:.2f}\")\n",
        "\n",
        "    test_acc = calculate_accuracy(X_test, Y_test, weights, biases, num_hidden_layers)\n",
        "    print(f\"Test Accuracy: {test_acc:.2f}\")\n",
        "    plot_confusion_matrix(X_test, Y_test, weights, biases, num_hidden_layers)\n",
        "\n",
        "(X_train, Y_train), (X_test, Y_test) = fashion_mnist.load_data()\n",
        "X_train, X_test = X_train.reshape(-1, 28*28) / 255.0, X_test.reshape(-1, 28*28) / 255.0\n",
        "Y_train, Y_test = to_categorical(Y_train, 10), to_categorical(Y_test, 10)\n",
        "\n",
        "split_idx = int(0.8 * X_train.shape[0])\n",
        "X_valid, Y_valid = X_train[split_idx:], Y_train[split_idx:]\n",
        "X_train, Y_train = X_train[:split_idx], Y_train[:split_idx]\n",
        "\n",
        "nadam_optimizer(0.001, X_train, Y_train, X_valid, Y_valid, X_test, Y_test, 10, 3, 64, 16, 28*28, 10)\n"
      ]
    },
    {
      "cell_type": "code",
      "execution_count": null,
      "metadata": {
        "colab": {
          "base_uri": "https://localhost:8080/",
          "height": 260
        },
        "id": "00-buDAwaVCZ",
        "outputId": "60d8ffe9-ccb1-4761-f96d-4222947597a5"
      },
      "outputs": [
        {
          "data": {
            "text/html": [
              "Changes to your `wandb` environment variables will be ignored because your `wandb` session has already started. For more information on how to modify your settings with `wandb.init()` arguments, please refer to <a href='https://wandb.me/wandb-init' target=\"_blank\">the W&B docs</a>."
            ],
            "text/plain": [
              "<IPython.core.display.HTML object>"
            ]
          },
          "metadata": {},
          "output_type": "display_data"
        },
        {
          "data": {
            "text/html": [
              "Ignoring project 'Assignment1' when running a sweep."
            ],
            "text/plain": [
              "<IPython.core.display.HTML object>"
            ]
          },
          "metadata": {},
          "output_type": "display_data"
        },
        {
          "data": {
            "text/html": [
              "Tracking run with wandb version 0.19.7"
            ],
            "text/plain": [
              "<IPython.core.display.HTML object>"
            ]
          },
          "metadata": {},
          "output_type": "display_data"
        },
        {
          "data": {
            "text/html": [
              "Run data is saved locally in <code>/content/wandb/run-20250309_102214-21dimmsy</code>"
            ],
            "text/plain": [
              "<IPython.core.display.HTML object>"
            ]
          },
          "metadata": {},
          "output_type": "display_data"
        },
        {
          "data": {
            "text/html": [
              "Syncing run <strong><a href='https://wandb.ai/ajay-madkami-iitm-indian-institute-of-technology-mad/Assignment1/runs/21dimmsy' target=\"_blank\">Confusion Matrix Logging</a></strong> to <a href='https://wandb.ai/ajay-madkami-iitm-indian-institute-of-technology-mad/Assignment1' target=\"_blank\">Weights & Biases</a> (<a href='https://wandb.me/developer-guide' target=\"_blank\">docs</a>)<br>Sweep page: <a href='https://wandb.ai/ajay-madkami-iitm-indian-institute-of-technology-mad/Assignment1/sweeps/y86qmxg5' target=\"_blank\">https://wandb.ai/ajay-madkami-iitm-indian-institute-of-technology-mad/Assignment1/sweeps/y86qmxg5</a>"
            ],
            "text/plain": [
              "<IPython.core.display.HTML object>"
            ]
          },
          "metadata": {},
          "output_type": "display_data"
        },
        {
          "data": {
            "text/html": [
              " View project at <a href='https://wandb.ai/ajay-madkami-iitm-indian-institute-of-technology-mad/Assignment1' target=\"_blank\">https://wandb.ai/ajay-madkami-iitm-indian-institute-of-technology-mad/Assignment1</a>"
            ],
            "text/plain": [
              "<IPython.core.display.HTML object>"
            ]
          },
          "metadata": {},
          "output_type": "display_data"
        },
        {
          "data": {
            "text/html": [
              " View sweep at <a href='https://wandb.ai/ajay-madkami-iitm-indian-institute-of-technology-mad/Assignment1/sweeps/y86qmxg5' target=\"_blank\">https://wandb.ai/ajay-madkami-iitm-indian-institute-of-technology-mad/Assignment1/sweeps/y86qmxg5</a>"
            ],
            "text/plain": [
              "<IPython.core.display.HTML object>"
            ]
          },
          "metadata": {},
          "output_type": "display_data"
        },
        {
          "data": {
            "text/html": [
              " View run at <a href='https://wandb.ai/ajay-madkami-iitm-indian-institute-of-technology-mad/Assignment1/runs/21dimmsy' target=\"_blank\">https://wandb.ai/ajay-madkami-iitm-indian-institute-of-technology-mad/Assignment1/runs/21dimmsy</a>"
            ],
            "text/plain": [
              "<IPython.core.display.HTML object>"
            ]
          },
          "metadata": {},
          "output_type": "display_data"
        },
        {
          "data": {
            "text/html": [],
            "text/plain": [
              "<IPython.core.display.HTML object>"
            ]
          },
          "metadata": {},
          "output_type": "display_data"
        },
        {
          "data": {
            "text/html": [
              " View run <strong style=\"color:#cdcd00\">Confusion Matrix Logging</strong> at: <a href='https://wandb.ai/ajay-madkami-iitm-indian-institute-of-technology-mad/Assignment1/runs/21dimmsy' target=\"_blank\">https://wandb.ai/ajay-madkami-iitm-indian-institute-of-technology-mad/Assignment1/runs/21dimmsy</a><br> View project at: <a href='https://wandb.ai/ajay-madkami-iitm-indian-institute-of-technology-mad/Assignment1' target=\"_blank\">https://wandb.ai/ajay-madkami-iitm-indian-institute-of-technology-mad/Assignment1</a><br>Synced 5 W&B file(s), 1 media file(s), 0 artifact file(s) and 0 other file(s)"
            ],
            "text/plain": [
              "<IPython.core.display.HTML object>"
            ]
          },
          "metadata": {},
          "output_type": "display_data"
        },
        {
          "data": {
            "text/html": [
              "Find logs at: <code>./wandb/run-20250309_102214-21dimmsy/logs</code>"
            ],
            "text/plain": [
              "<IPython.core.display.HTML object>"
            ]
          },
          "metadata": {},
          "output_type": "display_data"
        }
      ],
      "source": [
        "import wandb\n",
        "\n",
        "wandb.init(project=\"Assignment1\", name=\"Confusion Matrix Logging\")\n",
        "wandb.log({\"Confusion Matrix\": wandb.Image(\"/content/confusion_matrix.png\")})\n",
        "wandb.finish()\n"
      ]
    },
    {
      "cell_type": "markdown",
      "metadata": {
        "id": "SYAuwTtv_-cE"
      },
      "source": [
        "**Question 8**\n",
        "In all the models above you would have used cross entropy loss. Now compare the cross entropy loss with the squared error loss. I would again like to see some automatically generated plots or your own plots to convince me whether one is better than the other."
      ]
    },
    {
      "cell_type": "code",
      "execution_count": null,
      "metadata": {
        "colab": {
          "base_uri": "https://localhost:8080/",
          "height": 1000
        },
        "id": "CMCvCkohCzpn",
        "outputId": "6a8fa3d8-e27e-4d94-ab9e-b506c9407722"
      },
      "outputs": [
        {
          "name": "stdout",
          "output_type": "stream",
          "text": [
            "Downloading data from https://storage.googleapis.com/tensorflow/tf-keras-datasets/train-labels-idx1-ubyte.gz\n",
            "\u001b[1m29515/29515\u001b[0m \u001b[32m━━━━━━━━━━━━━━━━━━━━\u001b[0m\u001b[37m\u001b[0m \u001b[1m0s\u001b[0m 0us/step\n",
            "Downloading data from https://storage.googleapis.com/tensorflow/tf-keras-datasets/train-images-idx3-ubyte.gz\n",
            "\u001b[1m26421880/26421880\u001b[0m \u001b[32m━━━━━━━━━━━━━━━━━━━━\u001b[0m\u001b[37m\u001b[0m \u001b[1m0s\u001b[0m 0us/step\n",
            "Downloading data from https://storage.googleapis.com/tensorflow/tf-keras-datasets/t10k-labels-idx1-ubyte.gz\n",
            "\u001b[1m5148/5148\u001b[0m \u001b[32m━━━━━━━━━━━━━━━━━━━━\u001b[0m\u001b[37m\u001b[0m \u001b[1m0s\u001b[0m 0us/step\n",
            "Downloading data from https://storage.googleapis.com/tensorflow/tf-keras-datasets/t10k-images-idx3-ubyte.gz\n",
            "\u001b[1m4422102/4422102\u001b[0m \u001b[32m━━━━━━━━━━━━━━━━━━━━\u001b[0m\u001b[37m\u001b[0m \u001b[1m0s\u001b[0m 0us/step\n"
          ]
        },
        {
          "name": "stderr",
          "output_type": "stream",
          "text": [
            "\u001b[34m\u001b[1mwandb\u001b[0m: Using wandb-core as the SDK backend.  Please refer to https://wandb.me/wandb-core for more information.\n"
          ]
        },
        {
          "data": {
            "application/javascript": [
              "\n",
              "        window._wandbApiKey = new Promise((resolve, reject) => {\n",
              "            function loadScript(url) {\n",
              "            return new Promise(function(resolve, reject) {\n",
              "                let newScript = document.createElement(\"script\");\n",
              "                newScript.onerror = reject;\n",
              "                newScript.onload = resolve;\n",
              "                document.body.appendChild(newScript);\n",
              "                newScript.src = url;\n",
              "            });\n",
              "            }\n",
              "            loadScript(\"https://cdn.jsdelivr.net/npm/postmate/build/postmate.min.js\").then(() => {\n",
              "            const iframe = document.createElement('iframe')\n",
              "            iframe.style.cssText = \"width:0;height:0;border:none\"\n",
              "            document.body.appendChild(iframe)\n",
              "            const handshake = new Postmate({\n",
              "                container: iframe,\n",
              "                url: 'https://wandb.ai/authorize'\n",
              "            });\n",
              "            const timeout = setTimeout(() => reject(\"Couldn't auto authenticate\"), 5000)\n",
              "            handshake.then(function(child) {\n",
              "                child.on('authorize', data => {\n",
              "                    clearTimeout(timeout)\n",
              "                    resolve(data)\n",
              "                });\n",
              "            });\n",
              "            })\n",
              "        });\n",
              "    "
            ],
            "text/plain": [
              "<IPython.core.display.Javascript object>"
            ]
          },
          "metadata": {},
          "output_type": "display_data"
        },
        {
          "name": "stderr",
          "output_type": "stream",
          "text": [
            "\u001b[34m\u001b[1mwandb\u001b[0m: Logging into wandb.ai. (Learn how to deploy a W&B server locally: https://wandb.me/wandb-server)\n",
            "\u001b[34m\u001b[1mwandb\u001b[0m: You can find your API key in your browser here: https://wandb.ai/authorize\n",
            "wandb: Paste an API key from your profile and hit enter:"
          ]
        },
        {
          "name": "stdout",
          "output_type": "stream",
          "text": [
            " ··········\n"
          ]
        },
        {
          "name": "stderr",
          "output_type": "stream",
          "text": [
            "\u001b[34m\u001b[1mwandb\u001b[0m: \u001b[33mWARNING\u001b[0m If you're specifying your api key in code, ensure this code is not shared publicly.\n",
            "\u001b[34m\u001b[1mwandb\u001b[0m: \u001b[33mWARNING\u001b[0m Consider setting the WANDB_API_KEY environment variable, or running `wandb login` from the command line.\n",
            "\u001b[34m\u001b[1mwandb\u001b[0m: No netrc file found, creating one.\n",
            "\u001b[34m\u001b[1mwandb\u001b[0m: Appending key for api.wandb.ai to your netrc file: /root/.netrc\n",
            "\u001b[34m\u001b[1mwandb\u001b[0m: Currently logged in as: \u001b[33majay-madkami-iitm\u001b[0m (\u001b[33majay-madkami-iitm-indian-institute-of-technology-mad\u001b[0m) to \u001b[32mhttps://api.wandb.ai\u001b[0m. Use \u001b[1m`wandb login --relogin`\u001b[0m to force relogin\n"
          ]
        },
        {
          "data": {
            "text/html": [
              "Tracking run with wandb version 0.19.8"
            ],
            "text/plain": [
              "<IPython.core.display.HTML object>"
            ]
          },
          "metadata": {},
          "output_type": "display_data"
        },
        {
          "data": {
            "text/html": [
              "Run data is saved locally in <code>/content/wandb/run-20250315_092107-hmjo1fjt</code>"
            ],
            "text/plain": [
              "<IPython.core.display.HTML object>"
            ]
          },
          "metadata": {},
          "output_type": "display_data"
        },
        {
          "data": {
            "text/html": [
              "Syncing run <strong><a href='https://wandb.ai/ajay-madkami-iitm-indian-institute-of-technology-mad/Assignment1/runs/hmjo1fjt' target=\"_blank\">Momentum-cross_entropy</a></strong> to <a href='https://wandb.ai/ajay-madkami-iitm-indian-institute-of-technology-mad/Assignment1' target=\"_blank\">Weights & Biases</a> (<a href='https://wandb.me/developer-guide' target=\"_blank\">docs</a>)<br>"
            ],
            "text/plain": [
              "<IPython.core.display.HTML object>"
            ]
          },
          "metadata": {},
          "output_type": "display_data"
        },
        {
          "data": {
            "text/html": [
              " View project at <a href='https://wandb.ai/ajay-madkami-iitm-indian-institute-of-technology-mad/Assignment1' target=\"_blank\">https://wandb.ai/ajay-madkami-iitm-indian-institute-of-technology-mad/Assignment1</a>"
            ],
            "text/plain": [
              "<IPython.core.display.HTML object>"
            ]
          },
          "metadata": {},
          "output_type": "display_data"
        },
        {
          "data": {
            "text/html": [
              " View run at <a href='https://wandb.ai/ajay-madkami-iitm-indian-institute-of-technology-mad/Assignment1/runs/hmjo1fjt' target=\"_blank\">https://wandb.ai/ajay-madkami-iitm-indian-institute-of-technology-mad/Assignment1/runs/hmjo1fjt</a>"
            ],
            "text/plain": [
              "<IPython.core.display.HTML object>"
            ]
          },
          "metadata": {},
          "output_type": "display_data"
        },
        {
          "name": "stdout",
          "output_type": "stream",
          "text": [
            "Epoch 1/10, Loss: 0.3871, Validation Accuracy: 83.69%\n",
            "Epoch 2/10, Loss: 0.3208, Validation Accuracy: 85.68%\n",
            "Epoch 3/10, Loss: 0.2922, Validation Accuracy: 86.53%\n",
            "Epoch 4/10, Loss: 0.2804, Validation Accuracy: 86.59%\n",
            "Epoch 5/10, Loss: 0.2512, Validation Accuracy: 86.78%\n",
            "Epoch 6/10, Loss: 0.2517, Validation Accuracy: 86.91%\n",
            "Epoch 7/10, Loss: 0.2529, Validation Accuracy: 86.97%\n",
            "Epoch 8/10, Loss: 0.2465, Validation Accuracy: 86.83%\n",
            "Epoch 9/10, Loss: 0.2279, Validation Accuracy: 87.20%\n",
            "Epoch 10/10, Loss: 0.2312, Validation Accuracy: 87.33%\n"
          ]
        },
        {
          "data": {
            "text/html": [],
            "text/plain": [
              "<IPython.core.display.HTML object>"
            ]
          },
          "metadata": {},
          "output_type": "display_data"
        },
        {
          "data": {
            "text/html": [
              "<br>    <style><br>        .wandb-row {<br>            display: flex;<br>            flex-direction: row;<br>            flex-wrap: wrap;<br>            justify-content: flex-start;<br>            width: 100%;<br>        }<br>        .wandb-col {<br>            display: flex;<br>            flex-direction: column;<br>            flex-basis: 100%;<br>            flex: 1;<br>            padding: 10px;<br>        }<br>    </style><br><div class=\"wandb-row\"><div class=\"wandb-col\"><h3>Run history:</h3><br/><table class=\"wandb\"><tr><td>epoch</td><td>▁▂▃▃▄▅▆▆▇█</td></tr><tr><td>loss</td><td>█▅▄▃▂▂▂▂▁▁</td></tr><tr><td>validation_accuracy</td><td>▁▅▆▇▇▇▇▇██</td></tr></table><br/></div><div class=\"wandb-col\"><h3>Run summary:</h3><br/><table class=\"wandb\"><tr><td>epoch</td><td>10</td></tr><tr><td>loss</td><td>0.2312</td></tr><tr><td>validation_accuracy</td><td>87.33333</td></tr></table><br/></div></div>"
            ],
            "text/plain": [
              "<IPython.core.display.HTML object>"
            ]
          },
          "metadata": {},
          "output_type": "display_data"
        },
        {
          "data": {
            "text/html": [
              " View run <strong style=\"color:#cdcd00\">Momentum-cross_entropy</strong> at: <a href='https://wandb.ai/ajay-madkami-iitm-indian-institute-of-technology-mad/Assignment1/runs/hmjo1fjt' target=\"_blank\">https://wandb.ai/ajay-madkami-iitm-indian-institute-of-technology-mad/Assignment1/runs/hmjo1fjt</a><br> View project at: <a href='https://wandb.ai/ajay-madkami-iitm-indian-institute-of-technology-mad/Assignment1' target=\"_blank\">https://wandb.ai/ajay-madkami-iitm-indian-institute-of-technology-mad/Assignment1</a><br>Synced 5 W&B file(s), 0 media file(s), 0 artifact file(s) and 0 other file(s)"
            ],
            "text/plain": [
              "<IPython.core.display.HTML object>"
            ]
          },
          "metadata": {},
          "output_type": "display_data"
        },
        {
          "data": {
            "text/html": [
              "Find logs at: <code>./wandb/run-20250315_092107-hmjo1fjt/logs</code>"
            ],
            "text/plain": [
              "<IPython.core.display.HTML object>"
            ]
          },
          "metadata": {},
          "output_type": "display_data"
        },
        {
          "data": {
            "image/png": "[encoded data removed]",
            "text/plain": [
              "<Figure size 1200x500 with 2 Axes>"
            ]
          },
          "metadata": {},
          "output_type": "display_data"
        },
        {
          "data": {
            "text/html": [
              "Tracking run with wandb version 0.19.8"
            ],
            "text/plain": [
              "<IPython.core.display.HTML object>"
            ]
          },
          "metadata": {},
          "output_type": "display_data"
        },
        {
          "data": {
            "text/html": [
              "Run data is saved locally in <code>/content/wandb/run-20250315_092135-7zcs9ez1</code>"
            ],
            "text/plain": [
              "<IPython.core.display.HTML object>"
            ]
          },
          "metadata": {},
          "output_type": "display_data"
        },
        {
          "data": {
            "text/html": [
              "Syncing run <strong><a href='https://wandb.ai/ajay-madkami-iitm-indian-institute-of-technology-mad/Assignment1/runs/7zcs9ez1' target=\"_blank\">Momentum-squared_error</a></strong> to <a href='https://wandb.ai/ajay-madkami-iitm-indian-institute-of-technology-mad/Assignment1' target=\"_blank\">Weights & Biases</a> (<a href='https://wandb.me/developer-guide' target=\"_blank\">docs</a>)<br>"
            ],
            "text/plain": [
              "<IPython.core.display.HTML object>"
            ]
          },
          "metadata": {},
          "output_type": "display_data"
        },
        {
          "data": {
            "text/html": [
              " View project at <a href='https://wandb.ai/ajay-madkami-iitm-indian-institute-of-technology-mad/Assignment1' target=\"_blank\">https://wandb.ai/ajay-madkami-iitm-indian-institute-of-technology-mad/Assignment1</a>"
            ],
            "text/plain": [
              "<IPython.core.display.HTML object>"
            ]
          },
          "metadata": {},
          "output_type": "display_data"
        },
        {
          "data": {
            "text/html": [
              " View run at <a href='https://wandb.ai/ajay-madkami-iitm-indian-institute-of-technology-mad/Assignment1/runs/7zcs9ez1' target=\"_blank\">https://wandb.ai/ajay-madkami-iitm-indian-institute-of-technology-mad/Assignment1/runs/7zcs9ez1</a>"
            ],
            "text/plain": [
              "<IPython.core.display.HTML object>"
            ]
          },
          "metadata": {},
          "output_type": "display_data"
        },
        {
          "name": "stdout",
          "output_type": "stream",
          "text": [
            "Epoch 1/10, Loss: 0.3484, Validation Accuracy: 72.40%\n",
            "Epoch 2/10, Loss: 0.2650, Validation Accuracy: 79.70%\n",
            "Epoch 3/10, Loss: 0.2245, Validation Accuracy: 82.62%\n",
            "Epoch 4/10, Loss: 0.2033, Validation Accuracy: 83.49%\n",
            "Epoch 5/10, Loss: 0.1911, Validation Accuracy: 84.12%\n",
            "Epoch 6/10, Loss: 0.1825, Validation Accuracy: 84.62%\n",
            "Epoch 7/10, Loss: 0.1752, Validation Accuracy: 85.21%\n",
            "Epoch 8/10, Loss: 0.1700, Validation Accuracy: 85.62%\n",
            "Epoch 9/10, Loss: 0.1655, Validation Accuracy: 85.95%\n",
            "Epoch 10/10, Loss: 0.1617, Validation Accuracy: 86.33%\n"
          ]
        },
        {
          "data": {
            "text/html": [],
            "text/plain": [
              "<IPython.core.display.HTML object>"
            ]
          },
          "metadata": {},
          "output_type": "display_data"
        },
        {
          "data": {
            "text/html": [
              "<br>    <style><br>        .wandb-row {<br>            display: flex;<br>            flex-direction: row;<br>            flex-wrap: wrap;<br>            justify-content: flex-start;<br>            width: 100%;<br>        }<br>        .wandb-col {<br>            display: flex;<br>            flex-direction: column;<br>            flex-basis: 100%;<br>            flex: 1;<br>            padding: 10px;<br>        }<br>    </style><br><div class=\"wandb-row\"><div class=\"wandb-col\"><h3>Run history:</h3><br/><table class=\"wandb\"><tr><td>epoch</td><td>▁▂▃▃▄▅▆▆▇█</td></tr><tr><td>loss</td><td>█▅▃▃▂▂▂▁▁▁</td></tr><tr><td>validation_accuracy</td><td>▁▅▆▇▇▇▇███</td></tr></table><br/></div><div class=\"wandb-col\"><h3>Run summary:</h3><br/><table class=\"wandb\"><tr><td>epoch</td><td>10</td></tr><tr><td>loss</td><td>0.16173</td></tr><tr><td>validation_accuracy</td><td>86.33333</td></tr></table><br/></div></div>"
            ],
            "text/plain": [
              "<IPython.core.display.HTML object>"
            ]
          },
          "metadata": {},
          "output_type": "display_data"
        },
        {
          "data": {
            "text/html": [
              " View run <strong style=\"color:#cdcd00\">Momentum-squared_error</strong> at: <a href='https://wandb.ai/ajay-madkami-iitm-indian-institute-of-technology-mad/Assignment1/runs/7zcs9ez1' target=\"_blank\">https://wandb.ai/ajay-madkami-iitm-indian-institute-of-technology-mad/Assignment1/runs/7zcs9ez1</a><br> View project at: <a href='https://wandb.ai/ajay-madkami-iitm-indian-institute-of-technology-mad/Assignment1' target=\"_blank\">https://wandb.ai/ajay-madkami-iitm-indian-institute-of-technology-mad/Assignment1</a><br>Synced 5 W&B file(s), 0 media file(s), 0 artifact file(s) and 0 other file(s)"
            ],
            "text/plain": [
              "<IPython.core.display.HTML object>"
            ]
          },
          "metadata": {},
          "output_type": "display_data"
        },
        {
          "data": {
            "text/html": [
              "Find logs at: <code>./wandb/run-20250315_092135-7zcs9ez1/logs</code>"
            ],
            "text/plain": [
              "<IPython.core.display.HTML object>"
            ]
          },
          "metadata": {},
          "output_type": "display_data"
        },
        {
          "data": {
            "image/png": "[encoded data removed]",
            "text/plain": [
              "<Figure size 1200x500 with 2 Axes>"
            ]
          },
          "metadata": {},
          "output_type": "display_data"
        }
      ],
      "source": [
        "import numpy as np\n",
        "import wandb\n",
        "import matplotlib.pyplot as plt\n",
        "from keras.datasets import fashion_mnist\n",
        "from keras.utils import to_categorical\n",
        "\n",
        "def initialize_network(num_hidden_layers, num_nodes_hidden_layers, input_size, output_size):\n",
        "    weights = []\n",
        "    biases = []\n",
        "    layer_sizes = [input_size] + [num_nodes_hidden_layers] * num_hidden_layers + [output_size]\n",
        "\n",
        "    for i in range(len(layer_sizes) - 1):\n",
        "        # Xavier Initialization\n",
        "        weights.append(np.random.randn(layer_sizes[i], layer_sizes[i+1]) * np.sqrt(1. / layer_sizes[i]))\n",
        "        biases.append(np.zeros((1, layer_sizes[i+1])))\n",
        "\n",
        "    return weights, biases\n",
        "\n",
        "def apply_momentum(weights, biases, gradients_w, gradients_b, lr, velocity_w, velocity_b, momentum=0.9):\n",
        "    for i in range(len(weights)):\n",
        "        velocity_w[i] = momentum * velocity_w[i] - lr * gradients_w[i]\n",
        "        velocity_b[i] = momentum * velocity_b[i] - lr * gradients_b[i]\n",
        "        weights[i] += velocity_w[i]\n",
        "        biases[i] += velocity_b[i]\n",
        "    return weights, biases, velocity_w, velocity_b\n",
        "\n",
        "def forward_propagation(X, weights, biases, num_hidden_layers, activation, loss_type):\n",
        "    activations = [X]\n",
        "\n",
        "    # Hidden layers\n",
        "    for i in range(num_hidden_layers):\n",
        "        z = np.dot(activations[-1], weights[i]) + biases[i]\n",
        "        a = np.maximum(0, z) if activation == 'relu' else 1 / (1 + np.exp(-z))\n",
        "        activations.append(a)\n",
        "\n",
        "    # Output layer\n",
        "    z_out = np.dot(activations[-1], weights[-1]) + biases[-1]\n",
        "\n",
        "    if loss_type == \"cross_entropy\":\n",
        "        exp_scores = np.exp(z_out - np.max(z_out, axis=1, keepdims=True))\n",
        "        activations.append(exp_scores / np.sum(exp_scores, axis=1, keepdims=True))  # Softmax\n",
        "    else:\n",
        "        activations.append(1 / (1 + np.exp(-z_out)))  # Sigmoid for squared error loss\n",
        "\n",
        "    return activations\n",
        "\n",
        "def backward_propagation(X, Y, weights, activations, num_hidden_layers, loss_type):\n",
        "    gradients_w = [None] * len(weights)\n",
        "    gradients_b = [None] * len(weights)\n",
        "\n",
        "    if loss_type == \"cross_entropy\":\n",
        "        delta = activations[-1] - Y  # Softmax derivative\n",
        "    else:\n",
        "        delta = (activations[-1] - Y) * (activations[-1] * (1 - activations[-1]))  # Squared Error Loss derivative\n",
        "\n",
        "    gradients_w[-1] = np.dot(activations[-2].T, delta) / X.shape[0]\n",
        "    gradients_b[-1] = np.sum(delta, axis=0, keepdims=True) / X.shape[0]\n",
        "\n",
        "    for i in range(num_hidden_layers, 0, -1):\n",
        "        delta = np.dot(delta, weights[i].T) * (activations[i] > 0)\n",
        "        gradients_w[i-1] = np.dot(activations[i-1].T, delta) / X.shape[0]\n",
        "        gradients_b[i-1] = np.sum(delta, axis=0, keepdims=True) / X.shape[0]\n",
        "\n",
        "    return gradients_w, gradients_b\n",
        "\n",
        "def cross_entropy_loss(predictions, Y):\n",
        "    return -np.mean(np.sum(Y * np.log(predictions + 1e-9), axis=1))\n",
        "\n",
        "def squared_error_loss(predictions, Y):\n",
        "    return np.mean(np.sum((predictions - Y) ** 2, axis=1))\n",
        "\n",
        "def calculate_accuracy(X_test, Y_test, weights, biases, num_hidden_layers, activation, loss_type):\n",
        "    activations = forward_propagation(X_test, weights, biases, num_hidden_layers, activation, loss_type)\n",
        "    predictions = np.argmax(activations[-1], axis=1)\n",
        "    actual = np.argmax(Y_test, axis=1)\n",
        "    return np.mean(predictions == actual) * 100\n",
        "\n",
        "def momentum_optimizer(lr, X_train, Y_train, X_valid, Y_valid, epochs, activation, num_hidden_layers, num_nodes_hidden_layers, batch_size, input_size, output_size, momentum=0.9, loss_type=\"cross_entropy\"):\n",
        "    wandb.init(project=\"Assignment1\", name=f\"Momentum-{loss_type}\")\n",
        "\n",
        "    weights, biases = initialize_network(num_hidden_layers, num_nodes_hidden_layers, input_size, output_size)\n",
        "    velocity_w = [np.zeros_like(w) for w in weights]\n",
        "    velocity_b = [np.zeros_like(b) for b in biases]\n",
        "\n",
        "    loss_history = []\n",
        "    val_acc_history = []\n",
        "\n",
        "    for epoch in range(epochs):\n",
        "        for i in range(0, X_train.shape[0], batch_size):\n",
        "            x_batch = X_train[i:i+batch_size]\n",
        "            y_batch = Y_train[i:i+batch_size]\n",
        "            activations = forward_propagation(x_batch, weights, biases, num_hidden_layers, activation, loss_type)\n",
        "            gradients_w, gradients_b = backward_propagation(x_batch, y_batch, weights, activations, num_hidden_layers, loss_type)\n",
        "            weights, biases, velocity_w, velocity_b = apply_momentum(weights, biases, gradients_w, gradients_b, lr, velocity_w, velocity_b, momentum)\n",
        "\n",
        "        val_acc = calculate_accuracy(X_valid, Y_valid, weights, biases, num_hidden_layers, activation, loss_type)\n",
        "        loss = cross_entropy_loss(activations[-1], y_batch) if loss_type == \"cross_entropy\" else squared_error_loss(activations[-1], y_batch)\n",
        "\n",
        "        loss_history.append(loss)\n",
        "        val_acc_history.append(val_acc)\n",
        "        print(f\"Epoch {epoch + 1}/{epochs}, Loss: {loss:.4f}, Validation Accuracy: {val_acc:.2f}%\")\n",
        "        wandb.log({\"epoch\": epoch + 1, \"loss\": loss, \"validation_accuracy\": val_acc})\n",
        "\n",
        "    wandb.finish()\n",
        "\n",
        "    # Plot Loss and Accuracy\n",
        "    plt.figure(figsize=(12, 5))\n",
        "\n",
        "    plt.subplot(1, 2, 1)\n",
        "    plt.plot(range(1, epochs+1), loss_history, label=f'{loss_type} Loss')\n",
        "    plt.xlabel('Epochs')\n",
        "    plt.ylabel('Loss')\n",
        "    plt.title(f'{loss_type} Loss vs. Epochs')\n",
        "    plt.legend()\n",
        "\n",
        "    plt.subplot(1, 2, 2)\n",
        "    plt.plot(range(1, epochs+1), val_acc_history, label='Validation Accuracy', color='green')\n",
        "    plt.xlabel('Epochs')\n",
        "    plt.ylabel('Accuracy (%)')\n",
        "    plt.title('Validation Accuracy vs. Epochs')\n",
        "    plt.legend()\n",
        "\n",
        "    plt.show()\n",
        "\n",
        "# Load data and preprocess\n",
        "(X_train, Y_train), (X_test, Y_test) = fashion_mnist.load_data()\n",
        "X_train, X_test = X_train.reshape(-1, 28*28) / 255.0, X_test.reshape(-1, 28*28) / 255.0\n",
        "Y_train, Y_test = to_categorical(Y_train, 10), to_categorical(Y_test, 10)\n",
        "\n",
        "# Split train into train and validation sets\n",
        "split_idx = int(0.8 * X_train.shape[0])\n",
        "X_valid, Y_valid = X_train[split_idx:], Y_train[split_idx:]\n",
        "X_train, Y_train = X_train[:split_idx], Y_train[:split_idx]\n",
        "\n",
        "# Run momentum optimizer for both loss functions\n",
        "momentum_optimizer(lr=0.01, X_train=X_train, Y_train=Y_train, X_valid=X_valid, Y_valid=Y_valid,\n",
        "                   epochs=10, activation='relu', num_hidden_layers=2, num_nodes_hidden_layers=128,\n",
        "                   batch_size=64, input_size=28*28, output_size=10, momentum=0.9, loss_type=\"cross_entropy\")\n",
        "\n",
        "momentum_optimizer(lr=0.01, X_train=X_train, Y_train=Y_train, X_valid=X_valid, Y_valid=Y_valid,\n",
        "                   epochs=10, activation='relu', num_hidden_layers=2, num_nodes_hidden_layers=128,\n",
        "                   batch_size=64, input_size=28*28, output_size=10, momentum=0.9, loss_type=\"squared_error\")\n"
      ]
    },
    {
      "cell_type": "markdown",
      "metadata": {
        "id": "c1fm95wbdmHQ"
      },
      "source": [
        "### MSE SWEEP CONFIG"
      ]
    },
    {
      "cell_type": "code",
      "execution_count": null,
      "metadata": {
        "colab": {
          "background_save": true,
          "base_uri": "https://localhost:8080/",
          "height": 1000
        },
        "id": "ActTdVoMpSJQ",
        "outputId": "e8cf70e1-9e26-4015-d276-db432ef319dd"
      },
      "outputs": [
        {
          "data": {
            "text/html": [],
            "text/plain": [
              "<IPython.core.display.HTML object>"
            ]
          },
          "metadata": {},
          "output_type": "display_data"
        },
        {
          "data": {
            "text/html": [
              "<br>    <style><br>        .wandb-row {<br>            display: flex;<br>            flex-direction: row;<br>            flex-wrap: wrap;<br>            justify-content: flex-start;<br>            width: 100%;<br>        }<br>        .wandb-col {<br>            display: flex;<br>            flex-direction: column;<br>            flex-basis: 100%;<br>            flex: 1;<br>            padding: 10px;<br>        }<br>    </style><br><div class=\"wandb-row\"><div class=\"wandb-col\"><h3>Run history:</h3><br/><table class=\"wandb\"><tr><td>epoch</td><td>▁█</td></tr><tr><td>train_acc</td><td>▁▁</td></tr><tr><td>train_loss</td><td>█▁</td></tr><tr><td>val_acc</td><td>▁▁</td></tr><tr><td>val_loss</td><td>▁█</td></tr></table><br/></div><div class=\"wandb-col\"><h3>Run summary:</h3><br/><table class=\"wandb\"><tr><td>epoch</td><td>2</td></tr><tr><td>train_acc</td><td>0.25106</td></tr><tr><td>train_loss</td><td>0.09</td></tr><tr><td>val_acc</td><td>0.24575</td></tr><tr><td>val_loss</td><td>0.09</td></tr></table><br/></div></div>"
            ],
            "text/plain": [
              "<IPython.core.display.HTML object>"
            ]
          },
          "metadata": {},
          "output_type": "display_data"
        },
        {
          "data": {
            "text/html": [
              " View run <strong style=\"color:#cdcd00\">northern-sweep-2</strong> at: <a href='https://wandb.ai/ajay-madkami-iitm-indian-institute-of-technology-mad/Assignment1/runs/2pj8xfbr' target=\"_blank\">https://wandb.ai/ajay-madkami-iitm-indian-institute-of-technology-mad/Assignment1/runs/2pj8xfbr</a><br> View project at: <a href='https://wandb.ai/ajay-madkami-iitm-indian-institute-of-technology-mad/Assignment1' target=\"_blank\">https://wandb.ai/ajay-madkami-iitm-indian-institute-of-technology-mad/Assignment1</a><br>Synced 5 W&B file(s), 0 media file(s), 0 artifact file(s) and 0 other file(s)"
            ],
            "text/plain": [
              "<IPython.core.display.HTML object>"
            ]
          },
          "metadata": {},
          "output_type": "display_data"
        },
        {
          "data": {
            "text/html": [
              "Find logs at: <code>./wandb/run-20250316_074523-2pj8xfbr/logs</code>"
            ],
            "text/plain": [
              "<IPython.core.display.HTML object>"
            ]
          },
          "metadata": {},
          "output_type": "display_data"
        },
        {
          "name": "stdout",
          "output_type": "stream",
          "text": [
            "Create sweep with ID: mcgkxgsu\n",
            "Sweep URL: https://wandb.ai/ajay-madkami-iitm-indian-institute-of-technology-mad/Assignment1/sweeps/mcgkxgsu\n"
          ]
        },
        {
          "name": "stderr",
          "output_type": "stream",
          "text": [
            "\u001b[34m\u001b[1mwandb\u001b[0m: Agent Starting Run: rrvko209 with config:\n",
            "\u001b[34m\u001b[1mwandb\u001b[0m: \tactivation: sigmoid\n",
            "\u001b[34m\u001b[1mwandb\u001b[0m: \tbatch_size: 64\n",
            "\u001b[34m\u001b[1mwandb\u001b[0m: \tepochs: 5\n",
            "\u001b[34m\u001b[1mwandb\u001b[0m: \tinit_method: random\n",
            "\u001b[34m\u001b[1mwandb\u001b[0m: \tlearning_rate: 0.0001\n",
            "\u001b[34m\u001b[1mwandb\u001b[0m: \tloss: mse\n",
            "\u001b[34m\u001b[1mwandb\u001b[0m: \tnum_hidden_layers: 5\n",
            "\u001b[34m\u001b[1mwandb\u001b[0m: \tnum_hidden_nodes: 128\n",
            "\u001b[34m\u001b[1mwandb\u001b[0m: \toptimizer: sgd\n"
          ]
        },
        {
          "data": {
            "text/html": [
              "Ignoring project 'Assignment1' when running a sweep."
            ],
            "text/plain": [
              "<IPython.core.display.HTML object>"
            ]
          },
          "metadata": {},
          "output_type": "display_data"
        },
        {
          "data": {
            "text/html": [
              "Tracking run with wandb version 0.19.8"
            ],
            "text/plain": [
              "<IPython.core.display.HTML object>"
            ]
          },
          "metadata": {},
          "output_type": "display_data"
        },
        {
          "data": {
            "text/html": [
              "Run data is saved locally in <code>/content/wandb/run-20250316_074545-rrvko209</code>"
            ],
            "text/plain": [
              "<IPython.core.display.HTML object>"
            ]
          },
          "metadata": {},
          "output_type": "display_data"
        },
        {
          "data": {
            "text/html": [
              "Syncing run <strong><a href='https://wandb.ai/ajay-madkami-iitm-indian-institute-of-technology-mad/Assignment1/runs/rrvko209' target=\"_blank\">bumbling-sweep-1</a></strong> to <a href='https://wandb.ai/ajay-madkami-iitm-indian-institute-of-technology-mad/Assignment1' target=\"_blank\">Weights & Biases</a> (<a href='https://wandb.me/developer-guide' target=\"_blank\">docs</a>)<br>Sweep page: <a href='https://wandb.ai/ajay-madkami-iitm-indian-institute-of-technology-mad/Assignment1/sweeps/mcgkxgsu' target=\"_blank\">https://wandb.ai/ajay-madkami-iitm-indian-institute-of-technology-mad/Assignment1/sweeps/mcgkxgsu</a>"
            ],
            "text/plain": [
              "<IPython.core.display.HTML object>"
            ]
          },
          "metadata": {},
          "output_type": "display_data"
        },
        {
          "data": {
            "text/html": [
              " View project at <a href='https://wandb.ai/ajay-madkami-iitm-indian-institute-of-technology-mad/Assignment1' target=\"_blank\">https://wandb.ai/ajay-madkami-iitm-indian-institute-of-technology-mad/Assignment1</a>"
            ],
            "text/plain": [
              "<IPython.core.display.HTML object>"
            ]
          },
          "metadata": {},
          "output_type": "display_data"
        },
        {
          "data": {
            "text/html": [
              " View sweep at <a href='https://wandb.ai/ajay-madkami-iitm-indian-institute-of-technology-mad/Assignment1/sweeps/mcgkxgsu' target=\"_blank\">https://wandb.ai/ajay-madkami-iitm-indian-institute-of-technology-mad/Assignment1/sweeps/mcgkxgsu</a>"
            ],
            "text/plain": [
              "<IPython.core.display.HTML object>"
            ]
          },
          "metadata": {},
          "output_type": "display_data"
        },
        {
          "data": {
            "text/html": [
              " View run at <a href='https://wandb.ai/ajay-madkami-iitm-indian-institute-of-technology-mad/Assignment1/runs/rrvko209' target=\"_blank\">https://wandb.ai/ajay-madkami-iitm-indian-institute-of-technology-mad/Assignment1/runs/rrvko209</a>"
            ],
            "text/plain": [
              "<IPython.core.display.HTML object>"
            ]
          },
          "metadata": {},
          "output_type": "display_data"
        },
        {
          "name": "stdout",
          "output_type": "stream",
          "text": [
            "Epoch 1/5, Train Loss: 0.0900, Val Loss: 0.0900, Train Acc: 0.2493, Val Acc: 0.2527\n",
            "Epoch 2/5, Train Loss: 0.0900, Val Loss: 0.0900, Train Acc: 0.2493, Val Acc: 0.2527\n",
            "Epoch 3/5, Train Loss: 0.0900, Val Loss: 0.0900, Train Acc: 0.2493, Val Acc: 0.2527\n",
            "Epoch 4/5, Train Loss: 0.0900, Val Loss: 0.0900, Train Acc: 0.2493, Val Acc: 0.2527\n",
            "Epoch 5/5, Train Loss: 0.0900, Val Loss: 0.0900, Train Acc: 0.2493, Val Acc: 0.2527\n"
          ]
        },
        {
          "data": {
            "text/html": [],
            "text/plain": [
              "<IPython.core.display.HTML object>"
            ]
          },
          "metadata": {},
          "output_type": "display_data"
        },
        {
          "data": {
            "text/html": [
              "<br>    <style><br>        .wandb-row {<br>            display: flex;<br>            flex-direction: row;<br>            flex-wrap: wrap;<br>            justify-content: flex-start;<br>            width: 100%;<br>        }<br>        .wandb-col {<br>            display: flex;<br>            flex-direction: column;<br>            flex-basis: 100%;<br>            flex: 1;<br>            padding: 10px;<br>        }<br>    </style><br><div class=\"wandb-row\"><div class=\"wandb-col\"><h3>Run history:</h3><br/><table class=\"wandb\"><tr><td>epoch</td><td>▁▃▅▆█</td></tr><tr><td>train_acc</td><td>▁▁▁▁▁</td></tr><tr><td>train_loss</td><td>█▅▃▂▁</td></tr><tr><td>val_acc</td><td>▁▁▁▁▁</td></tr><tr><td>val_loss</td><td>█▂▁▂▃</td></tr></table><br/></div><div class=\"wandb-col\"><h3>Run summary:</h3><br/><table class=\"wandb\"><tr><td>epoch</td><td>5</td></tr><tr><td>train_acc</td><td>0.24933</td></tr><tr><td>train_loss</td><td>0.09</td></tr><tr><td>val_acc</td><td>0.25267</td></tr><tr><td>val_loss</td><td>0.09</td></tr></table><br/></div></div>"
            ],
            "text/plain": [
              "<IPython.core.display.HTML object>"
            ]
          },
          "metadata": {},
          "output_type": "display_data"
        },
        {
          "data": {
            "text/html": [
              " View run <strong style=\"color:#cdcd00\">bumbling-sweep-1</strong> at: <a href='https://wandb.ai/ajay-madkami-iitm-indian-institute-of-technology-mad/Assignment1/runs/rrvko209' target=\"_blank\">https://wandb.ai/ajay-madkami-iitm-indian-institute-of-technology-mad/Assignment1/runs/rrvko209</a><br> View project at: <a href='https://wandb.ai/ajay-madkami-iitm-indian-institute-of-technology-mad/Assignment1' target=\"_blank\">https://wandb.ai/ajay-madkami-iitm-indian-institute-of-technology-mad/Assignment1</a><br>Synced 5 W&B file(s), 0 media file(s), 0 artifact file(s) and 0 other file(s)"
            ],
            "text/plain": [
              "<IPython.core.display.HTML object>"
            ]
          },
          "metadata": {},
          "output_type": "display_data"
        },
        {
          "data": {
            "text/html": [
              "Find logs at: <code>./wandb/run-20250316_074545-rrvko209/logs</code>"
            ],
            "text/plain": [
              "<IPython.core.display.HTML object>"
            ]
          },
          "metadata": {},
          "output_type": "display_data"
        },
        {
          "name": "stderr",
          "output_type": "stream",
          "text": [
            "\u001b[34m\u001b[1mwandb\u001b[0m: Agent Starting Run: spihs5u1 with config:\n",
            "\u001b[34m\u001b[1mwandb\u001b[0m: \tactivation: sigmoid\n",
            "\u001b[34m\u001b[1mwandb\u001b[0m: \tbatch_size: 64\n",
            "\u001b[34m\u001b[1mwandb\u001b[0m: \tepochs: 10\n",
            "\u001b[34m\u001b[1mwandb\u001b[0m: \tinit_method: random\n",
            "\u001b[34m\u001b[1mwandb\u001b[0m: \tlearning_rate: 0.001\n",
            "\u001b[34m\u001b[1mwandb\u001b[0m: \tloss: mse\n",
            "\u001b[34m\u001b[1mwandb\u001b[0m: \tnum_hidden_layers: 5\n",
            "\u001b[34m\u001b[1mwandb\u001b[0m: \tnum_hidden_nodes: 128\n",
            "\u001b[34m\u001b[1mwandb\u001b[0m: \toptimizer: rmsprop\n"
          ]
        },
        {
          "data": {
            "text/html": [
              "Ignoring project 'Assignment1' when running a sweep."
            ],
            "text/plain": [
              "<IPython.core.display.HTML object>"
            ]
          },
          "metadata": {},
          "output_type": "display_data"
        },
        {
          "data": {
            "text/html": [
              "Tracking run with wandb version 0.19.8"
            ],
            "text/plain": [
              "<IPython.core.display.HTML object>"
            ]
          },
          "metadata": {},
          "output_type": "display_data"
        },
        {
          "data": {
            "text/html": [
              "Run data is saved locally in <code>/content/wandb/run-20250316_074626-spihs5u1</code>"
            ],
            "text/plain": [
              "<IPython.core.display.HTML object>"
            ]
          },
          "metadata": {},
          "output_type": "display_data"
        },
        {
          "data": {
            "text/html": [
              "Syncing run <strong><a href='https://wandb.ai/ajay-madkami-iitm-indian-institute-of-technology-mad/Assignment1/runs/spihs5u1' target=\"_blank\">helpful-sweep-2</a></strong> to <a href='https://wandb.ai/ajay-madkami-iitm-indian-institute-of-technology-mad/Assignment1' target=\"_blank\">Weights & Biases</a> (<a href='https://wandb.me/developer-guide' target=\"_blank\">docs</a>)<br>Sweep page: <a href='https://wandb.ai/ajay-madkami-iitm-indian-institute-of-technology-mad/Assignment1/sweeps/mcgkxgsu' target=\"_blank\">https://wandb.ai/ajay-madkami-iitm-indian-institute-of-technology-mad/Assignment1/sweeps/mcgkxgsu</a>"
            ],
            "text/plain": [
              "<IPython.core.display.HTML object>"
            ]
          },
          "metadata": {},
          "output_type": "display_data"
        },
        {
          "data": {
            "text/html": [
              " View project at <a href='https://wandb.ai/ajay-madkami-iitm-indian-institute-of-technology-mad/Assignment1' target=\"_blank\">https://wandb.ai/ajay-madkami-iitm-indian-institute-of-technology-mad/Assignment1</a>"
            ],
            "text/plain": [
              "<IPython.core.display.HTML object>"
            ]
          },
          "metadata": {},
          "output_type": "display_data"
        },
        {
          "data": {
            "text/html": [
              " View sweep at <a href='https://wandb.ai/ajay-madkami-iitm-indian-institute-of-technology-mad/Assignment1/sweeps/mcgkxgsu' target=\"_blank\">https://wandb.ai/ajay-madkami-iitm-indian-institute-of-technology-mad/Assignment1/sweeps/mcgkxgsu</a>"
            ],
            "text/plain": [
              "<IPython.core.display.HTML object>"
            ]
          },
          "metadata": {},
          "output_type": "display_data"
        },
        {
          "data": {
            "text/html": [
              " View run at <a href='https://wandb.ai/ajay-madkami-iitm-indian-institute-of-technology-mad/Assignment1/runs/spihs5u1' target=\"_blank\">https://wandb.ai/ajay-madkami-iitm-indian-institute-of-technology-mad/Assignment1/runs/spihs5u1</a>"
            ],
            "text/plain": [
              "<IPython.core.display.HTML object>"
            ]
          },
          "metadata": {},
          "output_type": "display_data"
        },
        {
          "name": "stdout",
          "output_type": "stream",
          "text": [
            "Epoch 1/10, Train Loss: 0.0900, Val Loss: 0.0900, Train Acc: 0.2499, Val Acc: 0.2503\n",
            "Epoch 2/10, Train Loss: 0.0900, Val Loss: 0.0900, Train Acc: 0.2504, Val Acc: 0.2483\n",
            "Epoch 3/10, Train Loss: 0.0900, Val Loss: 0.0900, Train Acc: 0.2504, Val Acc: 0.2483\n",
            "Epoch 4/10, Train Loss: 0.0900, Val Loss: 0.0900, Train Acc: 0.2504, Val Acc: 0.2483\n",
            "Epoch 5/10, Train Loss: 0.0900, Val Loss: 0.0900, Train Acc: 0.2504, Val Acc: 0.2483\n",
            "Epoch 6/10, Train Loss: 0.0900, Val Loss: 0.0900, Train Acc: 0.2504, Val Acc: 0.2483\n",
            "Epoch 7/10, Train Loss: 0.0900, Val Loss: 0.0900, Train Acc: 0.2504, Val Acc: 0.2483\n",
            "Epoch 8/10, Train Loss: 0.0900, Val Loss: 0.0900, Train Acc: 0.2504, Val Acc: 0.2483\n",
            "Epoch 9/10, Train Loss: 0.0900, Val Loss: 0.0900, Train Acc: 0.2504, Val Acc: 0.2483\n",
            "Epoch 10/10, Train Loss: 0.0900, Val Loss: 0.0900, Train Acc: 0.2504, Val Acc: 0.2483\n"
          ]
        },
        {
          "data": {
            "text/html": [],
            "text/plain": [
              "<IPython.core.display.HTML object>"
            ]
          },
          "metadata": {},
          "output_type": "display_data"
        },
        {
          "data": {
            "text/html": [
              "<br>    <style><br>        .wandb-row {<br>            display: flex;<br>            flex-direction: row;<br>            flex-wrap: wrap;<br>            justify-content: flex-start;<br>            width: 100%;<br>        }<br>        .wandb-col {<br>            display: flex;<br>            flex-direction: column;<br>            flex-basis: 100%;<br>            flex: 1;<br>            padding: 10px;<br>        }<br>    </style><br><div class=\"wandb-row\"><div class=\"wandb-col\"><h3>Run history:</h3><br/><table class=\"wandb\"><tr><td>epoch</td><td>▁▂▃▃▄▅▆▆▇█</td></tr><tr><td>train_acc</td><td>▁█████████</td></tr><tr><td>train_loss</td><td>█▁▁▁▁▁▁▁▁▁</td></tr><tr><td>val_acc</td><td>█▁▁▁▁▁▁▁▁▁</td></tr><tr><td>val_loss</td><td>▁▇████████</td></tr></table><br/></div><div class=\"wandb-col\"><h3>Run summary:</h3><br/><table class=\"wandb\"><tr><td>epoch</td><td>10</td></tr><tr><td>train_acc</td><td>0.25042</td></tr><tr><td>train_loss</td><td>0.09</td></tr><tr><td>val_acc</td><td>0.24833</td></tr><tr><td>val_loss</td><td>0.09</td></tr></table><br/></div></div>"
            ],
            "text/plain": [
              "<IPython.core.display.HTML object>"
            ]
          },
          "metadata": {},
          "output_type": "display_data"
        },
        {
          "data": {
            "text/html": [
              " View run <strong style=\"color:#cdcd00\">helpful-sweep-2</strong> at: <a href='https://wandb.ai/ajay-madkami-iitm-indian-institute-of-technology-mad/Assignment1/runs/spihs5u1' target=\"_blank\">https://wandb.ai/ajay-madkami-iitm-indian-institute-of-technology-mad/Assignment1/runs/spihs5u1</a><br> View project at: <a href='https://wandb.ai/ajay-madkami-iitm-indian-institute-of-technology-mad/Assignment1' target=\"_blank\">https://wandb.ai/ajay-madkami-iitm-indian-institute-of-technology-mad/Assignment1</a><br>Synced 5 W&B file(s), 0 media file(s), 0 artifact file(s) and 0 other file(s)"
            ],
            "text/plain": [
              "<IPython.core.display.HTML object>"
            ]
          },
          "metadata": {},
          "output_type": "display_data"
        },
        {
          "data": {
            "text/html": [
              "Find logs at: <code>./wandb/run-20250316_074626-spihs5u1/logs</code>"
            ],
            "text/plain": [
              "<IPython.core.display.HTML object>"
            ]
          },
          "metadata": {},
          "output_type": "display_data"
        },
        {
          "name": "stderr",
          "output_type": "stream",
          "text": [
            "\u001b[34m\u001b[1mwandb\u001b[0m: Agent Starting Run: 6plqwres with config:\n",
            "\u001b[34m\u001b[1mwandb\u001b[0m: \tactivation: tanh\n",
            "\u001b[34m\u001b[1mwandb\u001b[0m: \tbatch_size: 32\n",
            "\u001b[34m\u001b[1mwandb\u001b[0m: \tepochs: 5\n",
            "\u001b[34m\u001b[1mwandb\u001b[0m: \tinit_method: xavier\n",
            "\u001b[34m\u001b[1mwandb\u001b[0m: \tlearning_rate: 0.0001\n",
            "\u001b[34m\u001b[1mwandb\u001b[0m: \tloss: mse\n",
            "\u001b[34m\u001b[1mwandb\u001b[0m: \tnum_hidden_layers: 3\n",
            "\u001b[34m\u001b[1mwandb\u001b[0m: \tnum_hidden_nodes: 128\n",
            "\u001b[34m\u001b[1mwandb\u001b[0m: \toptimizer: rmsprop\n"
          ]
        },
        {
          "data": {
            "text/html": [
              "Ignoring project 'Assignment1' when running a sweep."
            ],
            "text/plain": [
              "<IPython.core.display.HTML object>"
            ]
          },
          "metadata": {},
          "output_type": "display_data"
        },
        {
          "data": {
            "text/html": [
              "Tracking run with wandb version 0.19.8"
            ],
            "text/plain": [
              "<IPython.core.display.HTML object>"
            ]
          },
          "metadata": {},
          "output_type": "display_data"
        },
        {
          "data": {
            "text/html": [
              "Run data is saved locally in <code>/content/wandb/run-20250316_074746-6plqwres</code>"
            ],
            "text/plain": [
              "<IPython.core.display.HTML object>"
            ]
          },
          "metadata": {},
          "output_type": "display_data"
        },
        {
          "data": {
            "text/html": [
              "Syncing run <strong><a href='https://wandb.ai/ajay-madkami-iitm-indian-institute-of-technology-mad/Assignment1/runs/6plqwres' target=\"_blank\">glorious-sweep-3</a></strong> to <a href='https://wandb.ai/ajay-madkami-iitm-indian-institute-of-technology-mad/Assignment1' target=\"_blank\">Weights & Biases</a> (<a href='https://wandb.me/developer-guide' target=\"_blank\">docs</a>)<br>Sweep page: <a href='https://wandb.ai/ajay-madkami-iitm-indian-institute-of-technology-mad/Assignment1/sweeps/mcgkxgsu' target=\"_blank\">https://wandb.ai/ajay-madkami-iitm-indian-institute-of-technology-mad/Assignment1/sweeps/mcgkxgsu</a>"
            ],
            "text/plain": [
              "<IPython.core.display.HTML object>"
            ]
          },
          "metadata": {},
          "output_type": "display_data"
        },
        {
          "data": {
            "text/html": [
              " View project at <a href='https://wandb.ai/ajay-madkami-iitm-indian-institute-of-technology-mad/Assignment1' target=\"_blank\">https://wandb.ai/ajay-madkami-iitm-indian-institute-of-technology-mad/Assignment1</a>"
            ],
            "text/plain": [
              "<IPython.core.display.HTML object>"
            ]
          },
          "metadata": {},
          "output_type": "display_data"
        },
        {
          "data": {
            "text/html": [
              " View sweep at <a href='https://wandb.ai/ajay-madkami-iitm-indian-institute-of-technology-mad/Assignment1/sweeps/mcgkxgsu' target=\"_blank\">https://wandb.ai/ajay-madkami-iitm-indian-institute-of-technology-mad/Assignment1/sweeps/mcgkxgsu</a>"
            ],
            "text/plain": [
              "<IPython.core.display.HTML object>"
            ]
          },
          "metadata": {},
          "output_type": "display_data"
        },
        {
          "data": {
            "text/html": [
              " View run at <a href='https://wandb.ai/ajay-madkami-iitm-indian-institute-of-technology-mad/Assignment1/runs/6plqwres' target=\"_blank\">https://wandb.ai/ajay-madkami-iitm-indian-institute-of-technology-mad/Assignment1/runs/6plqwres</a>"
            ],
            "text/plain": [
              "<IPython.core.display.HTML object>"
            ]
          },
          "metadata": {},
          "output_type": "display_data"
        },
        {
          "name": "stdout",
          "output_type": "stream",
          "text": [
            "Epoch 1/5, Train Loss: 0.0831, Val Loss: 0.0830, Train Acc: 0.6502, Val Acc: 0.6520\n",
            "Epoch 2/5, Train Loss: 0.0776, Val Loss: 0.0775, Train Acc: 0.6969, Val Acc: 0.6949\n",
            "Epoch 3/5, Train Loss: 0.0727, Val Loss: 0.0725, Train Acc: 0.7201, Val Acc: 0.7186\n",
            "Epoch 4/5, Train Loss: 0.0684, Val Loss: 0.0683, Train Acc: 0.7400, Val Acc: 0.7415\n",
            "Epoch 5/5, Train Loss: 0.0649, Val Loss: 0.0647, Train Acc: 0.7574, Val Acc: 0.7609\n"
          ]
        },
        {
          "data": {
            "text/html": [],
            "text/plain": [
              "<IPython.core.display.HTML object>"
            ]
          },
          "metadata": {},
          "output_type": "display_data"
        },
        {
          "data": {
            "text/html": [
              "<br>    <style><br>        .wandb-row {<br>            display: flex;<br>            flex-direction: row;<br>            flex-wrap: wrap;<br>            justify-content: flex-start;<br>            width: 100%;<br>        }<br>        .wandb-col {<br>            display: flex;<br>            flex-direction: column;<br>            flex-basis: 100%;<br>            flex: 1;<br>            padding: 10px;<br>        }<br>    </style><br><div class=\"wandb-row\"><div class=\"wandb-col\"><h3>Run history:</h3><br/><table class=\"wandb\"><tr><td>epoch</td><td>▁▃▅▆█</td></tr><tr><td>train_acc</td><td>▁▄▆▇█</td></tr><tr><td>train_loss</td><td>█▆▄▂▁</td></tr><tr><td>val_acc</td><td>▁▄▅▇█</td></tr><tr><td>val_loss</td><td>█▆▄▂▁</td></tr></table><br/></div><div class=\"wandb-col\"><h3>Run summary:</h3><br/><table class=\"wandb\"><tr><td>epoch</td><td>5</td></tr><tr><td>train_acc</td><td>0.7574</td></tr><tr><td>train_loss</td><td>0.06487</td></tr><tr><td>val_acc</td><td>0.76092</td></tr><tr><td>val_loss</td><td>0.06469</td></tr></table><br/></div></div>"
            ],
            "text/plain": [
              "<IPython.core.display.HTML object>"
            ]
          },
          "metadata": {},
          "output_type": "display_data"
        },
        {
          "data": {
            "text/html": [
              " View run <strong style=\"color:#cdcd00\">glorious-sweep-3</strong> at: <a href='https://wandb.ai/ajay-madkami-iitm-indian-institute-of-technology-mad/Assignment1/runs/6plqwres' target=\"_blank\">https://wandb.ai/ajay-madkami-iitm-indian-institute-of-technology-mad/Assignment1/runs/6plqwres</a><br> View project at: <a href='https://wandb.ai/ajay-madkami-iitm-indian-institute-of-technology-mad/Assignment1' target=\"_blank\">https://wandb.ai/ajay-madkami-iitm-indian-institute-of-technology-mad/Assignment1</a><br>Synced 5 W&B file(s), 0 media file(s), 0 artifact file(s) and 0 other file(s)"
            ],
            "text/plain": [
              "<IPython.core.display.HTML object>"
            ]
          },
          "metadata": {},
          "output_type": "display_data"
        },
        {
          "data": {
            "text/html": [
              "Find logs at: <code>./wandb/run-20250316_074746-6plqwres/logs</code>"
            ],
            "text/plain": [
              "<IPython.core.display.HTML object>"
            ]
          },
          "metadata": {},
          "output_type": "display_data"
        },
        {
          "name": "stderr",
          "output_type": "stream",
          "text": [
            "\u001b[34m\u001b[1mwandb\u001b[0m: Agent Starting Run: v1gdgrf4 with config:\n",
            "\u001b[34m\u001b[1mwandb\u001b[0m: \tactivation: relu\n",
            "\u001b[34m\u001b[1mwandb\u001b[0m: \tbatch_size: 16\n",
            "\u001b[34m\u001b[1mwandb\u001b[0m: \tepochs: 5\n",
            "\u001b[34m\u001b[1mwandb\u001b[0m: \tinit_method: random\n",
            "\u001b[34m\u001b[1mwandb\u001b[0m: \tlearning_rate: 0.001\n",
            "\u001b[34m\u001b[1mwandb\u001b[0m: \tloss: mse\n",
            "\u001b[34m\u001b[1mwandb\u001b[0m: \tnum_hidden_layers: 3\n",
            "\u001b[34m\u001b[1mwandb\u001b[0m: \tnum_hidden_nodes: 128\n",
            "\u001b[34m\u001b[1mwandb\u001b[0m: \toptimizer: sgd\n"
          ]
        },
        {
          "data": {
            "text/html": [
              "Ignoring project 'Assignment1' when running a sweep."
            ],
            "text/plain": [
              "<IPython.core.display.HTML object>"
            ]
          },
          "metadata": {},
          "output_type": "display_data"
        },
        {
          "data": {
            "text/html": [
              "Tracking run with wandb version 0.19.8"
            ],
            "text/plain": [
              "<IPython.core.display.HTML object>"
            ]
          },
          "metadata": {},
          "output_type": "display_data"
        },
        {
          "data": {
            "text/html": [
              "Run data is saved locally in <code>/content/wandb/run-20250316_074838-v1gdgrf4</code>"
            ],
            "text/plain": [
              "<IPython.core.display.HTML object>"
            ]
          },
          "metadata": {},
          "output_type": "display_data"
        },
        {
          "data": {
            "text/html": [
              "Syncing run <strong><a href='https://wandb.ai/ajay-madkami-iitm-indian-institute-of-technology-mad/Assignment1/runs/v1gdgrf4' target=\"_blank\">pious-sweep-4</a></strong> to <a href='https://wandb.ai/ajay-madkami-iitm-indian-institute-of-technology-mad/Assignment1' target=\"_blank\">Weights & Biases</a> (<a href='https://wandb.me/developer-guide' target=\"_blank\">docs</a>)<br>Sweep page: <a href='https://wandb.ai/ajay-madkami-iitm-indian-institute-of-technology-mad/Assignment1/sweeps/mcgkxgsu' target=\"_blank\">https://wandb.ai/ajay-madkami-iitm-indian-institute-of-technology-mad/Assignment1/sweeps/mcgkxgsu</a>"
            ],
            "text/plain": [
              "<IPython.core.display.HTML object>"
            ]
          },
          "metadata": {},
          "output_type": "display_data"
        },
        {
          "data": {
            "text/html": [
              " View project at <a href='https://wandb.ai/ajay-madkami-iitm-indian-institute-of-technology-mad/Assignment1' target=\"_blank\">https://wandb.ai/ajay-madkami-iitm-indian-institute-of-technology-mad/Assignment1</a>"
            ],
            "text/plain": [
              "<IPython.core.display.HTML object>"
            ]
          },
          "metadata": {},
          "output_type": "display_data"
        },
        {
          "data": {
            "text/html": [
              " View sweep at <a href='https://wandb.ai/ajay-madkami-iitm-indian-institute-of-technology-mad/Assignment1/sweeps/mcgkxgsu' target=\"_blank\">https://wandb.ai/ajay-madkami-iitm-indian-institute-of-technology-mad/Assignment1/sweeps/mcgkxgsu</a>"
            ],
            "text/plain": [
              "<IPython.core.display.HTML object>"
            ]
          },
          "metadata": {},
          "output_type": "display_data"
        },
        {
          "data": {
            "text/html": [
              " View run at <a href='https://wandb.ai/ajay-madkami-iitm-indian-institute-of-technology-mad/Assignment1/runs/v1gdgrf4' target=\"_blank\">https://wandb.ai/ajay-madkami-iitm-indian-institute-of-technology-mad/Assignment1/runs/v1gdgrf4</a>"
            ],
            "text/plain": [
              "<IPython.core.display.HTML object>"
            ]
          },
          "metadata": {},
          "output_type": "display_data"
        },
        {
          "name": "stdout",
          "output_type": "stream",
          "text": [
            "Epoch 1/5, Train Loss: 0.0900, Val Loss: 0.0900, Train Acc: 0.2511, Val Acc: 0.2457\n",
            "Epoch 2/5, Train Loss: 0.0900, Val Loss: 0.0900, Train Acc: 0.2511, Val Acc: 0.2457\n",
            "Epoch 3/5, Train Loss: 0.0900, Val Loss: 0.0900, Train Acc: 0.2511, Val Acc: 0.2457\n",
            "Epoch 4/5, Train Loss: 0.0900, Val Loss: 0.0900, Train Acc: 0.2511, Val Acc: 0.2457\n",
            "Epoch 5/5, Train Loss: 0.0900, Val Loss: 0.0900, Train Acc: 0.2511, Val Acc: 0.2457\n"
          ]
        },
        {
          "data": {
            "text/html": [],
            "text/plain": [
              "<IPython.core.display.HTML object>"
            ]
          },
          "metadata": {},
          "output_type": "display_data"
        },
        {
          "data": {
            "text/html": [
              "<br>    <style><br>        .wandb-row {<br>            display: flex;<br>            flex-direction: row;<br>            flex-wrap: wrap;<br>            justify-content: flex-start;<br>            width: 100%;<br>        }<br>        .wandb-col {<br>            display: flex;<br>            flex-direction: column;<br>            flex-basis: 100%;<br>            flex: 1;<br>            padding: 10px;<br>        }<br>    </style><br><div class=\"wandb-row\"><div class=\"wandb-col\"><h3>Run history:</h3><br/><table class=\"wandb\"><tr><td>epoch</td><td>▁▃▅▆█</td></tr><tr><td>train_acc</td><td>▁▁▁▁▁</td></tr><tr><td>train_loss</td><td>█▆▄▃▁</td></tr><tr><td>val_acc</td><td>▁▁▁▁▁</td></tr><tr><td>val_loss</td><td>▁▅▇█▇</td></tr></table><br/></div><div class=\"wandb-col\"><h3>Run summary:</h3><br/><table class=\"wandb\"><tr><td>epoch</td><td>5</td></tr><tr><td>train_acc</td><td>0.25106</td></tr><tr><td>train_loss</td><td>0.09</td></tr><tr><td>val_acc</td><td>0.24575</td></tr><tr><td>val_loss</td><td>0.09</td></tr></table><br/></div></div>"
            ],
            "text/plain": [
              "<IPython.core.display.HTML object>"
            ]
          },
          "metadata": {},
          "output_type": "display_data"
        },
        {
          "data": {
            "text/html": [
              " View run <strong style=\"color:#cdcd00\">pious-sweep-4</strong> at: <a href='https://wandb.ai/ajay-madkami-iitm-indian-institute-of-technology-mad/Assignment1/runs/v1gdgrf4' target=\"_blank\">https://wandb.ai/ajay-madkami-iitm-indian-institute-of-technology-mad/Assignment1/runs/v1gdgrf4</a><br> View project at: <a href='https://wandb.ai/ajay-madkami-iitm-indian-institute-of-technology-mad/Assignment1' target=\"_blank\">https://wandb.ai/ajay-madkami-iitm-indian-institute-of-technology-mad/Assignment1</a><br>Synced 5 W&B file(s), 0 media file(s), 0 artifact file(s) and 0 other file(s)"
            ],
            "text/plain": [
              "<IPython.core.display.HTML object>"
            ]
          },
          "metadata": {},
          "output_type": "display_data"
        },
        {
          "data": {
            "text/html": [
              "Find logs at: <code>./wandb/run-20250316_074838-v1gdgrf4/logs</code>"
            ],
            "text/plain": [
              "<IPython.core.display.HTML object>"
            ]
          },
          "metadata": {},
          "output_type": "display_data"
        },
        {
          "name": "stderr",
          "output_type": "stream",
          "text": [
            "\u001b[34m\u001b[1mwandb\u001b[0m: Sweep Agent: Waiting for job.\n",
            "\u001b[34m\u001b[1mwandb\u001b[0m: Job received.\n",
            "\u001b[34m\u001b[1mwandb\u001b[0m: Agent Starting Run: fjbvc4p4 with config:\n",
            "\u001b[34m\u001b[1mwandb\u001b[0m: \tactivation: relu\n",
            "\u001b[34m\u001b[1mwandb\u001b[0m: \tbatch_size: 64\n",
            "\u001b[34m\u001b[1mwandb\u001b[0m: \tepochs: 10\n",
            "\u001b[34m\u001b[1mwandb\u001b[0m: \tinit_method: xavier\n",
            "\u001b[34m\u001b[1mwandb\u001b[0m: \tlearning_rate: 0.001\n",
            "\u001b[34m\u001b[1mwandb\u001b[0m: \tloss: mse\n",
            "\u001b[34m\u001b[1mwandb\u001b[0m: \tnum_hidden_layers: 4\n",
            "\u001b[34m\u001b[1mwandb\u001b[0m: \tnum_hidden_nodes: 64\n",
            "\u001b[34m\u001b[1mwandb\u001b[0m: \toptimizer: rmsprop\n"
          ]
        },
        {
          "data": {
            "text/html": [
              "Ignoring project 'Assignment1' when running a sweep."
            ],
            "text/plain": [
              "<IPython.core.display.HTML object>"
            ]
          },
          "metadata": {},
          "output_type": "display_data"
        },
        {
          "data": {
            "text/html": [
              "Tracking run with wandb version 0.19.8"
            ],
            "text/plain": [
              "<IPython.core.display.HTML object>"
            ]
          },
          "metadata": {},
          "output_type": "display_data"
        },
        {
          "data": {
            "text/html": [
              "Run data is saved locally in <code>/content/wandb/run-20250316_074933-fjbvc4p4</code>"
            ],
            "text/plain": [
              "<IPython.core.display.HTML object>"
            ]
          },
          "metadata": {},
          "output_type": "display_data"
        },
        {
          "data": {
            "text/html": [
              "Syncing run <strong><a href='https://wandb.ai/ajay-madkami-iitm-indian-institute-of-technology-mad/Assignment1/runs/fjbvc4p4' target=\"_blank\">upbeat-sweep-5</a></strong> to <a href='https://wandb.ai/ajay-madkami-iitm-indian-institute-of-technology-mad/Assignment1' target=\"_blank\">Weights & Biases</a> (<a href='https://wandb.me/developer-guide' target=\"_blank\">docs</a>)<br>Sweep page: <a href='https://wandb.ai/ajay-madkami-iitm-indian-institute-of-technology-mad/Assignment1/sweeps/mcgkxgsu' target=\"_blank\">https://wandb.ai/ajay-madkami-iitm-indian-institute-of-technology-mad/Assignment1/sweeps/mcgkxgsu</a>"
            ],
            "text/plain": [
              "<IPython.core.display.HTML object>"
            ]
          },
          "metadata": {},
          "output_type": "display_data"
        },
        {
          "data": {
            "text/html": [
              " View project at <a href='https://wandb.ai/ajay-madkami-iitm-indian-institute-of-technology-mad/Assignment1' target=\"_blank\">https://wandb.ai/ajay-madkami-iitm-indian-institute-of-technology-mad/Assignment1</a>"
            ],
            "text/plain": [
              "<IPython.core.display.HTML object>"
            ]
          },
          "metadata": {},
          "output_type": "display_data"
        },
        {
          "data": {
            "text/html": [
              " View sweep at <a href='https://wandb.ai/ajay-madkami-iitm-indian-institute-of-technology-mad/Assignment1/sweeps/mcgkxgsu' target=\"_blank\">https://wandb.ai/ajay-madkami-iitm-indian-institute-of-technology-mad/Assignment1/sweeps/mcgkxgsu</a>"
            ],
            "text/plain": [
              "<IPython.core.display.HTML object>"
            ]
          },
          "metadata": {},
          "output_type": "display_data"
        },
        {
          "data": {
            "text/html": [
              " View run at <a href='https://wandb.ai/ajay-madkami-iitm-indian-institute-of-technology-mad/Assignment1/runs/fjbvc4p4' target=\"_blank\">https://wandb.ai/ajay-madkami-iitm-indian-institute-of-technology-mad/Assignment1/runs/fjbvc4p4</a>"
            ],
            "text/plain": [
              "<IPython.core.display.HTML object>"
            ]
          },
          "metadata": {},
          "output_type": "display_data"
        },
        {
          "name": "stdout",
          "output_type": "stream",
          "text": [
            "Epoch 1/10, Train Loss: 0.0840, Val Loss: 0.0839, Train Acc: 0.3954, Val Acc: 0.4000\n",
            "Epoch 2/10, Train Loss: 0.0763, Val Loss: 0.0760, Train Acc: 0.5722, Val Acc: 0.5734\n",
            "Epoch 3/10, Train Loss: 0.0688, Val Loss: 0.0683, Train Acc: 0.6562, Val Acc: 0.6685\n",
            "Epoch 4/10, Train Loss: 0.0597, Val Loss: 0.0592, Train Acc: 0.7775, Val Acc: 0.7850\n",
            "Epoch 5/10, Train Loss: 0.0504, Val Loss: 0.0499, Train Acc: 0.8023, Val Acc: 0.8115\n",
            "Epoch 6/10, Train Loss: 0.0448, Val Loss: 0.0443, Train Acc: 0.8167, Val Acc: 0.8260\n",
            "Epoch 7/10, Train Loss: 0.0417, Val Loss: 0.0413, Train Acc: 0.8326, Val Acc: 0.8407\n",
            "Epoch 8/10, Train Loss: 0.0398, Val Loss: 0.0394, Train Acc: 0.8511, Val Acc: 0.8583\n",
            "Epoch 9/10, Train Loss: 0.0382, Val Loss: 0.0379, Train Acc: 0.8688, Val Acc: 0.8752\n",
            "Epoch 10/10, Train Loss: 0.0367, Val Loss: 0.0365, Train Acc: 0.8860, Val Acc: 0.8909\n"
          ]
        },
        {
          "data": {
            "text/html": [],
            "text/plain": [
              "<IPython.core.display.HTML object>"
            ]
          },
          "metadata": {},
          "output_type": "display_data"
        },
        {
          "data": {
            "text/html": [
              "<br>    <style><br>        .wandb-row {<br>            display: flex;<br>            flex-direction: row;<br>            flex-wrap: wrap;<br>            justify-content: flex-start;<br>            width: 100%;<br>        }<br>        .wandb-col {<br>            display: flex;<br>            flex-direction: column;<br>            flex-basis: 100%;<br>            flex: 1;<br>            padding: 10px;<br>        }<br>    </style><br><div class=\"wandb-row\"><div class=\"wandb-col\"><h3>Run history:</h3><br/><table class=\"wandb\"><tr><td>epoch</td><td>▁▂▃▃▄▅▆▆▇█</td></tr><tr><td>train_acc</td><td>▁▄▅▆▇▇▇███</td></tr><tr><td>train_loss</td><td>█▇▆▄▃▂▂▁▁▁</td></tr><tr><td>val_acc</td><td>▁▃▅▆▇▇▇███</td></tr><tr><td>val_loss</td><td>█▇▆▄▃▂▂▁▁▁</td></tr></table><br/></div><div class=\"wandb-col\"><h3>Run summary:</h3><br/><table class=\"wandb\"><tr><td>epoch</td><td>10</td></tr><tr><td>train_acc</td><td>0.88602</td></tr><tr><td>train_loss</td><td>0.03674</td></tr><tr><td>val_acc</td><td>0.89092</td></tr><tr><td>val_loss</td><td>0.03649</td></tr></table><br/></div></div>"
            ],
            "text/plain": [
              "<IPython.core.display.HTML object>"
            ]
          },
          "metadata": {},
          "output_type": "display_data"
        },
        {
          "data": {
            "text/html": [
              " View run <strong style=\"color:#cdcd00\">upbeat-sweep-5</strong> at: <a href='https://wandb.ai/ajay-madkami-iitm-indian-institute-of-technology-mad/Assignment1/runs/fjbvc4p4' target=\"_blank\">https://wandb.ai/ajay-madkami-iitm-indian-institute-of-technology-mad/Assignment1/runs/fjbvc4p4</a><br> View project at: <a href='https://wandb.ai/ajay-madkami-iitm-indian-institute-of-technology-mad/Assignment1' target=\"_blank\">https://wandb.ai/ajay-madkami-iitm-indian-institute-of-technology-mad/Assignment1</a><br>Synced 5 W&B file(s), 0 media file(s), 0 artifact file(s) and 0 other file(s)"
            ],
            "text/plain": [
              "<IPython.core.display.HTML object>"
            ]
          },
          "metadata": {},
          "output_type": "display_data"
        },
        {
          "data": {
            "text/html": [
              "Find logs at: <code>./wandb/run-20250316_074933-fjbvc4p4/logs</code>"
            ],
            "text/plain": [
              "<IPython.core.display.HTML object>"
            ]
          },
          "metadata": {},
          "output_type": "display_data"
        },
        {
          "name": "stderr",
          "output_type": "stream",
          "text": [
            "\u001b[34m\u001b[1mwandb\u001b[0m: Agent Starting Run: iwijl4si with config:\n",
            "\u001b[34m\u001b[1mwandb\u001b[0m: \tactivation: relu\n",
            "\u001b[34m\u001b[1mwandb\u001b[0m: \tbatch_size: 32\n",
            "\u001b[34m\u001b[1mwandb\u001b[0m: \tepochs: 5\n",
            "\u001b[34m\u001b[1mwandb\u001b[0m: \tinit_method: xavier\n",
            "\u001b[34m\u001b[1mwandb\u001b[0m: \tlearning_rate: 0.001\n",
            "\u001b[34m\u001b[1mwandb\u001b[0m: \tloss: mse\n",
            "\u001b[34m\u001b[1mwandb\u001b[0m: \tnum_hidden_layers: 4\n",
            "\u001b[34m\u001b[1mwandb\u001b[0m: \tnum_hidden_nodes: 128\n",
            "\u001b[34m\u001b[1mwandb\u001b[0m: \toptimizer: momentum\n"
          ]
        },
        {
          "data": {
            "text/html": [
              "Ignoring project 'Assignment1' when running a sweep."
            ],
            "text/plain": [
              "<IPython.core.display.HTML object>"
            ]
          },
          "metadata": {},
          "output_type": "display_data"
        },
        {
          "data": {
            "text/html": [
              "Tracking run with wandb version 0.19.8"
            ],
            "text/plain": [
              "<IPython.core.display.HTML object>"
            ]
          },
          "metadata": {},
          "output_type": "display_data"
        },
        {
          "data": {
            "text/html": [
              "Run data is saved locally in <code>/content/wandb/run-20250316_075009-iwijl4si</code>"
            ],
            "text/plain": [
              "<IPython.core.display.HTML object>"
            ]
          },
          "metadata": {},
          "output_type": "display_data"
        },
        {
          "data": {
            "text/html": [
              "Syncing run <strong><a href='https://wandb.ai/ajay-madkami-iitm-indian-institute-of-technology-mad/Assignment1/runs/iwijl4si' target=\"_blank\">hardy-sweep-6</a></strong> to <a href='https://wandb.ai/ajay-madkami-iitm-indian-institute-of-technology-mad/Assignment1' target=\"_blank\">Weights & Biases</a> (<a href='https://wandb.me/developer-guide' target=\"_blank\">docs</a>)<br>Sweep page: <a href='https://wandb.ai/ajay-madkami-iitm-indian-institute-of-technology-mad/Assignment1/sweeps/mcgkxgsu' target=\"_blank\">https://wandb.ai/ajay-madkami-iitm-indian-institute-of-technology-mad/Assignment1/sweeps/mcgkxgsu</a>"
            ],
            "text/plain": [
              "<IPython.core.display.HTML object>"
            ]
          },
          "metadata": {},
          "output_type": "display_data"
        },
        {
          "data": {
            "text/html": [
              " View project at <a href='https://wandb.ai/ajay-madkami-iitm-indian-institute-of-technology-mad/Assignment1' target=\"_blank\">https://wandb.ai/ajay-madkami-iitm-indian-institute-of-technology-mad/Assignment1</a>"
            ],
            "text/plain": [
              "<IPython.core.display.HTML object>"
            ]
          },
          "metadata": {},
          "output_type": "display_data"
        },
        {
          "data": {
            "text/html": [
              " View sweep at <a href='https://wandb.ai/ajay-madkami-iitm-indian-institute-of-technology-mad/Assignment1/sweeps/mcgkxgsu' target=\"_blank\">https://wandb.ai/ajay-madkami-iitm-indian-institute-of-technology-mad/Assignment1/sweeps/mcgkxgsu</a>"
            ],
            "text/plain": [
              "<IPython.core.display.HTML object>"
            ]
          },
          "metadata": {},
          "output_type": "display_data"
        },
        {
          "data": {
            "text/html": [
              " View run at <a href='https://wandb.ai/ajay-madkami-iitm-indian-institute-of-technology-mad/Assignment1/runs/iwijl4si' target=\"_blank\">https://wandb.ai/ajay-madkami-iitm-indian-institute-of-technology-mad/Assignment1/runs/iwijl4si</a>"
            ],
            "text/plain": [
              "<IPython.core.display.HTML object>"
            ]
          },
          "metadata": {},
          "output_type": "display_data"
        },
        {
          "name": "stdout",
          "output_type": "stream",
          "text": [
            "Epoch 1/5, Train Loss: 0.0714, Val Loss: 0.0711, Train Acc: 0.6743, Val Acc: 0.6768\n",
            "Epoch 2/5, Train Loss: 0.0479, Val Loss: 0.0474, Train Acc: 0.8071, Val Acc: 0.8162\n",
            "Epoch 3/5, Train Loss: 0.0400, Val Loss: 0.0396, Train Acc: 0.8605, Val Acc: 0.8696\n",
            "Epoch 4/5, Train Loss: 0.0362, Val Loss: 0.0359, Train Acc: 0.8947, Val Acc: 0.9016\n",
            "Epoch 5/5, Train Loss: 0.0333, Val Loss: 0.0332, Train Acc: 0.9193, Val Acc: 0.9238\n"
          ]
        },
        {
          "data": {
            "text/html": [],
            "text/plain": [
              "<IPython.core.display.HTML object>"
            ]
          },
          "metadata": {},
          "output_type": "display_data"
        },
        {
          "data": {
            "text/html": [
              "<br>    <style><br>        .wandb-row {<br>            display: flex;<br>            flex-direction: row;<br>            flex-wrap: wrap;<br>            justify-content: flex-start;<br>            width: 100%;<br>        }<br>        .wandb-col {<br>            display: flex;<br>            flex-direction: column;<br>            flex-basis: 100%;<br>            flex: 1;<br>            padding: 10px;<br>        }<br>    </style><br><div class=\"wandb-row\"><div class=\"wandb-col\"><h3>Run history:</h3><br/><table class=\"wandb\"><tr><td>epoch</td><td>▁▃▅▆█</td></tr><tr><td>train_acc</td><td>▁▅▆▇█</td></tr><tr><td>train_loss</td><td>█▄▂▂▁</td></tr><tr><td>val_acc</td><td>▁▅▆▇█</td></tr><tr><td>val_loss</td><td>█▄▂▁▁</td></tr></table><br/></div><div class=\"wandb-col\"><h3>Run summary:</h3><br/><table class=\"wandb\"><tr><td>epoch</td><td>5</td></tr><tr><td>train_acc</td><td>0.91925</td></tr><tr><td>train_loss</td><td>0.03334</td></tr><tr><td>val_acc</td><td>0.92375</td></tr><tr><td>val_loss</td><td>0.03319</td></tr></table><br/></div></div>"
            ],
            "text/plain": [
              "<IPython.core.display.HTML object>"
            ]
          },
          "metadata": {},
          "output_type": "display_data"
        },
        {
          "data": {
            "text/html": [
              " View run <strong style=\"color:#cdcd00\">hardy-sweep-6</strong> at: <a href='https://wandb.ai/ajay-madkami-iitm-indian-institute-of-technology-mad/Assignment1/runs/iwijl4si' target=\"_blank\">https://wandb.ai/ajay-madkami-iitm-indian-institute-of-technology-mad/Assignment1/runs/iwijl4si</a><br> View project at: <a href='https://wandb.ai/ajay-madkami-iitm-indian-institute-of-technology-mad/Assignment1' target=\"_blank\">https://wandb.ai/ajay-madkami-iitm-indian-institute-of-technology-mad/Assignment1</a><br>Synced 5 W&B file(s), 0 media file(s), 0 artifact file(s) and 0 other file(s)"
            ],
            "text/plain": [
              "<IPython.core.display.HTML object>"
            ]
          },
          "metadata": {},
          "output_type": "display_data"
        },
        {
          "data": {
            "text/html": [
              "Find logs at: <code>./wandb/run-20250316_075009-iwijl4si/logs</code>"
            ],
            "text/plain": [
              "<IPython.core.display.HTML object>"
            ]
          },
          "metadata": {},
          "output_type": "display_data"
        },
        {
          "name": "stderr",
          "output_type": "stream",
          "text": [
            "\u001b[34m\u001b[1mwandb\u001b[0m: Agent Starting Run: twv7a4mn with config:\n",
            "\u001b[34m\u001b[1mwandb\u001b[0m: \tactivation: sigmoid\n",
            "\u001b[34m\u001b[1mwandb\u001b[0m: \tbatch_size: 16\n",
            "\u001b[34m\u001b[1mwandb\u001b[0m: \tepochs: 10\n",
            "\u001b[34m\u001b[1mwandb\u001b[0m: \tinit_method: xavier\n",
            "\u001b[34m\u001b[1mwandb\u001b[0m: \tlearning_rate: 0.001\n",
            "\u001b[34m\u001b[1mwandb\u001b[0m: \tloss: mse\n",
            "\u001b[34m\u001b[1mwandb\u001b[0m: \tnum_hidden_layers: 4\n",
            "\u001b[34m\u001b[1mwandb\u001b[0m: \tnum_hidden_nodes: 128\n",
            "\u001b[34m\u001b[1mwandb\u001b[0m: \toptimizer: rmsprop\n"
          ]
        },
        {
          "data": {
            "text/html": [
              "Ignoring project 'Assignment1' when running a sweep."
            ],
            "text/plain": [
              "<IPython.core.display.HTML object>"
            ]
          },
          "metadata": {},
          "output_type": "display_data"
        },
        {
          "data": {
            "text/html": [
              "Tracking run with wandb version 0.19.8"
            ],
            "text/plain": [
              "<IPython.core.display.HTML object>"
            ]
          },
          "metadata": {},
          "output_type": "display_data"
        },
        {
          "data": {
            "text/html": [
              "Run data is saved locally in <code>/content/wandb/run-20250316_075049-twv7a4mn</code>"
            ],
            "text/plain": [
              "<IPython.core.display.HTML object>"
            ]
          },
          "metadata": {},
          "output_type": "display_data"
        },
        {
          "data": {
            "text/html": [
              "Syncing run <strong><a href='https://wandb.ai/ajay-madkami-iitm-indian-institute-of-technology-mad/Assignment1/runs/twv7a4mn' target=\"_blank\">snowy-sweep-7</a></strong> to <a href='https://wandb.ai/ajay-madkami-iitm-indian-institute-of-technology-mad/Assignment1' target=\"_blank\">Weights & Biases</a> (<a href='https://wandb.me/developer-guide' target=\"_blank\">docs</a>)<br>Sweep page: <a href='https://wandb.ai/ajay-madkami-iitm-indian-institute-of-technology-mad/Assignment1/sweeps/mcgkxgsu' target=\"_blank\">https://wandb.ai/ajay-madkami-iitm-indian-institute-of-technology-mad/Assignment1/sweeps/mcgkxgsu</a>"
            ],
            "text/plain": [
              "<IPython.core.display.HTML object>"
            ]
          },
          "metadata": {},
          "output_type": "display_data"
        },
        {
          "data": {
            "text/html": [
              " View project at <a href='https://wandb.ai/ajay-madkami-iitm-indian-institute-of-technology-mad/Assignment1' target=\"_blank\">https://wandb.ai/ajay-madkami-iitm-indian-institute-of-technology-mad/Assignment1</a>"
            ],
            "text/plain": [
              "<IPython.core.display.HTML object>"
            ]
          },
          "metadata": {},
          "output_type": "display_data"
        },
        {
          "data": {
            "text/html": [
              " View sweep at <a href='https://wandb.ai/ajay-madkami-iitm-indian-institute-of-technology-mad/Assignment1/sweeps/mcgkxgsu' target=\"_blank\">https://wandb.ai/ajay-madkami-iitm-indian-institute-of-technology-mad/Assignment1/sweeps/mcgkxgsu</a>"
            ],
            "text/plain": [
              "<IPython.core.display.HTML object>"
            ]
          },
          "metadata": {},
          "output_type": "display_data"
        },
        {
          "data": {
            "text/html": [
              " View run at <a href='https://wandb.ai/ajay-madkami-iitm-indian-institute-of-technology-mad/Assignment1/runs/twv7a4mn' target=\"_blank\">https://wandb.ai/ajay-madkami-iitm-indian-institute-of-technology-mad/Assignment1/runs/twv7a4mn</a>"
            ],
            "text/plain": [
              "<IPython.core.display.HTML object>"
            ]
          },
          "metadata": {},
          "output_type": "display_data"
        },
        {
          "name": "stdout",
          "output_type": "stream",
          "text": [
            "Epoch 1/10, Train Loss: 0.0894, Val Loss: 0.0894, Train Acc: 0.4283, Val Acc: 0.4315\n",
            "Epoch 2/10, Train Loss: 0.0835, Val Loss: 0.0835, Train Acc: 0.4071, Val Acc: 0.4050\n"
          ]
        },
        {
          "name": "stderr",
          "output_type": "stream",
          "text": [
            "<ipython-input-8-9c16536777d7>:32: RuntimeWarning: overflow encountered in exp\n",
            "  A = 1 / (1 + np.exp(-Z))\n"
          ]
        },
        {
          "name": "stdout",
          "output_type": "stream",
          "text": [
            "Epoch 3/10, Train Loss: 0.0809, Val Loss: 0.0810, Train Acc: 0.3702, Val Acc: 0.3714\n",
            "Epoch 4/10, Train Loss: 0.0808, Val Loss: 0.0809, Train Acc: 0.3687, Val Acc: 0.3712\n",
            "Epoch 5/10, Train Loss: 0.0807, Val Loss: 0.0807, Train Acc: 0.3678, Val Acc: 0.3709\n",
            "Epoch 6/10, Train Loss: 0.0805, Val Loss: 0.0805, Train Acc: 0.3695, Val Acc: 0.3712\n",
            "Epoch 7/10, Train Loss: 0.0802, Val Loss: 0.0803, Train Acc: 0.3731, Val Acc: 0.3742\n",
            "Epoch 8/10, Train Loss: 0.0799, Val Loss: 0.0800, Train Acc: 0.3779, Val Acc: 0.3787\n",
            "Epoch 9/10, Train Loss: 0.0796, Val Loss: 0.0798, Train Acc: 0.3827, Val Acc: 0.3839\n",
            "Epoch 10/10, Train Loss: 0.0793, Val Loss: 0.0795, Train Acc: 0.3861, Val Acc: 0.3882\n"
          ]
        },
        {
          "data": {
            "text/html": [],
            "text/plain": [
              "<IPython.core.display.HTML object>"
            ]
          },
          "metadata": {},
          "output_type": "display_data"
        },
        {
          "data": {
            "text/html": [
              "<br>    <style><br>        .wandb-row {<br>            display: flex;<br>            flex-direction: row;<br>            flex-wrap: wrap;<br>            justify-content: flex-start;<br>            width: 100%;<br>        }<br>        .wandb-col {<br>            display: flex;<br>            flex-direction: column;<br>            flex-basis: 100%;<br>            flex: 1;<br>            padding: 10px;<br>        }<br>    </style><br><div class=\"wandb-row\"><div class=\"wandb-col\"><h3>Run history:</h3><br/><table class=\"wandb\"><tr><td>epoch</td><td>▁▂▃▃▄▅▆▆▇█</td></tr><tr><td>train_acc</td><td>█▆▁▁▁▁▂▂▃▃</td></tr><tr><td>train_loss</td><td>█▄▂▂▂▂▂▁▁▁</td></tr><tr><td>val_acc</td><td>█▅▁▁▁▁▁▂▃▃</td></tr><tr><td>val_loss</td><td>█▄▂▂▂▂▂▁▁▁</td></tr></table><br/></div><div class=\"wandb-col\"><h3>Run summary:</h3><br/><table class=\"wandb\"><tr><td>epoch</td><td>10</td></tr><tr><td>train_acc</td><td>0.3861</td></tr><tr><td>train_loss</td><td>0.07929</td></tr><tr><td>val_acc</td><td>0.38817</td></tr><tr><td>val_loss</td><td>0.07948</td></tr></table><br/></div></div>"
            ],
            "text/plain": [
              "<IPython.core.display.HTML object>"
            ]
          },
          "metadata": {},
          "output_type": "display_data"
        },
        {
          "data": {
            "text/html": [
              " View run <strong style=\"color:#cdcd00\">snowy-sweep-7</strong> at: <a href='https://wandb.ai/ajay-madkami-iitm-indian-institute-of-technology-mad/Assignment1/runs/twv7a4mn' target=\"_blank\">https://wandb.ai/ajay-madkami-iitm-indian-institute-of-technology-mad/Assignment1/runs/twv7a4mn</a><br> View project at: <a href='https://wandb.ai/ajay-madkami-iitm-indian-institute-of-technology-mad/Assignment1' target=\"_blank\">https://wandb.ai/ajay-madkami-iitm-indian-institute-of-technology-mad/Assignment1</a><br>Synced 5 W&B file(s), 0 media file(s), 0 artifact file(s) and 0 other file(s)"
            ],
            "text/plain": [
              "<IPython.core.display.HTML object>"
            ]
          },
          "metadata": {},
          "output_type": "display_data"
        },
        {
          "data": {
            "text/html": [
              "Find logs at: <code>./wandb/run-20250316_075049-twv7a4mn/logs</code>"
            ],
            "text/plain": [
              "<IPython.core.display.HTML object>"
            ]
          },
          "metadata": {},
          "output_type": "display_data"
        },
        {
          "name": "stderr",
          "output_type": "stream",
          "text": [
            "\u001b[34m\u001b[1mwandb\u001b[0m: Agent Starting Run: o15wrgub with config:\n",
            "\u001b[34m\u001b[1mwandb\u001b[0m: \tactivation: tanh\n",
            "\u001b[34m\u001b[1mwandb\u001b[0m: \tbatch_size: 32\n",
            "\u001b[34m\u001b[1mwandb\u001b[0m: \tepochs: 5\n",
            "\u001b[34m\u001b[1mwandb\u001b[0m: \tinit_method: random\n",
            "\u001b[34m\u001b[1mwandb\u001b[0m: \tlearning_rate: 0.001\n",
            "\u001b[34m\u001b[1mwandb\u001b[0m: \tloss: mse\n",
            "\u001b[34m\u001b[1mwandb\u001b[0m: \tnum_hidden_layers: 5\n",
            "\u001b[34m\u001b[1mwandb\u001b[0m: \tnum_hidden_nodes: 64\n",
            "\u001b[34m\u001b[1mwandb\u001b[0m: \toptimizer: nesterov\n"
          ]
        },
        {
          "data": {
            "text/html": [
              "Ignoring project 'Assignment1' when running a sweep."
            ],
            "text/plain": [
              "<IPython.core.display.HTML object>"
            ]
          },
          "metadata": {},
          "output_type": "display_data"
        },
        {
          "data": {
            "text/html": [
              "Tracking run with wandb version 0.19.8"
            ],
            "text/plain": [
              "<IPython.core.display.HTML object>"
            ]
          },
          "metadata": {},
          "output_type": "display_data"
        },
        {
          "data": {
            "text/html": [
              "Run data is saved locally in <code>/content/wandb/run-20250316_075241-o15wrgub</code>"
            ],
            "text/plain": [
              "<IPython.core.display.HTML object>"
            ]
          },
          "metadata": {},
          "output_type": "display_data"
        },
        {
          "data": {
            "text/html": [
              "Syncing run <strong><a href='https://wandb.ai/ajay-madkami-iitm-indian-institute-of-technology-mad/Assignment1/runs/o15wrgub' target=\"_blank\">woven-sweep-8</a></strong> to <a href='https://wandb.ai/ajay-madkami-iitm-indian-institute-of-technology-mad/Assignment1' target=\"_blank\">Weights & Biases</a> (<a href='https://wandb.me/developer-guide' target=\"_blank\">docs</a>)<br>Sweep page: <a href='https://wandb.ai/ajay-madkami-iitm-indian-institute-of-technology-mad/Assignment1/sweeps/mcgkxgsu' target=\"_blank\">https://wandb.ai/ajay-madkami-iitm-indian-institute-of-technology-mad/Assignment1/sweeps/mcgkxgsu</a>"
            ],
            "text/plain": [
              "<IPython.core.display.HTML object>"
            ]
          },
          "metadata": {},
          "output_type": "display_data"
        },
        {
          "data": {
            "text/html": [
              " View project at <a href='https://wandb.ai/ajay-madkami-iitm-indian-institute-of-technology-mad/Assignment1' target=\"_blank\">https://wandb.ai/ajay-madkami-iitm-indian-institute-of-technology-mad/Assignment1</a>"
            ],
            "text/plain": [
              "<IPython.core.display.HTML object>"
            ]
          },
          "metadata": {},
          "output_type": "display_data"
        },
        {
          "data": {
            "text/html": [
              " View sweep at <a href='https://wandb.ai/ajay-madkami-iitm-indian-institute-of-technology-mad/Assignment1/sweeps/mcgkxgsu' target=\"_blank\">https://wandb.ai/ajay-madkami-iitm-indian-institute-of-technology-mad/Assignment1/sweeps/mcgkxgsu</a>"
            ],
            "text/plain": [
              "<IPython.core.display.HTML object>"
            ]
          },
          "metadata": {},
          "output_type": "display_data"
        },
        {
          "data": {
            "text/html": [
              " View run at <a href='https://wandb.ai/ajay-madkami-iitm-indian-institute-of-technology-mad/Assignment1/runs/o15wrgub' target=\"_blank\">https://wandb.ai/ajay-madkami-iitm-indian-institute-of-technology-mad/Assignment1/runs/o15wrgub</a>"
            ],
            "text/plain": [
              "<IPython.core.display.HTML object>"
            ]
          },
          "metadata": {},
          "output_type": "display_data"
        },
        {
          "name": "stdout",
          "output_type": "stream",
          "text": [
            "Epoch 1/5, Train Loss: 0.0900, Val Loss: 0.0900, Train Acc: 0.2511, Val Acc: 0.2457\n",
            "Epoch 2/5, Train Loss: 0.0900, Val Loss: 0.0900, Train Acc: 0.2511, Val Acc: 0.2457\n",
            "Epoch 3/5, Train Loss: 0.0900, Val Loss: 0.0900, Train Acc: 0.2511, Val Acc: 0.2457\n",
            "Epoch 4/5, Train Loss: 0.0900, Val Loss: 0.0900, Train Acc: 0.2511, Val Acc: 0.2457\n",
            "Epoch 5/5, Train Loss: 0.0900, Val Loss: 0.0900, Train Acc: 0.2511, Val Acc: 0.2457\n"
          ]
        },
        {
          "data": {
            "text/html": [],
            "text/plain": [
              "<IPython.core.display.HTML object>"
            ]
          },
          "metadata": {},
          "output_type": "display_data"
        },
        {
          "data": {
            "text/html": [
              "<br>    <style><br>        .wandb-row {<br>            display: flex;<br>            flex-direction: row;<br>            flex-wrap: wrap;<br>            justify-content: flex-start;<br>            width: 100%;<br>        }<br>        .wandb-col {<br>            display: flex;<br>            flex-direction: column;<br>            flex-basis: 100%;<br>            flex: 1;<br>            padding: 10px;<br>        }<br>    </style><br><div class=\"wandb-row\"><div class=\"wandb-col\"><h3>Run history:</h3><br/><table class=\"wandb\"><tr><td>epoch</td><td>▁▃▅▆█</td></tr><tr><td>train_acc</td><td>▁▁▁▁▁</td></tr><tr><td>train_loss</td><td>█▅▃▂▁</td></tr><tr><td>val_acc</td><td>▁▁▁▁▁</td></tr><tr><td>val_loss</td><td>▁▃▅▇█</td></tr></table><br/></div><div class=\"wandb-col\"><h3>Run summary:</h3><br/><table class=\"wandb\"><tr><td>epoch</td><td>5</td></tr><tr><td>train_acc</td><td>0.25106</td></tr><tr><td>train_loss</td><td>0.09</td></tr><tr><td>val_acc</td><td>0.24575</td></tr><tr><td>val_loss</td><td>0.09</td></tr></table><br/></div></div>"
            ],
            "text/plain": [
              "<IPython.core.display.HTML object>"
            ]
          },
          "metadata": {},
          "output_type": "display_data"
        },
        {
          "data": {
            "text/html": [
              " View run <strong style=\"color:#cdcd00\">woven-sweep-8</strong> at: <a href='https://wandb.ai/ajay-madkami-iitm-indian-institute-of-technology-mad/Assignment1/runs/o15wrgub' target=\"_blank\">https://wandb.ai/ajay-madkami-iitm-indian-institute-of-technology-mad/Assignment1/runs/o15wrgub</a><br> View project at: <a href='https://wandb.ai/ajay-madkami-iitm-indian-institute-of-technology-mad/Assignment1' target=\"_blank\">https://wandb.ai/ajay-madkami-iitm-indian-institute-of-technology-mad/Assignment1</a><br>Synced 5 W&B file(s), 0 media file(s), 0 artifact file(s) and 0 other file(s)"
            ],
            "text/plain": [
              "<IPython.core.display.HTML object>"
            ]
          },
          "metadata": {},
          "output_type": "display_data"
        },
        {
          "data": {
            "text/html": [
              "Find logs at: <code>./wandb/run-20250316_075241-o15wrgub/logs</code>"
            ],
            "text/plain": [
              "<IPython.core.display.HTML object>"
            ]
          },
          "metadata": {},
          "output_type": "display_data"
        },
        {
          "name": "stderr",
          "output_type": "stream",
          "text": [
            "\u001b[34m\u001b[1mwandb\u001b[0m: Agent Starting Run: rum396qb with config:\n",
            "\u001b[34m\u001b[1mwandb\u001b[0m: \tactivation: sigmoid\n",
            "\u001b[34m\u001b[1mwandb\u001b[0m: \tbatch_size: 64\n",
            "\u001b[34m\u001b[1mwandb\u001b[0m: \tepochs: 5\n",
            "\u001b[34m\u001b[1mwandb\u001b[0m: \tinit_method: xavier\n",
            "\u001b[34m\u001b[1mwandb\u001b[0m: \tlearning_rate: 0.0001\n",
            "\u001b[34m\u001b[1mwandb\u001b[0m: \tloss: mse\n",
            "\u001b[34m\u001b[1mwandb\u001b[0m: \tnum_hidden_layers: 5\n",
            "\u001b[34m\u001b[1mwandb\u001b[0m: \tnum_hidden_nodes: 64\n",
            "\u001b[34m\u001b[1mwandb\u001b[0m: \toptimizer: nadam\n"
          ]
        },
        {
          "data": {
            "text/html": [
              "Ignoring project 'Assignment1' when running a sweep."
            ],
            "text/plain": [
              "<IPython.core.display.HTML object>"
            ]
          },
          "metadata": {},
          "output_type": "display_data"
        },
        {
          "data": {
            "text/html": [
              "Tracking run with wandb version 0.19.8"
            ],
            "text/plain": [
              "<IPython.core.display.HTML object>"
            ]
          },
          "metadata": {},
          "output_type": "display_data"
        },
        {
          "data": {
            "text/html": [
              "Run data is saved locally in <code>/content/wandb/run-20250316_075321-rum396qb</code>"
            ],
            "text/plain": [
              "<IPython.core.display.HTML object>"
            ]
          },
          "metadata": {},
          "output_type": "display_data"
        },
        {
          "data": {
            "text/html": [
              "Syncing run <strong><a href='https://wandb.ai/ajay-madkami-iitm-indian-institute-of-technology-mad/Assignment1/runs/rum396qb' target=\"_blank\">good-sweep-9</a></strong> to <a href='https://wandb.ai/ajay-madkami-iitm-indian-institute-of-technology-mad/Assignment1' target=\"_blank\">Weights & Biases</a> (<a href='https://wandb.me/developer-guide' target=\"_blank\">docs</a>)<br>Sweep page: <a href='https://wandb.ai/ajay-madkami-iitm-indian-institute-of-technology-mad/Assignment1/sweeps/mcgkxgsu' target=\"_blank\">https://wandb.ai/ajay-madkami-iitm-indian-institute-of-technology-mad/Assignment1/sweeps/mcgkxgsu</a>"
            ],
            "text/plain": [
              "<IPython.core.display.HTML object>"
            ]
          },
          "metadata": {},
          "output_type": "display_data"
        },
        {
          "data": {
            "text/html": [
              " View project at <a href='https://wandb.ai/ajay-madkami-iitm-indian-institute-of-technology-mad/Assignment1' target=\"_blank\">https://wandb.ai/ajay-madkami-iitm-indian-institute-of-technology-mad/Assignment1</a>"
            ],
            "text/plain": [
              "<IPython.core.display.HTML object>"
            ]
          },
          "metadata": {},
          "output_type": "display_data"
        },
        {
          "data": {
            "text/html": [
              " View sweep at <a href='https://wandb.ai/ajay-madkami-iitm-indian-institute-of-technology-mad/Assignment1/sweeps/mcgkxgsu' target=\"_blank\">https://wandb.ai/ajay-madkami-iitm-indian-institute-of-technology-mad/Assignment1/sweeps/mcgkxgsu</a>"
            ],
            "text/plain": [
              "<IPython.core.display.HTML object>"
            ]
          },
          "metadata": {},
          "output_type": "display_data"
        },
        {
          "data": {
            "text/html": [
              " View run at <a href='https://wandb.ai/ajay-madkami-iitm-indian-institute-of-technology-mad/Assignment1/runs/rum396qb' target=\"_blank\">https://wandb.ai/ajay-madkami-iitm-indian-institute-of-technology-mad/Assignment1/runs/rum396qb</a>"
            ],
            "text/plain": [
              "<IPython.core.display.HTML object>"
            ]
          },
          "metadata": {},
          "output_type": "display_data"
        },
        {
          "name": "stdout",
          "output_type": "stream",
          "text": [
            "Epoch 1/5, Train Loss: 0.0911, Val Loss: 0.0911, Train Acc: 0.2504, Val Acc: 0.2483\n",
            "Epoch 2/5, Train Loss: 0.0908, Val Loss: 0.0908, Train Acc: 0.2504, Val Acc: 0.2483\n",
            "Epoch 3/5, Train Loss: 0.0905, Val Loss: 0.0905, Train Acc: 0.2504, Val Acc: 0.2483\n",
            "Epoch 4/5, Train Loss: 0.0904, Val Loss: 0.0904, Train Acc: 0.2504, Val Acc: 0.2483\n",
            "Epoch 5/5, Train Loss: 0.0903, Val Loss: 0.0903, Train Acc: 0.2504, Val Acc: 0.2483\n"
          ]
        },
        {
          "data": {
            "text/html": [],
            "text/plain": [
              "<IPython.core.display.HTML object>"
            ]
          },
          "metadata": {},
          "output_type": "display_data"
        },
        {
          "data": {
            "text/html": [
              "<br>    <style><br>        .wandb-row {<br>            display: flex;<br>            flex-direction: row;<br>            flex-wrap: wrap;<br>            justify-content: flex-start;<br>            width: 100%;<br>        }<br>        .wandb-col {<br>            display: flex;<br>            flex-direction: column;<br>            flex-basis: 100%;<br>            flex: 1;<br>            padding: 10px;<br>        }<br>    </style><br><div class=\"wandb-row\"><div class=\"wandb-col\"><h3>Run history:</h3><br/><table class=\"wandb\"><tr><td>epoch</td><td>▁▃▅▆█</td></tr><tr><td>train_acc</td><td>▁▁▁▁▁</td></tr><tr><td>train_loss</td><td>█▅▃▂▁</td></tr><tr><td>val_acc</td><td>▁▁▁▁▁</td></tr><tr><td>val_loss</td><td>█▅▃▂▁</td></tr></table><br/></div><div class=\"wandb-col\"><h3>Run summary:</h3><br/><table class=\"wandb\"><tr><td>epoch</td><td>5</td></tr><tr><td>train_acc</td><td>0.25042</td></tr><tr><td>train_loss</td><td>0.09026</td></tr><tr><td>val_acc</td><td>0.24833</td></tr><tr><td>val_loss</td><td>0.09027</td></tr></table><br/></div></div>"
            ],
            "text/plain": [
              "<IPython.core.display.HTML object>"
            ]
          },
          "metadata": {},
          "output_type": "display_data"
        },
        {
          "data": {
            "text/html": [
              " View run <strong style=\"color:#cdcd00\">good-sweep-9</strong> at: <a href='https://wandb.ai/ajay-madkami-iitm-indian-institute-of-technology-mad/Assignment1/runs/rum396qb' target=\"_blank\">https://wandb.ai/ajay-madkami-iitm-indian-institute-of-technology-mad/Assignment1/runs/rum396qb</a><br> View project at: <a href='https://wandb.ai/ajay-madkami-iitm-indian-institute-of-technology-mad/Assignment1' target=\"_blank\">https://wandb.ai/ajay-madkami-iitm-indian-institute-of-technology-mad/Assignment1</a><br>Synced 5 W&B file(s), 0 media file(s), 0 artifact file(s) and 0 other file(s)"
            ],
            "text/plain": [
              "<IPython.core.display.HTML object>"
            ]
          },
          "metadata": {},
          "output_type": "display_data"
        },
        {
          "data": {
            "text/html": [
              "Find logs at: <code>./wandb/run-20250316_075321-rum396qb/logs</code>"
            ],
            "text/plain": [
              "<IPython.core.display.HTML object>"
            ]
          },
          "metadata": {},
          "output_type": "display_data"
        },
        {
          "name": "stderr",
          "output_type": "stream",
          "text": [
            "\u001b[34m\u001b[1mwandb\u001b[0m: Agent Starting Run: e0ckz8b8 with config:\n",
            "\u001b[34m\u001b[1mwandb\u001b[0m: \tactivation: sigmoid\n",
            "\u001b[34m\u001b[1mwandb\u001b[0m: \tbatch_size: 32\n",
            "\u001b[34m\u001b[1mwandb\u001b[0m: \tepochs: 5\n",
            "\u001b[34m\u001b[1mwandb\u001b[0m: \tinit_method: random\n",
            "\u001b[34m\u001b[1mwandb\u001b[0m: \tlearning_rate: 0.0001\n",
            "\u001b[34m\u001b[1mwandb\u001b[0m: \tloss: mse\n",
            "\u001b[34m\u001b[1mwandb\u001b[0m: \tnum_hidden_layers: 3\n",
            "\u001b[34m\u001b[1mwandb\u001b[0m: \tnum_hidden_nodes: 32\n",
            "\u001b[34m\u001b[1mwandb\u001b[0m: \toptimizer: nadam\n"
          ]
        },
        {
          "data": {
            "text/html": [
              "Ignoring project 'Assignment1' when running a sweep."
            ],
            "text/plain": [
              "<IPython.core.display.HTML object>"
            ]
          },
          "metadata": {},
          "output_type": "display_data"
        },
        {
          "data": {
            "text/html": [
              "Tracking run with wandb version 0.19.8"
            ],
            "text/plain": [
              "<IPython.core.display.HTML object>"
            ]
          },
          "metadata": {},
          "output_type": "display_data"
        },
        {
          "data": {
            "text/html": [
              "Run data is saved locally in <code>/content/wandb/run-20250316_075351-e0ckz8b8</code>"
            ],
            "text/plain": [
              "<IPython.core.display.HTML object>"
            ]
          },
          "metadata": {},
          "output_type": "display_data"
        },
        {
          "data": {
            "text/html": [
              "Syncing run <strong><a href='https://wandb.ai/ajay-madkami-iitm-indian-institute-of-technology-mad/Assignment1/runs/e0ckz8b8' target=\"_blank\">dauntless-sweep-10</a></strong> to <a href='https://wandb.ai/ajay-madkami-iitm-indian-institute-of-technology-mad/Assignment1' target=\"_blank\">Weights & Biases</a> (<a href='https://wandb.me/developer-guide' target=\"_blank\">docs</a>)<br>Sweep page: <a href='https://wandb.ai/ajay-madkami-iitm-indian-institute-of-technology-mad/Assignment1/sweeps/mcgkxgsu' target=\"_blank\">https://wandb.ai/ajay-madkami-iitm-indian-institute-of-technology-mad/Assignment1/sweeps/mcgkxgsu</a>"
            ],
            "text/plain": [
              "<IPython.core.display.HTML object>"
            ]
          },
          "metadata": {},
          "output_type": "display_data"
        },
        {
          "data": {
            "text/html": [
              " View project at <a href='https://wandb.ai/ajay-madkami-iitm-indian-institute-of-technology-mad/Assignment1' target=\"_blank\">https://wandb.ai/ajay-madkami-iitm-indian-institute-of-technology-mad/Assignment1</a>"
            ],
            "text/plain": [
              "<IPython.core.display.HTML object>"
            ]
          },
          "metadata": {},
          "output_type": "display_data"
        },
        {
          "data": {
            "text/html": [
              " View sweep at <a href='https://wandb.ai/ajay-madkami-iitm-indian-institute-of-technology-mad/Assignment1/sweeps/mcgkxgsu' target=\"_blank\">https://wandb.ai/ajay-madkami-iitm-indian-institute-of-technology-mad/Assignment1/sweeps/mcgkxgsu</a>"
            ],
            "text/plain": [
              "<IPython.core.display.HTML object>"
            ]
          },
          "metadata": {},
          "output_type": "display_data"
        },
        {
          "data": {
            "text/html": [
              " View run at <a href='https://wandb.ai/ajay-madkami-iitm-indian-institute-of-technology-mad/Assignment1/runs/e0ckz8b8' target=\"_blank\">https://wandb.ai/ajay-madkami-iitm-indian-institute-of-technology-mad/Assignment1/runs/e0ckz8b8</a>"
            ],
            "text/plain": [
              "<IPython.core.display.HTML object>"
            ]
          },
          "metadata": {},
          "output_type": "display_data"
        },
        {
          "name": "stdout",
          "output_type": "stream",
          "text": [
            "Epoch 1/5, Train Loss: 0.0900, Val Loss: 0.0900, Train Acc: 0.2499, Val Acc: 0.2503\n",
            "Epoch 2/5, Train Loss: 0.0900, Val Loss: 0.0900, Train Acc: 0.2499, Val Acc: 0.2503\n",
            "Epoch 3/5, Train Loss: 0.0900, Val Loss: 0.0900, Train Acc: 0.2499, Val Acc: 0.2503\n",
            "Epoch 4/5, Train Loss: 0.0900, Val Loss: 0.0900, Train Acc: 0.2499, Val Acc: 0.2503\n",
            "Epoch 5/5, Train Loss: 0.0900, Val Loss: 0.0900, Train Acc: 0.2499, Val Acc: 0.2503\n"
          ]
        },
        {
          "data": {
            "text/html": [],
            "text/plain": [
              "<IPython.core.display.HTML object>"
            ]
          },
          "metadata": {},
          "output_type": "display_data"
        },
        {
          "data": {
            "text/html": [
              "<br>    <style><br>        .wandb-row {<br>            display: flex;<br>            flex-direction: row;<br>            flex-wrap: wrap;<br>            justify-content: flex-start;<br>            width: 100%;<br>        }<br>        .wandb-col {<br>            display: flex;<br>            flex-direction: column;<br>            flex-basis: 100%;<br>            flex: 1;<br>            padding: 10px;<br>        }<br>    </style><br><div class=\"wandb-row\"><div class=\"wandb-col\"><h3>Run history:</h3><br/><table class=\"wandb\"><tr><td>epoch</td><td>▁▃▅▆█</td></tr><tr><td>train_acc</td><td>▁▁▁▁▁</td></tr><tr><td>train_loss</td><td>█▆▄▂▁</td></tr><tr><td>val_acc</td><td>▁▁▁▁▁</td></tr><tr><td>val_loss</td><td>█▅▃▂▁</td></tr></table><br/></div><div class=\"wandb-col\"><h3>Run summary:</h3><br/><table class=\"wandb\"><tr><td>epoch</td><td>5</td></tr><tr><td>train_acc</td><td>0.24992</td></tr><tr><td>train_loss</td><td>0.09</td></tr><tr><td>val_acc</td><td>0.25033</td></tr><tr><td>val_loss</td><td>0.09</td></tr></table><br/></div></div>"
            ],
            "text/plain": [
              "<IPython.core.display.HTML object>"
            ]
          },
          "metadata": {},
          "output_type": "display_data"
        },
        {
          "data": {
            "text/html": [
              " View run <strong style=\"color:#cdcd00\">dauntless-sweep-10</strong> at: <a href='https://wandb.ai/ajay-madkami-iitm-indian-institute-of-technology-mad/Assignment1/runs/e0ckz8b8' target=\"_blank\">https://wandb.ai/ajay-madkami-iitm-indian-institute-of-technology-mad/Assignment1/runs/e0ckz8b8</a><br> View project at: <a href='https://wandb.ai/ajay-madkami-iitm-indian-institute-of-technology-mad/Assignment1' target=\"_blank\">https://wandb.ai/ajay-madkami-iitm-indian-institute-of-technology-mad/Assignment1</a><br>Synced 5 W&B file(s), 0 media file(s), 0 artifact file(s) and 0 other file(s)"
            ],
            "text/plain": [
              "<IPython.core.display.HTML object>"
            ]
          },
          "metadata": {},
          "output_type": "display_data"
        },
        {
          "data": {
            "text/html": [
              "Find logs at: <code>./wandb/run-20250316_075351-e0ckz8b8/logs</code>"
            ],
            "text/plain": [
              "<IPython.core.display.HTML object>"
            ]
          },
          "metadata": {},
          "output_type": "display_data"
        },
        {
          "name": "stderr",
          "output_type": "stream",
          "text": [
            "\u001b[34m\u001b[1mwandb\u001b[0m: Agent Starting Run: sefjkyhx with config:\n",
            "\u001b[34m\u001b[1mwandb\u001b[0m: \tactivation: tanh\n",
            "\u001b[34m\u001b[1mwandb\u001b[0m: \tbatch_size: 16\n",
            "\u001b[34m\u001b[1mwandb\u001b[0m: \tepochs: 5\n",
            "\u001b[34m\u001b[1mwandb\u001b[0m: \tinit_method: random\n",
            "\u001b[34m\u001b[1mwandb\u001b[0m: \tlearning_rate: 0.0001\n",
            "\u001b[34m\u001b[1mwandb\u001b[0m: \tloss: mse\n",
            "\u001b[34m\u001b[1mwandb\u001b[0m: \tnum_hidden_layers: 3\n",
            "\u001b[34m\u001b[1mwandb\u001b[0m: \tnum_hidden_nodes: 32\n",
            "\u001b[34m\u001b[1mwandb\u001b[0m: \toptimizer: nesterov\n"
          ]
        },
        {
          "data": {
            "text/html": [
              "Ignoring project 'Assignment1' when running a sweep."
            ],
            "text/plain": [
              "<IPython.core.display.HTML object>"
            ]
          },
          "metadata": {},
          "output_type": "display_data"
        },
        {
          "data": {
            "text/html": [
              "Tracking run with wandb version 0.19.8"
            ],
            "text/plain": [
              "<IPython.core.display.HTML object>"
            ]
          },
          "metadata": {},
          "output_type": "display_data"
        },
        {
          "data": {
            "text/html": [
              "Run data is saved locally in <code>/content/wandb/run-20250316_075416-sefjkyhx</code>"
            ],
            "text/plain": [
              "<IPython.core.display.HTML object>"
            ]
          },
          "metadata": {},
          "output_type": "display_data"
        },
        {
          "data": {
            "text/html": [
              "Syncing run <strong><a href='https://wandb.ai/ajay-madkami-iitm-indian-institute-of-technology-mad/Assignment1/runs/sefjkyhx' target=\"_blank\">lively-sweep-11</a></strong> to <a href='https://wandb.ai/ajay-madkami-iitm-indian-institute-of-technology-mad/Assignment1' target=\"_blank\">Weights & Biases</a> (<a href='https://wandb.me/developer-guide' target=\"_blank\">docs</a>)<br>Sweep page: <a href='https://wandb.ai/ajay-madkami-iitm-indian-institute-of-technology-mad/Assignment1/sweeps/mcgkxgsu' target=\"_blank\">https://wandb.ai/ajay-madkami-iitm-indian-institute-of-technology-mad/Assignment1/sweeps/mcgkxgsu</a>"
            ],
            "text/plain": [
              "<IPython.core.display.HTML object>"
            ]
          },
          "metadata": {},
          "output_type": "display_data"
        },
        {
          "data": {
            "text/html": [
              " View project at <a href='https://wandb.ai/ajay-madkami-iitm-indian-institute-of-technology-mad/Assignment1' target=\"_blank\">https://wandb.ai/ajay-madkami-iitm-indian-institute-of-technology-mad/Assignment1</a>"
            ],
            "text/plain": [
              "<IPython.core.display.HTML object>"
            ]
          },
          "metadata": {},
          "output_type": "display_data"
        },
        {
          "data": {
            "text/html": [
              " View sweep at <a href='https://wandb.ai/ajay-madkami-iitm-indian-institute-of-technology-mad/Assignment1/sweeps/mcgkxgsu' target=\"_blank\">https://wandb.ai/ajay-madkami-iitm-indian-institute-of-technology-mad/Assignment1/sweeps/mcgkxgsu</a>"
            ],
            "text/plain": [
              "<IPython.core.display.HTML object>"
            ]
          },
          "metadata": {},
          "output_type": "display_data"
        },
        {
          "data": {
            "text/html": [
              " View run at <a href='https://wandb.ai/ajay-madkami-iitm-indian-institute-of-technology-mad/Assignment1/runs/sefjkyhx' target=\"_blank\">https://wandb.ai/ajay-madkami-iitm-indian-institute-of-technology-mad/Assignment1/runs/sefjkyhx</a>"
            ],
            "text/plain": [
              "<IPython.core.display.HTML object>"
            ]
          },
          "metadata": {},
          "output_type": "display_data"
        },
        {
          "name": "stdout",
          "output_type": "stream",
          "text": [
            "Epoch 1/5, Train Loss: 0.0900, Val Loss: 0.0900, Train Acc: 0.2511, Val Acc: 0.2457\n",
            "Epoch 2/5, Train Loss: 0.0900, Val Loss: 0.0900, Train Acc: 0.2511, Val Acc: 0.2457\n",
            "Epoch 3/5, Train Loss: 0.0900, Val Loss: 0.0900, Train Acc: 0.2511, Val Acc: 0.2457\n",
            "Epoch 4/5, Train Loss: 0.0900, Val Loss: 0.0900, Train Acc: 0.2511, Val Acc: 0.2457\n",
            "Epoch 5/5, Train Loss: 0.0900, Val Loss: 0.0900, Train Acc: 0.2511, Val Acc: 0.2457\n"
          ]
        },
        {
          "data": {
            "text/html": [],
            "text/plain": [
              "<IPython.core.display.HTML object>"
            ]
          },
          "metadata": {},
          "output_type": "display_data"
        },
        {
          "data": {
            "text/html": [
              "<br>    <style><br>        .wandb-row {<br>            display: flex;<br>            flex-direction: row;<br>            flex-wrap: wrap;<br>            justify-content: flex-start;<br>            width: 100%;<br>        }<br>        .wandb-col {<br>            display: flex;<br>            flex-direction: column;<br>            flex-basis: 100%;<br>            flex: 1;<br>            padding: 10px;<br>        }<br>    </style><br><div class=\"wandb-row\"><div class=\"wandb-col\"><h3>Run history:</h3><br/><table class=\"wandb\"><tr><td>epoch</td><td>▁▃▅▆█</td></tr><tr><td>train_acc</td><td>▁▁▁▁▁</td></tr><tr><td>train_loss</td><td>█▆▅▃▁</td></tr><tr><td>val_acc</td><td>▁▁▁▁▁</td></tr><tr><td>val_loss</td><td>▁▃▅▆█</td></tr></table><br/></div><div class=\"wandb-col\"><h3>Run summary:</h3><br/><table class=\"wandb\"><tr><td>epoch</td><td>5</td></tr><tr><td>train_acc</td><td>0.25106</td></tr><tr><td>train_loss</td><td>0.09</td></tr><tr><td>val_acc</td><td>0.24575</td></tr><tr><td>val_loss</td><td>0.09</td></tr></table><br/></div></div>"
            ],
            "text/plain": [
              "<IPython.core.display.HTML object>"
            ]
          },
          "metadata": {},
          "output_type": "display_data"
        },
        {
          "data": {
            "text/html": [
              " View run <strong style=\"color:#cdcd00\">lively-sweep-11</strong> at: <a href='https://wandb.ai/ajay-madkami-iitm-indian-institute-of-technology-mad/Assignment1/runs/sefjkyhx' target=\"_blank\">https://wandb.ai/ajay-madkami-iitm-indian-institute-of-technology-mad/Assignment1/runs/sefjkyhx</a><br> View project at: <a href='https://wandb.ai/ajay-madkami-iitm-indian-institute-of-technology-mad/Assignment1' target=\"_blank\">https://wandb.ai/ajay-madkami-iitm-indian-institute-of-technology-mad/Assignment1</a><br>Synced 5 W&B file(s), 0 media file(s), 0 artifact file(s) and 0 other file(s)"
            ],
            "text/plain": [
              "<IPython.core.display.HTML object>"
            ]
          },
          "metadata": {},
          "output_type": "display_data"
        },
        {
          "data": {
            "text/html": [
              "Find logs at: <code>./wandb/run-20250316_075416-sefjkyhx/logs</code>"
            ],
            "text/plain": [
              "<IPython.core.display.HTML object>"
            ]
          },
          "metadata": {},
          "output_type": "display_data"
        },
        {
          "name": "stderr",
          "output_type": "stream",
          "text": [
            "\u001b[34m\u001b[1mwandb\u001b[0m: Agent Starting Run: jengt4t9 with config:\n",
            "\u001b[34m\u001b[1mwandb\u001b[0m: \tactivation: tanh\n",
            "\u001b[34m\u001b[1mwandb\u001b[0m: \tbatch_size: 16\n",
            "\u001b[34m\u001b[1mwandb\u001b[0m: \tepochs: 10\n",
            "\u001b[34m\u001b[1mwandb\u001b[0m: \tinit_method: random\n",
            "\u001b[34m\u001b[1mwandb\u001b[0m: \tlearning_rate: 0.001\n",
            "\u001b[34m\u001b[1mwandb\u001b[0m: \tloss: mse\n",
            "\u001b[34m\u001b[1mwandb\u001b[0m: \tnum_hidden_layers: 3\n",
            "\u001b[34m\u001b[1mwandb\u001b[0m: \tnum_hidden_nodes: 64\n",
            "\u001b[34m\u001b[1mwandb\u001b[0m: \toptimizer: sgd\n"
          ]
        },
        {
          "data": {
            "text/html": [
              "Ignoring project 'Assignment1' when running a sweep."
            ],
            "text/plain": [
              "<IPython.core.display.HTML object>"
            ]
          },
          "metadata": {},
          "output_type": "display_data"
        },
        {
          "data": {
            "text/html": [
              "Tracking run with wandb version 0.19.8"
            ],
            "text/plain": [
              "<IPython.core.display.HTML object>"
            ]
          },
          "metadata": {},
          "output_type": "display_data"
        },
        {
          "data": {
            "text/html": [
              "Run data is saved locally in <code>/content/wandb/run-20250316_075446-jengt4t9</code>"
            ],
            "text/plain": [
              "<IPython.core.display.HTML object>"
            ]
          },
          "metadata": {},
          "output_type": "display_data"
        },
        {
          "data": {
            "text/html": [
              "Syncing run <strong><a href='https://wandb.ai/ajay-madkami-iitm-indian-institute-of-technology-mad/Assignment1/runs/jengt4t9' target=\"_blank\">fragrant-sweep-12</a></strong> to <a href='https://wandb.ai/ajay-madkami-iitm-indian-institute-of-technology-mad/Assignment1' target=\"_blank\">Weights & Biases</a> (<a href='https://wandb.me/developer-guide' target=\"_blank\">docs</a>)<br>Sweep page: <a href='https://wandb.ai/ajay-madkami-iitm-indian-institute-of-technology-mad/Assignment1/sweeps/mcgkxgsu' target=\"_blank\">https://wandb.ai/ajay-madkami-iitm-indian-institute-of-technology-mad/Assignment1/sweeps/mcgkxgsu</a>"
            ],
            "text/plain": [
              "<IPython.core.display.HTML object>"
            ]
          },
          "metadata": {},
          "output_type": "display_data"
        },
        {
          "data": {
            "text/html": [
              " View project at <a href='https://wandb.ai/ajay-madkami-iitm-indian-institute-of-technology-mad/Assignment1' target=\"_blank\">https://wandb.ai/ajay-madkami-iitm-indian-institute-of-technology-mad/Assignment1</a>"
            ],
            "text/plain": [
              "<IPython.core.display.HTML object>"
            ]
          },
          "metadata": {},
          "output_type": "display_data"
        },
        {
          "data": {
            "text/html": [
              " View sweep at <a href='https://wandb.ai/ajay-madkami-iitm-indian-institute-of-technology-mad/Assignment1/sweeps/mcgkxgsu' target=\"_blank\">https://wandb.ai/ajay-madkami-iitm-indian-institute-of-technology-mad/Assignment1/sweeps/mcgkxgsu</a>"
            ],
            "text/plain": [
              "<IPython.core.display.HTML object>"
            ]
          },
          "metadata": {},
          "output_type": "display_data"
        },
        {
          "data": {
            "text/html": [
              " View run at <a href='https://wandb.ai/ajay-madkami-iitm-indian-institute-of-technology-mad/Assignment1/runs/jengt4t9' target=\"_blank\">https://wandb.ai/ajay-madkami-iitm-indian-institute-of-technology-mad/Assignment1/runs/jengt4t9</a>"
            ],
            "text/plain": [
              "<IPython.core.display.HTML object>"
            ]
          },
          "metadata": {},
          "output_type": "display_data"
        },
        {
          "name": "stdout",
          "output_type": "stream",
          "text": [
            "Epoch 1/10, Train Loss: 0.0900, Val Loss: 0.0900, Train Acc: 0.2511, Val Acc: 0.2457\n",
            "Epoch 2/10, Train Loss: 0.0900, Val Loss: 0.0900, Train Acc: 0.2511, Val Acc: 0.2457\n",
            "Epoch 3/10, Train Loss: 0.0900, Val Loss: 0.0900, Train Acc: 0.2511, Val Acc: 0.2457\n",
            "Epoch 4/10, Train Loss: 0.0900, Val Loss: 0.0900, Train Acc: 0.2511, Val Acc: 0.2457\n",
            "Epoch 5/10, Train Loss: 0.0900, Val Loss: 0.0900, Train Acc: 0.2511, Val Acc: 0.2457\n",
            "Epoch 6/10, Train Loss: 0.0900, Val Loss: 0.0900, Train Acc: 0.2511, Val Acc: 0.2457\n",
            "Epoch 7/10, Train Loss: 0.0900, Val Loss: 0.0900, Train Acc: 0.2511, Val Acc: 0.2457\n",
            "Epoch 8/10, Train Loss: 0.0900, Val Loss: 0.0900, Train Acc: 0.2511, Val Acc: 0.2457\n",
            "Epoch 9/10, Train Loss: 0.0900, Val Loss: 0.0900, Train Acc: 0.2511, Val Acc: 0.2457\n",
            "Epoch 10/10, Train Loss: 0.0900, Val Loss: 0.0900, Train Acc: 0.2511, Val Acc: 0.2457\n"
          ]
        },
        {
          "data": {
            "text/html": [],
            "text/plain": [
              "<IPython.core.display.HTML object>"
            ]
          },
          "metadata": {},
          "output_type": "display_data"
        },
        {
          "data": {
            "text/html": [
              "<br>    <style><br>        .wandb-row {<br>            display: flex;<br>            flex-direction: row;<br>            flex-wrap: wrap;<br>            justify-content: flex-start;<br>            width: 100%;<br>        }<br>        .wandb-col {<br>            display: flex;<br>            flex-direction: column;<br>            flex-basis: 100%;<br>            flex: 1;<br>            padding: 10px;<br>        }<br>    </style><br><div class=\"wandb-row\"><div class=\"wandb-col\"><h3>Run history:</h3><br/><table class=\"wandb\"><tr><td>epoch</td><td>▁▂▃▃▄▅▆▆▇█</td></tr><tr><td>train_acc</td><td>▁▁▁▁▁▁▁▁▁▁</td></tr><tr><td>train_loss</td><td>█▇▆▆▅▄▄▃▂▁</td></tr><tr><td>val_acc</td><td>▁▁▁▁▁▁▁▁▁▁</td></tr><tr><td>val_loss</td><td>▃▆▇███▆▅▃▁</td></tr></table><br/></div><div class=\"wandb-col\"><h3>Run summary:</h3><br/><table class=\"wandb\"><tr><td>epoch</td><td>10</td></tr><tr><td>train_acc</td><td>0.25106</td></tr><tr><td>train_loss</td><td>0.09</td></tr><tr><td>val_acc</td><td>0.24575</td></tr><tr><td>val_loss</td><td>0.09</td></tr></table><br/></div></div>"
            ],
            "text/plain": [
              "<IPython.core.display.HTML object>"
            ]
          },
          "metadata": {},
          "output_type": "display_data"
        },
        {
          "data": {
            "text/html": [
              " View run <strong style=\"color:#cdcd00\">fragrant-sweep-12</strong> at: <a href='https://wandb.ai/ajay-madkami-iitm-indian-institute-of-technology-mad/Assignment1/runs/jengt4t9' target=\"_blank\">https://wandb.ai/ajay-madkami-iitm-indian-institute-of-technology-mad/Assignment1/runs/jengt4t9</a><br> View project at: <a href='https://wandb.ai/ajay-madkami-iitm-indian-institute-of-technology-mad/Assignment1' target=\"_blank\">https://wandb.ai/ajay-madkami-iitm-indian-institute-of-technology-mad/Assignment1</a><br>Synced 5 W&B file(s), 0 media file(s), 0 artifact file(s) and 0 other file(s)"
            ],
            "text/plain": [
              "<IPython.core.display.HTML object>"
            ]
          },
          "metadata": {},
          "output_type": "display_data"
        },
        {
          "data": {
            "text/html": [
              "Find logs at: <code>./wandb/run-20250316_075446-jengt4t9/logs</code>"
            ],
            "text/plain": [
              "<IPython.core.display.HTML object>"
            ]
          },
          "metadata": {},
          "output_type": "display_data"
        },
        {
          "name": "stderr",
          "output_type": "stream",
          "text": [
            "\u001b[34m\u001b[1mwandb\u001b[0m: Agent Starting Run: 05d5q4ct with config:\n",
            "\u001b[34m\u001b[1mwandb\u001b[0m: \tactivation: sigmoid\n",
            "\u001b[34m\u001b[1mwandb\u001b[0m: \tbatch_size: 64\n",
            "\u001b[34m\u001b[1mwandb\u001b[0m: \tepochs: 5\n",
            "\u001b[34m\u001b[1mwandb\u001b[0m: \tinit_method: random\n",
            "\u001b[34m\u001b[1mwandb\u001b[0m: \tlearning_rate: 0.001\n",
            "\u001b[34m\u001b[1mwandb\u001b[0m: \tloss: mse\n",
            "\u001b[34m\u001b[1mwandb\u001b[0m: \tnum_hidden_layers: 4\n",
            "\u001b[34m\u001b[1mwandb\u001b[0m: \tnum_hidden_nodes: 64\n",
            "\u001b[34m\u001b[1mwandb\u001b[0m: \toptimizer: adam\n"
          ]
        },
        {
          "data": {
            "text/html": [
              "Ignoring project 'Assignment1' when running a sweep."
            ],
            "text/plain": [
              "<IPython.core.display.HTML object>"
            ]
          },
          "metadata": {},
          "output_type": "display_data"
        },
        {
          "data": {
            "text/html": [
              "Tracking run with wandb version 0.19.8"
            ],
            "text/plain": [
              "<IPython.core.display.HTML object>"
            ]
          },
          "metadata": {},
          "output_type": "display_data"
        },
        {
          "data": {
            "text/html": [
              "Run data is saved locally in <code>/content/wandb/run-20250316_075558-05d5q4ct</code>"
            ],
            "text/plain": [
              "<IPython.core.display.HTML object>"
            ]
          },
          "metadata": {},
          "output_type": "display_data"
        },
        {
          "data": {
            "text/html": [
              "Syncing run <strong><a href='https://wandb.ai/ajay-madkami-iitm-indian-institute-of-technology-mad/Assignment1/runs/05d5q4ct' target=\"_blank\">leafy-sweep-13</a></strong> to <a href='https://wandb.ai/ajay-madkami-iitm-indian-institute-of-technology-mad/Assignment1' target=\"_blank\">Weights & Biases</a> (<a href='https://wandb.me/developer-guide' target=\"_blank\">docs</a>)<br>Sweep page: <a href='https://wandb.ai/ajay-madkami-iitm-indian-institute-of-technology-mad/Assignment1/sweeps/mcgkxgsu' target=\"_blank\">https://wandb.ai/ajay-madkami-iitm-indian-institute-of-technology-mad/Assignment1/sweeps/mcgkxgsu</a>"
            ],
            "text/plain": [
              "<IPython.core.display.HTML object>"
            ]
          },
          "metadata": {},
          "output_type": "display_data"
        },
        {
          "data": {
            "text/html": [
              " View project at <a href='https://wandb.ai/ajay-madkami-iitm-indian-institute-of-technology-mad/Assignment1' target=\"_blank\">https://wandb.ai/ajay-madkami-iitm-indian-institute-of-technology-mad/Assignment1</a>"
            ],
            "text/plain": [
              "<IPython.core.display.HTML object>"
            ]
          },
          "metadata": {},
          "output_type": "display_data"
        },
        {
          "data": {
            "text/html": [
              " View sweep at <a href='https://wandb.ai/ajay-madkami-iitm-indian-institute-of-technology-mad/Assignment1/sweeps/mcgkxgsu' target=\"_blank\">https://wandb.ai/ajay-madkami-iitm-indian-institute-of-technology-mad/Assignment1/sweeps/mcgkxgsu</a>"
            ],
            "text/plain": [
              "<IPython.core.display.HTML object>"
            ]
          },
          "metadata": {},
          "output_type": "display_data"
        },
        {
          "data": {
            "text/html": [
              " View run at <a href='https://wandb.ai/ajay-madkami-iitm-indian-institute-of-technology-mad/Assignment1/runs/05d5q4ct' target=\"_blank\">https://wandb.ai/ajay-madkami-iitm-indian-institute-of-technology-mad/Assignment1/runs/05d5q4ct</a>"
            ],
            "text/plain": [
              "<IPython.core.display.HTML object>"
            ]
          },
          "metadata": {},
          "output_type": "display_data"
        },
        {
          "name": "stdout",
          "output_type": "stream",
          "text": [
            "Epoch 1/5, Train Loss: 0.0900, Val Loss: 0.0900, Train Acc: 0.2499, Val Acc: 0.2503\n",
            "Epoch 2/5, Train Loss: 0.0900, Val Loss: 0.0900, Train Acc: 0.2504, Val Acc: 0.2483\n",
            "Epoch 3/5, Train Loss: 0.0900, Val Loss: 0.0900, Train Acc: 0.2504, Val Acc: 0.2483\n",
            "Epoch 4/5, Train Loss: 0.0900, Val Loss: 0.0900, Train Acc: 0.2504, Val Acc: 0.2483\n",
            "Epoch 5/5, Train Loss: 0.0900, Val Loss: 0.0900, Train Acc: 0.2504, Val Acc: 0.2483\n"
          ]
        },
        {
          "data": {
            "text/html": [],
            "text/plain": [
              "<IPython.core.display.HTML object>"
            ]
          },
          "metadata": {},
          "output_type": "display_data"
        },
        {
          "data": {
            "text/html": [
              "<br>    <style><br>        .wandb-row {<br>            display: flex;<br>            flex-direction: row;<br>            flex-wrap: wrap;<br>            justify-content: flex-start;<br>            width: 100%;<br>        }<br>        .wandb-col {<br>            display: flex;<br>            flex-direction: column;<br>            flex-basis: 100%;<br>            flex: 1;<br>            padding: 10px;<br>        }<br>    </style><br><div class=\"wandb-row\"><div class=\"wandb-col\"><h3>Run history:</h3><br/><table class=\"wandb\"><tr><td>epoch</td><td>▁▃▅▆█</td></tr><tr><td>train_acc</td><td>▁████</td></tr><tr><td>train_loss</td><td>█▁▁▁▁</td></tr><tr><td>val_acc</td><td>█▁▁▁▁</td></tr><tr><td>val_loss</td><td>▁▄▇██</td></tr></table><br/></div><div class=\"wandb-col\"><h3>Run summary:</h3><br/><table class=\"wandb\"><tr><td>epoch</td><td>5</td></tr><tr><td>train_acc</td><td>0.25042</td></tr><tr><td>train_loss</td><td>0.09</td></tr><tr><td>val_acc</td><td>0.24833</td></tr><tr><td>val_loss</td><td>0.09</td></tr></table><br/></div></div>"
            ],
            "text/plain": [
              "<IPython.core.display.HTML object>"
            ]
          },
          "metadata": {},
          "output_type": "display_data"
        },
        {
          "data": {
            "text/html": [
              " View run <strong style=\"color:#cdcd00\">leafy-sweep-13</strong> at: <a href='https://wandb.ai/ajay-madkami-iitm-indian-institute-of-technology-mad/Assignment1/runs/05d5q4ct' target=\"_blank\">https://wandb.ai/ajay-madkami-iitm-indian-institute-of-technology-mad/Assignment1/runs/05d5q4ct</a><br> View project at: <a href='https://wandb.ai/ajay-madkami-iitm-indian-institute-of-technology-mad/Assignment1' target=\"_blank\">https://wandb.ai/ajay-madkami-iitm-indian-institute-of-technology-mad/Assignment1</a><br>Synced 5 W&B file(s), 0 media file(s), 0 artifact file(s) and 0 other file(s)"
            ],
            "text/plain": [
              "<IPython.core.display.HTML object>"
            ]
          },
          "metadata": {},
          "output_type": "display_data"
        },
        {
          "data": {
            "text/html": [
              "Find logs at: <code>./wandb/run-20250316_075558-05d5q4ct/logs</code>"
            ],
            "text/plain": [
              "<IPython.core.display.HTML object>"
            ]
          },
          "metadata": {},
          "output_type": "display_data"
        },
        {
          "name": "stderr",
          "output_type": "stream",
          "text": [
            "\u001b[34m\u001b[1mwandb\u001b[0m: Agent Starting Run: 1d6cdh98 with config:\n",
            "\u001b[34m\u001b[1mwandb\u001b[0m: \tactivation: relu\n",
            "\u001b[34m\u001b[1mwandb\u001b[0m: \tbatch_size: 32\n",
            "\u001b[34m\u001b[1mwandb\u001b[0m: \tepochs: 5\n",
            "\u001b[34m\u001b[1mwandb\u001b[0m: \tinit_method: xavier\n",
            "\u001b[34m\u001b[1mwandb\u001b[0m: \tlearning_rate: 0.0001\n",
            "\u001b[34m\u001b[1mwandb\u001b[0m: \tloss: mse\n",
            "\u001b[34m\u001b[1mwandb\u001b[0m: \tnum_hidden_layers: 3\n",
            "\u001b[34m\u001b[1mwandb\u001b[0m: \tnum_hidden_nodes: 128\n",
            "\u001b[34m\u001b[1mwandb\u001b[0m: \toptimizer: nadam\n"
          ]
        },
        {
          "data": {
            "text/html": [
              "Ignoring project 'Assignment1' when running a sweep."
            ],
            "text/plain": [
              "<IPython.core.display.HTML object>"
            ]
          },
          "metadata": {},
          "output_type": "display_data"
        },
        {
          "data": {
            "text/html": [
              "Tracking run with wandb version 0.19.8"
            ],
            "text/plain": [
              "<IPython.core.display.HTML object>"
            ]
          },
          "metadata": {},
          "output_type": "display_data"
        },
        {
          "data": {
            "text/html": [
              "Run data is saved locally in <code>/content/wandb/run-20250316_075628-1d6cdh98</code>"
            ],
            "text/plain": [
              "<IPython.core.display.HTML object>"
            ]
          },
          "metadata": {},
          "output_type": "display_data"
        },
        {
          "data": {
            "text/html": [
              "Syncing run <strong><a href='https://wandb.ai/ajay-madkami-iitm-indian-institute-of-technology-mad/Assignment1/runs/1d6cdh98' target=\"_blank\">woven-sweep-14</a></strong> to <a href='https://wandb.ai/ajay-madkami-iitm-indian-institute-of-technology-mad/Assignment1' target=\"_blank\">Weights & Biases</a> (<a href='https://wandb.me/developer-guide' target=\"_blank\">docs</a>)<br>Sweep page: <a href='https://wandb.ai/ajay-madkami-iitm-indian-institute-of-technology-mad/Assignment1/sweeps/mcgkxgsu' target=\"_blank\">https://wandb.ai/ajay-madkami-iitm-indian-institute-of-technology-mad/Assignment1/sweeps/mcgkxgsu</a>"
            ],
            "text/plain": [
              "<IPython.core.display.HTML object>"
            ]
          },
          "metadata": {},
          "output_type": "display_data"
        },
        {
          "data": {
            "text/html": [
              " View project at <a href='https://wandb.ai/ajay-madkami-iitm-indian-institute-of-technology-mad/Assignment1' target=\"_blank\">https://wandb.ai/ajay-madkami-iitm-indian-institute-of-technology-mad/Assignment1</a>"
            ],
            "text/plain": [
              "<IPython.core.display.HTML object>"
            ]
          },
          "metadata": {},
          "output_type": "display_data"
        },
        {
          "data": {
            "text/html": [
              " View sweep at <a href='https://wandb.ai/ajay-madkami-iitm-indian-institute-of-technology-mad/Assignment1/sweeps/mcgkxgsu' target=\"_blank\">https://wandb.ai/ajay-madkami-iitm-indian-institute-of-technology-mad/Assignment1/sweeps/mcgkxgsu</a>"
            ],
            "text/plain": [
              "<IPython.core.display.HTML object>"
            ]
          },
          "metadata": {},
          "output_type": "display_data"
        },
        {
          "data": {
            "text/html": [
              " View run at <a href='https://wandb.ai/ajay-madkami-iitm-indian-institute-of-technology-mad/Assignment1/runs/1d6cdh98' target=\"_blank\">https://wandb.ai/ajay-madkami-iitm-indian-institute-of-technology-mad/Assignment1/runs/1d6cdh98</a>"
            ],
            "text/plain": [
              "<IPython.core.display.HTML object>"
            ]
          },
          "metadata": {},
          "output_type": "display_data"
        },
        {
          "name": "stdout",
          "output_type": "stream",
          "text": [
            "Epoch 1/5, Train Loss: 0.0885, Val Loss: 0.0884, Train Acc: 0.3144, Val Acc: 0.3195\n",
            "Epoch 2/5, Train Loss: 0.0871, Val Loss: 0.0870, Train Acc: 0.4088, Val Acc: 0.4117\n",
            "Epoch 3/5, Train Loss: 0.0855, Val Loss: 0.0855, Train Acc: 0.4946, Val Acc: 0.4998\n",
            "Epoch 4/5, Train Loss: 0.0837, Val Loss: 0.0837, Train Acc: 0.5589, Val Acc: 0.5650\n",
            "Epoch 5/5, Train Loss: 0.0816, Val Loss: 0.0815, Train Acc: 0.6284, Val Acc: 0.6320\n"
          ]
        },
        {
          "data": {
            "text/html": [],
            "text/plain": [
              "<IPython.core.display.HTML object>"
            ]
          },
          "metadata": {},
          "output_type": "display_data"
        },
        {
          "data": {
            "text/html": [
              "<br>    <style><br>        .wandb-row {<br>            display: flex;<br>            flex-direction: row;<br>            flex-wrap: wrap;<br>            justify-content: flex-start;<br>            width: 100%;<br>        }<br>        .wandb-col {<br>            display: flex;<br>            flex-direction: column;<br>            flex-basis: 100%;<br>            flex: 1;<br>            padding: 10px;<br>        }<br>    </style><br><div class=\"wandb-row\"><div class=\"wandb-col\"><h3>Run history:</h3><br/><table class=\"wandb\"><tr><td>epoch</td><td>▁▃▅▆█</td></tr><tr><td>train_acc</td><td>▁▃▅▆█</td></tr><tr><td>train_loss</td><td>█▇▅▃▁</td></tr><tr><td>val_acc</td><td>▁▃▅▆█</td></tr><tr><td>val_loss</td><td>█▇▅▃▁</td></tr></table><br/></div><div class=\"wandb-col\"><h3>Run summary:</h3><br/><table class=\"wandb\"><tr><td>epoch</td><td>5</td></tr><tr><td>train_acc</td><td>0.62835</td></tr><tr><td>train_loss</td><td>0.08156</td></tr><tr><td>val_acc</td><td>0.632</td></tr><tr><td>val_loss</td><td>0.08146</td></tr></table><br/></div></div>"
            ],
            "text/plain": [
              "<IPython.core.display.HTML object>"
            ]
          },
          "metadata": {},
          "output_type": "display_data"
        },
        {
          "data": {
            "text/html": [
              " View run <strong style=\"color:#cdcd00\">woven-sweep-14</strong> at: <a href='https://wandb.ai/ajay-madkami-iitm-indian-institute-of-technology-mad/Assignment1/runs/1d6cdh98' target=\"_blank\">https://wandb.ai/ajay-madkami-iitm-indian-institute-of-technology-mad/Assignment1/runs/1d6cdh98</a><br> View project at: <a href='https://wandb.ai/ajay-madkami-iitm-indian-institute-of-technology-mad/Assignment1' target=\"_blank\">https://wandb.ai/ajay-madkami-iitm-indian-institute-of-technology-mad/Assignment1</a><br>Synced 5 W&B file(s), 0 media file(s), 0 artifact file(s) and 0 other file(s)"
            ],
            "text/plain": [
              "<IPython.core.display.HTML object>"
            ]
          },
          "metadata": {},
          "output_type": "display_data"
        },
        {
          "data": {
            "text/html": [
              "Find logs at: <code>./wandb/run-20250316_075628-1d6cdh98/logs</code>"
            ],
            "text/plain": [
              "<IPython.core.display.HTML object>"
            ]
          },
          "metadata": {},
          "output_type": "display_data"
        },
        {
          "name": "stderr",
          "output_type": "stream",
          "text": [
            "\u001b[34m\u001b[1mwandb\u001b[0m: Agent Starting Run: nhx5svna with config:\n",
            "\u001b[34m\u001b[1mwandb\u001b[0m: \tactivation: tanh\n",
            "\u001b[34m\u001b[1mwandb\u001b[0m: \tbatch_size: 64\n",
            "\u001b[34m\u001b[1mwandb\u001b[0m: \tepochs: 5\n",
            "\u001b[34m\u001b[1mwandb\u001b[0m: \tinit_method: xavier\n",
            "\u001b[34m\u001b[1mwandb\u001b[0m: \tlearning_rate: 0.001\n",
            "\u001b[34m\u001b[1mwandb\u001b[0m: \tloss: mse\n",
            "\u001b[34m\u001b[1mwandb\u001b[0m: \tnum_hidden_layers: 5\n",
            "\u001b[34m\u001b[1mwandb\u001b[0m: \tnum_hidden_nodes: 64\n",
            "\u001b[34m\u001b[1mwandb\u001b[0m: \toptimizer: nesterov\n"
          ]
        },
        {
          "data": {
            "text/html": [
              "Ignoring project 'Assignment1' when running a sweep."
            ],
            "text/plain": [
              "<IPython.core.display.HTML object>"
            ]
          },
          "metadata": {},
          "output_type": "display_data"
        },
        {
          "data": {
            "text/html": [
              "Tracking run with wandb version 0.19.8"
            ],
            "text/plain": [
              "<IPython.core.display.HTML object>"
            ]
          },
          "metadata": {},
          "output_type": "display_data"
        },
        {
          "data": {
            "text/html": [
              "Run data is saved locally in <code>/content/wandb/run-20250316_075709-nhx5svna</code>"
            ],
            "text/plain": [
              "<IPython.core.display.HTML object>"
            ]
          },
          "metadata": {},
          "output_type": "display_data"
        },
        {
          "data": {
            "text/html": [
              "Syncing run <strong><a href='https://wandb.ai/ajay-madkami-iitm-indian-institute-of-technology-mad/Assignment1/runs/nhx5svna' target=\"_blank\">iconic-sweep-15</a></strong> to <a href='https://wandb.ai/ajay-madkami-iitm-indian-institute-of-technology-mad/Assignment1' target=\"_blank\">Weights & Biases</a> (<a href='https://wandb.me/developer-guide' target=\"_blank\">docs</a>)<br>Sweep page: <a href='https://wandb.ai/ajay-madkami-iitm-indian-institute-of-technology-mad/Assignment1/sweeps/mcgkxgsu' target=\"_blank\">https://wandb.ai/ajay-madkami-iitm-indian-institute-of-technology-mad/Assignment1/sweeps/mcgkxgsu</a>"
            ],
            "text/plain": [
              "<IPython.core.display.HTML object>"
            ]
          },
          "metadata": {},
          "output_type": "display_data"
        },
        {
          "data": {
            "text/html": [
              " View project at <a href='https://wandb.ai/ajay-madkami-iitm-indian-institute-of-technology-mad/Assignment1' target=\"_blank\">https://wandb.ai/ajay-madkami-iitm-indian-institute-of-technology-mad/Assignment1</a>"
            ],
            "text/plain": [
              "<IPython.core.display.HTML object>"
            ]
          },
          "metadata": {},
          "output_type": "display_data"
        },
        {
          "data": {
            "text/html": [
              " View sweep at <a href='https://wandb.ai/ajay-madkami-iitm-indian-institute-of-technology-mad/Assignment1/sweeps/mcgkxgsu' target=\"_blank\">https://wandb.ai/ajay-madkami-iitm-indian-institute-of-technology-mad/Assignment1/sweeps/mcgkxgsu</a>"
            ],
            "text/plain": [
              "<IPython.core.display.HTML object>"
            ]
          },
          "metadata": {},
          "output_type": "display_data"
        },
        {
          "data": {
            "text/html": [
              " View run at <a href='https://wandb.ai/ajay-madkami-iitm-indian-institute-of-technology-mad/Assignment1/runs/nhx5svna' target=\"_blank\">https://wandb.ai/ajay-madkami-iitm-indian-institute-of-technology-mad/Assignment1/runs/nhx5svna</a>"
            ],
            "text/plain": [
              "<IPython.core.display.HTML object>"
            ]
          },
          "metadata": {},
          "output_type": "display_data"
        },
        {
          "name": "stdout",
          "output_type": "stream",
          "text": [
            "Epoch 1/5, Train Loss: 0.0763, Val Loss: 0.0761, Train Acc: 0.6062, Val Acc: 0.6125\n",
            "Epoch 2/5, Train Loss: 0.0649, Val Loss: 0.0647, Train Acc: 0.7030, Val Acc: 0.7099\n",
            "Epoch 3/5, Train Loss: 0.0565, Val Loss: 0.0562, Train Acc: 0.7814, Val Acc: 0.7880\n",
            "Epoch 4/5, Train Loss: 0.0506, Val Loss: 0.0502, Train Acc: 0.8202, Val Acc: 0.8281\n",
            "Epoch 5/5, Train Loss: 0.0462, Val Loss: 0.0458, Train Acc: 0.8424, Val Acc: 0.8470\n"
          ]
        },
        {
          "data": {
            "text/html": [],
            "text/plain": [
              "<IPython.core.display.HTML object>"
            ]
          },
          "metadata": {},
          "output_type": "display_data"
        },
        {
          "data": {
            "text/html": [
              "<br>    <style><br>        .wandb-row {<br>            display: flex;<br>            flex-direction: row;<br>            flex-wrap: wrap;<br>            justify-content: flex-start;<br>            width: 100%;<br>        }<br>        .wandb-col {<br>            display: flex;<br>            flex-direction: column;<br>            flex-basis: 100%;<br>            flex: 1;<br>            padding: 10px;<br>        }<br>    </style><br><div class=\"wandb-row\"><div class=\"wandb-col\"><h3>Run history:</h3><br/><table class=\"wandb\"><tr><td>epoch</td><td>▁▃▅▆█</td></tr><tr><td>train_acc</td><td>▁▄▆▇█</td></tr><tr><td>train_loss</td><td>█▅▃▂▁</td></tr><tr><td>val_acc</td><td>▁▄▆▇█</td></tr><tr><td>val_loss</td><td>█▅▃▂▁</td></tr></table><br/></div><div class=\"wandb-col\"><h3>Run summary:</h3><br/><table class=\"wandb\"><tr><td>epoch</td><td>5</td></tr><tr><td>train_acc</td><td>0.84244</td></tr><tr><td>train_loss</td><td>0.04619</td></tr><tr><td>val_acc</td><td>0.847</td></tr><tr><td>val_loss</td><td>0.04581</td></tr></table><br/></div></div>"
            ],
            "text/plain": [
              "<IPython.core.display.HTML object>"
            ]
          },
          "metadata": {},
          "output_type": "display_data"
        },
        {
          "data": {
            "text/html": [
              " View run <strong style=\"color:#cdcd00\">iconic-sweep-15</strong> at: <a href='https://wandb.ai/ajay-madkami-iitm-indian-institute-of-technology-mad/Assignment1/runs/nhx5svna' target=\"_blank\">https://wandb.ai/ajay-madkami-iitm-indian-institute-of-technology-mad/Assignment1/runs/nhx5svna</a><br> View project at: <a href='https://wandb.ai/ajay-madkami-iitm-indian-institute-of-technology-mad/Assignment1' target=\"_blank\">https://wandb.ai/ajay-madkami-iitm-indian-institute-of-technology-mad/Assignment1</a><br>Synced 5 W&B file(s), 0 media file(s), 0 artifact file(s) and 0 other file(s)"
            ],
            "text/plain": [
              "<IPython.core.display.HTML object>"
            ]
          },
          "metadata": {},
          "output_type": "display_data"
        },
        {
          "data": {
            "text/html": [
              "Find logs at: <code>./wandb/run-20250316_075709-nhx5svna/logs</code>"
            ],
            "text/plain": [
              "<IPython.core.display.HTML object>"
            ]
          },
          "metadata": {},
          "output_type": "display_data"
        },
        {
          "name": "stderr",
          "output_type": "stream",
          "text": [
            "\u001b[34m\u001b[1mwandb\u001b[0m: Agent Starting Run: 9i8uapz5 with config:\n",
            "\u001b[34m\u001b[1mwandb\u001b[0m: \tactivation: tanh\n",
            "\u001b[34m\u001b[1mwandb\u001b[0m: \tbatch_size: 32\n",
            "\u001b[34m\u001b[1mwandb\u001b[0m: \tepochs: 5\n",
            "\u001b[34m\u001b[1mwandb\u001b[0m: \tinit_method: random\n",
            "\u001b[34m\u001b[1mwandb\u001b[0m: \tlearning_rate: 0.001\n",
            "\u001b[34m\u001b[1mwandb\u001b[0m: \tloss: mse\n",
            "\u001b[34m\u001b[1mwandb\u001b[0m: \tnum_hidden_layers: 3\n",
            "\u001b[34m\u001b[1mwandb\u001b[0m: \tnum_hidden_nodes: 32\n",
            "\u001b[34m\u001b[1mwandb\u001b[0m: \toptimizer: rmsprop\n"
          ]
        },
        {
          "data": {
            "text/html": [
              "Ignoring project 'Assignment1' when running a sweep."
            ],
            "text/plain": [
              "<IPython.core.display.HTML object>"
            ]
          },
          "metadata": {},
          "output_type": "display_data"
        },
        {
          "data": {
            "text/html": [
              "Tracking run with wandb version 0.19.8"
            ],
            "text/plain": [
              "<IPython.core.display.HTML object>"
            ]
          },
          "metadata": {},
          "output_type": "display_data"
        },
        {
          "data": {
            "text/html": [
              "Run data is saved locally in <code>/content/wandb/run-20250316_075749-9i8uapz5</code>"
            ],
            "text/plain": [
              "<IPython.core.display.HTML object>"
            ]
          },
          "metadata": {},
          "output_type": "display_data"
        },
        {
          "data": {
            "text/html": [
              "Syncing run <strong><a href='https://wandb.ai/ajay-madkami-iitm-indian-institute-of-technology-mad/Assignment1/runs/9i8uapz5' target=\"_blank\">dark-sweep-16</a></strong> to <a href='https://wandb.ai/ajay-madkami-iitm-indian-institute-of-technology-mad/Assignment1' target=\"_blank\">Weights & Biases</a> (<a href='https://wandb.me/developer-guide' target=\"_blank\">docs</a>)<br>Sweep page: <a href='https://wandb.ai/ajay-madkami-iitm-indian-institute-of-technology-mad/Assignment1/sweeps/mcgkxgsu' target=\"_blank\">https://wandb.ai/ajay-madkami-iitm-indian-institute-of-technology-mad/Assignment1/sweeps/mcgkxgsu</a>"
            ],
            "text/plain": [
              "<IPython.core.display.HTML object>"
            ]
          },
          "metadata": {},
          "output_type": "display_data"
        },
        {
          "data": {
            "text/html": [
              " View project at <a href='https://wandb.ai/ajay-madkami-iitm-indian-institute-of-technology-mad/Assignment1' target=\"_blank\">https://wandb.ai/ajay-madkami-iitm-indian-institute-of-technology-mad/Assignment1</a>"
            ],
            "text/plain": [
              "<IPython.core.display.HTML object>"
            ]
          },
          "metadata": {},
          "output_type": "display_data"
        },
        {
          "data": {
            "text/html": [
              " View sweep at <a href='https://wandb.ai/ajay-madkami-iitm-indian-institute-of-technology-mad/Assignment1/sweeps/mcgkxgsu' target=\"_blank\">https://wandb.ai/ajay-madkami-iitm-indian-institute-of-technology-mad/Assignment1/sweeps/mcgkxgsu</a>"
            ],
            "text/plain": [
              "<IPython.core.display.HTML object>"
            ]
          },
          "metadata": {},
          "output_type": "display_data"
        },
        {
          "data": {
            "text/html": [
              " View run at <a href='https://wandb.ai/ajay-madkami-iitm-indian-institute-of-technology-mad/Assignment1/runs/9i8uapz5' target=\"_blank\">https://wandb.ai/ajay-madkami-iitm-indian-institute-of-technology-mad/Assignment1/runs/9i8uapz5</a>"
            ],
            "text/plain": [
              "<IPython.core.display.HTML object>"
            ]
          },
          "metadata": {},
          "output_type": "display_data"
        },
        {
          "name": "stdout",
          "output_type": "stream",
          "text": [
            "Epoch 1/5, Train Loss: 0.0900, Val Loss: 0.0900, Train Acc: 0.2511, Val Acc: 0.2457\n",
            "Epoch 2/5, Train Loss: 0.0900, Val Loss: 0.0900, Train Acc: 0.2511, Val Acc: 0.2457\n",
            "Epoch 3/5, Train Loss: 0.0900, Val Loss: 0.0900, Train Acc: 0.2511, Val Acc: 0.2457\n",
            "Epoch 4/5, Train Loss: 0.0900, Val Loss: 0.0900, Train Acc: 0.2511, Val Acc: 0.2457\n",
            "Epoch 5/5, Train Loss: 0.0900, Val Loss: 0.0900, Train Acc: 0.2511, Val Acc: 0.2457\n"
          ]
        },
        {
          "data": {
            "text/html": [],
            "text/plain": [
              "<IPython.core.display.HTML object>"
            ]
          },
          "metadata": {},
          "output_type": "display_data"
        },
        {
          "data": {
            "text/html": [
              "<br>    <style><br>        .wandb-row {<br>            display: flex;<br>            flex-direction: row;<br>            flex-wrap: wrap;<br>            justify-content: flex-start;<br>            width: 100%;<br>        }<br>        .wandb-col {<br>            display: flex;<br>            flex-direction: column;<br>            flex-basis: 100%;<br>            flex: 1;<br>            padding: 10px;<br>        }<br>    </style><br><div class=\"wandb-row\"><div class=\"wandb-col\"><h3>Run history:</h3><br/><table class=\"wandb\"><tr><td>epoch</td><td>▁▃▅▆█</td></tr><tr><td>train_acc</td><td>▁▁▁▁▁</td></tr><tr><td>train_loss</td><td>█▅▄▂▁</td></tr><tr><td>val_acc</td><td>▁▁▁▁▁</td></tr><tr><td>val_loss</td><td>▁▃▅▇█</td></tr></table><br/></div><div class=\"wandb-col\"><h3>Run summary:</h3><br/><table class=\"wandb\"><tr><td>epoch</td><td>5</td></tr><tr><td>train_acc</td><td>0.25106</td></tr><tr><td>train_loss</td><td>0.09</td></tr><tr><td>val_acc</td><td>0.24575</td></tr><tr><td>val_loss</td><td>0.09</td></tr></table><br/></div></div>"
            ],
            "text/plain": [
              "<IPython.core.display.HTML object>"
            ]
          },
          "metadata": {},
          "output_type": "display_data"
        },
        {
          "data": {
            "text/html": [
              " View run <strong style=\"color:#cdcd00\">dark-sweep-16</strong> at: <a href='https://wandb.ai/ajay-madkami-iitm-indian-institute-of-technology-mad/Assignment1/runs/9i8uapz5' target=\"_blank\">https://wandb.ai/ajay-madkami-iitm-indian-institute-of-technology-mad/Assignment1/runs/9i8uapz5</a><br> View project at: <a href='https://wandb.ai/ajay-madkami-iitm-indian-institute-of-technology-mad/Assignment1' target=\"_blank\">https://wandb.ai/ajay-madkami-iitm-indian-institute-of-technology-mad/Assignment1</a><br>Synced 5 W&B file(s), 0 media file(s), 0 artifact file(s) and 0 other file(s)"
            ],
            "text/plain": [
              "<IPython.core.display.HTML object>"
            ]
          },
          "metadata": {},
          "output_type": "display_data"
        },
        {
          "data": {
            "text/html": [
              "Find logs at: <code>./wandb/run-20250316_075749-9i8uapz5/logs</code>"
            ],
            "text/plain": [
              "<IPython.core.display.HTML object>"
            ]
          },
          "metadata": {},
          "output_type": "display_data"
        },
        {
          "name": "stderr",
          "output_type": "stream",
          "text": [
            "\u001b[34m\u001b[1mwandb\u001b[0m: Agent Starting Run: lou16rrh with config:\n",
            "\u001b[34m\u001b[1mwandb\u001b[0m: \tactivation: relu\n",
            "\u001b[34m\u001b[1mwandb\u001b[0m: \tbatch_size: 64\n",
            "\u001b[34m\u001b[1mwandb\u001b[0m: \tepochs: 10\n",
            "\u001b[34m\u001b[1mwandb\u001b[0m: \tinit_method: random\n",
            "\u001b[34m\u001b[1mwandb\u001b[0m: \tlearning_rate: 0.0001\n",
            "\u001b[34m\u001b[1mwandb\u001b[0m: \tloss: mse\n",
            "\u001b[34m\u001b[1mwandb\u001b[0m: \tnum_hidden_layers: 5\n",
            "\u001b[34m\u001b[1mwandb\u001b[0m: \tnum_hidden_nodes: 64\n",
            "\u001b[34m\u001b[1mwandb\u001b[0m: \toptimizer: adam\n"
          ]
        },
        {
          "data": {
            "text/html": [
              "Ignoring project 'Assignment1' when running a sweep."
            ],
            "text/plain": [
              "<IPython.core.display.HTML object>"
            ]
          },
          "metadata": {},
          "output_type": "display_data"
        },
        {
          "data": {
            "text/html": [
              "Tracking run with wandb version 0.19.8"
            ],
            "text/plain": [
              "<IPython.core.display.HTML object>"
            ]
          },
          "metadata": {},
          "output_type": "display_data"
        },
        {
          "data": {
            "text/html": [
              "Run data is saved locally in <code>/content/wandb/run-20250316_075815-lou16rrh</code>"
            ],
            "text/plain": [
              "<IPython.core.display.HTML object>"
            ]
          },
          "metadata": {},
          "output_type": "display_data"
        },
        {
          "data": {
            "text/html": [
              "Syncing run <strong><a href='https://wandb.ai/ajay-madkami-iitm-indian-institute-of-technology-mad/Assignment1/runs/lou16rrh' target=\"_blank\">wild-sweep-17</a></strong> to <a href='https://wandb.ai/ajay-madkami-iitm-indian-institute-of-technology-mad/Assignment1' target=\"_blank\">Weights & Biases</a> (<a href='https://wandb.me/developer-guide' target=\"_blank\">docs</a>)<br>Sweep page: <a href='https://wandb.ai/ajay-madkami-iitm-indian-institute-of-technology-mad/Assignment1/sweeps/mcgkxgsu' target=\"_blank\">https://wandb.ai/ajay-madkami-iitm-indian-institute-of-technology-mad/Assignment1/sweeps/mcgkxgsu</a>"
            ],
            "text/plain": [
              "<IPython.core.display.HTML object>"
            ]
          },
          "metadata": {},
          "output_type": "display_data"
        },
        {
          "data": {
            "text/html": [
              " View project at <a href='https://wandb.ai/ajay-madkami-iitm-indian-institute-of-technology-mad/Assignment1' target=\"_blank\">https://wandb.ai/ajay-madkami-iitm-indian-institute-of-technology-mad/Assignment1</a>"
            ],
            "text/plain": [
              "<IPython.core.display.HTML object>"
            ]
          },
          "metadata": {},
          "output_type": "display_data"
        },
        {
          "data": {
            "text/html": [
              " View sweep at <a href='https://wandb.ai/ajay-madkami-iitm-indian-institute-of-technology-mad/Assignment1/sweeps/mcgkxgsu' target=\"_blank\">https://wandb.ai/ajay-madkami-iitm-indian-institute-of-technology-mad/Assignment1/sweeps/mcgkxgsu</a>"
            ],
            "text/plain": [
              "<IPython.core.display.HTML object>"
            ]
          },
          "metadata": {},
          "output_type": "display_data"
        },
        {
          "data": {
            "text/html": [
              " View run at <a href='https://wandb.ai/ajay-madkami-iitm-indian-institute-of-technology-mad/Assignment1/runs/lou16rrh' target=\"_blank\">https://wandb.ai/ajay-madkami-iitm-indian-institute-of-technology-mad/Assignment1/runs/lou16rrh</a>"
            ],
            "text/plain": [
              "<IPython.core.display.HTML object>"
            ]
          },
          "metadata": {},
          "output_type": "display_data"
        },
        {
          "name": "stdout",
          "output_type": "stream",
          "text": [
            "Epoch 1/10, Train Loss: 0.0900, Val Loss: 0.0900, Train Acc: 0.2511, Val Acc: 0.2457\n",
            "Epoch 2/10, Train Loss: 0.0900, Val Loss: 0.0900, Train Acc: 0.2511, Val Acc: 0.2457\n",
            "Epoch 3/10, Train Loss: 0.0900, Val Loss: 0.0900, Train Acc: 0.2511, Val Acc: 0.2457\n",
            "Epoch 4/10, Train Loss: 0.0900, Val Loss: 0.0900, Train Acc: 0.2511, Val Acc: 0.2457\n",
            "Epoch 5/10, Train Loss: 0.0900, Val Loss: 0.0900, Train Acc: 0.2511, Val Acc: 0.2457\n",
            "Epoch 6/10, Train Loss: 0.0900, Val Loss: 0.0900, Train Acc: 0.2511, Val Acc: 0.2457\n",
            "Epoch 7/10, Train Loss: 0.0900, Val Loss: 0.0900, Train Acc: 0.2511, Val Acc: 0.2457\n",
            "Epoch 8/10, Train Loss: 0.0900, Val Loss: 0.0900, Train Acc: 0.2511, Val Acc: 0.2457\n",
            "Epoch 9/10, Train Loss: 0.0900, Val Loss: 0.0900, Train Acc: 0.2511, Val Acc: 0.2457\n",
            "Epoch 10/10, Train Loss: 0.0900, Val Loss: 0.0900, Train Acc: 0.2511, Val Acc: 0.2457\n"
          ]
        },
        {
          "data": {
            "text/html": [],
            "text/plain": [
              "<IPython.core.display.HTML object>"
            ]
          },
          "metadata": {},
          "output_type": "display_data"
        },
        {
          "data": {
            "text/html": [
              "<br>    <style><br>        .wandb-row {<br>            display: flex;<br>            flex-direction: row;<br>            flex-wrap: wrap;<br>            justify-content: flex-start;<br>            width: 100%;<br>        }<br>        .wandb-col {<br>            display: flex;<br>            flex-direction: column;<br>            flex-basis: 100%;<br>            flex: 1;<br>            padding: 10px;<br>        }<br>    </style><br><div class=\"wandb-row\"><div class=\"wandb-col\"><h3>Run history:</h3><br/><table class=\"wandb\"><tr><td>epoch</td><td>▁▂▃▃▄▅▆▆▇█</td></tr><tr><td>train_acc</td><td>▁▁▁▁▁▁▁▁▁▁</td></tr><tr><td>train_loss</td><td>█▇▇▅▅▄▄▂▂▁</td></tr><tr><td>val_acc</td><td>▁▁▁▁▁▁▁▁▁▁</td></tr><tr><td>val_loss</td><td>▁▂▃▃▄▅▆▆▇█</td></tr></table><br/></div><div class=\"wandb-col\"><h3>Run summary:</h3><br/><table class=\"wandb\"><tr><td>epoch</td><td>10</td></tr><tr><td>train_acc</td><td>0.25106</td></tr><tr><td>train_loss</td><td>0.09</td></tr><tr><td>val_acc</td><td>0.24575</td></tr><tr><td>val_loss</td><td>0.09</td></tr></table><br/></div></div>"
            ],
            "text/plain": [
              "<IPython.core.display.HTML object>"
            ]
          },
          "metadata": {},
          "output_type": "display_data"
        },
        {
          "data": {
            "text/html": [
              " View run <strong style=\"color:#cdcd00\">wild-sweep-17</strong> at: <a href='https://wandb.ai/ajay-madkami-iitm-indian-institute-of-technology-mad/Assignment1/runs/lou16rrh' target=\"_blank\">https://wandb.ai/ajay-madkami-iitm-indian-institute-of-technology-mad/Assignment1/runs/lou16rrh</a><br> View project at: <a href='https://wandb.ai/ajay-madkami-iitm-indian-institute-of-technology-mad/Assignment1' target=\"_blank\">https://wandb.ai/ajay-madkami-iitm-indian-institute-of-technology-mad/Assignment1</a><br>Synced 5 W&B file(s), 0 media file(s), 0 artifact file(s) and 0 other file(s)"
            ],
            "text/plain": [
              "<IPython.core.display.HTML object>"
            ]
          },
          "metadata": {},
          "output_type": "display_data"
        },
        {
          "data": {
            "text/html": [
              "Find logs at: <code>./wandb/run-20250316_075815-lou16rrh/logs</code>"
            ],
            "text/plain": [
              "<IPython.core.display.HTML object>"
            ]
          },
          "metadata": {},
          "output_type": "display_data"
        },
        {
          "name": "stderr",
          "output_type": "stream",
          "text": [
            "\u001b[34m\u001b[1mwandb\u001b[0m: Agent Starting Run: hb9falny with config:\n",
            "\u001b[34m\u001b[1mwandb\u001b[0m: \tactivation: relu\n",
            "\u001b[34m\u001b[1mwandb\u001b[0m: \tbatch_size: 16\n",
            "\u001b[34m\u001b[1mwandb\u001b[0m: \tepochs: 10\n",
            "\u001b[34m\u001b[1mwandb\u001b[0m: \tinit_method: random\n",
            "\u001b[34m\u001b[1mwandb\u001b[0m: \tlearning_rate: 0.0001\n",
            "\u001b[34m\u001b[1mwandb\u001b[0m: \tloss: mse\n",
            "\u001b[34m\u001b[1mwandb\u001b[0m: \tnum_hidden_layers: 5\n",
            "\u001b[34m\u001b[1mwandb\u001b[0m: \tnum_hidden_nodes: 64\n",
            "\u001b[34m\u001b[1mwandb\u001b[0m: \toptimizer: momentum\n"
          ]
        },
        {
          "data": {
            "text/html": [
              "Ignoring project 'Assignment1' when running a sweep."
            ],
            "text/plain": [
              "<IPython.core.display.HTML object>"
            ]
          },
          "metadata": {},
          "output_type": "display_data"
        },
        {
          "data": {
            "text/html": [
              "Tracking run with wandb version 0.19.8"
            ],
            "text/plain": [
              "<IPython.core.display.HTML object>"
            ]
          },
          "metadata": {},
          "output_type": "display_data"
        },
        {
          "data": {
            "text/html": [
              "Run data is saved locally in <code>/content/wandb/run-20250316_075901-hb9falny</code>"
            ],
            "text/plain": [
              "<IPython.core.display.HTML object>"
            ]
          },
          "metadata": {},
          "output_type": "display_data"
        },
        {
          "data": {
            "text/html": [
              "Syncing run <strong><a href='https://wandb.ai/ajay-madkami-iitm-indian-institute-of-technology-mad/Assignment1/runs/hb9falny' target=\"_blank\">wobbly-sweep-18</a></strong> to <a href='https://wandb.ai/ajay-madkami-iitm-indian-institute-of-technology-mad/Assignment1' target=\"_blank\">Weights & Biases</a> (<a href='https://wandb.me/developer-guide' target=\"_blank\">docs</a>)<br>Sweep page: <a href='https://wandb.ai/ajay-madkami-iitm-indian-institute-of-technology-mad/Assignment1/sweeps/mcgkxgsu' target=\"_blank\">https://wandb.ai/ajay-madkami-iitm-indian-institute-of-technology-mad/Assignment1/sweeps/mcgkxgsu</a>"
            ],
            "text/plain": [
              "<IPython.core.display.HTML object>"
            ]
          },
          "metadata": {},
          "output_type": "display_data"
        },
        {
          "data": {
            "text/html": [
              " View project at <a href='https://wandb.ai/ajay-madkami-iitm-indian-institute-of-technology-mad/Assignment1' target=\"_blank\">https://wandb.ai/ajay-madkami-iitm-indian-institute-of-technology-mad/Assignment1</a>"
            ],
            "text/plain": [
              "<IPython.core.display.HTML object>"
            ]
          },
          "metadata": {},
          "output_type": "display_data"
        },
        {
          "data": {
            "text/html": [
              " View sweep at <a href='https://wandb.ai/ajay-madkami-iitm-indian-institute-of-technology-mad/Assignment1/sweeps/mcgkxgsu' target=\"_blank\">https://wandb.ai/ajay-madkami-iitm-indian-institute-of-technology-mad/Assignment1/sweeps/mcgkxgsu</a>"
            ],
            "text/plain": [
              "<IPython.core.display.HTML object>"
            ]
          },
          "metadata": {},
          "output_type": "display_data"
        },
        {
          "data": {
            "text/html": [
              " View run at <a href='https://wandb.ai/ajay-madkami-iitm-indian-institute-of-technology-mad/Assignment1/runs/hb9falny' target=\"_blank\">https://wandb.ai/ajay-madkami-iitm-indian-institute-of-technology-mad/Assignment1/runs/hb9falny</a>"
            ],
            "text/plain": [
              "<IPython.core.display.HTML object>"
            ]
          },
          "metadata": {},
          "output_type": "display_data"
        },
        {
          "name": "stdout",
          "output_type": "stream",
          "text": [
            "Epoch 1/10, Train Loss: 0.0900, Val Loss: 0.0900, Train Acc: 0.2511, Val Acc: 0.2457\n",
            "Epoch 2/10, Train Loss: 0.0900, Val Loss: 0.0900, Train Acc: 0.2511, Val Acc: 0.2457\n",
            "Epoch 3/10, Train Loss: 0.0900, Val Loss: 0.0900, Train Acc: 0.2511, Val Acc: 0.2457\n",
            "Epoch 4/10, Train Loss: 0.0900, Val Loss: 0.0900, Train Acc: 0.2511, Val Acc: 0.2457\n",
            "Epoch 5/10, Train Loss: 0.0900, Val Loss: 0.0900, Train Acc: 0.2511, Val Acc: 0.2457\n",
            "Epoch 6/10, Train Loss: 0.0900, Val Loss: 0.0900, Train Acc: 0.2511, Val Acc: 0.2457\n",
            "Epoch 7/10, Train Loss: 0.0900, Val Loss: 0.0900, Train Acc: 0.2511, Val Acc: 0.2457\n",
            "Epoch 8/10, Train Loss: 0.0900, Val Loss: 0.0900, Train Acc: 0.2511, Val Acc: 0.2457\n",
            "Epoch 9/10, Train Loss: 0.0900, Val Loss: 0.0900, Train Acc: 0.2511, Val Acc: 0.2457\n",
            "Epoch 10/10, Train Loss: 0.0900, Val Loss: 0.0900, Train Acc: 0.2511, Val Acc: 0.2457\n"
          ]
        },
        {
          "data": {
            "text/html": [],
            "text/plain": [
              "<IPython.core.display.HTML object>"
            ]
          },
          "metadata": {},
          "output_type": "display_data"
        },
        {
          "data": {
            "text/html": [
              "<br>    <style><br>        .wandb-row {<br>            display: flex;<br>            flex-direction: row;<br>            flex-wrap: wrap;<br>            justify-content: flex-start;<br>            width: 100%;<br>        }<br>        .wandb-col {<br>            display: flex;<br>            flex-direction: column;<br>            flex-basis: 100%;<br>            flex: 1;<br>            padding: 10px;<br>        }<br>    </style><br><div class=\"wandb-row\"><div class=\"wandb-col\"><h3>Run history:</h3><br/><table class=\"wandb\"><tr><td>epoch</td><td>▁▂▃▃▄▅▆▆▇█</td></tr><tr><td>train_acc</td><td>▁▁▁▁▁▁▁▁▁▁</td></tr><tr><td>train_loss</td><td>█▇▆▅▄▄▃▂▂▁</td></tr><tr><td>val_acc</td><td>▁▁▁▁▁▁▁▁▁▁</td></tr><tr><td>val_loss</td><td>▁▂▃▃▄▅▆▇▇█</td></tr></table><br/></div><div class=\"wandb-col\"><h3>Run summary:</h3><br/><table class=\"wandb\"><tr><td>epoch</td><td>10</td></tr><tr><td>train_acc</td><td>0.25106</td></tr><tr><td>train_loss</td><td>0.09</td></tr><tr><td>val_acc</td><td>0.24575</td></tr><tr><td>val_loss</td><td>0.09</td></tr></table><br/></div></div>"
            ],
            "text/plain": [
              "<IPython.core.display.HTML object>"
            ]
          },
          "metadata": {},
          "output_type": "display_data"
        },
        {
          "data": {
            "text/html": [
              " View run <strong style=\"color:#cdcd00\">wobbly-sweep-18</strong> at: <a href='https://wandb.ai/ajay-madkami-iitm-indian-institute-of-technology-mad/Assignment1/runs/hb9falny' target=\"_blank\">https://wandb.ai/ajay-madkami-iitm-indian-institute-of-technology-mad/Assignment1/runs/hb9falny</a><br> View project at: <a href='https://wandb.ai/ajay-madkami-iitm-indian-institute-of-technology-mad/Assignment1' target=\"_blank\">https://wandb.ai/ajay-madkami-iitm-indian-institute-of-technology-mad/Assignment1</a><br>Synced 5 W&B file(s), 0 media file(s), 0 artifact file(s) and 0 other file(s)"
            ],
            "text/plain": [
              "<IPython.core.display.HTML object>"
            ]
          },
          "metadata": {},
          "output_type": "display_data"
        },
        {
          "data": {
            "text/html": [
              "Find logs at: <code>./wandb/run-20250316_075901-hb9falny/logs</code>"
            ],
            "text/plain": [
              "<IPython.core.display.HTML object>"
            ]
          },
          "metadata": {},
          "output_type": "display_data"
        },
        {
          "name": "stderr",
          "output_type": "stream",
          "text": [
            "\u001b[34m\u001b[1mwandb\u001b[0m: Agent Starting Run: 1ydrawsk with config:\n",
            "\u001b[34m\u001b[1mwandb\u001b[0m: \tactivation: sigmoid\n",
            "\u001b[34m\u001b[1mwandb\u001b[0m: \tbatch_size: 32\n",
            "\u001b[34m\u001b[1mwandb\u001b[0m: \tepochs: 10\n",
            "\u001b[34m\u001b[1mwandb\u001b[0m: \tinit_method: xavier\n",
            "\u001b[34m\u001b[1mwandb\u001b[0m: \tlearning_rate: 0.001\n",
            "\u001b[34m\u001b[1mwandb\u001b[0m: \tloss: mse\n",
            "\u001b[34m\u001b[1mwandb\u001b[0m: \tnum_hidden_layers: 3\n",
            "\u001b[34m\u001b[1mwandb\u001b[0m: \tnum_hidden_nodes: 64\n",
            "\u001b[34m\u001b[1mwandb\u001b[0m: \toptimizer: adam\n"
          ]
        },
        {
          "data": {
            "text/html": [
              "Ignoring project 'Assignment1' when running a sweep."
            ],
            "text/plain": [
              "<IPython.core.display.HTML object>"
            ]
          },
          "metadata": {},
          "output_type": "display_data"
        },
        {
          "data": {
            "text/html": [
              "Tracking run with wandb version 0.19.8"
            ],
            "text/plain": [
              "<IPython.core.display.HTML object>"
            ]
          },
          "metadata": {},
          "output_type": "display_data"
        },
        {
          "data": {
            "text/html": [
              "Run data is saved locally in <code>/content/wandb/run-20250316_080006-1ydrawsk</code>"
            ],
            "text/plain": [
              "<IPython.core.display.HTML object>"
            ]
          },
          "metadata": {},
          "output_type": "display_data"
        },
        {
          "data": {
            "text/html": [
              "Syncing run <strong><a href='https://wandb.ai/ajay-madkami-iitm-indian-institute-of-technology-mad/Assignment1/runs/1ydrawsk' target=\"_blank\">northern-sweep-19</a></strong> to <a href='https://wandb.ai/ajay-madkami-iitm-indian-institute-of-technology-mad/Assignment1' target=\"_blank\">Weights & Biases</a> (<a href='https://wandb.me/developer-guide' target=\"_blank\">docs</a>)<br>Sweep page: <a href='https://wandb.ai/ajay-madkami-iitm-indian-institute-of-technology-mad/Assignment1/sweeps/mcgkxgsu' target=\"_blank\">https://wandb.ai/ajay-madkami-iitm-indian-institute-of-technology-mad/Assignment1/sweeps/mcgkxgsu</a>"
            ],
            "text/plain": [
              "<IPython.core.display.HTML object>"
            ]
          },
          "metadata": {},
          "output_type": "display_data"
        },
        {
          "data": {
            "text/html": [
              " View project at <a href='https://wandb.ai/ajay-madkami-iitm-indian-institute-of-technology-mad/Assignment1' target=\"_blank\">https://wandb.ai/ajay-madkami-iitm-indian-institute-of-technology-mad/Assignment1</a>"
            ],
            "text/plain": [
              "<IPython.core.display.HTML object>"
            ]
          },
          "metadata": {},
          "output_type": "display_data"
        },
        {
          "data": {
            "text/html": [
              " View sweep at <a href='https://wandb.ai/ajay-madkami-iitm-indian-institute-of-technology-mad/Assignment1/sweeps/mcgkxgsu' target=\"_blank\">https://wandb.ai/ajay-madkami-iitm-indian-institute-of-technology-mad/Assignment1/sweeps/mcgkxgsu</a>"
            ],
            "text/plain": [
              "<IPython.core.display.HTML object>"
            ]
          },
          "metadata": {},
          "output_type": "display_data"
        },
        {
          "data": {
            "text/html": [
              " View run at <a href='https://wandb.ai/ajay-madkami-iitm-indian-institute-of-technology-mad/Assignment1/runs/1ydrawsk' target=\"_blank\">https://wandb.ai/ajay-madkami-iitm-indian-institute-of-technology-mad/Assignment1/runs/1ydrawsk</a>"
            ],
            "text/plain": [
              "<IPython.core.display.HTML object>"
            ]
          },
          "metadata": {},
          "output_type": "display_data"
        },
        {
          "name": "stdout",
          "output_type": "stream",
          "text": [
            "Epoch 1/10, Train Loss: 0.0890, Val Loss: 0.0890, Train Acc: 0.4548, Val Acc: 0.4564\n",
            "Epoch 2/10, Train Loss: 0.0876, Val Loss: 0.0877, Train Acc: 0.4771, Val Acc: 0.4779\n",
            "Epoch 3/10, Train Loss: 0.0850, Val Loss: 0.0850, Train Acc: 0.5330, Val Acc: 0.5331\n",
            "Epoch 4/10, Train Loss: 0.0819, Val Loss: 0.0820, Train Acc: 0.5281, Val Acc: 0.5286\n",
            "Epoch 5/10, Train Loss: 0.0798, Val Loss: 0.0799, Train Acc: 0.5214, Val Acc: 0.5243\n",
            "Epoch 6/10, Train Loss: 0.0783, Val Loss: 0.0784, Train Acc: 0.5216, Val Acc: 0.5289\n",
            "Epoch 7/10, Train Loss: 0.0769, Val Loss: 0.0770, Train Acc: 0.5288, Val Acc: 0.5354\n",
            "Epoch 8/10, Train Loss: 0.0755, Val Loss: 0.0756, Train Acc: 0.5306, Val Acc: 0.5361\n",
            "Epoch 9/10, Train Loss: 0.0743, Val Loss: 0.0744, Train Acc: 0.5445, Val Acc: 0.5458\n",
            "Epoch 10/10, Train Loss: 0.0731, Val Loss: 0.0732, Train Acc: 0.5554, Val Acc: 0.5567\n"
          ]
        },
        {
          "data": {
            "text/html": [],
            "text/plain": [
              "<IPython.core.display.HTML object>"
            ]
          },
          "metadata": {},
          "output_type": "display_data"
        },
        {
          "data": {
            "text/html": [
              "<br>    <style><br>        .wandb-row {<br>            display: flex;<br>            flex-direction: row;<br>            flex-wrap: wrap;<br>            justify-content: flex-start;<br>            width: 100%;<br>        }<br>        .wandb-col {<br>            display: flex;<br>            flex-direction: column;<br>            flex-basis: 100%;<br>            flex: 1;<br>            padding: 10px;<br>        }<br>    </style><br><div class=\"wandb-row\"><div class=\"wandb-col\"><h3>Run history:</h3><br/><table class=\"wandb\"><tr><td>epoch</td><td>▁▂▃▃▄▅▆▆▇█</td></tr><tr><td>train_acc</td><td>▁▃▆▆▆▆▆▆▇█</td></tr><tr><td>train_loss</td><td>█▇▆▅▄▃▃▂▂▁</td></tr><tr><td>val_acc</td><td>▁▃▆▆▆▆▇▇▇█</td></tr><tr><td>val_loss</td><td>█▇▆▅▄▃▃▂▂▁</td></tr></table><br/></div><div class=\"wandb-col\"><h3>Run summary:</h3><br/><table class=\"wandb\"><tr><td>epoch</td><td>10</td></tr><tr><td>train_acc</td><td>0.55537</td></tr><tr><td>train_loss</td><td>0.07308</td></tr><tr><td>val_acc</td><td>0.55667</td></tr><tr><td>val_loss</td><td>0.07319</td></tr></table><br/></div></div>"
            ],
            "text/plain": [
              "<IPython.core.display.HTML object>"
            ]
          },
          "metadata": {},
          "output_type": "display_data"
        },
        {
          "data": {
            "text/html": [
              " View run <strong style=\"color:#cdcd00\">northern-sweep-19</strong> at: <a href='https://wandb.ai/ajay-madkami-iitm-indian-institute-of-technology-mad/Assignment1/runs/1ydrawsk' target=\"_blank\">https://wandb.ai/ajay-madkami-iitm-indian-institute-of-technology-mad/Assignment1/runs/1ydrawsk</a><br> View project at: <a href='https://wandb.ai/ajay-madkami-iitm-indian-institute-of-technology-mad/Assignment1' target=\"_blank\">https://wandb.ai/ajay-madkami-iitm-indian-institute-of-technology-mad/Assignment1</a><br>Synced 5 W&B file(s), 0 media file(s), 0 artifact file(s) and 0 other file(s)"
            ],
            "text/plain": [
              "<IPython.core.display.HTML object>"
            ]
          },
          "metadata": {},
          "output_type": "display_data"
        },
        {
          "data": {
            "text/html": [
              "Find logs at: <code>./wandb/run-20250316_080006-1ydrawsk/logs</code>"
            ],
            "text/plain": [
              "<IPython.core.display.HTML object>"
            ]
          },
          "metadata": {},
          "output_type": "display_data"
        },
        {
          "name": "stderr",
          "output_type": "stream",
          "text": [
            "\u001b[34m\u001b[1mwandb\u001b[0m: Agent Starting Run: 68aa8xiv with config:\n",
            "\u001b[34m\u001b[1mwandb\u001b[0m: \tactivation: sigmoid\n",
            "\u001b[34m\u001b[1mwandb\u001b[0m: \tbatch_size: 64\n",
            "\u001b[34m\u001b[1mwandb\u001b[0m: \tepochs: 10\n",
            "\u001b[34m\u001b[1mwandb\u001b[0m: \tinit_method: random\n",
            "\u001b[34m\u001b[1mwandb\u001b[0m: \tlearning_rate: 0.001\n",
            "\u001b[34m\u001b[1mwandb\u001b[0m: \tloss: mse\n",
            "\u001b[34m\u001b[1mwandb\u001b[0m: \tnum_hidden_layers: 5\n",
            "\u001b[34m\u001b[1mwandb\u001b[0m: \tnum_hidden_nodes: 32\n",
            "\u001b[34m\u001b[1mwandb\u001b[0m: \toptimizer: nesterov\n"
          ]
        },
        {
          "data": {
            "text/html": [
              "Ignoring project 'Assignment1' when running a sweep."
            ],
            "text/plain": [
              "<IPython.core.display.HTML object>"
            ]
          },
          "metadata": {},
          "output_type": "display_data"
        },
        {
          "data": {
            "text/html": [
              "Tracking run with wandb version 0.19.8"
            ],
            "text/plain": [
              "<IPython.core.display.HTML object>"
            ]
          },
          "metadata": {},
          "output_type": "display_data"
        },
        {
          "data": {
            "text/html": [
              "Run data is saved locally in <code>/content/wandb/run-20250316_080058-68aa8xiv</code>"
            ],
            "text/plain": [
              "<IPython.core.display.HTML object>"
            ]
          },
          "metadata": {},
          "output_type": "display_data"
        },
        {
          "data": {
            "text/html": [
              "Syncing run <strong><a href='https://wandb.ai/ajay-madkami-iitm-indian-institute-of-technology-mad/Assignment1/runs/68aa8xiv' target=\"_blank\">easy-sweep-20</a></strong> to <a href='https://wandb.ai/ajay-madkami-iitm-indian-institute-of-technology-mad/Assignment1' target=\"_blank\">Weights & Biases</a> (<a href='https://wandb.me/developer-guide' target=\"_blank\">docs</a>)<br>Sweep page: <a href='https://wandb.ai/ajay-madkami-iitm-indian-institute-of-technology-mad/Assignment1/sweeps/mcgkxgsu' target=\"_blank\">https://wandb.ai/ajay-madkami-iitm-indian-institute-of-technology-mad/Assignment1/sweeps/mcgkxgsu</a>"
            ],
            "text/plain": [
              "<IPython.core.display.HTML object>"
            ]
          },
          "metadata": {},
          "output_type": "display_data"
        },
        {
          "data": {
            "text/html": [
              " View project at <a href='https://wandb.ai/ajay-madkami-iitm-indian-institute-of-technology-mad/Assignment1' target=\"_blank\">https://wandb.ai/ajay-madkami-iitm-indian-institute-of-technology-mad/Assignment1</a>"
            ],
            "text/plain": [
              "<IPython.core.display.HTML object>"
            ]
          },
          "metadata": {},
          "output_type": "display_data"
        },
        {
          "data": {
            "text/html": [
              " View sweep at <a href='https://wandb.ai/ajay-madkami-iitm-indian-institute-of-technology-mad/Assignment1/sweeps/mcgkxgsu' target=\"_blank\">https://wandb.ai/ajay-madkami-iitm-indian-institute-of-technology-mad/Assignment1/sweeps/mcgkxgsu</a>"
            ],
            "text/plain": [
              "<IPython.core.display.HTML object>"
            ]
          },
          "metadata": {},
          "output_type": "display_data"
        },
        {
          "data": {
            "text/html": [
              " View run at <a href='https://wandb.ai/ajay-madkami-iitm-indian-institute-of-technology-mad/Assignment1/runs/68aa8xiv' target=\"_blank\">https://wandb.ai/ajay-madkami-iitm-indian-institute-of-technology-mad/Assignment1/runs/68aa8xiv</a>"
            ],
            "text/plain": [
              "<IPython.core.display.HTML object>"
            ]
          },
          "metadata": {},
          "output_type": "display_data"
        },
        {
          "name": "stdout",
          "output_type": "stream",
          "text": [
            "Epoch 1/10, Train Loss: 0.0900, Val Loss: 0.0900, Train Acc: 0.2492, Val Acc: 0.2530\n",
            "Epoch 2/10, Train Loss: 0.0900, Val Loss: 0.0900, Train Acc: 0.2492, Val Acc: 0.2530\n",
            "Epoch 3/10, Train Loss: 0.0900, Val Loss: 0.0900, Train Acc: 0.2504, Val Acc: 0.2483\n",
            "Epoch 4/10, Train Loss: 0.0900, Val Loss: 0.0900, Train Acc: 0.2504, Val Acc: 0.2483\n",
            "Epoch 5/10, Train Loss: 0.0900, Val Loss: 0.0900, Train Acc: 0.2504, Val Acc: 0.2483\n",
            "Epoch 6/10, Train Loss: 0.0900, Val Loss: 0.0900, Train Acc: 0.2504, Val Acc: 0.2483\n",
            "Epoch 7/10, Train Loss: 0.0900, Val Loss: 0.0900, Train Acc: 0.2504, Val Acc: 0.2483\n",
            "Epoch 8/10, Train Loss: 0.0900, Val Loss: 0.0900, Train Acc: 0.2504, Val Acc: 0.2483\n",
            "Epoch 9/10, Train Loss: 0.0900, Val Loss: 0.0900, Train Acc: 0.2504, Val Acc: 0.2483\n",
            "Epoch 10/10, Train Loss: 0.0900, Val Loss: 0.0900, Train Acc: 0.2504, Val Acc: 0.2483\n"
          ]
        },
        {
          "data": {
            "text/html": [],
            "text/plain": [
              "<IPython.core.display.HTML object>"
            ]
          },
          "metadata": {},
          "output_type": "display_data"
        },
        {
          "data": {
            "text/html": [
              "<br>    <style><br>        .wandb-row {<br>            display: flex;<br>            flex-direction: row;<br>            flex-wrap: wrap;<br>            justify-content: flex-start;<br>            width: 100%;<br>        }<br>        .wandb-col {<br>            display: flex;<br>            flex-direction: column;<br>            flex-basis: 100%;<br>            flex: 1;<br>            padding: 10px;<br>        }<br>    </style><br><div class=\"wandb-row\"><div class=\"wandb-col\"><h3>Run history:</h3><br/><table class=\"wandb\"><tr><td>epoch</td><td>▁▂▃▃▄▅▆▆▇█</td></tr><tr><td>train_acc</td><td>▁▁████████</td></tr><tr><td>train_loss</td><td>█▃▂▁▁▁▁▁▁▁</td></tr><tr><td>val_acc</td><td>██▁▁▁▁▁▁▁▁</td></tr><tr><td>val_loss</td><td>█▃▂▁▁▁▁▁▁▁</td></tr></table><br/></div><div class=\"wandb-col\"><h3>Run summary:</h3><br/><table class=\"wandb\"><tr><td>epoch</td><td>10</td></tr><tr><td>train_acc</td><td>0.25042</td></tr><tr><td>train_loss</td><td>0.09</td></tr><tr><td>val_acc</td><td>0.24833</td></tr><tr><td>val_loss</td><td>0.09</td></tr></table><br/></div></div>"
            ],
            "text/plain": [
              "<IPython.core.display.HTML object>"
            ]
          },
          "metadata": {},
          "output_type": "display_data"
        },
        {
          "data": {
            "text/html": [
              " View run <strong style=\"color:#cdcd00\">easy-sweep-20</strong> at: <a href='https://wandb.ai/ajay-madkami-iitm-indian-institute-of-technology-mad/Assignment1/runs/68aa8xiv' target=\"_blank\">https://wandb.ai/ajay-madkami-iitm-indian-institute-of-technology-mad/Assignment1/runs/68aa8xiv</a><br> View project at: <a href='https://wandb.ai/ajay-madkami-iitm-indian-institute-of-technology-mad/Assignment1' target=\"_blank\">https://wandb.ai/ajay-madkami-iitm-indian-institute-of-technology-mad/Assignment1</a><br>Synced 5 W&B file(s), 0 media file(s), 0 artifact file(s) and 0 other file(s)"
            ],
            "text/plain": [
              "<IPython.core.display.HTML object>"
            ]
          },
          "metadata": {},
          "output_type": "display_data"
        },
        {
          "data": {
            "text/html": [
              "Find logs at: <code>./wandb/run-20250316_080058-68aa8xiv/logs</code>"
            ],
            "text/plain": [
              "<IPython.core.display.HTML object>"
            ]
          },
          "metadata": {},
          "output_type": "display_data"
        },
        {
          "name": "stderr",
          "output_type": "stream",
          "text": [
            "\u001b[34m\u001b[1mwandb\u001b[0m: Agent Starting Run: k2mzsqhn with config:\n",
            "\u001b[34m\u001b[1mwandb\u001b[0m: \tactivation: tanh\n",
            "\u001b[34m\u001b[1mwandb\u001b[0m: \tbatch_size: 32\n",
            "\u001b[34m\u001b[1mwandb\u001b[0m: \tepochs: 10\n",
            "\u001b[34m\u001b[1mwandb\u001b[0m: \tinit_method: xavier\n",
            "\u001b[34m\u001b[1mwandb\u001b[0m: \tlearning_rate: 0.001\n",
            "\u001b[34m\u001b[1mwandb\u001b[0m: \tloss: mse\n",
            "\u001b[34m\u001b[1mwandb\u001b[0m: \tnum_hidden_layers: 4\n",
            "\u001b[34m\u001b[1mwandb\u001b[0m: \tnum_hidden_nodes: 64\n",
            "\u001b[34m\u001b[1mwandb\u001b[0m: \toptimizer: adam\n"
          ]
        },
        {
          "data": {
            "text/html": [
              "Ignoring project 'Assignment1' when running a sweep."
            ],
            "text/plain": [
              "<IPython.core.display.HTML object>"
            ]
          },
          "metadata": {},
          "output_type": "display_data"
        },
        {
          "data": {
            "text/html": [
              "Tracking run with wandb version 0.19.8"
            ],
            "text/plain": [
              "<IPython.core.display.HTML object>"
            ]
          },
          "metadata": {},
          "output_type": "display_data"
        },
        {
          "data": {
            "text/html": [
              "Run data is saved locally in <code>/content/wandb/run-20250316_080133-k2mzsqhn</code>"
            ],
            "text/plain": [
              "<IPython.core.display.HTML object>"
            ]
          },
          "metadata": {},
          "output_type": "display_data"
        },
        {
          "data": {
            "text/html": [
              "Syncing run <strong><a href='https://wandb.ai/ajay-madkami-iitm-indian-institute-of-technology-mad/Assignment1/runs/k2mzsqhn' target=\"_blank\">sandy-sweep-21</a></strong> to <a href='https://wandb.ai/ajay-madkami-iitm-indian-institute-of-technology-mad/Assignment1' target=\"_blank\">Weights & Biases</a> (<a href='https://wandb.me/developer-guide' target=\"_blank\">docs</a>)<br>Sweep page: <a href='https://wandb.ai/ajay-madkami-iitm-indian-institute-of-technology-mad/Assignment1/sweeps/mcgkxgsu' target=\"_blank\">https://wandb.ai/ajay-madkami-iitm-indian-institute-of-technology-mad/Assignment1/sweeps/mcgkxgsu</a>"
            ],
            "text/plain": [
              "<IPython.core.display.HTML object>"
            ]
          },
          "metadata": {},
          "output_type": "display_data"
        },
        {
          "data": {
            "text/html": [
              " View project at <a href='https://wandb.ai/ajay-madkami-iitm-indian-institute-of-technology-mad/Assignment1' target=\"_blank\">https://wandb.ai/ajay-madkami-iitm-indian-institute-of-technology-mad/Assignment1</a>"
            ],
            "text/plain": [
              "<IPython.core.display.HTML object>"
            ]
          },
          "metadata": {},
          "output_type": "display_data"
        },
        {
          "data": {
            "text/html": [
              " View sweep at <a href='https://wandb.ai/ajay-madkami-iitm-indian-institute-of-technology-mad/Assignment1/sweeps/mcgkxgsu' target=\"_blank\">https://wandb.ai/ajay-madkami-iitm-indian-institute-of-technology-mad/Assignment1/sweeps/mcgkxgsu</a>"
            ],
            "text/plain": [
              "<IPython.core.display.HTML object>"
            ]
          },
          "metadata": {},
          "output_type": "display_data"
        },
        {
          "data": {
            "text/html": [
              " View run at <a href='https://wandb.ai/ajay-madkami-iitm-indian-institute-of-technology-mad/Assignment1/runs/k2mzsqhn' target=\"_blank\">https://wandb.ai/ajay-madkami-iitm-indian-institute-of-technology-mad/Assignment1/runs/k2mzsqhn</a>"
            ],
            "text/plain": [
              "<IPython.core.display.HTML object>"
            ]
          },
          "metadata": {},
          "output_type": "display_data"
        },
        {
          "name": "stdout",
          "output_type": "stream",
          "text": [
            "Epoch 1/10, Train Loss: 0.0631, Val Loss: 0.0629, Train Acc: 0.7810, Val Acc: 0.7876\n",
            "Epoch 2/10, Train Loss: 0.0487, Val Loss: 0.0484, Train Acc: 0.8410, Val Acc: 0.8485\n",
            "Epoch 3/10, Train Loss: 0.0412, Val Loss: 0.0409, Train Acc: 0.8804, Val Acc: 0.8846\n",
            "Epoch 4/10, Train Loss: 0.0367, Val Loss: 0.0365, Train Acc: 0.9029, Val Acc: 0.9053\n",
            "Epoch 5/10, Train Loss: 0.0336, Val Loss: 0.0335, Train Acc: 0.9209, Val Acc: 0.9230\n",
            "Epoch 6/10, Train Loss: 0.0314, Val Loss: 0.0313, Train Acc: 0.9361, Val Acc: 0.9347\n",
            "Epoch 7/10, Train Loss: 0.0296, Val Loss: 0.0296, Train Acc: 0.9485, Val Acc: 0.9459\n",
            "Epoch 8/10, Train Loss: 0.0282, Val Loss: 0.0283, Train Acc: 0.9570, Val Acc: 0.9543\n",
            "Epoch 9/10, Train Loss: 0.0270, Val Loss: 0.0273, Train Acc: 0.9634, Val Acc: 0.9605\n",
            "Epoch 10/10, Train Loss: 0.0261, Val Loss: 0.0264, Train Acc: 0.9691, Val Acc: 0.9660\n"
          ]
        },
        {
          "data": {
            "text/html": [],
            "text/plain": [
              "<IPython.core.display.HTML object>"
            ]
          },
          "metadata": {},
          "output_type": "display_data"
        },
        {
          "data": {
            "text/html": [
              "<br>    <style><br>        .wandb-row {<br>            display: flex;<br>            flex-direction: row;<br>            flex-wrap: wrap;<br>            justify-content: flex-start;<br>            width: 100%;<br>        }<br>        .wandb-col {<br>            display: flex;<br>            flex-direction: column;<br>            flex-basis: 100%;<br>            flex: 1;<br>            padding: 10px;<br>        }<br>    </style><br><div class=\"wandb-row\"><div class=\"wandb-col\"><h3>Run history:</h3><br/><table class=\"wandb\"><tr><td>epoch</td><td>▁▂▃▃▄▅▆▆▇█</td></tr><tr><td>train_acc</td><td>▁▃▅▆▆▇▇███</td></tr><tr><td>train_loss</td><td>█▅▄▃▂▂▂▁▁▁</td></tr><tr><td>val_acc</td><td>▁▃▅▆▆▇▇███</td></tr><tr><td>val_loss</td><td>█▅▄▃▂▂▂▁▁▁</td></tr></table><br/></div><div class=\"wandb-col\"><h3>Run summary:</h3><br/><table class=\"wandb\"><tr><td>epoch</td><td>10</td></tr><tr><td>train_acc</td><td>0.96906</td></tr><tr><td>train_loss</td><td>0.02613</td></tr><tr><td>val_acc</td><td>0.966</td></tr><tr><td>val_loss</td><td>0.02644</td></tr></table><br/></div></div>"
            ],
            "text/plain": [
              "<IPython.core.display.HTML object>"
            ]
          },
          "metadata": {},
          "output_type": "display_data"
        },
        {
          "data": {
            "text/html": [
              " View run <strong style=\"color:#cdcd00\">sandy-sweep-21</strong> at: <a href='https://wandb.ai/ajay-madkami-iitm-indian-institute-of-technology-mad/Assignment1/runs/k2mzsqhn' target=\"_blank\">https://wandb.ai/ajay-madkami-iitm-indian-institute-of-technology-mad/Assignment1/runs/k2mzsqhn</a><br> View project at: <a href='https://wandb.ai/ajay-madkami-iitm-indian-institute-of-technology-mad/Assignment1' target=\"_blank\">https://wandb.ai/ajay-madkami-iitm-indian-institute-of-technology-mad/Assignment1</a><br>Synced 5 W&B file(s), 0 media file(s), 0 artifact file(s) and 0 other file(s)"
            ],
            "text/plain": [
              "<IPython.core.display.HTML object>"
            ]
          },
          "metadata": {},
          "output_type": "display_data"
        },
        {
          "data": {
            "text/html": [
              "Find logs at: <code>./wandb/run-20250316_080133-k2mzsqhn/logs</code>"
            ],
            "text/plain": [
              "<IPython.core.display.HTML object>"
            ]
          },
          "metadata": {},
          "output_type": "display_data"
        },
        {
          "name": "stderr",
          "output_type": "stream",
          "text": [
            "\u001b[34m\u001b[1mwandb\u001b[0m: Sweep Agent: Waiting for job.\n",
            "\u001b[34m\u001b[1mwandb\u001b[0m: Job received.\n",
            "\u001b[34m\u001b[1mwandb\u001b[0m: Agent Starting Run: mm9mohw2 with config:\n",
            "\u001b[34m\u001b[1mwandb\u001b[0m: \tactivation: sigmoid\n",
            "\u001b[34m\u001b[1mwandb\u001b[0m: \tbatch_size: 32\n",
            "\u001b[34m\u001b[1mwandb\u001b[0m: \tepochs: 10\n",
            "\u001b[34m\u001b[1mwandb\u001b[0m: \tinit_method: random\n",
            "\u001b[34m\u001b[1mwandb\u001b[0m: \tlearning_rate: 0.001\n",
            "\u001b[34m\u001b[1mwandb\u001b[0m: \tloss: mse\n",
            "\u001b[34m\u001b[1mwandb\u001b[0m: \tnum_hidden_layers: 4\n",
            "\u001b[34m\u001b[1mwandb\u001b[0m: \tnum_hidden_nodes: 64\n",
            "\u001b[34m\u001b[1mwandb\u001b[0m: \toptimizer: adam\n"
          ]
        },
        {
          "data": {
            "text/html": [
              "Ignoring project 'Assignment1' when running a sweep."
            ],
            "text/plain": [
              "<IPython.core.display.HTML object>"
            ]
          },
          "metadata": {},
          "output_type": "display_data"
        },
        {
          "data": {
            "text/html": [
              "Tracking run with wandb version 0.19.8"
            ],
            "text/plain": [
              "<IPython.core.display.HTML object>"
            ]
          },
          "metadata": {},
          "output_type": "display_data"
        },
        {
          "data": {
            "text/html": [
              "Run data is saved locally in <code>/content/wandb/run-20250316_080249-mm9mohw2</code>"
            ],
            "text/plain": [
              "<IPython.core.display.HTML object>"
            ]
          },
          "metadata": {},
          "output_type": "display_data"
        },
        {
          "data": {
            "text/html": [
              "Syncing run <strong><a href='https://wandb.ai/ajay-madkami-iitm-indian-institute-of-technology-mad/Assignment1/runs/mm9mohw2' target=\"_blank\">noble-sweep-22</a></strong> to <a href='https://wandb.ai/ajay-madkami-iitm-indian-institute-of-technology-mad/Assignment1' target=\"_blank\">Weights & Biases</a> (<a href='https://wandb.me/developer-guide' target=\"_blank\">docs</a>)<br>Sweep page: <a href='https://wandb.ai/ajay-madkami-iitm-indian-institute-of-technology-mad/Assignment1/sweeps/mcgkxgsu' target=\"_blank\">https://wandb.ai/ajay-madkami-iitm-indian-institute-of-technology-mad/Assignment1/sweeps/mcgkxgsu</a>"
            ],
            "text/plain": [
              "<IPython.core.display.HTML object>"
            ]
          },
          "metadata": {},
          "output_type": "display_data"
        },
        {
          "data": {
            "text/html": [
              " View project at <a href='https://wandb.ai/ajay-madkami-iitm-indian-institute-of-technology-mad/Assignment1' target=\"_blank\">https://wandb.ai/ajay-madkami-iitm-indian-institute-of-technology-mad/Assignment1</a>"
            ],
            "text/plain": [
              "<IPython.core.display.HTML object>"
            ]
          },
          "metadata": {},
          "output_type": "display_data"
        },
        {
          "data": {
            "text/html": [
              " View sweep at <a href='https://wandb.ai/ajay-madkami-iitm-indian-institute-of-technology-mad/Assignment1/sweeps/mcgkxgsu' target=\"_blank\">https://wandb.ai/ajay-madkami-iitm-indian-institute-of-technology-mad/Assignment1/sweeps/mcgkxgsu</a>"
            ],
            "text/plain": [
              "<IPython.core.display.HTML object>"
            ]
          },
          "metadata": {},
          "output_type": "display_data"
        },
        {
          "data": {
            "text/html": [
              " View run at <a href='https://wandb.ai/ajay-madkami-iitm-indian-institute-of-technology-mad/Assignment1/runs/mm9mohw2' target=\"_blank\">https://wandb.ai/ajay-madkami-iitm-indian-institute-of-technology-mad/Assignment1/runs/mm9mohw2</a>"
            ],
            "text/plain": [
              "<IPython.core.display.HTML object>"
            ]
          },
          "metadata": {},
          "output_type": "display_data"
        },
        {
          "name": "stdout",
          "output_type": "stream",
          "text": [
            "Epoch 1/10, Train Loss: 0.0900, Val Loss: 0.0900, Train Acc: 0.2504, Val Acc: 0.2483\n",
            "Epoch 2/10, Train Loss: 0.0900, Val Loss: 0.0900, Train Acc: 0.2504, Val Acc: 0.2483\n",
            "Epoch 3/10, Train Loss: 0.0900, Val Loss: 0.0900, Train Acc: 0.2504, Val Acc: 0.2483\n",
            "Epoch 4/10, Train Loss: 0.0900, Val Loss: 0.0900, Train Acc: 0.2504, Val Acc: 0.2483\n",
            "Epoch 5/10, Train Loss: 0.0900, Val Loss: 0.0900, Train Acc: 0.2504, Val Acc: 0.2483\n",
            "Epoch 6/10, Train Loss: 0.0900, Val Loss: 0.0900, Train Acc: 0.2504, Val Acc: 0.2483\n",
            "Epoch 7/10, Train Loss: 0.0900, Val Loss: 0.0900, Train Acc: 0.2504, Val Acc: 0.2483\n",
            "Epoch 8/10, Train Loss: 0.0900, Val Loss: 0.0900, Train Acc: 0.2504, Val Acc: 0.2483\n",
            "Epoch 9/10, Train Loss: 0.0900, Val Loss: 0.0900, Train Acc: 0.2504, Val Acc: 0.2483\n",
            "Epoch 10/10, Train Loss: 0.0900, Val Loss: 0.0900, Train Acc: 0.2504, Val Acc: 0.2483\n"
          ]
        },
        {
          "data": {
            "text/html": [],
            "text/plain": [
              "<IPython.core.display.HTML object>"
            ]
          },
          "metadata": {},
          "output_type": "display_data"
        },
        {
          "data": {
            "text/html": [
              "<br>    <style><br>        .wandb-row {<br>            display: flex;<br>            flex-direction: row;<br>            flex-wrap: wrap;<br>            justify-content: flex-start;<br>            width: 100%;<br>        }<br>        .wandb-col {<br>            display: flex;<br>            flex-direction: column;<br>            flex-basis: 100%;<br>            flex: 1;<br>            padding: 10px;<br>        }<br>    </style><br><div class=\"wandb-row\"><div class=\"wandb-col\"><h3>Run history:</h3><br/><table class=\"wandb\"><tr><td>epoch</td><td>▁▂▃▃▄▅▆▆▇█</td></tr><tr><td>train_acc</td><td>▁▁▁▁▁▁▁▁▁▁</td></tr><tr><td>train_loss</td><td>█▁▁▁▁▁▁▁▁▁</td></tr><tr><td>val_acc</td><td>▁▁▁▁▁▁▁▁▁▁</td></tr><tr><td>val_loss</td><td>█▁▁▁▁▁▁▁▁▁</td></tr></table><br/></div><div class=\"wandb-col\"><h3>Run summary:</h3><br/><table class=\"wandb\"><tr><td>epoch</td><td>10</td></tr><tr><td>train_acc</td><td>0.25042</td></tr><tr><td>train_loss</td><td>0.09</td></tr><tr><td>val_acc</td><td>0.24833</td></tr><tr><td>val_loss</td><td>0.09</td></tr></table><br/></div></div>"
            ],
            "text/plain": [
              "<IPython.core.display.HTML object>"
            ]
          },
          "metadata": {},
          "output_type": "display_data"
        },
        {
          "data": {
            "text/html": [
              " View run <strong style=\"color:#cdcd00\">noble-sweep-22</strong> at: <a href='https://wandb.ai/ajay-madkami-iitm-indian-institute-of-technology-mad/Assignment1/runs/mm9mohw2' target=\"_blank\">https://wandb.ai/ajay-madkami-iitm-indian-institute-of-technology-mad/Assignment1/runs/mm9mohw2</a><br> View project at: <a href='https://wandb.ai/ajay-madkami-iitm-indian-institute-of-technology-mad/Assignment1' target=\"_blank\">https://wandb.ai/ajay-madkami-iitm-indian-institute-of-technology-mad/Assignment1</a><br>Synced 5 W&B file(s), 0 media file(s), 0 artifact file(s) and 0 other file(s)"
            ],
            "text/plain": [
              "<IPython.core.display.HTML object>"
            ]
          },
          "metadata": {},
          "output_type": "display_data"
        },
        {
          "data": {
            "text/html": [
              "Find logs at: <code>./wandb/run-20250316_080249-mm9mohw2/logs</code>"
            ],
            "text/plain": [
              "<IPython.core.display.HTML object>"
            ]
          },
          "metadata": {},
          "output_type": "display_data"
        },
        {
          "name": "stderr",
          "output_type": "stream",
          "text": [
            "\u001b[34m\u001b[1mwandb\u001b[0m: Agent Starting Run: bbytr6kf with config:\n",
            "\u001b[34m\u001b[1mwandb\u001b[0m: \tactivation: tanh\n",
            "\u001b[34m\u001b[1mwandb\u001b[0m: \tbatch_size: 16\n",
            "\u001b[34m\u001b[1mwandb\u001b[0m: \tepochs: 10\n",
            "\u001b[34m\u001b[1mwandb\u001b[0m: \tinit_method: xavier\n",
            "\u001b[34m\u001b[1mwandb\u001b[0m: \tlearning_rate: 0.0001\n",
            "\u001b[34m\u001b[1mwandb\u001b[0m: \tloss: mse\n",
            "\u001b[34m\u001b[1mwandb\u001b[0m: \tnum_hidden_layers: 4\n",
            "\u001b[34m\u001b[1mwandb\u001b[0m: \tnum_hidden_nodes: 64\n",
            "\u001b[34m\u001b[1mwandb\u001b[0m: \toptimizer: nadam\n"
          ]
        },
        {
          "data": {
            "text/html": [
              "Ignoring project 'Assignment1' when running a sweep."
            ],
            "text/plain": [
              "<IPython.core.display.HTML object>"
            ]
          },
          "metadata": {},
          "output_type": "display_data"
        },
        {
          "data": {
            "text/html": [
              "Tracking run with wandb version 0.19.8"
            ],
            "text/plain": [
              "<IPython.core.display.HTML object>"
            ]
          },
          "metadata": {},
          "output_type": "display_data"
        },
        {
          "data": {
            "text/html": [
              "Run data is saved locally in <code>/content/wandb/run-20250316_080350-bbytr6kf</code>"
            ],
            "text/plain": [
              "<IPython.core.display.HTML object>"
            ]
          },
          "metadata": {},
          "output_type": "display_data"
        },
        {
          "data": {
            "text/html": [
              "Syncing run <strong><a href='https://wandb.ai/ajay-madkami-iitm-indian-institute-of-technology-mad/Assignment1/runs/bbytr6kf' target=\"_blank\">fluent-sweep-23</a></strong> to <a href='https://wandb.ai/ajay-madkami-iitm-indian-institute-of-technology-mad/Assignment1' target=\"_blank\">Weights & Biases</a> (<a href='https://wandb.me/developer-guide' target=\"_blank\">docs</a>)<br>Sweep page: <a href='https://wandb.ai/ajay-madkami-iitm-indian-institute-of-technology-mad/Assignment1/sweeps/mcgkxgsu' target=\"_blank\">https://wandb.ai/ajay-madkami-iitm-indian-institute-of-technology-mad/Assignment1/sweeps/mcgkxgsu</a>"
            ],
            "text/plain": [
              "<IPython.core.display.HTML object>"
            ]
          },
          "metadata": {},
          "output_type": "display_data"
        },
        {
          "data": {
            "text/html": [
              " View project at <a href='https://wandb.ai/ajay-madkami-iitm-indian-institute-of-technology-mad/Assignment1' target=\"_blank\">https://wandb.ai/ajay-madkami-iitm-indian-institute-of-technology-mad/Assignment1</a>"
            ],
            "text/plain": [
              "<IPython.core.display.HTML object>"
            ]
          },
          "metadata": {},
          "output_type": "display_data"
        },
        {
          "data": {
            "text/html": [
              " View sweep at <a href='https://wandb.ai/ajay-madkami-iitm-indian-institute-of-technology-mad/Assignment1/sweeps/mcgkxgsu' target=\"_blank\">https://wandb.ai/ajay-madkami-iitm-indian-institute-of-technology-mad/Assignment1/sweeps/mcgkxgsu</a>"
            ],
            "text/plain": [
              "<IPython.core.display.HTML object>"
            ]
          },
          "metadata": {},
          "output_type": "display_data"
        },
        {
          "data": {
            "text/html": [
              " View run at <a href='https://wandb.ai/ajay-madkami-iitm-indian-institute-of-technology-mad/Assignment1/runs/bbytr6kf' target=\"_blank\">https://wandb.ai/ajay-madkami-iitm-indian-institute-of-technology-mad/Assignment1/runs/bbytr6kf</a>"
            ],
            "text/plain": [
              "<IPython.core.display.HTML object>"
            ]
          },
          "metadata": {},
          "output_type": "display_data"
        },
        {
          "name": "stdout",
          "output_type": "stream",
          "text": [
            "Epoch 1/10, Train Loss: 0.0848, Val Loss: 0.0848, Train Acc: 0.5466, Val Acc: 0.5432\n",
            "Epoch 2/10, Train Loss: 0.0791, Val Loss: 0.0791, Train Acc: 0.6900, Val Acc: 0.6953\n",
            "Epoch 3/10, Train Loss: 0.0735, Val Loss: 0.0734, Train Acc: 0.7415, Val Acc: 0.7499\n",
            "Epoch 4/10, Train Loss: 0.0684, Val Loss: 0.0684, Train Acc: 0.7640, Val Acc: 0.7711\n",
            "Epoch 5/10, Train Loss: 0.0640, Val Loss: 0.0639, Train Acc: 0.7852, Val Acc: 0.7919\n",
            "Epoch 6/10, Train Loss: 0.0602, Val Loss: 0.0600, Train Acc: 0.8068, Val Acc: 0.8133\n",
            "Epoch 7/10, Train Loss: 0.0568, Val Loss: 0.0566, Train Acc: 0.8219, Val Acc: 0.8303\n",
            "Epoch 8/10, Train Loss: 0.0539, Val Loss: 0.0536, Train Acc: 0.8318, Val Acc: 0.8412\n",
            "Epoch 9/10, Train Loss: 0.0513, Val Loss: 0.0511, Train Acc: 0.8411, Val Acc: 0.8486\n",
            "Epoch 10/10, Train Loss: 0.0491, Val Loss: 0.0488, Train Acc: 0.8480, Val Acc: 0.8548\n"
          ]
        },
        {
          "data": {
            "text/html": [],
            "text/plain": [
              "<IPython.core.display.HTML object>"
            ]
          },
          "metadata": {},
          "output_type": "display_data"
        },
        {
          "data": {
            "text/html": [
              "<br>    <style><br>        .wandb-row {<br>            display: flex;<br>            flex-direction: row;<br>            flex-wrap: wrap;<br>            justify-content: flex-start;<br>            width: 100%;<br>        }<br>        .wandb-col {<br>            display: flex;<br>            flex-direction: column;<br>            flex-basis: 100%;<br>            flex: 1;<br>            padding: 10px;<br>        }<br>    </style><br><div class=\"wandb-row\"><div class=\"wandb-col\"><h3>Run history:</h3><br/><table class=\"wandb\"><tr><td>epoch</td><td>▁▂▃▃▄▅▆▆▇█</td></tr><tr><td>train_acc</td><td>▁▄▆▆▇▇▇███</td></tr><tr><td>train_loss</td><td>█▇▆▅▄▃▃▂▁▁</td></tr><tr><td>val_acc</td><td>▁▄▆▆▇▇▇███</td></tr><tr><td>val_loss</td><td>█▇▆▅▄▃▃▂▁▁</td></tr></table><br/></div><div class=\"wandb-col\"><h3>Run summary:</h3><br/><table class=\"wandb\"><tr><td>epoch</td><td>10</td></tr><tr><td>train_acc</td><td>0.84798</td></tr><tr><td>train_loss</td><td>0.0491</td></tr><tr><td>val_acc</td><td>0.85475</td></tr><tr><td>val_loss</td><td>0.0488</td></tr></table><br/></div></div>"
            ],
            "text/plain": [
              "<IPython.core.display.HTML object>"
            ]
          },
          "metadata": {},
          "output_type": "display_data"
        },
        {
          "data": {
            "text/html": [
              " View run <strong style=\"color:#cdcd00\">fluent-sweep-23</strong> at: <a href='https://wandb.ai/ajay-madkami-iitm-indian-institute-of-technology-mad/Assignment1/runs/bbytr6kf' target=\"_blank\">https://wandb.ai/ajay-madkami-iitm-indian-institute-of-technology-mad/Assignment1/runs/bbytr6kf</a><br> View project at: <a href='https://wandb.ai/ajay-madkami-iitm-indian-institute-of-technology-mad/Assignment1' target=\"_blank\">https://wandb.ai/ajay-madkami-iitm-indian-institute-of-technology-mad/Assignment1</a><br>Synced 5 W&B file(s), 0 media file(s), 0 artifact file(s) and 0 other file(s)"
            ],
            "text/plain": [
              "<IPython.core.display.HTML object>"
            ]
          },
          "metadata": {},
          "output_type": "display_data"
        },
        {
          "data": {
            "text/html": [
              "Find logs at: <code>./wandb/run-20250316_080350-bbytr6kf/logs</code>"
            ],
            "text/plain": [
              "<IPython.core.display.HTML object>"
            ]
          },
          "metadata": {},
          "output_type": "display_data"
        },
        {
          "name": "stderr",
          "output_type": "stream",
          "text": [
            "\u001b[34m\u001b[1mwandb\u001b[0m: Sweep Agent: Waiting for job.\n",
            "\u001b[34m\u001b[1mwandb\u001b[0m: Job received.\n",
            "\u001b[34m\u001b[1mwandb\u001b[0m: Agent Starting Run: of726zk5 with config:\n",
            "\u001b[34m\u001b[1mwandb\u001b[0m: \tactivation: relu\n",
            "\u001b[34m\u001b[1mwandb\u001b[0m: \tbatch_size: 16\n",
            "\u001b[34m\u001b[1mwandb\u001b[0m: \tepochs: 10\n",
            "\u001b[34m\u001b[1mwandb\u001b[0m: \tinit_method: xavier\n",
            "\u001b[34m\u001b[1mwandb\u001b[0m: \tlearning_rate: 0.001\n",
            "\u001b[34m\u001b[1mwandb\u001b[0m: \tloss: mse\n",
            "\u001b[34m\u001b[1mwandb\u001b[0m: \tnum_hidden_layers: 3\n",
            "\u001b[34m\u001b[1mwandb\u001b[0m: \tnum_hidden_nodes: 64\n",
            "\u001b[34m\u001b[1mwandb\u001b[0m: \toptimizer: nesterov\n"
          ]
        },
        {
          "data": {
            "text/html": [
              "Ignoring project 'Assignment1' when running a sweep."
            ],
            "text/plain": [
              "<IPython.core.display.HTML object>"
            ]
          },
          "metadata": {},
          "output_type": "display_data"
        },
        {
          "data": {
            "text/html": [
              "Tracking run with wandb version 0.19.8"
            ],
            "text/plain": [
              "<IPython.core.display.HTML object>"
            ]
          },
          "metadata": {},
          "output_type": "display_data"
        },
        {
          "data": {
            "text/html": [
              "Run data is saved locally in <code>/content/wandb/run-20250316_080521-of726zk5</code>"
            ],
            "text/plain": [
              "<IPython.core.display.HTML object>"
            ]
          },
          "metadata": {},
          "output_type": "display_data"
        },
        {
          "data": {
            "text/html": [
              "Syncing run <strong><a href='https://wandb.ai/ajay-madkami-iitm-indian-institute-of-technology-mad/Assignment1/runs/of726zk5' target=\"_blank\">quiet-sweep-24</a></strong> to <a href='https://wandb.ai/ajay-madkami-iitm-indian-institute-of-technology-mad/Assignment1' target=\"_blank\">Weights & Biases</a> (<a href='https://wandb.me/developer-guide' target=\"_blank\">docs</a>)<br>Sweep page: <a href='https://wandb.ai/ajay-madkami-iitm-indian-institute-of-technology-mad/Assignment1/sweeps/mcgkxgsu' target=\"_blank\">https://wandb.ai/ajay-madkami-iitm-indian-institute-of-technology-mad/Assignment1/sweeps/mcgkxgsu</a>"
            ],
            "text/plain": [
              "<IPython.core.display.HTML object>"
            ]
          },
          "metadata": {},
          "output_type": "display_data"
        },
        {
          "data": {
            "text/html": [
              " View project at <a href='https://wandb.ai/ajay-madkami-iitm-indian-institute-of-technology-mad/Assignment1' target=\"_blank\">https://wandb.ai/ajay-madkami-iitm-indian-institute-of-technology-mad/Assignment1</a>"
            ],
            "text/plain": [
              "<IPython.core.display.HTML object>"
            ]
          },
          "metadata": {},
          "output_type": "display_data"
        },
        {
          "data": {
            "text/html": [
              " View sweep at <a href='https://wandb.ai/ajay-madkami-iitm-indian-institute-of-technology-mad/Assignment1/sweeps/mcgkxgsu' target=\"_blank\">https://wandb.ai/ajay-madkami-iitm-indian-institute-of-technology-mad/Assignment1/sweeps/mcgkxgsu</a>"
            ],
            "text/plain": [
              "<IPython.core.display.HTML object>"
            ]
          },
          "metadata": {},
          "output_type": "display_data"
        },
        {
          "data": {
            "text/html": [
              " View run at <a href='https://wandb.ai/ajay-madkami-iitm-indian-institute-of-technology-mad/Assignment1/runs/of726zk5' target=\"_blank\">https://wandb.ai/ajay-madkami-iitm-indian-institute-of-technology-mad/Assignment1/runs/of726zk5</a>"
            ],
            "text/plain": [
              "<IPython.core.display.HTML object>"
            ]
          },
          "metadata": {},
          "output_type": "display_data"
        },
        {
          "name": "stdout",
          "output_type": "stream",
          "text": [
            "Epoch 1/10, Train Loss: 0.0552, Val Loss: 0.0548, Train Acc: 0.8019, Val Acc: 0.8134\n",
            "Epoch 2/10, Train Loss: 0.0398, Val Loss: 0.0393, Train Acc: 0.8554, Val Acc: 0.8661\n",
            "Epoch 3/10, Train Loss: 0.0348, Val Loss: 0.0345, Train Acc: 0.9057, Val Acc: 0.9113\n",
            "Epoch 4/10, Train Loss: 0.0311, Val Loss: 0.0311, Train Acc: 0.9371, Val Acc: 0.9348\n",
            "Epoch 5/10, Train Loss: 0.0287, Val Loss: 0.0288, Train Acc: 0.9546, Val Acc: 0.9522\n",
            "Epoch 6/10, Train Loss: 0.0270, Val Loss: 0.0273, Train Acc: 0.9662, Val Acc: 0.9636\n",
            "Epoch 7/10, Train Loss: 0.0258, Val Loss: 0.0262, Train Acc: 0.9744, Val Acc: 0.9702\n",
            "Epoch 8/10, Train Loss: 0.0249, Val Loss: 0.0254, Train Acc: 0.9798, Val Acc: 0.9738\n",
            "Epoch 9/10, Train Loss: 0.0242, Val Loss: 0.0247, Train Acc: 0.9845, Val Acc: 0.9776\n",
            "Epoch 10/10, Train Loss: 0.0236, Val Loss: 0.0242, Train Acc: 0.9880, Val Acc: 0.9802\n"
          ]
        },
        {
          "data": {
            "text/html": [],
            "text/plain": [
              "<IPython.core.display.HTML object>"
            ]
          },
          "metadata": {},
          "output_type": "display_data"
        },
        {
          "data": {
            "text/html": [
              "<br>    <style><br>        .wandb-row {<br>            display: flex;<br>            flex-direction: row;<br>            flex-wrap: wrap;<br>            justify-content: flex-start;<br>            width: 100%;<br>        }<br>        .wandb-col {<br>            display: flex;<br>            flex-direction: column;<br>            flex-basis: 100%;<br>            flex: 1;<br>            padding: 10px;<br>        }<br>    </style><br><div class=\"wandb-row\"><div class=\"wandb-col\"><h3>Run history:</h3><br/><table class=\"wandb\"><tr><td>epoch</td><td>▁▂▃▃▄▅▆▆▇█</td></tr><tr><td>train_acc</td><td>▁▃▅▆▇▇▇███</td></tr><tr><td>train_loss</td><td>█▅▃▃▂▂▁▁▁▁</td></tr><tr><td>val_acc</td><td>▁▃▅▆▇▇████</td></tr><tr><td>val_loss</td><td>█▄▃▃▂▂▁▁▁▁</td></tr></table><br/></div><div class=\"wandb-col\"><h3>Run summary:</h3><br/><table class=\"wandb\"><tr><td>epoch</td><td>10</td></tr><tr><td>train_acc</td><td>0.98804</td></tr><tr><td>train_loss</td><td>0.02362</td></tr><tr><td>val_acc</td><td>0.98017</td></tr><tr><td>val_loss</td><td>0.0242</td></tr></table><br/></div></div>"
            ],
            "text/plain": [
              "<IPython.core.display.HTML object>"
            ]
          },
          "metadata": {},
          "output_type": "display_data"
        },
        {
          "data": {
            "text/html": [
              " View run <strong style=\"color:#cdcd00\">quiet-sweep-24</strong> at: <a href='https://wandb.ai/ajay-madkami-iitm-indian-institute-of-technology-mad/Assignment1/runs/of726zk5' target=\"_blank\">https://wandb.ai/ajay-madkami-iitm-indian-institute-of-technology-mad/Assignment1/runs/of726zk5</a><br> View project at: <a href='https://wandb.ai/ajay-madkami-iitm-indian-institute-of-technology-mad/Assignment1' target=\"_blank\">https://wandb.ai/ajay-madkami-iitm-indian-institute-of-technology-mad/Assignment1</a><br>Synced 5 W&B file(s), 0 media file(s), 0 artifact file(s) and 0 other file(s)"
            ],
            "text/plain": [
              "<IPython.core.display.HTML object>"
            ]
          },
          "metadata": {},
          "output_type": "display_data"
        },
        {
          "data": {
            "text/html": [
              "Find logs at: <code>./wandb/run-20250316_080521-of726zk5/logs</code>"
            ],
            "text/plain": [
              "<IPython.core.display.HTML object>"
            ]
          },
          "metadata": {},
          "output_type": "display_data"
        },
        {
          "name": "stderr",
          "output_type": "stream",
          "text": [
            "\u001b[34m\u001b[1mwandb\u001b[0m: Agent Starting Run: 7qxenuri with config:\n",
            "\u001b[34m\u001b[1mwandb\u001b[0m: \tactivation: tanh\n",
            "\u001b[34m\u001b[1mwandb\u001b[0m: \tbatch_size: 16\n",
            "\u001b[34m\u001b[1mwandb\u001b[0m: \tepochs: 5\n",
            "\u001b[34m\u001b[1mwandb\u001b[0m: \tinit_method: xavier\n",
            "\u001b[34m\u001b[1mwandb\u001b[0m: \tlearning_rate: 0.001\n",
            "\u001b[34m\u001b[1mwandb\u001b[0m: \tloss: mse\n",
            "\u001b[34m\u001b[1mwandb\u001b[0m: \tnum_hidden_layers: 3\n",
            "\u001b[34m\u001b[1mwandb\u001b[0m: \tnum_hidden_nodes: 64\n",
            "\u001b[34m\u001b[1mwandb\u001b[0m: \toptimizer: nadam\n"
          ]
        },
        {
          "data": {
            "text/html": [
              "Ignoring project 'Assignment1' when running a sweep."
            ],
            "text/plain": [
              "<IPython.core.display.HTML object>"
            ]
          },
          "metadata": {},
          "output_type": "display_data"
        },
        {
          "data": {
            "text/html": [
              "Tracking run with wandb version 0.19.8"
            ],
            "text/plain": [
              "<IPython.core.display.HTML object>"
            ]
          },
          "metadata": {},
          "output_type": "display_data"
        },
        {
          "data": {
            "text/html": [
              "Run data is saved locally in <code>/content/wandb/run-20250316_080616-7qxenuri</code>"
            ],
            "text/plain": [
              "<IPython.core.display.HTML object>"
            ]
          },
          "metadata": {},
          "output_type": "display_data"
        },
        {
          "data": {
            "text/html": [
              "Syncing run <strong><a href='https://wandb.ai/ajay-madkami-iitm-indian-institute-of-technology-mad/Assignment1/runs/7qxenuri' target=\"_blank\">smart-sweep-25</a></strong> to <a href='https://wandb.ai/ajay-madkami-iitm-indian-institute-of-technology-mad/Assignment1' target=\"_blank\">Weights & Biases</a> (<a href='https://wandb.me/developer-guide' target=\"_blank\">docs</a>)<br>Sweep page: <a href='https://wandb.ai/ajay-madkami-iitm-indian-institute-of-technology-mad/Assignment1/sweeps/mcgkxgsu' target=\"_blank\">https://wandb.ai/ajay-madkami-iitm-indian-institute-of-technology-mad/Assignment1/sweeps/mcgkxgsu</a>"
            ],
            "text/plain": [
              "<IPython.core.display.HTML object>"
            ]
          },
          "metadata": {},
          "output_type": "display_data"
        },
        {
          "data": {
            "text/html": [
              " View project at <a href='https://wandb.ai/ajay-madkami-iitm-indian-institute-of-technology-mad/Assignment1' target=\"_blank\">https://wandb.ai/ajay-madkami-iitm-indian-institute-of-technology-mad/Assignment1</a>"
            ],
            "text/plain": [
              "<IPython.core.display.HTML object>"
            ]
          },
          "metadata": {},
          "output_type": "display_data"
        },
        {
          "data": {
            "text/html": [
              " View sweep at <a href='https://wandb.ai/ajay-madkami-iitm-indian-institute-of-technology-mad/Assignment1/sweeps/mcgkxgsu' target=\"_blank\">https://wandb.ai/ajay-madkami-iitm-indian-institute-of-technology-mad/Assignment1/sweeps/mcgkxgsu</a>"
            ],
            "text/plain": [
              "<IPython.core.display.HTML object>"
            ]
          },
          "metadata": {},
          "output_type": "display_data"
        },
        {
          "data": {
            "text/html": [
              " View run at <a href='https://wandb.ai/ajay-madkami-iitm-indian-institute-of-technology-mad/Assignment1/runs/7qxenuri' target=\"_blank\">https://wandb.ai/ajay-madkami-iitm-indian-institute-of-technology-mad/Assignment1/runs/7qxenuri</a>"
            ],
            "text/plain": [
              "<IPython.core.display.HTML object>"
            ]
          },
          "metadata": {},
          "output_type": "display_data"
        },
        {
          "name": "stdout",
          "output_type": "stream",
          "text": [
            "Epoch 1/5, Train Loss: 0.0446, Val Loss: 0.0443, Train Acc: 0.8472, Val Acc: 0.8502\n",
            "Epoch 2/5, Train Loss: 0.0359, Val Loss: 0.0358, Train Acc: 0.9093, Val Acc: 0.9102\n",
            "Epoch 3/5, Train Loss: 0.0313, Val Loss: 0.0314, Train Acc: 0.9412, Val Acc: 0.9363\n",
            "Epoch 4/5, Train Loss: 0.0285, Val Loss: 0.0287, Train Acc: 0.9567, Val Acc: 0.9541\n",
            "Epoch 5/5, Train Loss: 0.0266, Val Loss: 0.0270, Train Acc: 0.9672, Val Acc: 0.9640\n"
          ]
        },
        {
          "data": {
            "text/html": [],
            "text/plain": [
              "<IPython.core.display.HTML object>"
            ]
          },
          "metadata": {},
          "output_type": "display_data"
        },
        {
          "data": {
            "text/html": [
              "<br>    <style><br>        .wandb-row {<br>            display: flex;<br>            flex-direction: row;<br>            flex-wrap: wrap;<br>            justify-content: flex-start;<br>            width: 100%;<br>        }<br>        .wandb-col {<br>            display: flex;<br>            flex-direction: column;<br>            flex-basis: 100%;<br>            flex: 1;<br>            padding: 10px;<br>        }<br>    </style><br><div class=\"wandb-row\"><div class=\"wandb-col\"><h3>Run history:</h3><br/><table class=\"wandb\"><tr><td>epoch</td><td>▁▃▅▆█</td></tr><tr><td>train_acc</td><td>▁▅▆▇█</td></tr><tr><td>train_loss</td><td>█▅▃▂▁</td></tr><tr><td>val_acc</td><td>▁▅▆▇█</td></tr><tr><td>val_loss</td><td>█▅▃▂▁</td></tr></table><br/></div><div class=\"wandb-col\"><h3>Run summary:</h3><br/><table class=\"wandb\"><tr><td>epoch</td><td>5</td></tr><tr><td>train_acc</td><td>0.96719</td></tr><tr><td>train_loss</td><td>0.02661</td></tr><tr><td>val_acc</td><td>0.964</td></tr><tr><td>val_loss</td><td>0.02697</td></tr></table><br/></div></div>"
            ],
            "text/plain": [
              "<IPython.core.display.HTML object>"
            ]
          },
          "metadata": {},
          "output_type": "display_data"
        },
        {
          "data": {
            "text/html": [
              " View run <strong style=\"color:#cdcd00\">smart-sweep-25</strong> at: <a href='https://wandb.ai/ajay-madkami-iitm-indian-institute-of-technology-mad/Assignment1/runs/7qxenuri' target=\"_blank\">https://wandb.ai/ajay-madkami-iitm-indian-institute-of-technology-mad/Assignment1/runs/7qxenuri</a><br> View project at: <a href='https://wandb.ai/ajay-madkami-iitm-indian-institute-of-technology-mad/Assignment1' target=\"_blank\">https://wandb.ai/ajay-madkami-iitm-indian-institute-of-technology-mad/Assignment1</a><br>Synced 5 W&B file(s), 0 media file(s), 0 artifact file(s) and 0 other file(s)"
            ],
            "text/plain": [
              "<IPython.core.display.HTML object>"
            ]
          },
          "metadata": {},
          "output_type": "display_data"
        },
        {
          "data": {
            "text/html": [
              "Find logs at: <code>./wandb/run-20250316_080616-7qxenuri/logs</code>"
            ],
            "text/plain": [
              "<IPython.core.display.HTML object>"
            ]
          },
          "metadata": {},
          "output_type": "display_data"
        },
        {
          "name": "stderr",
          "output_type": "stream",
          "text": [
            "\u001b[34m\u001b[1mwandb\u001b[0m: Sweep Agent: Waiting for job.\n",
            "\u001b[34m\u001b[1mwandb\u001b[0m: Job received.\n",
            "\u001b[34m\u001b[1mwandb\u001b[0m: Agent Starting Run: kgocgrcm with config:\n",
            "\u001b[34m\u001b[1mwandb\u001b[0m: \tactivation: tanh\n",
            "\u001b[34m\u001b[1mwandb\u001b[0m: \tbatch_size: 64\n",
            "\u001b[34m\u001b[1mwandb\u001b[0m: \tepochs: 10\n",
            "\u001b[34m\u001b[1mwandb\u001b[0m: \tinit_method: random\n",
            "\u001b[34m\u001b[1mwandb\u001b[0m: \tlearning_rate: 0.001\n",
            "\u001b[34m\u001b[1mwandb\u001b[0m: \tloss: mse\n",
            "\u001b[34m\u001b[1mwandb\u001b[0m: \tnum_hidden_layers: 5\n",
            "\u001b[34m\u001b[1mwandb\u001b[0m: \tnum_hidden_nodes: 64\n",
            "\u001b[34m\u001b[1mwandb\u001b[0m: \toptimizer: sgd\n"
          ]
        },
        {
          "data": {
            "text/html": [
              "Ignoring project 'Assignment1' when running a sweep."
            ],
            "text/plain": [
              "<IPython.core.display.HTML object>"
            ]
          },
          "metadata": {},
          "output_type": "display_data"
        },
        {
          "data": {
            "text/html": [
              "Tracking run with wandb version 0.19.8"
            ],
            "text/plain": [
              "<IPython.core.display.HTML object>"
            ]
          },
          "metadata": {},
          "output_type": "display_data"
        },
        {
          "data": {
            "text/html": [
              "Run data is saved locally in <code>/content/wandb/run-20250316_080708-kgocgrcm</code>"
            ],
            "text/plain": [
              "<IPython.core.display.HTML object>"
            ]
          },
          "metadata": {},
          "output_type": "display_data"
        },
        {
          "data": {
            "text/html": [
              "Syncing run <strong><a href='https://wandb.ai/ajay-madkami-iitm-indian-institute-of-technology-mad/Assignment1/runs/kgocgrcm' target=\"_blank\">warm-sweep-26</a></strong> to <a href='https://wandb.ai/ajay-madkami-iitm-indian-institute-of-technology-mad/Assignment1' target=\"_blank\">Weights & Biases</a> (<a href='https://wandb.me/developer-guide' target=\"_blank\">docs</a>)<br>Sweep page: <a href='https://wandb.ai/ajay-madkami-iitm-indian-institute-of-technology-mad/Assignment1/sweeps/mcgkxgsu' target=\"_blank\">https://wandb.ai/ajay-madkami-iitm-indian-institute-of-technology-mad/Assignment1/sweeps/mcgkxgsu</a>"
            ],
            "text/plain": [
              "<IPython.core.display.HTML object>"
            ]
          },
          "metadata": {},
          "output_type": "display_data"
        },
        {
          "data": {
            "text/html": [
              " View project at <a href='https://wandb.ai/ajay-madkami-iitm-indian-institute-of-technology-mad/Assignment1' target=\"_blank\">https://wandb.ai/ajay-madkami-iitm-indian-institute-of-technology-mad/Assignment1</a>"
            ],
            "text/plain": [
              "<IPython.core.display.HTML object>"
            ]
          },
          "metadata": {},
          "output_type": "display_data"
        },
        {
          "data": {
            "text/html": [
              " View sweep at <a href='https://wandb.ai/ajay-madkami-iitm-indian-institute-of-technology-mad/Assignment1/sweeps/mcgkxgsu' target=\"_blank\">https://wandb.ai/ajay-madkami-iitm-indian-institute-of-technology-mad/Assignment1/sweeps/mcgkxgsu</a>"
            ],
            "text/plain": [
              "<IPython.core.display.HTML object>"
            ]
          },
          "metadata": {},
          "output_type": "display_data"
        },
        {
          "data": {
            "text/html": [
              " View run at <a href='https://wandb.ai/ajay-madkami-iitm-indian-institute-of-technology-mad/Assignment1/runs/kgocgrcm' target=\"_blank\">https://wandb.ai/ajay-madkami-iitm-indian-institute-of-technology-mad/Assignment1/runs/kgocgrcm</a>"
            ],
            "text/plain": [
              "<IPython.core.display.HTML object>"
            ]
          },
          "metadata": {},
          "output_type": "display_data"
        },
        {
          "name": "stdout",
          "output_type": "stream",
          "text": [
            "Epoch 1/10, Train Loss: 0.0900, Val Loss: 0.0900, Train Acc: 0.2511, Val Acc: 0.2457\n",
            "Epoch 2/10, Train Loss: 0.0900, Val Loss: 0.0900, Train Acc: 0.2511, Val Acc: 0.2457\n",
            "Epoch 3/10, Train Loss: 0.0900, Val Loss: 0.0900, Train Acc: 0.2511, Val Acc: 0.2457\n",
            "Epoch 4/10, Train Loss: 0.0900, Val Loss: 0.0900, Train Acc: 0.2511, Val Acc: 0.2457\n",
            "Epoch 5/10, Train Loss: 0.0900, Val Loss: 0.0900, Train Acc: 0.2511, Val Acc: 0.2457\n",
            "Epoch 6/10, Train Loss: 0.0900, Val Loss: 0.0900, Train Acc: 0.2511, Val Acc: 0.2457\n",
            "Epoch 7/10, Train Loss: 0.0900, Val Loss: 0.0900, Train Acc: 0.2511, Val Acc: 0.2457\n",
            "Epoch 8/10, Train Loss: 0.0900, Val Loss: 0.0900, Train Acc: 0.2511, Val Acc: 0.2457\n",
            "Epoch 9/10, Train Loss: 0.0900, Val Loss: 0.0900, Train Acc: 0.2511, Val Acc: 0.2457\n",
            "Epoch 10/10, Train Loss: 0.0900, Val Loss: 0.0900, Train Acc: 0.2511, Val Acc: 0.2457\n"
          ]
        },
        {
          "data": {
            "text/html": [],
            "text/plain": [
              "<IPython.core.display.HTML object>"
            ]
          },
          "metadata": {},
          "output_type": "display_data"
        },
        {
          "data": {
            "text/html": [
              "<br>    <style><br>        .wandb-row {<br>            display: flex;<br>            flex-direction: row;<br>            flex-wrap: wrap;<br>            justify-content: flex-start;<br>            width: 100%;<br>        }<br>        .wandb-col {<br>            display: flex;<br>            flex-direction: column;<br>            flex-basis: 100%;<br>            flex: 1;<br>            padding: 10px;<br>        }<br>    </style><br><div class=\"wandb-row\"><div class=\"wandb-col\"><h3>Run history:</h3><br/><table class=\"wandb\"><tr><td>epoch</td><td>▁▂▃▃▄▅▆▆▇█</td></tr><tr><td>train_acc</td><td>▁▁▁▁▁▁▁▁▁▁</td></tr><tr><td>train_loss</td><td>█▆▆▅▄▃▃▂▂▁</td></tr><tr><td>val_acc</td><td>▁▁▁▁▁▁▁▁▁▁</td></tr><tr><td>val_loss</td><td>▁▂▃▄▅▅▆▇▇█</td></tr></table><br/></div><div class=\"wandb-col\"><h3>Run summary:</h3><br/><table class=\"wandb\"><tr><td>epoch</td><td>10</td></tr><tr><td>train_acc</td><td>0.25106</td></tr><tr><td>train_loss</td><td>0.09</td></tr><tr><td>val_acc</td><td>0.24575</td></tr><tr><td>val_loss</td><td>0.09</td></tr></table><br/></div></div>"
            ],
            "text/plain": [
              "<IPython.core.display.HTML object>"
            ]
          },
          "metadata": {},
          "output_type": "display_data"
        },
        {
          "data": {
            "text/html": [
              " View run <strong style=\"color:#cdcd00\">warm-sweep-26</strong> at: <a href='https://wandb.ai/ajay-madkami-iitm-indian-institute-of-technology-mad/Assignment1/runs/kgocgrcm' target=\"_blank\">https://wandb.ai/ajay-madkami-iitm-indian-institute-of-technology-mad/Assignment1/runs/kgocgrcm</a><br> View project at: <a href='https://wandb.ai/ajay-madkami-iitm-indian-institute-of-technology-mad/Assignment1' target=\"_blank\">https://wandb.ai/ajay-madkami-iitm-indian-institute-of-technology-mad/Assignment1</a><br>Synced 5 W&B file(s), 0 media file(s), 0 artifact file(s) and 0 other file(s)"
            ],
            "text/plain": [
              "<IPython.core.display.HTML object>"
            ]
          },
          "metadata": {},
          "output_type": "display_data"
        },
        {
          "data": {
            "text/html": [
              "Find logs at: <code>./wandb/run-20250316_080708-kgocgrcm/logs</code>"
            ],
            "text/plain": [
              "<IPython.core.display.HTML object>"
            ]
          },
          "metadata": {},
          "output_type": "display_data"
        },
        {
          "name": "stderr",
          "output_type": "stream",
          "text": [
            "\u001b[34m\u001b[1mwandb\u001b[0m: Agent Starting Run: bpktxl1v with config:\n",
            "\u001b[34m\u001b[1mwandb\u001b[0m: \tactivation: tanh\n",
            "\u001b[34m\u001b[1mwandb\u001b[0m: \tbatch_size: 64\n",
            "\u001b[34m\u001b[1mwandb\u001b[0m: \tepochs: 5\n",
            "\u001b[34m\u001b[1mwandb\u001b[0m: \tinit_method: random\n",
            "\u001b[34m\u001b[1mwandb\u001b[0m: \tlearning_rate: 0.0001\n",
            "\u001b[34m\u001b[1mwandb\u001b[0m: \tloss: mse\n",
            "\u001b[34m\u001b[1mwandb\u001b[0m: \tnum_hidden_layers: 4\n",
            "\u001b[34m\u001b[1mwandb\u001b[0m: \tnum_hidden_nodes: 32\n",
            "\u001b[34m\u001b[1mwandb\u001b[0m: \toptimizer: nesterov\n"
          ]
        },
        {
          "data": {
            "text/html": [
              "Ignoring project 'Assignment1' when running a sweep."
            ],
            "text/plain": [
              "<IPython.core.display.HTML object>"
            ]
          },
          "metadata": {},
          "output_type": "display_data"
        },
        {
          "data": {
            "text/html": [
              "Tracking run with wandb version 0.19.8"
            ],
            "text/plain": [
              "<IPython.core.display.HTML object>"
            ]
          },
          "metadata": {},
          "output_type": "display_data"
        },
        {
          "data": {
            "text/html": [
              "Run data is saved locally in <code>/content/wandb/run-20250316_080818-bpktxl1v</code>"
            ],
            "text/plain": [
              "<IPython.core.display.HTML object>"
            ]
          },
          "metadata": {},
          "output_type": "display_data"
        },
        {
          "data": {
            "text/html": [
              "Syncing run <strong><a href='https://wandb.ai/ajay-madkami-iitm-indian-institute-of-technology-mad/Assignment1/runs/bpktxl1v' target=\"_blank\">sandy-sweep-27</a></strong> to <a href='https://wandb.ai/ajay-madkami-iitm-indian-institute-of-technology-mad/Assignment1' target=\"_blank\">Weights & Biases</a> (<a href='https://wandb.me/developer-guide' target=\"_blank\">docs</a>)<br>Sweep page: <a href='https://wandb.ai/ajay-madkami-iitm-indian-institute-of-technology-mad/Assignment1/sweeps/mcgkxgsu' target=\"_blank\">https://wandb.ai/ajay-madkami-iitm-indian-institute-of-technology-mad/Assignment1/sweeps/mcgkxgsu</a>"
            ],
            "text/plain": [
              "<IPython.core.display.HTML object>"
            ]
          },
          "metadata": {},
          "output_type": "display_data"
        },
        {
          "data": {
            "text/html": [
              " View project at <a href='https://wandb.ai/ajay-madkami-iitm-indian-institute-of-technology-mad/Assignment1' target=\"_blank\">https://wandb.ai/ajay-madkami-iitm-indian-institute-of-technology-mad/Assignment1</a>"
            ],
            "text/plain": [
              "<IPython.core.display.HTML object>"
            ]
          },
          "metadata": {},
          "output_type": "display_data"
        },
        {
          "data": {
            "text/html": [
              " View sweep at <a href='https://wandb.ai/ajay-madkami-iitm-indian-institute-of-technology-mad/Assignment1/sweeps/mcgkxgsu' target=\"_blank\">https://wandb.ai/ajay-madkami-iitm-indian-institute-of-technology-mad/Assignment1/sweeps/mcgkxgsu</a>"
            ],
            "text/plain": [
              "<IPython.core.display.HTML object>"
            ]
          },
          "metadata": {},
          "output_type": "display_data"
        },
        {
          "data": {
            "text/html": [
              " View run at <a href='https://wandb.ai/ajay-madkami-iitm-indian-institute-of-technology-mad/Assignment1/runs/bpktxl1v' target=\"_blank\">https://wandb.ai/ajay-madkami-iitm-indian-institute-of-technology-mad/Assignment1/runs/bpktxl1v</a>"
            ],
            "text/plain": [
              "<IPython.core.display.HTML object>"
            ]
          },
          "metadata": {},
          "output_type": "display_data"
        },
        {
          "name": "stdout",
          "output_type": "stream",
          "text": [
            "Epoch 1/5, Train Loss: 0.0900, Val Loss: 0.0900, Train Acc: 0.2511, Val Acc: 0.2457\n",
            "Epoch 2/5, Train Loss: 0.0900, Val Loss: 0.0900, Train Acc: 0.2511, Val Acc: 0.2457\n",
            "Epoch 3/5, Train Loss: 0.0900, Val Loss: 0.0900, Train Acc: 0.2511, Val Acc: 0.2457\n",
            "Epoch 4/5, Train Loss: 0.0900, Val Loss: 0.0900, Train Acc: 0.2511, Val Acc: 0.2457\n",
            "Epoch 5/5, Train Loss: 0.0900, Val Loss: 0.0900, Train Acc: 0.2511, Val Acc: 0.2457\n"
          ]
        },
        {
          "data": {
            "text/html": [],
            "text/plain": [
              "<IPython.core.display.HTML object>"
            ]
          },
          "metadata": {},
          "output_type": "display_data"
        },
        {
          "data": {
            "text/html": [
              "<br>    <style><br>        .wandb-row {<br>            display: flex;<br>            flex-direction: row;<br>            flex-wrap: wrap;<br>            justify-content: flex-start;<br>            width: 100%;<br>        }<br>        .wandb-col {<br>            display: flex;<br>            flex-direction: column;<br>            flex-basis: 100%;<br>            flex: 1;<br>            padding: 10px;<br>        }<br>    </style><br><div class=\"wandb-row\"><div class=\"wandb-col\"><h3>Run history:</h3><br/><table class=\"wandb\"><tr><td>epoch</td><td>▁▃▅▆█</td></tr><tr><td>train_acc</td><td>▁▁▁▁▁</td></tr><tr><td>train_loss</td><td>█▅▅▁▁</td></tr><tr><td>val_acc</td><td>▁▁▁▁▁</td></tr><tr><td>val_loss</td><td>▁▃▅▆█</td></tr></table><br/></div><div class=\"wandb-col\"><h3>Run summary:</h3><br/><table class=\"wandb\"><tr><td>epoch</td><td>5</td></tr><tr><td>train_acc</td><td>0.25106</td></tr><tr><td>train_loss</td><td>0.09</td></tr><tr><td>val_acc</td><td>0.24575</td></tr><tr><td>val_loss</td><td>0.09</td></tr></table><br/></div></div>"
            ],
            "text/plain": [
              "<IPython.core.display.HTML object>"
            ]
          },
          "metadata": {},
          "output_type": "display_data"
        },
        {
          "data": {
            "text/html": [
              " View run <strong style=\"color:#cdcd00\">sandy-sweep-27</strong> at: <a href='https://wandb.ai/ajay-madkami-iitm-indian-institute-of-technology-mad/Assignment1/runs/bpktxl1v' target=\"_blank\">https://wandb.ai/ajay-madkami-iitm-indian-institute-of-technology-mad/Assignment1/runs/bpktxl1v</a><br> View project at: <a href='https://wandb.ai/ajay-madkami-iitm-indian-institute-of-technology-mad/Assignment1' target=\"_blank\">https://wandb.ai/ajay-madkami-iitm-indian-institute-of-technology-mad/Assignment1</a><br>Synced 5 W&B file(s), 0 media file(s), 0 artifact file(s) and 0 other file(s)"
            ],
            "text/plain": [
              "<IPython.core.display.HTML object>"
            ]
          },
          "metadata": {},
          "output_type": "display_data"
        },
        {
          "data": {
            "text/html": [
              "Find logs at: <code>./wandb/run-20250316_080818-bpktxl1v/logs</code>"
            ],
            "text/plain": [
              "<IPython.core.display.HTML object>"
            ]
          },
          "metadata": {},
          "output_type": "display_data"
        },
        {
          "name": "stderr",
          "output_type": "stream",
          "text": [
            "\u001b[34m\u001b[1mwandb\u001b[0m: Agent Starting Run: 6gd171fh with config:\n",
            "\u001b[34m\u001b[1mwandb\u001b[0m: \tactivation: sigmoid\n",
            "\u001b[34m\u001b[1mwandb\u001b[0m: \tbatch_size: 16\n",
            "\u001b[34m\u001b[1mwandb\u001b[0m: \tepochs: 5\n",
            "\u001b[34m\u001b[1mwandb\u001b[0m: \tinit_method: xavier\n",
            "\u001b[34m\u001b[1mwandb\u001b[0m: \tlearning_rate: 0.001\n",
            "\u001b[34m\u001b[1mwandb\u001b[0m: \tloss: mse\n",
            "\u001b[34m\u001b[1mwandb\u001b[0m: \tnum_hidden_layers: 3\n",
            "\u001b[34m\u001b[1mwandb\u001b[0m: \tnum_hidden_nodes: 64\n",
            "\u001b[34m\u001b[1mwandb\u001b[0m: \toptimizer: adam\n"
          ]
        },
        {
          "data": {
            "text/html": [
              "Ignoring project 'Assignment1' when running a sweep."
            ],
            "text/plain": [
              "<IPython.core.display.HTML object>"
            ]
          },
          "metadata": {},
          "output_type": "display_data"
        },
        {
          "data": {
            "text/html": [
              "Tracking run with wandb version 0.19.8"
            ],
            "text/plain": [
              "<IPython.core.display.HTML object>"
            ]
          },
          "metadata": {},
          "output_type": "display_data"
        },
        {
          "data": {
            "text/html": [
              "Run data is saved locally in <code>/content/wandb/run-20250316_080849-6gd171fh</code>"
            ],
            "text/plain": [
              "<IPython.core.display.HTML object>"
            ]
          },
          "metadata": {},
          "output_type": "display_data"
        },
        {
          "data": {
            "text/html": [
              "Syncing run <strong><a href='https://wandb.ai/ajay-madkami-iitm-indian-institute-of-technology-mad/Assignment1/runs/6gd171fh' target=\"_blank\">dazzling-sweep-28</a></strong> to <a href='https://wandb.ai/ajay-madkami-iitm-indian-institute-of-technology-mad/Assignment1' target=\"_blank\">Weights & Biases</a> (<a href='https://wandb.me/developer-guide' target=\"_blank\">docs</a>)<br>Sweep page: <a href='https://wandb.ai/ajay-madkami-iitm-indian-institute-of-technology-mad/Assignment1/sweeps/mcgkxgsu' target=\"_blank\">https://wandb.ai/ajay-madkami-iitm-indian-institute-of-technology-mad/Assignment1/sweeps/mcgkxgsu</a>"
            ],
            "text/plain": [
              "<IPython.core.display.HTML object>"
            ]
          },
          "metadata": {},
          "output_type": "display_data"
        },
        {
          "data": {
            "text/html": [
              " View project at <a href='https://wandb.ai/ajay-madkami-iitm-indian-institute-of-technology-mad/Assignment1' target=\"_blank\">https://wandb.ai/ajay-madkami-iitm-indian-institute-of-technology-mad/Assignment1</a>"
            ],
            "text/plain": [
              "<IPython.core.display.HTML object>"
            ]
          },
          "metadata": {},
          "output_type": "display_data"
        },
        {
          "data": {
            "text/html": [
              " View sweep at <a href='https://wandb.ai/ajay-madkami-iitm-indian-institute-of-technology-mad/Assignment1/sweeps/mcgkxgsu' target=\"_blank\">https://wandb.ai/ajay-madkami-iitm-indian-institute-of-technology-mad/Assignment1/sweeps/mcgkxgsu</a>"
            ],
            "text/plain": [
              "<IPython.core.display.HTML object>"
            ]
          },
          "metadata": {},
          "output_type": "display_data"
        },
        {
          "data": {
            "text/html": [
              " View run at <a href='https://wandb.ai/ajay-madkami-iitm-indian-institute-of-technology-mad/Assignment1/runs/6gd171fh' target=\"_blank\">https://wandb.ai/ajay-madkami-iitm-indian-institute-of-technology-mad/Assignment1/runs/6gd171fh</a>"
            ],
            "text/plain": [
              "<IPython.core.display.HTML object>"
            ]
          },
          "metadata": {},
          "output_type": "display_data"
        },
        {
          "name": "stdout",
          "output_type": "stream",
          "text": [
            "Epoch 1/5, Train Loss: 0.0891, Val Loss: 0.0891, Train Acc: 0.5139, Val Acc: 0.5088\n",
            "Epoch 2/5, Train Loss: 0.0871, Val Loss: 0.0872, Train Acc: 0.5441, Val Acc: 0.5470\n",
            "Epoch 3/5, Train Loss: 0.0831, Val Loss: 0.0832, Train Acc: 0.5033, Val Acc: 0.5063\n",
            "Epoch 4/5, Train Loss: 0.0809, Val Loss: 0.0811, Train Acc: 0.4972, Val Acc: 0.4999\n",
            "Epoch 5/5, Train Loss: 0.0788, Val Loss: 0.0790, Train Acc: 0.5416, Val Acc: 0.5454\n"
          ]
        },
        {
          "data": {
            "text/html": [],
            "text/plain": [
              "<IPython.core.display.HTML object>"
            ]
          },
          "metadata": {},
          "output_type": "display_data"
        },
        {
          "data": {
            "text/html": [
              "<br>    <style><br>        .wandb-row {<br>            display: flex;<br>            flex-direction: row;<br>            flex-wrap: wrap;<br>            justify-content: flex-start;<br>            width: 100%;<br>        }<br>        .wandb-col {<br>            display: flex;<br>            flex-direction: column;<br>            flex-basis: 100%;<br>            flex: 1;<br>            padding: 10px;<br>        }<br>    </style><br><div class=\"wandb-row\"><div class=\"wandb-col\"><h3>Run history:</h3><br/><table class=\"wandb\"><tr><td>epoch</td><td>▁▃▅▆█</td></tr><tr><td>train_acc</td><td>▃█▂▁█</td></tr><tr><td>train_loss</td><td>█▇▄▂▁</td></tr><tr><td>val_acc</td><td>▂█▂▁█</td></tr><tr><td>val_loss</td><td>█▇▄▂▁</td></tr></table><br/></div><div class=\"wandb-col\"><h3>Run summary:</h3><br/><table class=\"wandb\"><tr><td>epoch</td><td>5</td></tr><tr><td>train_acc</td><td>0.54158</td></tr><tr><td>train_loss</td><td>0.07876</td></tr><tr><td>val_acc</td><td>0.54542</td></tr><tr><td>val_loss</td><td>0.07901</td></tr></table><br/></div></div>"
            ],
            "text/plain": [
              "<IPython.core.display.HTML object>"
            ]
          },
          "metadata": {},
          "output_type": "display_data"
        },
        {
          "data": {
            "text/html": [
              " View run <strong style=\"color:#cdcd00\">dazzling-sweep-28</strong> at: <a href='https://wandb.ai/ajay-madkami-iitm-indian-institute-of-technology-mad/Assignment1/runs/6gd171fh' target=\"_blank\">https://wandb.ai/ajay-madkami-iitm-indian-institute-of-technology-mad/Assignment1/runs/6gd171fh</a><br> View project at: <a href='https://wandb.ai/ajay-madkami-iitm-indian-institute-of-technology-mad/Assignment1' target=\"_blank\">https://wandb.ai/ajay-madkami-iitm-indian-institute-of-technology-mad/Assignment1</a><br>Synced 5 W&B file(s), 0 media file(s), 0 artifact file(s) and 0 other file(s)"
            ],
            "text/plain": [
              "<IPython.core.display.HTML object>"
            ]
          },
          "metadata": {},
          "output_type": "display_data"
        },
        {
          "data": {
            "text/html": [
              "Find logs at: <code>./wandb/run-20250316_080849-6gd171fh/logs</code>"
            ],
            "text/plain": [
              "<IPython.core.display.HTML object>"
            ]
          },
          "metadata": {},
          "output_type": "display_data"
        },
        {
          "name": "stderr",
          "output_type": "stream",
          "text": [
            "\u001b[34m\u001b[1mwandb\u001b[0m: Agent Starting Run: gahg5fad with config:\n",
            "\u001b[34m\u001b[1mwandb\u001b[0m: \tactivation: sigmoid\n",
            "\u001b[34m\u001b[1mwandb\u001b[0m: \tbatch_size: 64\n",
            "\u001b[34m\u001b[1mwandb\u001b[0m: \tepochs: 5\n",
            "\u001b[34m\u001b[1mwandb\u001b[0m: \tinit_method: xavier\n",
            "\u001b[34m\u001b[1mwandb\u001b[0m: \tlearning_rate: 0.0001\n",
            "\u001b[34m\u001b[1mwandb\u001b[0m: \tloss: mse\n",
            "\u001b[34m\u001b[1mwandb\u001b[0m: \tnum_hidden_layers: 5\n",
            "\u001b[34m\u001b[1mwandb\u001b[0m: \tnum_hidden_nodes: 32\n",
            "\u001b[34m\u001b[1mwandb\u001b[0m: \toptimizer: adam\n"
          ]
        },
        {
          "data": {
            "text/html": [
              "Ignoring project 'Assignment1' when running a sweep."
            ],
            "text/plain": [
              "<IPython.core.display.HTML object>"
            ]
          },
          "metadata": {},
          "output_type": "display_data"
        },
        {
          "data": {
            "text/html": [
              "Tracking run with wandb version 0.19.8"
            ],
            "text/plain": [
              "<IPython.core.display.HTML object>"
            ]
          },
          "metadata": {},
          "output_type": "display_data"
        },
        {
          "data": {
            "text/html": [
              "Run data is saved locally in <code>/content/wandb/run-20250316_080925-gahg5fad</code>"
            ],
            "text/plain": [
              "<IPython.core.display.HTML object>"
            ]
          },
          "metadata": {},
          "output_type": "display_data"
        },
        {
          "data": {
            "text/html": [
              "Syncing run <strong><a href='https://wandb.ai/ajay-madkami-iitm-indian-institute-of-technology-mad/Assignment1/runs/gahg5fad' target=\"_blank\">earnest-sweep-29</a></strong> to <a href='https://wandb.ai/ajay-madkami-iitm-indian-institute-of-technology-mad/Assignment1' target=\"_blank\">Weights & Biases</a> (<a href='https://wandb.me/developer-guide' target=\"_blank\">docs</a>)<br>Sweep page: <a href='https://wandb.ai/ajay-madkami-iitm-indian-institute-of-technology-mad/Assignment1/sweeps/mcgkxgsu' target=\"_blank\">https://wandb.ai/ajay-madkami-iitm-indian-institute-of-technology-mad/Assignment1/sweeps/mcgkxgsu</a>"
            ],
            "text/plain": [
              "<IPython.core.display.HTML object>"
            ]
          },
          "metadata": {},
          "output_type": "display_data"
        },
        {
          "data": {
            "text/html": [
              " View project at <a href='https://wandb.ai/ajay-madkami-iitm-indian-institute-of-technology-mad/Assignment1' target=\"_blank\">https://wandb.ai/ajay-madkami-iitm-indian-institute-of-technology-mad/Assignment1</a>"
            ],
            "text/plain": [
              "<IPython.core.display.HTML object>"
            ]
          },
          "metadata": {},
          "output_type": "display_data"
        },
        {
          "data": {
            "text/html": [
              " View sweep at <a href='https://wandb.ai/ajay-madkami-iitm-indian-institute-of-technology-mad/Assignment1/sweeps/mcgkxgsu' target=\"_blank\">https://wandb.ai/ajay-madkami-iitm-indian-institute-of-technology-mad/Assignment1/sweeps/mcgkxgsu</a>"
            ],
            "text/plain": [
              "<IPython.core.display.HTML object>"
            ]
          },
          "metadata": {},
          "output_type": "display_data"
        },
        {
          "data": {
            "text/html": [
              " View run at <a href='https://wandb.ai/ajay-madkami-iitm-indian-institute-of-technology-mad/Assignment1/runs/gahg5fad' target=\"_blank\">https://wandb.ai/ajay-madkami-iitm-indian-institute-of-technology-mad/Assignment1/runs/gahg5fad</a>"
            ],
            "text/plain": [
              "<IPython.core.display.HTML object>"
            ]
          },
          "metadata": {},
          "output_type": "display_data"
        },
        {
          "name": "stdout",
          "output_type": "stream",
          "text": [
            "Epoch 1/5, Train Loss: 0.0919, Val Loss: 0.0919, Train Acc: 0.2497, Val Acc: 0.2512\n",
            "Epoch 2/5, Train Loss: 0.0916, Val Loss: 0.0915, Train Acc: 0.2497, Val Acc: 0.2512\n",
            "Epoch 3/5, Train Loss: 0.0913, Val Loss: 0.0912, Train Acc: 0.2497, Val Acc: 0.2512\n",
            "Epoch 4/5, Train Loss: 0.0911, Val Loss: 0.0910, Train Acc: 0.2497, Val Acc: 0.2512\n",
            "Epoch 5/5, Train Loss: 0.0909, Val Loss: 0.0908, Train Acc: 0.2497, Val Acc: 0.2512\n"
          ]
        },
        {
          "data": {
            "text/html": [],
            "text/plain": [
              "<IPython.core.display.HTML object>"
            ]
          },
          "metadata": {},
          "output_type": "display_data"
        },
        {
          "data": {
            "text/html": [
              "<br>    <style><br>        .wandb-row {<br>            display: flex;<br>            flex-direction: row;<br>            flex-wrap: wrap;<br>            justify-content: flex-start;<br>            width: 100%;<br>        }<br>        .wandb-col {<br>            display: flex;<br>            flex-direction: column;<br>            flex-basis: 100%;<br>            flex: 1;<br>            padding: 10px;<br>        }<br>    </style><br><div class=\"wandb-row\"><div class=\"wandb-col\"><h3>Run history:</h3><br/><table class=\"wandb\"><tr><td>epoch</td><td>▁▃▅▆█</td></tr><tr><td>train_acc</td><td>▁▁▁▁▁</td></tr><tr><td>train_loss</td><td>█▆▄▂▁</td></tr><tr><td>val_acc</td><td>▁▁▁▁▁</td></tr><tr><td>val_loss</td><td>█▆▄▂▁</td></tr></table><br/></div><div class=\"wandb-col\"><h3>Run summary:</h3><br/><table class=\"wandb\"><tr><td>epoch</td><td>5</td></tr><tr><td>train_acc</td><td>0.24969</td></tr><tr><td>train_loss</td><td>0.09088</td></tr><tr><td>val_acc</td><td>0.25125</td></tr><tr><td>val_loss</td><td>0.09084</td></tr></table><br/></div></div>"
            ],
            "text/plain": [
              "<IPython.core.display.HTML object>"
            ]
          },
          "metadata": {},
          "output_type": "display_data"
        },
        {
          "data": {
            "text/html": [
              " View run <strong style=\"color:#cdcd00\">earnest-sweep-29</strong> at: <a href='https://wandb.ai/ajay-madkami-iitm-indian-institute-of-technology-mad/Assignment1/runs/gahg5fad' target=\"_blank\">https://wandb.ai/ajay-madkami-iitm-indian-institute-of-technology-mad/Assignment1/runs/gahg5fad</a><br> View project at: <a href='https://wandb.ai/ajay-madkami-iitm-indian-institute-of-technology-mad/Assignment1' target=\"_blank\">https://wandb.ai/ajay-madkami-iitm-indian-institute-of-technology-mad/Assignment1</a><br>Synced 5 W&B file(s), 0 media file(s), 0 artifact file(s) and 0 other file(s)"
            ],
            "text/plain": [
              "<IPython.core.display.HTML object>"
            ]
          },
          "metadata": {},
          "output_type": "display_data"
        },
        {
          "data": {
            "text/html": [
              "Find logs at: <code>./wandb/run-20250316_080925-gahg5fad/logs</code>"
            ],
            "text/plain": [
              "<IPython.core.display.HTML object>"
            ]
          },
          "metadata": {},
          "output_type": "display_data"
        },
        {
          "name": "stderr",
          "output_type": "stream",
          "text": [
            "\u001b[34m\u001b[1mwandb\u001b[0m: Agent Starting Run: 795kt9c5 with config:\n",
            "\u001b[34m\u001b[1mwandb\u001b[0m: \tactivation: tanh\n",
            "\u001b[34m\u001b[1mwandb\u001b[0m: \tbatch_size: 32\n",
            "\u001b[34m\u001b[1mwandb\u001b[0m: \tepochs: 5\n",
            "\u001b[34m\u001b[1mwandb\u001b[0m: \tinit_method: xavier\n",
            "\u001b[34m\u001b[1mwandb\u001b[0m: \tlearning_rate: 0.0001\n",
            "\u001b[34m\u001b[1mwandb\u001b[0m: \tloss: mse\n",
            "\u001b[34m\u001b[1mwandb\u001b[0m: \tnum_hidden_layers: 3\n",
            "\u001b[34m\u001b[1mwandb\u001b[0m: \tnum_hidden_nodes: 32\n",
            "\u001b[34m\u001b[1mwandb\u001b[0m: \toptimizer: momentum\n"
          ]
        },
        {
          "data": {
            "text/html": [
              "Ignoring project 'Assignment1' when running a sweep."
            ],
            "text/plain": [
              "<IPython.core.display.HTML object>"
            ]
          },
          "metadata": {},
          "output_type": "display_data"
        },
        {
          "data": {
            "text/html": [
              "Tracking run with wandb version 0.19.8"
            ],
            "text/plain": [
              "<IPython.core.display.HTML object>"
            ]
          },
          "metadata": {},
          "output_type": "display_data"
        },
        {
          "data": {
            "text/html": [
              "Run data is saved locally in <code>/content/wandb/run-20250316_080950-795kt9c5</code>"
            ],
            "text/plain": [
              "<IPython.core.display.HTML object>"
            ]
          },
          "metadata": {},
          "output_type": "display_data"
        },
        {
          "data": {
            "text/html": [
              "Syncing run <strong><a href='https://wandb.ai/ajay-madkami-iitm-indian-institute-of-technology-mad/Assignment1/runs/795kt9c5' target=\"_blank\">dauntless-sweep-30</a></strong> to <a href='https://wandb.ai/ajay-madkami-iitm-indian-institute-of-technology-mad/Assignment1' target=\"_blank\">Weights & Biases</a> (<a href='https://wandb.me/developer-guide' target=\"_blank\">docs</a>)<br>Sweep page: <a href='https://wandb.ai/ajay-madkami-iitm-indian-institute-of-technology-mad/Assignment1/sweeps/mcgkxgsu' target=\"_blank\">https://wandb.ai/ajay-madkami-iitm-indian-institute-of-technology-mad/Assignment1/sweeps/mcgkxgsu</a>"
            ],
            "text/plain": [
              "<IPython.core.display.HTML object>"
            ]
          },
          "metadata": {},
          "output_type": "display_data"
        },
        {
          "data": {
            "text/html": [
              " View project at <a href='https://wandb.ai/ajay-madkami-iitm-indian-institute-of-technology-mad/Assignment1' target=\"_blank\">https://wandb.ai/ajay-madkami-iitm-indian-institute-of-technology-mad/Assignment1</a>"
            ],
            "text/plain": [
              "<IPython.core.display.HTML object>"
            ]
          },
          "metadata": {},
          "output_type": "display_data"
        },
        {
          "data": {
            "text/html": [
              " View sweep at <a href='https://wandb.ai/ajay-madkami-iitm-indian-institute-of-technology-mad/Assignment1/sweeps/mcgkxgsu' target=\"_blank\">https://wandb.ai/ajay-madkami-iitm-indian-institute-of-technology-mad/Assignment1/sweeps/mcgkxgsu</a>"
            ],
            "text/plain": [
              "<IPython.core.display.HTML object>"
            ]
          },
          "metadata": {},
          "output_type": "display_data"
        },
        {
          "data": {
            "text/html": [
              " View run at <a href='https://wandb.ai/ajay-madkami-iitm-indian-institute-of-technology-mad/Assignment1/runs/795kt9c5' target=\"_blank\">https://wandb.ai/ajay-madkami-iitm-indian-institute-of-technology-mad/Assignment1/runs/795kt9c5</a>"
            ],
            "text/plain": [
              "<IPython.core.display.HTML object>"
            ]
          },
          "metadata": {},
          "output_type": "display_data"
        },
        {
          "name": "stdout",
          "output_type": "stream",
          "text": [
            "Epoch 1/5, Train Loss: 0.0882, Val Loss: 0.0882, Train Acc: 0.3573, Val Acc: 0.3619\n",
            "Epoch 2/5, Train Loss: 0.0853, Val Loss: 0.0852, Train Acc: 0.5350, Val Acc: 0.5432\n",
            "Epoch 3/5, Train Loss: 0.0824, Val Loss: 0.0824, Train Acc: 0.5967, Val Acc: 0.6042\n",
            "Epoch 4/5, Train Loss: 0.0798, Val Loss: 0.0797, Train Acc: 0.6340, Val Acc: 0.6422\n",
            "Epoch 5/5, Train Loss: 0.0772, Val Loss: 0.0771, Train Acc: 0.6562, Val Acc: 0.6629\n"
          ]
        },
        {
          "data": {
            "text/html": [],
            "text/plain": [
              "<IPython.core.display.HTML object>"
            ]
          },
          "metadata": {},
          "output_type": "display_data"
        },
        {
          "data": {
            "text/html": [
              "<br>    <style><br>        .wandb-row {<br>            display: flex;<br>            flex-direction: row;<br>            flex-wrap: wrap;<br>            justify-content: flex-start;<br>            width: 100%;<br>        }<br>        .wandb-col {<br>            display: flex;<br>            flex-direction: column;<br>            flex-basis: 100%;<br>            flex: 1;<br>            padding: 10px;<br>        }<br>    </style><br><div class=\"wandb-row\"><div class=\"wandb-col\"><h3>Run history:</h3><br/><table class=\"wandb\"><tr><td>epoch</td><td>▁▃▅▆█</td></tr><tr><td>train_acc</td><td>▁▅▇▇█</td></tr><tr><td>train_loss</td><td>█▆▄▃▁</td></tr><tr><td>val_acc</td><td>▁▅▇██</td></tr><tr><td>val_loss</td><td>█▆▄▃▁</td></tr></table><br/></div><div class=\"wandb-col\"><h3>Run summary:</h3><br/><table class=\"wandb\"><tr><td>epoch</td><td>5</td></tr><tr><td>train_acc</td><td>0.65617</td></tr><tr><td>train_loss</td><td>0.07719</td></tr><tr><td>val_acc</td><td>0.66292</td></tr><tr><td>val_loss</td><td>0.07709</td></tr></table><br/></div></div>"
            ],
            "text/plain": [
              "<IPython.core.display.HTML object>"
            ]
          },
          "metadata": {},
          "output_type": "display_data"
        },
        {
          "data": {
            "text/html": [
              " View run <strong style=\"color:#cdcd00\">dauntless-sweep-30</strong> at: <a href='https://wandb.ai/ajay-madkami-iitm-indian-institute-of-technology-mad/Assignment1/runs/795kt9c5' target=\"_blank\">https://wandb.ai/ajay-madkami-iitm-indian-institute-of-technology-mad/Assignment1/runs/795kt9c5</a><br> View project at: <a href='https://wandb.ai/ajay-madkami-iitm-indian-institute-of-technology-mad/Assignment1' target=\"_blank\">https://wandb.ai/ajay-madkami-iitm-indian-institute-of-technology-mad/Assignment1</a><br>Synced 5 W&B file(s), 0 media file(s), 0 artifact file(s) and 0 other file(s)"
            ],
            "text/plain": [
              "<IPython.core.display.HTML object>"
            ]
          },
          "metadata": {},
          "output_type": "display_data"
        },
        {
          "data": {
            "text/html": [
              "Find logs at: <code>./wandb/run-20250316_080950-795kt9c5/logs</code>"
            ],
            "text/plain": [
              "<IPython.core.display.HTML object>"
            ]
          },
          "metadata": {},
          "output_type": "display_data"
        },
        {
          "name": "stderr",
          "output_type": "stream",
          "text": [
            "\u001b[34m\u001b[1mwandb\u001b[0m: Sweep Agent: Waiting for job.\n",
            "\u001b[34m\u001b[1mwandb\u001b[0m: Job received.\n",
            "\u001b[34m\u001b[1mwandb\u001b[0m: Agent Starting Run: m2pexn9e with config:\n",
            "\u001b[34m\u001b[1mwandb\u001b[0m: \tactivation: tanh\n",
            "\u001b[34m\u001b[1mwandb\u001b[0m: \tbatch_size: 16\n",
            "\u001b[34m\u001b[1mwandb\u001b[0m: \tepochs: 10\n",
            "\u001b[34m\u001b[1mwandb\u001b[0m: \tinit_method: xavier\n",
            "\u001b[34m\u001b[1mwandb\u001b[0m: \tlearning_rate: 0.0001\n",
            "\u001b[34m\u001b[1mwandb\u001b[0m: \tloss: mse\n",
            "\u001b[34m\u001b[1mwandb\u001b[0m: \tnum_hidden_layers: 3\n",
            "\u001b[34m\u001b[1mwandb\u001b[0m: \tnum_hidden_nodes: 128\n",
            "\u001b[34m\u001b[1mwandb\u001b[0m: \toptimizer: nadam\n"
          ]
        },
        {
          "data": {
            "text/html": [
              "Ignoring project 'Assignment1' when running a sweep."
            ],
            "text/plain": [
              "<IPython.core.display.HTML object>"
            ]
          },
          "metadata": {},
          "output_type": "display_data"
        },
        {
          "data": {
            "text/html": [
              "Tracking run with wandb version 0.19.8"
            ],
            "text/plain": [
              "<IPython.core.display.HTML object>"
            ]
          },
          "metadata": {},
          "output_type": "display_data"
        },
        {
          "data": {
            "text/html": [
              "Run data is saved locally in <code>/content/wandb/run-20250316_081026-m2pexn9e</code>"
            ],
            "text/plain": [
              "<IPython.core.display.HTML object>"
            ]
          },
          "metadata": {},
          "output_type": "display_data"
        },
        {
          "data": {
            "text/html": [
              "Syncing run <strong><a href='https://wandb.ai/ajay-madkami-iitm-indian-institute-of-technology-mad/Assignment1/runs/m2pexn9e' target=\"_blank\">morning-sweep-31</a></strong> to <a href='https://wandb.ai/ajay-madkami-iitm-indian-institute-of-technology-mad/Assignment1' target=\"_blank\">Weights & Biases</a> (<a href='https://wandb.me/developer-guide' target=\"_blank\">docs</a>)<br>Sweep page: <a href='https://wandb.ai/ajay-madkami-iitm-indian-institute-of-technology-mad/Assignment1/sweeps/mcgkxgsu' target=\"_blank\">https://wandb.ai/ajay-madkami-iitm-indian-institute-of-technology-mad/Assignment1/sweeps/mcgkxgsu</a>"
            ],
            "text/plain": [
              "<IPython.core.display.HTML object>"
            ]
          },
          "metadata": {},
          "output_type": "display_data"
        },
        {
          "data": {
            "text/html": [
              " View project at <a href='https://wandb.ai/ajay-madkami-iitm-indian-institute-of-technology-mad/Assignment1' target=\"_blank\">https://wandb.ai/ajay-madkami-iitm-indian-institute-of-technology-mad/Assignment1</a>"
            ],
            "text/plain": [
              "<IPython.core.display.HTML object>"
            ]
          },
          "metadata": {},
          "output_type": "display_data"
        },
        {
          "data": {
            "text/html": [
              " View sweep at <a href='https://wandb.ai/ajay-madkami-iitm-indian-institute-of-technology-mad/Assignment1/sweeps/mcgkxgsu' target=\"_blank\">https://wandb.ai/ajay-madkami-iitm-indian-institute-of-technology-mad/Assignment1/sweeps/mcgkxgsu</a>"
            ],
            "text/plain": [
              "<IPython.core.display.HTML object>"
            ]
          },
          "metadata": {},
          "output_type": "display_data"
        },
        {
          "data": {
            "text/html": [
              " View run at <a href='https://wandb.ai/ajay-madkami-iitm-indian-institute-of-technology-mad/Assignment1/runs/m2pexn9e' target=\"_blank\">https://wandb.ai/ajay-madkami-iitm-indian-institute-of-technology-mad/Assignment1/runs/m2pexn9e</a>"
            ],
            "text/plain": [
              "<IPython.core.display.HTML object>"
            ]
          },
          "metadata": {},
          "output_type": "display_data"
        },
        {
          "name": "stdout",
          "output_type": "stream",
          "text": [
            "Epoch 1/10, Train Loss: 0.0816, Val Loss: 0.0815, Train Acc: 0.6285, Val Acc: 0.6310\n",
            "Epoch 2/10, Train Loss: 0.0720, Val Loss: 0.0718, Train Acc: 0.7147, Val Acc: 0.7173\n",
            "Epoch 3/10, Train Loss: 0.0642, Val Loss: 0.0640, Train Acc: 0.7631, Val Acc: 0.7703\n",
            "Epoch 4/10, Train Loss: 0.0586, Val Loss: 0.0583, Train Acc: 0.7973, Val Acc: 0.8053\n",
            "Epoch 5/10, Train Loss: 0.0544, Val Loss: 0.0540, Train Acc: 0.8174, Val Acc: 0.8274\n",
            "Epoch 6/10, Train Loss: 0.0511, Val Loss: 0.0507, Train Acc: 0.8311, Val Acc: 0.8401\n",
            "Epoch 7/10, Train Loss: 0.0484, Val Loss: 0.0480, Train Acc: 0.8425, Val Acc: 0.8507\n",
            "Epoch 8/10, Train Loss: 0.0462, Val Loss: 0.0458, Train Acc: 0.8531, Val Acc: 0.8584\n",
            "Epoch 9/10, Train Loss: 0.0443, Val Loss: 0.0439, Train Acc: 0.8625, Val Acc: 0.8668\n",
            "Epoch 10/10, Train Loss: 0.0427, Val Loss: 0.0424, Train Acc: 0.8707, Val Acc: 0.8748\n"
          ]
        },
        {
          "data": {
            "text/html": [],
            "text/plain": [
              "<IPython.core.display.HTML object>"
            ]
          },
          "metadata": {},
          "output_type": "display_data"
        },
        {
          "data": {
            "text/html": [
              "<br>    <style><br>        .wandb-row {<br>            display: flex;<br>            flex-direction: row;<br>            flex-wrap: wrap;<br>            justify-content: flex-start;<br>            width: 100%;<br>        }<br>        .wandb-col {<br>            display: flex;<br>            flex-direction: column;<br>            flex-basis: 100%;<br>            flex: 1;<br>            padding: 10px;<br>        }<br>    </style><br><div class=\"wandb-row\"><div class=\"wandb-col\"><h3>Run history:</h3><br/><table class=\"wandb\"><tr><td>epoch</td><td>▁▂▃▃▄▅▆▆▇█</td></tr><tr><td>train_acc</td><td>▁▃▅▆▆▇▇▇██</td></tr><tr><td>train_loss</td><td>█▆▅▄▃▃▂▂▁▁</td></tr><tr><td>val_acc</td><td>▁▃▅▆▇▇▇███</td></tr><tr><td>val_loss</td><td>█▆▅▄▃▂▂▂▁▁</td></tr></table><br/></div><div class=\"wandb-col\"><h3>Run summary:</h3><br/><table class=\"wandb\"><tr><td>epoch</td><td>10</td></tr><tr><td>train_acc</td><td>0.87073</td></tr><tr><td>train_loss</td><td>0.04273</td></tr><tr><td>val_acc</td><td>0.87475</td></tr><tr><td>val_loss</td><td>0.04237</td></tr></table><br/></div></div>"
            ],
            "text/plain": [
              "<IPython.core.display.HTML object>"
            ]
          },
          "metadata": {},
          "output_type": "display_data"
        },
        {
          "data": {
            "text/html": [
              " View run <strong style=\"color:#cdcd00\">morning-sweep-31</strong> at: <a href='https://wandb.ai/ajay-madkami-iitm-indian-institute-of-technology-mad/Assignment1/runs/m2pexn9e' target=\"_blank\">https://wandb.ai/ajay-madkami-iitm-indian-institute-of-technology-mad/Assignment1/runs/m2pexn9e</a><br> View project at: <a href='https://wandb.ai/ajay-madkami-iitm-indian-institute-of-technology-mad/Assignment1' target=\"_blank\">https://wandb.ai/ajay-madkami-iitm-indian-institute-of-technology-mad/Assignment1</a><br>Synced 5 W&B file(s), 0 media file(s), 0 artifact file(s) and 0 other file(s)"
            ],
            "text/plain": [
              "<IPython.core.display.HTML object>"
            ]
          },
          "metadata": {},
          "output_type": "display_data"
        },
        {
          "data": {
            "text/html": [
              "Find logs at: <code>./wandb/run-20250316_081026-m2pexn9e/logs</code>"
            ],
            "text/plain": [
              "<IPython.core.display.HTML object>"
            ]
          },
          "metadata": {},
          "output_type": "display_data"
        },
        {
          "name": "stderr",
          "output_type": "stream",
          "text": [
            "\u001b[34m\u001b[1mwandb\u001b[0m: Agent Starting Run: von3j3pa with config:\n",
            "\u001b[34m\u001b[1mwandb\u001b[0m: \tactivation: relu\n",
            "\u001b[34m\u001b[1mwandb\u001b[0m: \tbatch_size: 64\n",
            "\u001b[34m\u001b[1mwandb\u001b[0m: \tepochs: 5\n",
            "\u001b[34m\u001b[1mwandb\u001b[0m: \tinit_method: xavier\n",
            "\u001b[34m\u001b[1mwandb\u001b[0m: \tlearning_rate: 0.0001\n",
            "\u001b[34m\u001b[1mwandb\u001b[0m: \tloss: mse\n",
            "\u001b[34m\u001b[1mwandb\u001b[0m: \tnum_hidden_layers: 5\n",
            "\u001b[34m\u001b[1mwandb\u001b[0m: \tnum_hidden_nodes: 128\n",
            "\u001b[34m\u001b[1mwandb\u001b[0m: \toptimizer: momentum\n"
          ]
        },
        {
          "data": {
            "text/html": [
              "Ignoring project 'Assignment1' when running a sweep."
            ],
            "text/plain": [
              "<IPython.core.display.HTML object>"
            ]
          },
          "metadata": {},
          "output_type": "display_data"
        },
        {
          "data": {
            "text/html": [
              "Tracking run with wandb version 0.19.8"
            ],
            "text/plain": [
              "<IPython.core.display.HTML object>"
            ]
          },
          "metadata": {},
          "output_type": "display_data"
        },
        {
          "data": {
            "text/html": [
              "Run data is saved locally in <code>/content/wandb/run-20250316_081227-von3j3pa</code>"
            ],
            "text/plain": [
              "<IPython.core.display.HTML object>"
            ]
          },
          "metadata": {},
          "output_type": "display_data"
        },
        {
          "data": {
            "text/html": [
              "Syncing run <strong><a href='https://wandb.ai/ajay-madkami-iitm-indian-institute-of-technology-mad/Assignment1/runs/von3j3pa' target=\"_blank\">lively-sweep-32</a></strong> to <a href='https://wandb.ai/ajay-madkami-iitm-indian-institute-of-technology-mad/Assignment1' target=\"_blank\">Weights & Biases</a> (<a href='https://wandb.me/developer-guide' target=\"_blank\">docs</a>)<br>Sweep page: <a href='https://wandb.ai/ajay-madkami-iitm-indian-institute-of-technology-mad/Assignment1/sweeps/mcgkxgsu' target=\"_blank\">https://wandb.ai/ajay-madkami-iitm-indian-institute-of-technology-mad/Assignment1/sweeps/mcgkxgsu</a>"
            ],
            "text/plain": [
              "<IPython.core.display.HTML object>"
            ]
          },
          "metadata": {},
          "output_type": "display_data"
        },
        {
          "data": {
            "text/html": [
              " View project at <a href='https://wandb.ai/ajay-madkami-iitm-indian-institute-of-technology-mad/Assignment1' target=\"_blank\">https://wandb.ai/ajay-madkami-iitm-indian-institute-of-technology-mad/Assignment1</a>"
            ],
            "text/plain": [
              "<IPython.core.display.HTML object>"
            ]
          },
          "metadata": {},
          "output_type": "display_data"
        },
        {
          "data": {
            "text/html": [
              " View sweep at <a href='https://wandb.ai/ajay-madkami-iitm-indian-institute-of-technology-mad/Assignment1/sweeps/mcgkxgsu' target=\"_blank\">https://wandb.ai/ajay-madkami-iitm-indian-institute-of-technology-mad/Assignment1/sweeps/mcgkxgsu</a>"
            ],
            "text/plain": [
              "<IPython.core.display.HTML object>"
            ]
          },
          "metadata": {},
          "output_type": "display_data"
        },
        {
          "data": {
            "text/html": [
              " View run at <a href='https://wandb.ai/ajay-madkami-iitm-indian-institute-of-technology-mad/Assignment1/runs/von3j3pa' target=\"_blank\">https://wandb.ai/ajay-madkami-iitm-indian-institute-of-technology-mad/Assignment1/runs/von3j3pa</a>"
            ],
            "text/plain": [
              "<IPython.core.display.HTML object>"
            ]
          },
          "metadata": {},
          "output_type": "display_data"
        },
        {
          "name": "stdout",
          "output_type": "stream",
          "text": [
            "Epoch 1/5, Train Loss: 0.0900, Val Loss: 0.0900, Train Acc: 0.2378, Val Acc: 0.2397\n",
            "Epoch 2/5, Train Loss: 0.0899, Val Loss: 0.0899, Train Acc: 0.2466, Val Acc: 0.2495\n",
            "Epoch 3/5, Train Loss: 0.0898, Val Loss: 0.0898, Train Acc: 0.2535, Val Acc: 0.2569\n",
            "Epoch 4/5, Train Loss: 0.0897, Val Loss: 0.0897, Train Acc: 0.2614, Val Acc: 0.2657\n",
            "Epoch 5/5, Train Loss: 0.0896, Val Loss: 0.0896, Train Acc: 0.2722, Val Acc: 0.2782\n"
          ]
        },
        {
          "data": {
            "text/html": [],
            "text/plain": [
              "<IPython.core.display.HTML object>"
            ]
          },
          "metadata": {},
          "output_type": "display_data"
        },
        {
          "data": {
            "text/html": [
              "<br>    <style><br>        .wandb-row {<br>            display: flex;<br>            flex-direction: row;<br>            flex-wrap: wrap;<br>            justify-content: flex-start;<br>            width: 100%;<br>        }<br>        .wandb-col {<br>            display: flex;<br>            flex-direction: column;<br>            flex-basis: 100%;<br>            flex: 1;<br>            padding: 10px;<br>        }<br>    </style><br><div class=\"wandb-row\"><div class=\"wandb-col\"><h3>Run history:</h3><br/><table class=\"wandb\"><tr><td>epoch</td><td>▁▃▅▆█</td></tr><tr><td>train_acc</td><td>▁▃▄▆█</td></tr><tr><td>train_loss</td><td>█▆▄▃▁</td></tr><tr><td>val_acc</td><td>▁▃▄▆█</td></tr><tr><td>val_loss</td><td>█▆▄▃▁</td></tr></table><br/></div><div class=\"wandb-col\"><h3>Run summary:</h3><br/><table class=\"wandb\"><tr><td>epoch</td><td>5</td></tr><tr><td>train_acc</td><td>0.27219</td></tr><tr><td>train_loss</td><td>0.08958</td></tr><tr><td>val_acc</td><td>0.27817</td></tr><tr><td>val_loss</td><td>0.08956</td></tr></table><br/></div></div>"
            ],
            "text/plain": [
              "<IPython.core.display.HTML object>"
            ]
          },
          "metadata": {},
          "output_type": "display_data"
        },
        {
          "data": {
            "text/html": [
              " View run <strong style=\"color:#cdcd00\">lively-sweep-32</strong> at: <a href='https://wandb.ai/ajay-madkami-iitm-indian-institute-of-technology-mad/Assignment1/runs/von3j3pa' target=\"_blank\">https://wandb.ai/ajay-madkami-iitm-indian-institute-of-technology-mad/Assignment1/runs/von3j3pa</a><br> View project at: <a href='https://wandb.ai/ajay-madkami-iitm-indian-institute-of-technology-mad/Assignment1' target=\"_blank\">https://wandb.ai/ajay-madkami-iitm-indian-institute-of-technology-mad/Assignment1</a><br>Synced 5 W&B file(s), 0 media file(s), 0 artifact file(s) and 0 other file(s)"
            ],
            "text/plain": [
              "<IPython.core.display.HTML object>"
            ]
          },
          "metadata": {},
          "output_type": "display_data"
        },
        {
          "data": {
            "text/html": [
              "Find logs at: <code>./wandb/run-20250316_081227-von3j3pa/logs</code>"
            ],
            "text/plain": [
              "<IPython.core.display.HTML object>"
            ]
          },
          "metadata": {},
          "output_type": "display_data"
        },
        {
          "name": "stderr",
          "output_type": "stream",
          "text": [
            "\u001b[34m\u001b[1mwandb\u001b[0m: Agent Starting Run: 0uibzj9b with config:\n",
            "\u001b[34m\u001b[1mwandb\u001b[0m: \tactivation: tanh\n",
            "\u001b[34m\u001b[1mwandb\u001b[0m: \tbatch_size: 16\n",
            "\u001b[34m\u001b[1mwandb\u001b[0m: \tepochs: 10\n",
            "\u001b[34m\u001b[1mwandb\u001b[0m: \tinit_method: random\n",
            "\u001b[34m\u001b[1mwandb\u001b[0m: \tlearning_rate: 0.001\n",
            "\u001b[34m\u001b[1mwandb\u001b[0m: \tloss: mse\n",
            "\u001b[34m\u001b[1mwandb\u001b[0m: \tnum_hidden_layers: 4\n",
            "\u001b[34m\u001b[1mwandb\u001b[0m: \tnum_hidden_nodes: 32\n",
            "\u001b[34m\u001b[1mwandb\u001b[0m: \toptimizer: adam\n"
          ]
        },
        {
          "data": {
            "text/html": [
              "Ignoring project 'Assignment1' when running a sweep."
            ],
            "text/plain": [
              "<IPython.core.display.HTML object>"
            ]
          },
          "metadata": {},
          "output_type": "display_data"
        },
        {
          "data": {
            "text/html": [
              "Tracking run with wandb version 0.19.8"
            ],
            "text/plain": [
              "<IPython.core.display.HTML object>"
            ]
          },
          "metadata": {},
          "output_type": "display_data"
        },
        {
          "data": {
            "text/html": [
              "Run data is saved locally in <code>/content/wandb/run-20250316_081313-0uibzj9b</code>"
            ],
            "text/plain": [
              "<IPython.core.display.HTML object>"
            ]
          },
          "metadata": {},
          "output_type": "display_data"
        },
        {
          "data": {
            "text/html": [
              "Syncing run <strong><a href='https://wandb.ai/ajay-madkami-iitm-indian-institute-of-technology-mad/Assignment1/runs/0uibzj9b' target=\"_blank\">different-sweep-33</a></strong> to <a href='https://wandb.ai/ajay-madkami-iitm-indian-institute-of-technology-mad/Assignment1' target=\"_blank\">Weights & Biases</a> (<a href='https://wandb.me/developer-guide' target=\"_blank\">docs</a>)<br>Sweep page: <a href='https://wandb.ai/ajay-madkami-iitm-indian-institute-of-technology-mad/Assignment1/sweeps/mcgkxgsu' target=\"_blank\">https://wandb.ai/ajay-madkami-iitm-indian-institute-of-technology-mad/Assignment1/sweeps/mcgkxgsu</a>"
            ],
            "text/plain": [
              "<IPython.core.display.HTML object>"
            ]
          },
          "metadata": {},
          "output_type": "display_data"
        },
        {
          "data": {
            "text/html": [
              " View project at <a href='https://wandb.ai/ajay-madkami-iitm-indian-institute-of-technology-mad/Assignment1' target=\"_blank\">https://wandb.ai/ajay-madkami-iitm-indian-institute-of-technology-mad/Assignment1</a>"
            ],
            "text/plain": [
              "<IPython.core.display.HTML object>"
            ]
          },
          "metadata": {},
          "output_type": "display_data"
        },
        {
          "data": {
            "text/html": [
              " View sweep at <a href='https://wandb.ai/ajay-madkami-iitm-indian-institute-of-technology-mad/Assignment1/sweeps/mcgkxgsu' target=\"_blank\">https://wandb.ai/ajay-madkami-iitm-indian-institute-of-technology-mad/Assignment1/sweeps/mcgkxgsu</a>"
            ],
            "text/plain": [
              "<IPython.core.display.HTML object>"
            ]
          },
          "metadata": {},
          "output_type": "display_data"
        },
        {
          "data": {
            "text/html": [
              " View run at <a href='https://wandb.ai/ajay-madkami-iitm-indian-institute-of-technology-mad/Assignment1/runs/0uibzj9b' target=\"_blank\">https://wandb.ai/ajay-madkami-iitm-indian-institute-of-technology-mad/Assignment1/runs/0uibzj9b</a>"
            ],
            "text/plain": [
              "<IPython.core.display.HTML object>"
            ]
          },
          "metadata": {},
          "output_type": "display_data"
        },
        {
          "name": "stdout",
          "output_type": "stream",
          "text": [
            "Epoch 1/10, Train Loss: 0.0900, Val Loss: 0.0900, Train Acc: 0.2511, Val Acc: 0.2457\n",
            "Epoch 2/10, Train Loss: 0.0900, Val Loss: 0.0900, Train Acc: 0.2511, Val Acc: 0.2457\n",
            "Epoch 3/10, Train Loss: 0.0900, Val Loss: 0.0900, Train Acc: 0.2511, Val Acc: 0.2457\n",
            "Epoch 4/10, Train Loss: 0.0900, Val Loss: 0.0900, Train Acc: 0.2511, Val Acc: 0.2457\n",
            "Epoch 5/10, Train Loss: 0.0900, Val Loss: 0.0900, Train Acc: 0.2511, Val Acc: 0.2457\n",
            "Epoch 6/10, Train Loss: 0.0900, Val Loss: 0.0900, Train Acc: 0.2511, Val Acc: 0.2457\n",
            "Epoch 7/10, Train Loss: 0.0900, Val Loss: 0.0900, Train Acc: 0.2511, Val Acc: 0.2457\n",
            "Epoch 8/10, Train Loss: 0.0900, Val Loss: 0.0900, Train Acc: 0.2511, Val Acc: 0.2457\n",
            "Epoch 9/10, Train Loss: 0.0900, Val Loss: 0.0900, Train Acc: 0.2511, Val Acc: 0.2457\n",
            "Epoch 10/10, Train Loss: 0.0900, Val Loss: 0.0900, Train Acc: 0.2511, Val Acc: 0.2457\n"
          ]
        },
        {
          "data": {
            "text/html": [],
            "text/plain": [
              "<IPython.core.display.HTML object>"
            ]
          },
          "metadata": {},
          "output_type": "display_data"
        },
        {
          "data": {
            "text/html": [
              "<br>    <style><br>        .wandb-row {<br>            display: flex;<br>            flex-direction: row;<br>            flex-wrap: wrap;<br>            justify-content: flex-start;<br>            width: 100%;<br>        }<br>        .wandb-col {<br>            display: flex;<br>            flex-direction: column;<br>            flex-basis: 100%;<br>            flex: 1;<br>            padding: 10px;<br>        }<br>    </style><br><div class=\"wandb-row\"><div class=\"wandb-col\"><h3>Run history:</h3><br/><table class=\"wandb\"><tr><td>epoch</td><td>▁▂▃▃▄▅▆▆▇█</td></tr><tr><td>train_acc</td><td>▁▁▁▁▁▁▁▁▁▁</td></tr><tr><td>train_loss</td><td>█▅▃▂▂▁▁▁▁▁</td></tr><tr><td>val_acc</td><td>▁▁▁▁▁▁▁▁▁▁</td></tr><tr><td>val_loss</td><td>▁▃▄▅▆▇▇███</td></tr></table><br/></div><div class=\"wandb-col\"><h3>Run summary:</h3><br/><table class=\"wandb\"><tr><td>epoch</td><td>10</td></tr><tr><td>train_acc</td><td>0.25106</td></tr><tr><td>train_loss</td><td>0.09</td></tr><tr><td>val_acc</td><td>0.24575</td></tr><tr><td>val_loss</td><td>0.09</td></tr></table><br/></div></div>"
            ],
            "text/plain": [
              "<IPython.core.display.HTML object>"
            ]
          },
          "metadata": {},
          "output_type": "display_data"
        },
        {
          "data": {
            "text/html": [
              " View run <strong style=\"color:#cdcd00\">different-sweep-33</strong> at: <a href='https://wandb.ai/ajay-madkami-iitm-indian-institute-of-technology-mad/Assignment1/runs/0uibzj9b' target=\"_blank\">https://wandb.ai/ajay-madkami-iitm-indian-institute-of-technology-mad/Assignment1/runs/0uibzj9b</a><br> View project at: <a href='https://wandb.ai/ajay-madkami-iitm-indian-institute-of-technology-mad/Assignment1' target=\"_blank\">https://wandb.ai/ajay-madkami-iitm-indian-institute-of-technology-mad/Assignment1</a><br>Synced 5 W&B file(s), 0 media file(s), 0 artifact file(s) and 0 other file(s)"
            ],
            "text/plain": [
              "<IPython.core.display.HTML object>"
            ]
          },
          "metadata": {},
          "output_type": "display_data"
        },
        {
          "data": {
            "text/html": [
              "Find logs at: <code>./wandb/run-20250316_081313-0uibzj9b/logs</code>"
            ],
            "text/plain": [
              "<IPython.core.display.HTML object>"
            ]
          },
          "metadata": {},
          "output_type": "display_data"
        },
        {
          "name": "stderr",
          "output_type": "stream",
          "text": [
            "\u001b[34m\u001b[1mwandb\u001b[0m: Agent Starting Run: qfebjgj3 with config:\n",
            "\u001b[34m\u001b[1mwandb\u001b[0m: \tactivation: sigmoid\n",
            "\u001b[34m\u001b[1mwandb\u001b[0m: \tbatch_size: 64\n",
            "\u001b[34m\u001b[1mwandb\u001b[0m: \tepochs: 5\n",
            "\u001b[34m\u001b[1mwandb\u001b[0m: \tinit_method: random\n",
            "\u001b[34m\u001b[1mwandb\u001b[0m: \tlearning_rate: 0.001\n",
            "\u001b[34m\u001b[1mwandb\u001b[0m: \tloss: mse\n",
            "\u001b[34m\u001b[1mwandb\u001b[0m: \tnum_hidden_layers: 5\n",
            "\u001b[34m\u001b[1mwandb\u001b[0m: \tnum_hidden_nodes: 128\n",
            "\u001b[34m\u001b[1mwandb\u001b[0m: \toptimizer: sgd\n"
          ]
        },
        {
          "data": {
            "text/html": [
              "Ignoring project 'Assignment1' when running a sweep."
            ],
            "text/plain": [
              "<IPython.core.display.HTML object>"
            ]
          },
          "metadata": {},
          "output_type": "display_data"
        },
        {
          "data": {
            "text/html": [
              "Tracking run with wandb version 0.19.8"
            ],
            "text/plain": [
              "<IPython.core.display.HTML object>"
            ]
          },
          "metadata": {},
          "output_type": "display_data"
        },
        {
          "data": {
            "text/html": [
              "Run data is saved locally in <code>/content/wandb/run-20250316_081409-qfebjgj3</code>"
            ],
            "text/plain": [
              "<IPython.core.display.HTML object>"
            ]
          },
          "metadata": {},
          "output_type": "display_data"
        },
        {
          "data": {
            "text/html": [
              "Syncing run <strong><a href='https://wandb.ai/ajay-madkami-iitm-indian-institute-of-technology-mad/Assignment1/runs/qfebjgj3' target=\"_blank\">golden-sweep-34</a></strong> to <a href='https://wandb.ai/ajay-madkami-iitm-indian-institute-of-technology-mad/Assignment1' target=\"_blank\">Weights & Biases</a> (<a href='https://wandb.me/developer-guide' target=\"_blank\">docs</a>)<br>Sweep page: <a href='https://wandb.ai/ajay-madkami-iitm-indian-institute-of-technology-mad/Assignment1/sweeps/mcgkxgsu' target=\"_blank\">https://wandb.ai/ajay-madkami-iitm-indian-institute-of-technology-mad/Assignment1/sweeps/mcgkxgsu</a>"
            ],
            "text/plain": [
              "<IPython.core.display.HTML object>"
            ]
          },
          "metadata": {},
          "output_type": "display_data"
        },
        {
          "data": {
            "text/html": [
              " View project at <a href='https://wandb.ai/ajay-madkami-iitm-indian-institute-of-technology-mad/Assignment1' target=\"_blank\">https://wandb.ai/ajay-madkami-iitm-indian-institute-of-technology-mad/Assignment1</a>"
            ],
            "text/plain": [
              "<IPython.core.display.HTML object>"
            ]
          },
          "metadata": {},
          "output_type": "display_data"
        },
        {
          "data": {
            "text/html": [
              " View sweep at <a href='https://wandb.ai/ajay-madkami-iitm-indian-institute-of-technology-mad/Assignment1/sweeps/mcgkxgsu' target=\"_blank\">https://wandb.ai/ajay-madkami-iitm-indian-institute-of-technology-mad/Assignment1/sweeps/mcgkxgsu</a>"
            ],
            "text/plain": [
              "<IPython.core.display.HTML object>"
            ]
          },
          "metadata": {},
          "output_type": "display_data"
        },
        {
          "data": {
            "text/html": [
              " View run at <a href='https://wandb.ai/ajay-madkami-iitm-indian-institute-of-technology-mad/Assignment1/runs/qfebjgj3' target=\"_blank\">https://wandb.ai/ajay-madkami-iitm-indian-institute-of-technology-mad/Assignment1/runs/qfebjgj3</a>"
            ],
            "text/plain": [
              "<IPython.core.display.HTML object>"
            ]
          },
          "metadata": {},
          "output_type": "display_data"
        },
        {
          "name": "stdout",
          "output_type": "stream",
          "text": [
            "Epoch 1/5, Train Loss: 0.0900, Val Loss: 0.0900, Train Acc: 0.2504, Val Acc: 0.2483\n",
            "Epoch 2/5, Train Loss: 0.0900, Val Loss: 0.0900, Train Acc: 0.2504, Val Acc: 0.2483\n",
            "Epoch 3/5, Train Loss: 0.0900, Val Loss: 0.0900, Train Acc: 0.2504, Val Acc: 0.2483\n",
            "Epoch 4/5, Train Loss: 0.0900, Val Loss: 0.0900, Train Acc: 0.2504, Val Acc: 0.2483\n",
            "Epoch 5/5, Train Loss: 0.0900, Val Loss: 0.0900, Train Acc: 0.2504, Val Acc: 0.2483\n"
          ]
        },
        {
          "data": {
            "text/html": [],
            "text/plain": [
              "<IPython.core.display.HTML object>"
            ]
          },
          "metadata": {},
          "output_type": "display_data"
        },
        {
          "data": {
            "text/html": [
              "<br>    <style><br>        .wandb-row {<br>            display: flex;<br>            flex-direction: row;<br>            flex-wrap: wrap;<br>            justify-content: flex-start;<br>            width: 100%;<br>        }<br>        .wandb-col {<br>            display: flex;<br>            flex-direction: column;<br>            flex-basis: 100%;<br>            flex: 1;<br>            padding: 10px;<br>        }<br>    </style><br><div class=\"wandb-row\"><div class=\"wandb-col\"><h3>Run history:</h3><br/><table class=\"wandb\"><tr><td>epoch</td><td>▁▃▅▆█</td></tr><tr><td>train_acc</td><td>▁▁▁▁▁</td></tr><tr><td>train_loss</td><td>█▁▁▁▁</td></tr><tr><td>val_acc</td><td>▁▁▁▁▁</td></tr><tr><td>val_loss</td><td>█▁▁▁▁</td></tr></table><br/></div><div class=\"wandb-col\"><h3>Run summary:</h3><br/><table class=\"wandb\"><tr><td>epoch</td><td>5</td></tr><tr><td>train_acc</td><td>0.25042</td></tr><tr><td>train_loss</td><td>0.09</td></tr><tr><td>val_acc</td><td>0.24833</td></tr><tr><td>val_loss</td><td>0.09</td></tr></table><br/></div></div>"
            ],
            "text/plain": [
              "<IPython.core.display.HTML object>"
            ]
          },
          "metadata": {},
          "output_type": "display_data"
        },
        {
          "data": {
            "text/html": [
              " View run <strong style=\"color:#cdcd00\">golden-sweep-34</strong> at: <a href='https://wandb.ai/ajay-madkami-iitm-indian-institute-of-technology-mad/Assignment1/runs/qfebjgj3' target=\"_blank\">https://wandb.ai/ajay-madkami-iitm-indian-institute-of-technology-mad/Assignment1/runs/qfebjgj3</a><br> View project at: <a href='https://wandb.ai/ajay-madkami-iitm-indian-institute-of-technology-mad/Assignment1' target=\"_blank\">https://wandb.ai/ajay-madkami-iitm-indian-institute-of-technology-mad/Assignment1</a><br>Synced 5 W&B file(s), 0 media file(s), 0 artifact file(s) and 0 other file(s)"
            ],
            "text/plain": [
              "<IPython.core.display.HTML object>"
            ]
          },
          "metadata": {},
          "output_type": "display_data"
        },
        {
          "data": {
            "text/html": [
              "Find logs at: <code>./wandb/run-20250316_081409-qfebjgj3/logs</code>"
            ],
            "text/plain": [
              "<IPython.core.display.HTML object>"
            ]
          },
          "metadata": {},
          "output_type": "display_data"
        },
        {
          "name": "stderr",
          "output_type": "stream",
          "text": [
            "\u001b[34m\u001b[1mwandb\u001b[0m: Agent Starting Run: 40w940sr with config:\n",
            "\u001b[34m\u001b[1mwandb\u001b[0m: \tactivation: relu\n",
            "\u001b[34m\u001b[1mwandb\u001b[0m: \tbatch_size: 16\n",
            "\u001b[34m\u001b[1mwandb\u001b[0m: \tepochs: 10\n",
            "\u001b[34m\u001b[1mwandb\u001b[0m: \tinit_method: xavier\n",
            "\u001b[34m\u001b[1mwandb\u001b[0m: \tlearning_rate: 0.0001\n",
            "\u001b[34m\u001b[1mwandb\u001b[0m: \tloss: mse\n",
            "\u001b[34m\u001b[1mwandb\u001b[0m: \tnum_hidden_layers: 3\n",
            "\u001b[34m\u001b[1mwandb\u001b[0m: \tnum_hidden_nodes: 32\n",
            "\u001b[34m\u001b[1mwandb\u001b[0m: \toptimizer: nadam\n"
          ]
        },
        {
          "data": {
            "text/html": [
              "Ignoring project 'Assignment1' when running a sweep."
            ],
            "text/plain": [
              "<IPython.core.display.HTML object>"
            ]
          },
          "metadata": {},
          "output_type": "display_data"
        },
        {
          "data": {
            "text/html": [
              "Tracking run with wandb version 0.19.8"
            ],
            "text/plain": [
              "<IPython.core.display.HTML object>"
            ]
          },
          "metadata": {},
          "output_type": "display_data"
        },
        {
          "data": {
            "text/html": [
              "Run data is saved locally in <code>/content/wandb/run-20250316_081459-40w940sr</code>"
            ],
            "text/plain": [
              "<IPython.core.display.HTML object>"
            ]
          },
          "metadata": {},
          "output_type": "display_data"
        },
        {
          "data": {
            "text/html": [
              "Syncing run <strong><a href='https://wandb.ai/ajay-madkami-iitm-indian-institute-of-technology-mad/Assignment1/runs/40w940sr' target=\"_blank\">eager-sweep-35</a></strong> to <a href='https://wandb.ai/ajay-madkami-iitm-indian-institute-of-technology-mad/Assignment1' target=\"_blank\">Weights & Biases</a> (<a href='https://wandb.me/developer-guide' target=\"_blank\">docs</a>)<br>Sweep page: <a href='https://wandb.ai/ajay-madkami-iitm-indian-institute-of-technology-mad/Assignment1/sweeps/mcgkxgsu' target=\"_blank\">https://wandb.ai/ajay-madkami-iitm-indian-institute-of-technology-mad/Assignment1/sweeps/mcgkxgsu</a>"
            ],
            "text/plain": [
              "<IPython.core.display.HTML object>"
            ]
          },
          "metadata": {},
          "output_type": "display_data"
        },
        {
          "data": {
            "text/html": [
              " View project at <a href='https://wandb.ai/ajay-madkami-iitm-indian-institute-of-technology-mad/Assignment1' target=\"_blank\">https://wandb.ai/ajay-madkami-iitm-indian-institute-of-technology-mad/Assignment1</a>"
            ],
            "text/plain": [
              "<IPython.core.display.HTML object>"
            ]
          },
          "metadata": {},
          "output_type": "display_data"
        },
        {
          "data": {
            "text/html": [
              " View sweep at <a href='https://wandb.ai/ajay-madkami-iitm-indian-institute-of-technology-mad/Assignment1/sweeps/mcgkxgsu' target=\"_blank\">https://wandb.ai/ajay-madkami-iitm-indian-institute-of-technology-mad/Assignment1/sweeps/mcgkxgsu</a>"
            ],
            "text/plain": [
              "<IPython.core.display.HTML object>"
            ]
          },
          "metadata": {},
          "output_type": "display_data"
        },
        {
          "data": {
            "text/html": [
              " View run at <a href='https://wandb.ai/ajay-madkami-iitm-indian-institute-of-technology-mad/Assignment1/runs/40w940sr' target=\"_blank\">https://wandb.ai/ajay-madkami-iitm-indian-institute-of-technology-mad/Assignment1/runs/40w940sr</a>"
            ],
            "text/plain": [
              "<IPython.core.display.HTML object>"
            ]
          },
          "metadata": {},
          "output_type": "display_data"
        },
        {
          "name": "stdout",
          "output_type": "stream",
          "text": [
            "Epoch 1/10, Train Loss: 0.0888, Val Loss: 0.0888, Train Acc: 0.2982, Val Acc: 0.3005\n",
            "Epoch 2/10, Train Loss: 0.0877, Val Loss: 0.0876, Train Acc: 0.3531, Val Acc: 0.3553\n",
            "Epoch 3/10, Train Loss: 0.0862, Val Loss: 0.0861, Train Acc: 0.3820, Val Acc: 0.3849\n",
            "Epoch 4/10, Train Loss: 0.0846, Val Loss: 0.0845, Train Acc: 0.4065, Val Acc: 0.4104\n",
            "Epoch 5/10, Train Loss: 0.0828, Val Loss: 0.0827, Train Acc: 0.4510, Val Acc: 0.4603\n",
            "Epoch 6/10, Train Loss: 0.0806, Val Loss: 0.0804, Train Acc: 0.5031, Val Acc: 0.5085\n",
            "Epoch 7/10, Train Loss: 0.0778, Val Loss: 0.0776, Train Acc: 0.5354, Val Acc: 0.5444\n",
            "Epoch 8/10, Train Loss: 0.0745, Val Loss: 0.0743, Train Acc: 0.5896, Val Acc: 0.5984\n",
            "Epoch 9/10, Train Loss: 0.0709, Val Loss: 0.0706, Train Acc: 0.6884, Val Acc: 0.6957\n",
            "Epoch 10/10, Train Loss: 0.0670, Val Loss: 0.0667, Train Acc: 0.7548, Val Acc: 0.7631\n"
          ]
        },
        {
          "data": {
            "text/html": [],
            "text/plain": [
              "<IPython.core.display.HTML object>"
            ]
          },
          "metadata": {},
          "output_type": "display_data"
        },
        {
          "data": {
            "text/html": [
              "<br>    <style><br>        .wandb-row {<br>            display: flex;<br>            flex-direction: row;<br>            flex-wrap: wrap;<br>            justify-content: flex-start;<br>            width: 100%;<br>        }<br>        .wandb-col {<br>            display: flex;<br>            flex-direction: column;<br>            flex-basis: 100%;<br>            flex: 1;<br>            padding: 10px;<br>        }<br>    </style><br><div class=\"wandb-row\"><div class=\"wandb-col\"><h3>Run history:</h3><br/><table class=\"wandb\"><tr><td>epoch</td><td>▁▂▃▃▄▅▆▆▇█</td></tr><tr><td>train_acc</td><td>▁▂▂▃▃▄▅▅▇█</td></tr><tr><td>train_loss</td><td>██▇▇▆▅▄▃▂▁</td></tr><tr><td>val_acc</td><td>▁▂▂▃▃▄▅▆▇█</td></tr><tr><td>val_loss</td><td>██▇▇▆▅▄▃▂▁</td></tr></table><br/></div><div class=\"wandb-col\"><h3>Run summary:</h3><br/><table class=\"wandb\"><tr><td>epoch</td><td>10</td></tr><tr><td>train_acc</td><td>0.75477</td></tr><tr><td>train_loss</td><td>0.06695</td></tr><tr><td>val_acc</td><td>0.76308</td></tr><tr><td>val_loss</td><td>0.06668</td></tr></table><br/></div></div>"
            ],
            "text/plain": [
              "<IPython.core.display.HTML object>"
            ]
          },
          "metadata": {},
          "output_type": "display_data"
        },
        {
          "data": {
            "text/html": [
              " View run <strong style=\"color:#cdcd00\">eager-sweep-35</strong> at: <a href='https://wandb.ai/ajay-madkami-iitm-indian-institute-of-technology-mad/Assignment1/runs/40w940sr' target=\"_blank\">https://wandb.ai/ajay-madkami-iitm-indian-institute-of-technology-mad/Assignment1/runs/40w940sr</a><br> View project at: <a href='https://wandb.ai/ajay-madkami-iitm-indian-institute-of-technology-mad/Assignment1' target=\"_blank\">https://wandb.ai/ajay-madkami-iitm-indian-institute-of-technology-mad/Assignment1</a><br>Synced 5 W&B file(s), 0 media file(s), 0 artifact file(s) and 0 other file(s)"
            ],
            "text/plain": [
              "<IPython.core.display.HTML object>"
            ]
          },
          "metadata": {},
          "output_type": "display_data"
        },
        {
          "data": {
            "text/html": [
              "Find logs at: <code>./wandb/run-20250316_081459-40w940sr/logs</code>"
            ],
            "text/plain": [
              "<IPython.core.display.HTML object>"
            ]
          },
          "metadata": {},
          "output_type": "display_data"
        },
        {
          "name": "stderr",
          "output_type": "stream",
          "text": [
            "\u001b[34m\u001b[1mwandb\u001b[0m: Agent Starting Run: dhab0p15 with config:\n",
            "\u001b[34m\u001b[1mwandb\u001b[0m: \tactivation: relu\n",
            "\u001b[34m\u001b[1mwandb\u001b[0m: \tbatch_size: 32\n",
            "\u001b[34m\u001b[1mwandb\u001b[0m: \tepochs: 10\n",
            "\u001b[34m\u001b[1mwandb\u001b[0m: \tinit_method: random\n",
            "\u001b[34m\u001b[1mwandb\u001b[0m: \tlearning_rate: 0.001\n",
            "\u001b[34m\u001b[1mwandb\u001b[0m: \tloss: mse\n",
            "\u001b[34m\u001b[1mwandb\u001b[0m: \tnum_hidden_layers: 4\n",
            "\u001b[34m\u001b[1mwandb\u001b[0m: \tnum_hidden_nodes: 64\n",
            "\u001b[34m\u001b[1mwandb\u001b[0m: \toptimizer: momentum\n"
          ]
        },
        {
          "data": {
            "text/html": [
              "Ignoring project 'Assignment1' when running a sweep."
            ],
            "text/plain": [
              "<IPython.core.display.HTML object>"
            ]
          },
          "metadata": {},
          "output_type": "display_data"
        },
        {
          "data": {
            "text/html": [
              "Tracking run with wandb version 0.19.8"
            ],
            "text/plain": [
              "<IPython.core.display.HTML object>"
            ]
          },
          "metadata": {},
          "output_type": "display_data"
        },
        {
          "data": {
            "text/html": [
              "Run data is saved locally in <code>/content/wandb/run-20250316_081540-dhab0p15</code>"
            ],
            "text/plain": [
              "<IPython.core.display.HTML object>"
            ]
          },
          "metadata": {},
          "output_type": "display_data"
        },
        {
          "data": {
            "text/html": [
              "Syncing run <strong><a href='https://wandb.ai/ajay-madkami-iitm-indian-institute-of-technology-mad/Assignment1/runs/dhab0p15' target=\"_blank\">solar-sweep-36</a></strong> to <a href='https://wandb.ai/ajay-madkami-iitm-indian-institute-of-technology-mad/Assignment1' target=\"_blank\">Weights & Biases</a> (<a href='https://wandb.me/developer-guide' target=\"_blank\">docs</a>)<br>Sweep page: <a href='https://wandb.ai/ajay-madkami-iitm-indian-institute-of-technology-mad/Assignment1/sweeps/mcgkxgsu' target=\"_blank\">https://wandb.ai/ajay-madkami-iitm-indian-institute-of-technology-mad/Assignment1/sweeps/mcgkxgsu</a>"
            ],
            "text/plain": [
              "<IPython.core.display.HTML object>"
            ]
          },
          "metadata": {},
          "output_type": "display_data"
        },
        {
          "data": {
            "text/html": [
              " View project at <a href='https://wandb.ai/ajay-madkami-iitm-indian-institute-of-technology-mad/Assignment1' target=\"_blank\">https://wandb.ai/ajay-madkami-iitm-indian-institute-of-technology-mad/Assignment1</a>"
            ],
            "text/plain": [
              "<IPython.core.display.HTML object>"
            ]
          },
          "metadata": {},
          "output_type": "display_data"
        },
        {
          "data": {
            "text/html": [
              " View sweep at <a href='https://wandb.ai/ajay-madkami-iitm-indian-institute-of-technology-mad/Assignment1/sweeps/mcgkxgsu' target=\"_blank\">https://wandb.ai/ajay-madkami-iitm-indian-institute-of-technology-mad/Assignment1/sweeps/mcgkxgsu</a>"
            ],
            "text/plain": [
              "<IPython.core.display.HTML object>"
            ]
          },
          "metadata": {},
          "output_type": "display_data"
        },
        {
          "data": {
            "text/html": [
              " View run at <a href='https://wandb.ai/ajay-madkami-iitm-indian-institute-of-technology-mad/Assignment1/runs/dhab0p15' target=\"_blank\">https://wandb.ai/ajay-madkami-iitm-indian-institute-of-technology-mad/Assignment1/runs/dhab0p15</a>"
            ],
            "text/plain": [
              "<IPython.core.display.HTML object>"
            ]
          },
          "metadata": {},
          "output_type": "display_data"
        },
        {
          "name": "stdout",
          "output_type": "stream",
          "text": [
            "Epoch 1/10, Train Loss: 0.0900, Val Loss: 0.0900, Train Acc: 0.2511, Val Acc: 0.2457\n",
            "Epoch 2/10, Train Loss: 0.0900, Val Loss: 0.0900, Train Acc: 0.2511, Val Acc: 0.2457\n",
            "Epoch 3/10, Train Loss: 0.0900, Val Loss: 0.0900, Train Acc: 0.2511, Val Acc: 0.2457\n",
            "Epoch 4/10, Train Loss: 0.0900, Val Loss: 0.0900, Train Acc: 0.2511, Val Acc: 0.2457\n",
            "Epoch 5/10, Train Loss: 0.0900, Val Loss: 0.0900, Train Acc: 0.2511, Val Acc: 0.2457\n",
            "Epoch 6/10, Train Loss: 0.0900, Val Loss: 0.0900, Train Acc: 0.2511, Val Acc: 0.2457\n",
            "Epoch 7/10, Train Loss: 0.0900, Val Loss: 0.0900, Train Acc: 0.2511, Val Acc: 0.2457\n",
            "Epoch 8/10, Train Loss: 0.0900, Val Loss: 0.0900, Train Acc: 0.2511, Val Acc: 0.2457\n",
            "Epoch 9/10, Train Loss: 0.0900, Val Loss: 0.0900, Train Acc: 0.2511, Val Acc: 0.2457\n",
            "Epoch 10/10, Train Loss: 0.0900, Val Loss: 0.0900, Train Acc: 0.2511, Val Acc: 0.2457\n"
          ]
        },
        {
          "data": {
            "text/html": [],
            "text/plain": [
              "<IPython.core.display.HTML object>"
            ]
          },
          "metadata": {},
          "output_type": "display_data"
        },
        {
          "data": {
            "text/html": [
              "<br>    <style><br>        .wandb-row {<br>            display: flex;<br>            flex-direction: row;<br>            flex-wrap: wrap;<br>            justify-content: flex-start;<br>            width: 100%;<br>        }<br>        .wandb-col {<br>            display: flex;<br>            flex-direction: column;<br>            flex-basis: 100%;<br>            flex: 1;<br>            padding: 10px;<br>        }<br>    </style><br><div class=\"wandb-row\"><div class=\"wandb-col\"><h3>Run history:</h3><br/><table class=\"wandb\"><tr><td>epoch</td><td>▁▂▃▃▄▅▆▆▇█</td></tr><tr><td>train_acc</td><td>▁▁▁▁▁▁▁▁▁▁</td></tr><tr><td>train_loss</td><td>█▆▅▄▃▂▂▂▁▁</td></tr><tr><td>val_acc</td><td>▁▁▁▁▁▁▁▁▁▁</td></tr><tr><td>val_loss</td><td>▁▂▃▄▅▆▇▇██</td></tr></table><br/></div><div class=\"wandb-col\"><h3>Run summary:</h3><br/><table class=\"wandb\"><tr><td>epoch</td><td>10</td></tr><tr><td>train_acc</td><td>0.25106</td></tr><tr><td>train_loss</td><td>0.09</td></tr><tr><td>val_acc</td><td>0.24575</td></tr><tr><td>val_loss</td><td>0.09</td></tr></table><br/></div></div>"
            ],
            "text/plain": [
              "<IPython.core.display.HTML object>"
            ]
          },
          "metadata": {},
          "output_type": "display_data"
        },
        {
          "data": {
            "text/html": [
              " View run <strong style=\"color:#cdcd00\">solar-sweep-36</strong> at: <a href='https://wandb.ai/ajay-madkami-iitm-indian-institute-of-technology-mad/Assignment1/runs/dhab0p15' target=\"_blank\">https://wandb.ai/ajay-madkami-iitm-indian-institute-of-technology-mad/Assignment1/runs/dhab0p15</a><br> View project at: <a href='https://wandb.ai/ajay-madkami-iitm-indian-institute-of-technology-mad/Assignment1' target=\"_blank\">https://wandb.ai/ajay-madkami-iitm-indian-institute-of-technology-mad/Assignment1</a><br>Synced 5 W&B file(s), 0 media file(s), 0 artifact file(s) and 0 other file(s)"
            ],
            "text/plain": [
              "<IPython.core.display.HTML object>"
            ]
          },
          "metadata": {},
          "output_type": "display_data"
        },
        {
          "data": {
            "text/html": [
              "Find logs at: <code>./wandb/run-20250316_081540-dhab0p15/logs</code>"
            ],
            "text/plain": [
              "<IPython.core.display.HTML object>"
            ]
          },
          "metadata": {},
          "output_type": "display_data"
        },
        {
          "name": "stderr",
          "output_type": "stream",
          "text": [
            "\u001b[34m\u001b[1mwandb\u001b[0m: Agent Starting Run: e1xfe800 with config:\n",
            "\u001b[34m\u001b[1mwandb\u001b[0m: \tactivation: sigmoid\n",
            "\u001b[34m\u001b[1mwandb\u001b[0m: \tbatch_size: 16\n",
            "\u001b[34m\u001b[1mwandb\u001b[0m: \tepochs: 10\n",
            "\u001b[34m\u001b[1mwandb\u001b[0m: \tinit_method: xavier\n",
            "\u001b[34m\u001b[1mwandb\u001b[0m: \tlearning_rate: 0.001\n",
            "\u001b[34m\u001b[1mwandb\u001b[0m: \tloss: mse\n",
            "\u001b[34m\u001b[1mwandb\u001b[0m: \tnum_hidden_layers: 4\n",
            "\u001b[34m\u001b[1mwandb\u001b[0m: \tnum_hidden_nodes: 32\n",
            "\u001b[34m\u001b[1mwandb\u001b[0m: \toptimizer: momentum\n"
          ]
        },
        {
          "data": {
            "text/html": [
              "Ignoring project 'Assignment1' when running a sweep."
            ],
            "text/plain": [
              "<IPython.core.display.HTML object>"
            ]
          },
          "metadata": {},
          "output_type": "display_data"
        },
        {
          "data": {
            "text/html": [
              "Tracking run with wandb version 0.19.8"
            ],
            "text/plain": [
              "<IPython.core.display.HTML object>"
            ]
          },
          "metadata": {},
          "output_type": "display_data"
        },
        {
          "data": {
            "text/html": [
              "Run data is saved locally in <code>/content/wandb/run-20250316_081631-e1xfe800</code>"
            ],
            "text/plain": [
              "<IPython.core.display.HTML object>"
            ]
          },
          "metadata": {},
          "output_type": "display_data"
        },
        {
          "data": {
            "text/html": [
              "Syncing run <strong><a href='https://wandb.ai/ajay-madkami-iitm-indian-institute-of-technology-mad/Assignment1/runs/e1xfe800' target=\"_blank\">youthful-sweep-37</a></strong> to <a href='https://wandb.ai/ajay-madkami-iitm-indian-institute-of-technology-mad/Assignment1' target=\"_blank\">Weights & Biases</a> (<a href='https://wandb.me/developer-guide' target=\"_blank\">docs</a>)<br>Sweep page: <a href='https://wandb.ai/ajay-madkami-iitm-indian-institute-of-technology-mad/Assignment1/sweeps/mcgkxgsu' target=\"_blank\">https://wandb.ai/ajay-madkami-iitm-indian-institute-of-technology-mad/Assignment1/sweeps/mcgkxgsu</a>"
            ],
            "text/plain": [
              "<IPython.core.display.HTML object>"
            ]
          },
          "metadata": {},
          "output_type": "display_data"
        },
        {
          "data": {
            "text/html": [
              " View project at <a href='https://wandb.ai/ajay-madkami-iitm-indian-institute-of-technology-mad/Assignment1' target=\"_blank\">https://wandb.ai/ajay-madkami-iitm-indian-institute-of-technology-mad/Assignment1</a>"
            ],
            "text/plain": [
              "<IPython.core.display.HTML object>"
            ]
          },
          "metadata": {},
          "output_type": "display_data"
        },
        {
          "data": {
            "text/html": [
              " View sweep at <a href='https://wandb.ai/ajay-madkami-iitm-indian-institute-of-technology-mad/Assignment1/sweeps/mcgkxgsu' target=\"_blank\">https://wandb.ai/ajay-madkami-iitm-indian-institute-of-technology-mad/Assignment1/sweeps/mcgkxgsu</a>"
            ],
            "text/plain": [
              "<IPython.core.display.HTML object>"
            ]
          },
          "metadata": {},
          "output_type": "display_data"
        },
        {
          "data": {
            "text/html": [
              " View run at <a href='https://wandb.ai/ajay-madkami-iitm-indian-institute-of-technology-mad/Assignment1/runs/e1xfe800' target=\"_blank\">https://wandb.ai/ajay-madkami-iitm-indian-institute-of-technology-mad/Assignment1/runs/e1xfe800</a>"
            ],
            "text/plain": [
              "<IPython.core.display.HTML object>"
            ]
          },
          "metadata": {},
          "output_type": "display_data"
        },
        {
          "name": "stdout",
          "output_type": "stream",
          "text": [
            "Epoch 1/10, Train Loss: 0.0898, Val Loss: 0.0898, Train Acc: 0.2493, Val Acc: 0.2527\n",
            "Epoch 2/10, Train Loss: 0.0897, Val Loss: 0.0897, Train Acc: 0.3670, Val Acc: 0.3705\n",
            "Epoch 3/10, Train Loss: 0.0893, Val Loss: 0.0893, Train Acc: 0.3863, Val Acc: 0.3836\n",
            "Epoch 4/10, Train Loss: 0.0881, Val Loss: 0.0882, Train Acc: 0.3482, Val Acc: 0.3464\n",
            "Epoch 5/10, Train Loss: 0.0859, Val Loss: 0.0861, Train Acc: 0.3415, Val Acc: 0.3418\n",
            "Epoch 6/10, Train Loss: 0.0843, Val Loss: 0.0845, Train Acc: 0.3428, Val Acc: 0.3437\n",
            "Epoch 7/10, Train Loss: 0.0841, Val Loss: 0.0843, Train Acc: 0.3402, Val Acc: 0.3391\n",
            "Epoch 8/10, Train Loss: 0.0842, Val Loss: 0.0844, Train Acc: 0.3368, Val Acc: 0.3359\n",
            "Epoch 9/10, Train Loss: 0.0843, Val Loss: 0.0845, Train Acc: 0.3346, Val Acc: 0.3333\n",
            "Epoch 10/10, Train Loss: 0.0845, Val Loss: 0.0846, Train Acc: 0.3333, Val Acc: 0.3287\n"
          ]
        },
        {
          "data": {
            "text/html": [],
            "text/plain": [
              "<IPython.core.display.HTML object>"
            ]
          },
          "metadata": {},
          "output_type": "display_data"
        },
        {
          "data": {
            "text/html": [
              "<br>    <style><br>        .wandb-row {<br>            display: flex;<br>            flex-direction: row;<br>            flex-wrap: wrap;<br>            justify-content: flex-start;<br>            width: 100%;<br>        }<br>        .wandb-col {<br>            display: flex;<br>            flex-direction: column;<br>            flex-basis: 100%;<br>            flex: 1;<br>            padding: 10px;<br>        }<br>    </style><br><div class=\"wandb-row\"><div class=\"wandb-col\"><h3>Run history:</h3><br/><table class=\"wandb\"><tr><td>epoch</td><td>▁▂▃▃▄▅▆▆▇█</td></tr><tr><td>train_acc</td><td>▁▇█▆▆▆▆▅▅▅</td></tr><tr><td>train_loss</td><td>██▇▆▃▁▁▁▁▁</td></tr><tr><td>val_acc</td><td>▁▇█▆▆▆▆▅▅▅</td></tr><tr><td>val_loss</td><td>██▇▆▃▁▁▁▁▁</td></tr></table><br/></div><div class=\"wandb-col\"><h3>Run summary:</h3><br/><table class=\"wandb\"><tr><td>epoch</td><td>10</td></tr><tr><td>train_acc</td><td>0.33331</td></tr><tr><td>train_loss</td><td>0.08448</td></tr><tr><td>val_acc</td><td>0.32875</td></tr><tr><td>val_loss</td><td>0.08464</td></tr></table><br/></div></div>"
            ],
            "text/plain": [
              "<IPython.core.display.HTML object>"
            ]
          },
          "metadata": {},
          "output_type": "display_data"
        },
        {
          "data": {
            "text/html": [
              " View run <strong style=\"color:#cdcd00\">youthful-sweep-37</strong> at: <a href='https://wandb.ai/ajay-madkami-iitm-indian-institute-of-technology-mad/Assignment1/runs/e1xfe800' target=\"_blank\">https://wandb.ai/ajay-madkami-iitm-indian-institute-of-technology-mad/Assignment1/runs/e1xfe800</a><br> View project at: <a href='https://wandb.ai/ajay-madkami-iitm-indian-institute-of-technology-mad/Assignment1' target=\"_blank\">https://wandb.ai/ajay-madkami-iitm-indian-institute-of-technology-mad/Assignment1</a><br>Synced 5 W&B file(s), 0 media file(s), 0 artifact file(s) and 0 other file(s)"
            ],
            "text/plain": [
              "<IPython.core.display.HTML object>"
            ]
          },
          "metadata": {},
          "output_type": "display_data"
        },
        {
          "data": {
            "text/html": [
              "Find logs at: <code>./wandb/run-20250316_081631-e1xfe800/logs</code>"
            ],
            "text/plain": [
              "<IPython.core.display.HTML object>"
            ]
          },
          "metadata": {},
          "output_type": "display_data"
        },
        {
          "name": "stderr",
          "output_type": "stream",
          "text": [
            "\u001b[34m\u001b[1mwandb\u001b[0m: Agent Starting Run: e4qugu7e with config:\n",
            "\u001b[34m\u001b[1mwandb\u001b[0m: \tactivation: tanh\n",
            "\u001b[34m\u001b[1mwandb\u001b[0m: \tbatch_size: 32\n",
            "\u001b[34m\u001b[1mwandb\u001b[0m: \tepochs: 10\n",
            "\u001b[34m\u001b[1mwandb\u001b[0m: \tinit_method: xavier\n",
            "\u001b[34m\u001b[1mwandb\u001b[0m: \tlearning_rate: 0.0001\n",
            "\u001b[34m\u001b[1mwandb\u001b[0m: \tloss: mse\n",
            "\u001b[34m\u001b[1mwandb\u001b[0m: \tnum_hidden_layers: 3\n",
            "\u001b[34m\u001b[1mwandb\u001b[0m: \tnum_hidden_nodes: 64\n",
            "\u001b[34m\u001b[1mwandb\u001b[0m: \toptimizer: adam\n"
          ]
        },
        {
          "data": {
            "text/html": [
              "Ignoring project 'Assignment1' when running a sweep."
            ],
            "text/plain": [
              "<IPython.core.display.HTML object>"
            ]
          },
          "metadata": {},
          "output_type": "display_data"
        },
        {
          "data": {
            "text/html": [
              "Tracking run with wandb version 0.19.8"
            ],
            "text/plain": [
              "<IPython.core.display.HTML object>"
            ]
          },
          "metadata": {},
          "output_type": "display_data"
        },
        {
          "data": {
            "text/html": [
              "Run data is saved locally in <code>/content/wandb/run-20250316_081722-e4qugu7e</code>"
            ],
            "text/plain": [
              "<IPython.core.display.HTML object>"
            ]
          },
          "metadata": {},
          "output_type": "display_data"
        },
        {
          "data": {
            "text/html": [
              "Syncing run <strong><a href='https://wandb.ai/ajay-madkami-iitm-indian-institute-of-technology-mad/Assignment1/runs/e4qugu7e' target=\"_blank\">fine-sweep-38</a></strong> to <a href='https://wandb.ai/ajay-madkami-iitm-indian-institute-of-technology-mad/Assignment1' target=\"_blank\">Weights & Biases</a> (<a href='https://wandb.me/developer-guide' target=\"_blank\">docs</a>)<br>Sweep page: <a href='https://wandb.ai/ajay-madkami-iitm-indian-institute-of-technology-mad/Assignment1/sweeps/mcgkxgsu' target=\"_blank\">https://wandb.ai/ajay-madkami-iitm-indian-institute-of-technology-mad/Assignment1/sweeps/mcgkxgsu</a>"
            ],
            "text/plain": [
              "<IPython.core.display.HTML object>"
            ]
          },
          "metadata": {},
          "output_type": "display_data"
        },
        {
          "data": {
            "text/html": [
              " View project at <a href='https://wandb.ai/ajay-madkami-iitm-indian-institute-of-technology-mad/Assignment1' target=\"_blank\">https://wandb.ai/ajay-madkami-iitm-indian-institute-of-technology-mad/Assignment1</a>"
            ],
            "text/plain": [
              "<IPython.core.display.HTML object>"
            ]
          },
          "metadata": {},
          "output_type": "display_data"
        },
        {
          "data": {
            "text/html": [
              " View sweep at <a href='https://wandb.ai/ajay-madkami-iitm-indian-institute-of-technology-mad/Assignment1/sweeps/mcgkxgsu' target=\"_blank\">https://wandb.ai/ajay-madkami-iitm-indian-institute-of-technology-mad/Assignment1/sweeps/mcgkxgsu</a>"
            ],
            "text/plain": [
              "<IPython.core.display.HTML object>"
            ]
          },
          "metadata": {},
          "output_type": "display_data"
        },
        {
          "data": {
            "text/html": [
              " View run at <a href='https://wandb.ai/ajay-madkami-iitm-indian-institute-of-technology-mad/Assignment1/runs/e4qugu7e' target=\"_blank\">https://wandb.ai/ajay-madkami-iitm-indian-institute-of-technology-mad/Assignment1/runs/e4qugu7e</a>"
            ],
            "text/plain": [
              "<IPython.core.display.HTML object>"
            ]
          },
          "metadata": {},
          "output_type": "display_data"
        },
        {
          "name": "stdout",
          "output_type": "stream",
          "text": [
            "Epoch 1/10, Train Loss: 0.0831, Val Loss: 0.0830, Train Acc: 0.5784, Val Acc: 0.5813\n",
            "Epoch 2/10, Train Loss: 0.0786, Val Loss: 0.0786, Train Acc: 0.6165, Val Acc: 0.6205\n",
            "Epoch 3/10, Train Loss: 0.0749, Val Loss: 0.0748, Train Acc: 0.6830, Val Acc: 0.6862\n",
            "Epoch 4/10, Train Loss: 0.0716, Val Loss: 0.0715, Train Acc: 0.7207, Val Acc: 0.7235\n",
            "Epoch 5/10, Train Loss: 0.0687, Val Loss: 0.0686, Train Acc: 0.7418, Val Acc: 0.7433\n",
            "Epoch 6/10, Train Loss: 0.0661, Val Loss: 0.0659, Train Acc: 0.7561, Val Acc: 0.7598\n",
            "Epoch 7/10, Train Loss: 0.0637, Val Loss: 0.0635, Train Acc: 0.7700, Val Acc: 0.7725\n",
            "Epoch 8/10, Train Loss: 0.0616, Val Loss: 0.0614, Train Acc: 0.7813, Val Acc: 0.7842\n",
            "Epoch 9/10, Train Loss: 0.0597, Val Loss: 0.0594, Train Acc: 0.7915, Val Acc: 0.7945\n",
            "Epoch 10/10, Train Loss: 0.0579, Val Loss: 0.0577, Train Acc: 0.8008, Val Acc: 0.8041\n"
          ]
        },
        {
          "data": {
            "text/html": [],
            "text/plain": [
              "<IPython.core.display.HTML object>"
            ]
          },
          "metadata": {},
          "output_type": "display_data"
        },
        {
          "data": {
            "text/html": [
              "<br>    <style><br>        .wandb-row {<br>            display: flex;<br>            flex-direction: row;<br>            flex-wrap: wrap;<br>            justify-content: flex-start;<br>            width: 100%;<br>        }<br>        .wandb-col {<br>            display: flex;<br>            flex-direction: column;<br>            flex-basis: 100%;<br>            flex: 1;<br>            padding: 10px;<br>        }<br>    </style><br><div class=\"wandb-row\"><div class=\"wandb-col\"><h3>Run history:</h3><br/><table class=\"wandb\"><tr><td>epoch</td><td>▁▂▃▃▄▅▆▆▇█</td></tr><tr><td>train_acc</td><td>▁▂▄▅▆▇▇▇██</td></tr><tr><td>train_loss</td><td>█▇▆▅▄▃▃▂▁▁</td></tr><tr><td>val_acc</td><td>▁▂▄▅▆▇▇▇██</td></tr><tr><td>val_loss</td><td>█▇▆▅▄▃▃▂▁▁</td></tr></table><br/></div><div class=\"wandb-col\"><h3>Run summary:</h3><br/><table class=\"wandb\"><tr><td>epoch</td><td>10</td></tr><tr><td>train_acc</td><td>0.80083</td></tr><tr><td>train_loss</td><td>0.05791</td></tr><tr><td>val_acc</td><td>0.80408</td></tr><tr><td>val_loss</td><td>0.05768</td></tr></table><br/></div></div>"
            ],
            "text/plain": [
              "<IPython.core.display.HTML object>"
            ]
          },
          "metadata": {},
          "output_type": "display_data"
        },
        {
          "data": {
            "text/html": [
              " View run <strong style=\"color:#cdcd00\">fine-sweep-38</strong> at: <a href='https://wandb.ai/ajay-madkami-iitm-indian-institute-of-technology-mad/Assignment1/runs/e4qugu7e' target=\"_blank\">https://wandb.ai/ajay-madkami-iitm-indian-institute-of-technology-mad/Assignment1/runs/e4qugu7e</a><br> View project at: <a href='https://wandb.ai/ajay-madkami-iitm-indian-institute-of-technology-mad/Assignment1' target=\"_blank\">https://wandb.ai/ajay-madkami-iitm-indian-institute-of-technology-mad/Assignment1</a><br>Synced 5 W&B file(s), 0 media file(s), 0 artifact file(s) and 0 other file(s)"
            ],
            "text/plain": [
              "<IPython.core.display.HTML object>"
            ]
          },
          "metadata": {},
          "output_type": "display_data"
        },
        {
          "data": {
            "text/html": [
              "Find logs at: <code>./wandb/run-20250316_081722-e4qugu7e/logs</code>"
            ],
            "text/plain": [
              "<IPython.core.display.HTML object>"
            ]
          },
          "metadata": {},
          "output_type": "display_data"
        },
        {
          "name": "stderr",
          "output_type": "stream",
          "text": [
            "\u001b[34m\u001b[1mwandb\u001b[0m: Agent Starting Run: p81r395k with config:\n",
            "\u001b[34m\u001b[1mwandb\u001b[0m: \tactivation: sigmoid\n",
            "\u001b[34m\u001b[1mwandb\u001b[0m: \tbatch_size: 32\n",
            "\u001b[34m\u001b[1mwandb\u001b[0m: \tepochs: 5\n",
            "\u001b[34m\u001b[1mwandb\u001b[0m: \tinit_method: xavier\n",
            "\u001b[34m\u001b[1mwandb\u001b[0m: \tlearning_rate: 0.0001\n",
            "\u001b[34m\u001b[1mwandb\u001b[0m: \tloss: mse\n",
            "\u001b[34m\u001b[1mwandb\u001b[0m: \tnum_hidden_layers: 5\n",
            "\u001b[34m\u001b[1mwandb\u001b[0m: \tnum_hidden_nodes: 128\n",
            "\u001b[34m\u001b[1mwandb\u001b[0m: \toptimizer: adam\n"
          ]
        },
        {
          "data": {
            "text/html": [
              "Ignoring project 'Assignment1' when running a sweep."
            ],
            "text/plain": [
              "<IPython.core.display.HTML object>"
            ]
          },
          "metadata": {},
          "output_type": "display_data"
        },
        {
          "data": {
            "text/html": [
              "Tracking run with wandb version 0.19.8"
            ],
            "text/plain": [
              "<IPython.core.display.HTML object>"
            ]
          },
          "metadata": {},
          "output_type": "display_data"
        },
        {
          "data": {
            "text/html": [
              "Run data is saved locally in <code>/content/wandb/run-20250316_081822-p81r395k</code>"
            ],
            "text/plain": [
              "<IPython.core.display.HTML object>"
            ]
          },
          "metadata": {},
          "output_type": "display_data"
        },
        {
          "data": {
            "text/html": [
              "Syncing run <strong><a href='https://wandb.ai/ajay-madkami-iitm-indian-institute-of-technology-mad/Assignment1/runs/p81r395k' target=\"_blank\">gallant-sweep-39</a></strong> to <a href='https://wandb.ai/ajay-madkami-iitm-indian-institute-of-technology-mad/Assignment1' target=\"_blank\">Weights & Biases</a> (<a href='https://wandb.me/developer-guide' target=\"_blank\">docs</a>)<br>Sweep page: <a href='https://wandb.ai/ajay-madkami-iitm-indian-institute-of-technology-mad/Assignment1/sweeps/mcgkxgsu' target=\"_blank\">https://wandb.ai/ajay-madkami-iitm-indian-institute-of-technology-mad/Assignment1/sweeps/mcgkxgsu</a>"
            ],
            "text/plain": [
              "<IPython.core.display.HTML object>"
            ]
          },
          "metadata": {},
          "output_type": "display_data"
        },
        {
          "data": {
            "text/html": [
              " View project at <a href='https://wandb.ai/ajay-madkami-iitm-indian-institute-of-technology-mad/Assignment1' target=\"_blank\">https://wandb.ai/ajay-madkami-iitm-indian-institute-of-technology-mad/Assignment1</a>"
            ],
            "text/plain": [
              "<IPython.core.display.HTML object>"
            ]
          },
          "metadata": {},
          "output_type": "display_data"
        },
        {
          "data": {
            "text/html": [
              " View sweep at <a href='https://wandb.ai/ajay-madkami-iitm-indian-institute-of-technology-mad/Assignment1/sweeps/mcgkxgsu' target=\"_blank\">https://wandb.ai/ajay-madkami-iitm-indian-institute-of-technology-mad/Assignment1/sweeps/mcgkxgsu</a>"
            ],
            "text/plain": [
              "<IPython.core.display.HTML object>"
            ]
          },
          "metadata": {},
          "output_type": "display_data"
        },
        {
          "data": {
            "text/html": [
              " View run at <a href='https://wandb.ai/ajay-madkami-iitm-indian-institute-of-technology-mad/Assignment1/runs/p81r395k' target=\"_blank\">https://wandb.ai/ajay-madkami-iitm-indian-institute-of-technology-mad/Assignment1/runs/p81r395k</a>"
            ],
            "text/plain": [
              "<IPython.core.display.HTML object>"
            ]
          },
          "metadata": {},
          "output_type": "display_data"
        },
        {
          "name": "stdout",
          "output_type": "stream",
          "text": [
            "Epoch 1/5, Train Loss: 0.0905, Val Loss: 0.0905, Train Acc: 0.2511, Val Acc: 0.2457\n",
            "Epoch 2/5, Train Loss: 0.0901, Val Loss: 0.0901, Train Acc: 0.2511, Val Acc: 0.2457\n",
            "Epoch 3/5, Train Loss: 0.0900, Val Loss: 0.0900, Train Acc: 0.2511, Val Acc: 0.2457\n",
            "Epoch 4/5, Train Loss: 0.0900, Val Loss: 0.0900, Train Acc: 0.3342, Val Acc: 0.3268\n",
            "Epoch 5/5, Train Loss: 0.0900, Val Loss: 0.0900, Train Acc: 0.2506, Val Acc: 0.2484\n"
          ]
        },
        {
          "data": {
            "text/html": [],
            "text/plain": [
              "<IPython.core.display.HTML object>"
            ]
          },
          "metadata": {},
          "output_type": "display_data"
        },
        {
          "data": {
            "text/html": [
              "<br>    <style><br>        .wandb-row {<br>            display: flex;<br>            flex-direction: row;<br>            flex-wrap: wrap;<br>            justify-content: flex-start;<br>            width: 100%;<br>        }<br>        .wandb-col {<br>            display: flex;<br>            flex-direction: column;<br>            flex-basis: 100%;<br>            flex: 1;<br>            padding: 10px;<br>        }<br>    </style><br><div class=\"wandb-row\"><div class=\"wandb-col\"><h3>Run history:</h3><br/><table class=\"wandb\"><tr><td>epoch</td><td>▁▃▅▆█</td></tr><tr><td>train_acc</td><td>▁▁▁█▁</td></tr><tr><td>train_loss</td><td>█▃▂▁▁</td></tr><tr><td>val_acc</td><td>▁▁▁█▁</td></tr><tr><td>val_loss</td><td>█▃▂▁▁</td></tr></table><br/></div><div class=\"wandb-col\"><h3>Run summary:</h3><br/><table class=\"wandb\"><tr><td>epoch</td><td>5</td></tr><tr><td>train_acc</td><td>0.25058</td></tr><tr><td>train_loss</td><td>0.08997</td></tr><tr><td>val_acc</td><td>0.24842</td></tr><tr><td>val_loss</td><td>0.08997</td></tr></table><br/></div></div>"
            ],
            "text/plain": [
              "<IPython.core.display.HTML object>"
            ]
          },
          "metadata": {},
          "output_type": "display_data"
        },
        {
          "data": {
            "text/html": [
              " View run <strong style=\"color:#cdcd00\">gallant-sweep-39</strong> at: <a href='https://wandb.ai/ajay-madkami-iitm-indian-institute-of-technology-mad/Assignment1/runs/p81r395k' target=\"_blank\">https://wandb.ai/ajay-madkami-iitm-indian-institute-of-technology-mad/Assignment1/runs/p81r395k</a><br> View project at: <a href='https://wandb.ai/ajay-madkami-iitm-indian-institute-of-technology-mad/Assignment1' target=\"_blank\">https://wandb.ai/ajay-madkami-iitm-indian-institute-of-technology-mad/Assignment1</a><br>Synced 5 W&B file(s), 0 media file(s), 0 artifact file(s) and 0 other file(s)"
            ],
            "text/plain": [
              "<IPython.core.display.HTML object>"
            ]
          },
          "metadata": {},
          "output_type": "display_data"
        },
        {
          "data": {
            "text/html": [
              "Find logs at: <code>./wandb/run-20250316_081822-p81r395k/logs</code>"
            ],
            "text/plain": [
              "<IPython.core.display.HTML object>"
            ]
          },
          "metadata": {},
          "output_type": "display_data"
        },
        {
          "name": "stderr",
          "output_type": "stream",
          "text": [
            "\u001b[34m\u001b[1mwandb\u001b[0m: Agent Starting Run: 4f2e7yak with config:\n",
            "\u001b[34m\u001b[1mwandb\u001b[0m: \tactivation: sigmoid\n",
            "\u001b[34m\u001b[1mwandb\u001b[0m: \tbatch_size: 64\n",
            "\u001b[34m\u001b[1mwandb\u001b[0m: \tepochs: 5\n",
            "\u001b[34m\u001b[1mwandb\u001b[0m: \tinit_method: random\n",
            "\u001b[34m\u001b[1mwandb\u001b[0m: \tlearning_rate: 0.001\n",
            "\u001b[34m\u001b[1mwandb\u001b[0m: \tloss: mse\n",
            "\u001b[34m\u001b[1mwandb\u001b[0m: \tnum_hidden_layers: 4\n",
            "\u001b[34m\u001b[1mwandb\u001b[0m: \tnum_hidden_nodes: 128\n",
            "\u001b[34m\u001b[1mwandb\u001b[0m: \toptimizer: momentum\n"
          ]
        },
        {
          "data": {
            "text/html": [
              "Ignoring project 'Assignment1' when running a sweep."
            ],
            "text/plain": [
              "<IPython.core.display.HTML object>"
            ]
          },
          "metadata": {},
          "output_type": "display_data"
        },
        {
          "data": {
            "text/html": [
              "Tracking run with wandb version 0.19.8"
            ],
            "text/plain": [
              "<IPython.core.display.HTML object>"
            ]
          },
          "metadata": {},
          "output_type": "display_data"
        },
        {
          "data": {
            "text/html": [
              "Run data is saved locally in <code>/content/wandb/run-20250316_081919-4f2e7yak</code>"
            ],
            "text/plain": [
              "<IPython.core.display.HTML object>"
            ]
          },
          "metadata": {},
          "output_type": "display_data"
        },
        {
          "data": {
            "text/html": [
              "Syncing run <strong><a href='https://wandb.ai/ajay-madkami-iitm-indian-institute-of-technology-mad/Assignment1/runs/4f2e7yak' target=\"_blank\">crisp-sweep-40</a></strong> to <a href='https://wandb.ai/ajay-madkami-iitm-indian-institute-of-technology-mad/Assignment1' target=\"_blank\">Weights & Biases</a> (<a href='https://wandb.me/developer-guide' target=\"_blank\">docs</a>)<br>Sweep page: <a href='https://wandb.ai/ajay-madkami-iitm-indian-institute-of-technology-mad/Assignment1/sweeps/mcgkxgsu' target=\"_blank\">https://wandb.ai/ajay-madkami-iitm-indian-institute-of-technology-mad/Assignment1/sweeps/mcgkxgsu</a>"
            ],
            "text/plain": [
              "<IPython.core.display.HTML object>"
            ]
          },
          "metadata": {},
          "output_type": "display_data"
        },
        {
          "data": {
            "text/html": [
              " View project at <a href='https://wandb.ai/ajay-madkami-iitm-indian-institute-of-technology-mad/Assignment1' target=\"_blank\">https://wandb.ai/ajay-madkami-iitm-indian-institute-of-technology-mad/Assignment1</a>"
            ],
            "text/plain": [
              "<IPython.core.display.HTML object>"
            ]
          },
          "metadata": {},
          "output_type": "display_data"
        },
        {
          "data": {
            "text/html": [
              " View sweep at <a href='https://wandb.ai/ajay-madkami-iitm-indian-institute-of-technology-mad/Assignment1/sweeps/mcgkxgsu' target=\"_blank\">https://wandb.ai/ajay-madkami-iitm-indian-institute-of-technology-mad/Assignment1/sweeps/mcgkxgsu</a>"
            ],
            "text/plain": [
              "<IPython.core.display.HTML object>"
            ]
          },
          "metadata": {},
          "output_type": "display_data"
        },
        {
          "data": {
            "text/html": [
              " View run at <a href='https://wandb.ai/ajay-madkami-iitm-indian-institute-of-technology-mad/Assignment1/runs/4f2e7yak' target=\"_blank\">https://wandb.ai/ajay-madkami-iitm-indian-institute-of-technology-mad/Assignment1/runs/4f2e7yak</a>"
            ],
            "text/plain": [
              "<IPython.core.display.HTML object>"
            ]
          },
          "metadata": {},
          "output_type": "display_data"
        },
        {
          "name": "stdout",
          "output_type": "stream",
          "text": [
            "Epoch 1/5, Train Loss: 0.0900, Val Loss: 0.0900, Train Acc: 0.2504, Val Acc: 0.2483\n",
            "Epoch 2/5, Train Loss: 0.0900, Val Loss: 0.0900, Train Acc: 0.2504, Val Acc: 0.2483\n",
            "Epoch 3/5, Train Loss: 0.0900, Val Loss: 0.0900, Train Acc: 0.2504, Val Acc: 0.2483\n",
            "Epoch 4/5, Train Loss: 0.0900, Val Loss: 0.0900, Train Acc: 0.2504, Val Acc: 0.2483\n",
            "Epoch 5/5, Train Loss: 0.0900, Val Loss: 0.0900, Train Acc: 0.2504, Val Acc: 0.2483\n"
          ]
        },
        {
          "data": {
            "text/html": [],
            "text/plain": [
              "<IPython.core.display.HTML object>"
            ]
          },
          "metadata": {},
          "output_type": "display_data"
        },
        {
          "data": {
            "text/html": [
              "<br>    <style><br>        .wandb-row {<br>            display: flex;<br>            flex-direction: row;<br>            flex-wrap: wrap;<br>            justify-content: flex-start;<br>            width: 100%;<br>        }<br>        .wandb-col {<br>            display: flex;<br>            flex-direction: column;<br>            flex-basis: 100%;<br>            flex: 1;<br>            padding: 10px;<br>        }<br>    </style><br><div class=\"wandb-row\"><div class=\"wandb-col\"><h3>Run history:</h3><br/><table class=\"wandb\"><tr><td>epoch</td><td>▁▃▅▆█</td></tr><tr><td>train_acc</td><td>▁▁▁▁▁</td></tr><tr><td>train_loss</td><td>█▁▁▁▁</td></tr><tr><td>val_acc</td><td>▁▁▁▁▁</td></tr><tr><td>val_loss</td><td>▁▇███</td></tr></table><br/></div><div class=\"wandb-col\"><h3>Run summary:</h3><br/><table class=\"wandb\"><tr><td>epoch</td><td>5</td></tr><tr><td>train_acc</td><td>0.25042</td></tr><tr><td>train_loss</td><td>0.09</td></tr><tr><td>val_acc</td><td>0.24833</td></tr><tr><td>val_loss</td><td>0.09</td></tr></table><br/></div></div>"
            ],
            "text/plain": [
              "<IPython.core.display.HTML object>"
            ]
          },
          "metadata": {},
          "output_type": "display_data"
        },
        {
          "data": {
            "text/html": [
              " View run <strong style=\"color:#cdcd00\">crisp-sweep-40</strong> at: <a href='https://wandb.ai/ajay-madkami-iitm-indian-institute-of-technology-mad/Assignment1/runs/4f2e7yak' target=\"_blank\">https://wandb.ai/ajay-madkami-iitm-indian-institute-of-technology-mad/Assignment1/runs/4f2e7yak</a><br> View project at: <a href='https://wandb.ai/ajay-madkami-iitm-indian-institute-of-technology-mad/Assignment1' target=\"_blank\">https://wandb.ai/ajay-madkami-iitm-indian-institute-of-technology-mad/Assignment1</a><br>Synced 5 W&B file(s), 0 media file(s), 0 artifact file(s) and 0 other file(s)"
            ],
            "text/plain": [
              "<IPython.core.display.HTML object>"
            ]
          },
          "metadata": {},
          "output_type": "display_data"
        },
        {
          "data": {
            "text/html": [
              "Find logs at: <code>./wandb/run-20250316_081919-4f2e7yak/logs</code>"
            ],
            "text/plain": [
              "<IPython.core.display.HTML object>"
            ]
          },
          "metadata": {},
          "output_type": "display_data"
        },
        {
          "name": "stderr",
          "output_type": "stream",
          "text": [
            "\u001b[34m\u001b[1mwandb\u001b[0m: Agent Starting Run: brd7j10s with config:\n",
            "\u001b[34m\u001b[1mwandb\u001b[0m: \tactivation: tanh\n",
            "\u001b[34m\u001b[1mwandb\u001b[0m: \tbatch_size: 16\n",
            "\u001b[34m\u001b[1mwandb\u001b[0m: \tepochs: 5\n",
            "\u001b[34m\u001b[1mwandb\u001b[0m: \tinit_method: random\n",
            "\u001b[34m\u001b[1mwandb\u001b[0m: \tlearning_rate: 0.001\n",
            "\u001b[34m\u001b[1mwandb\u001b[0m: \tloss: mse\n",
            "\u001b[34m\u001b[1mwandb\u001b[0m: \tnum_hidden_layers: 4\n",
            "\u001b[34m\u001b[1mwandb\u001b[0m: \tnum_hidden_nodes: 64\n",
            "\u001b[34m\u001b[1mwandb\u001b[0m: \toptimizer: adam\n"
          ]
        },
        {
          "data": {
            "text/html": [
              "Ignoring project 'Assignment1' when running a sweep."
            ],
            "text/plain": [
              "<IPython.core.display.HTML object>"
            ]
          },
          "metadata": {},
          "output_type": "display_data"
        },
        {
          "data": {
            "text/html": [
              "Tracking run with wandb version 0.19.8"
            ],
            "text/plain": [
              "<IPython.core.display.HTML object>"
            ]
          },
          "metadata": {},
          "output_type": "display_data"
        },
        {
          "data": {
            "text/html": [
              "Run data is saved locally in <code>/content/wandb/run-20250316_082004-brd7j10s</code>"
            ],
            "text/plain": [
              "<IPython.core.display.HTML object>"
            ]
          },
          "metadata": {},
          "output_type": "display_data"
        },
        {
          "data": {
            "text/html": [
              "Syncing run <strong><a href='https://wandb.ai/ajay-madkami-iitm-indian-institute-of-technology-mad/Assignment1/runs/brd7j10s' target=\"_blank\">eager-sweep-41</a></strong> to <a href='https://wandb.ai/ajay-madkami-iitm-indian-institute-of-technology-mad/Assignment1' target=\"_blank\">Weights & Biases</a> (<a href='https://wandb.me/developer-guide' target=\"_blank\">docs</a>)<br>Sweep page: <a href='https://wandb.ai/ajay-madkami-iitm-indian-institute-of-technology-mad/Assignment1/sweeps/mcgkxgsu' target=\"_blank\">https://wandb.ai/ajay-madkami-iitm-indian-institute-of-technology-mad/Assignment1/sweeps/mcgkxgsu</a>"
            ],
            "text/plain": [
              "<IPython.core.display.HTML object>"
            ]
          },
          "metadata": {},
          "output_type": "display_data"
        },
        {
          "data": {
            "text/html": [
              " View project at <a href='https://wandb.ai/ajay-madkami-iitm-indian-institute-of-technology-mad/Assignment1' target=\"_blank\">https://wandb.ai/ajay-madkami-iitm-indian-institute-of-technology-mad/Assignment1</a>"
            ],
            "text/plain": [
              "<IPython.core.display.HTML object>"
            ]
          },
          "metadata": {},
          "output_type": "display_data"
        },
        {
          "data": {
            "text/html": [
              " View sweep at <a href='https://wandb.ai/ajay-madkami-iitm-indian-institute-of-technology-mad/Assignment1/sweeps/mcgkxgsu' target=\"_blank\">https://wandb.ai/ajay-madkami-iitm-indian-institute-of-technology-mad/Assignment1/sweeps/mcgkxgsu</a>"
            ],
            "text/plain": [
              "<IPython.core.display.HTML object>"
            ]
          },
          "metadata": {},
          "output_type": "display_data"
        },
        {
          "data": {
            "text/html": [
              " View run at <a href='https://wandb.ai/ajay-madkami-iitm-indian-institute-of-technology-mad/Assignment1/runs/brd7j10s' target=\"_blank\">https://wandb.ai/ajay-madkami-iitm-indian-institute-of-technology-mad/Assignment1/runs/brd7j10s</a>"
            ],
            "text/plain": [
              "<IPython.core.display.HTML object>"
            ]
          },
          "metadata": {},
          "output_type": "display_data"
        },
        {
          "name": "stdout",
          "output_type": "stream",
          "text": [
            "Epoch 1/5, Train Loss: 0.0900, Val Loss: 0.0900, Train Acc: 0.2511, Val Acc: 0.2457\n",
            "Epoch 2/5, Train Loss: 0.0900, Val Loss: 0.0900, Train Acc: 0.2511, Val Acc: 0.2457\n",
            "Epoch 3/5, Train Loss: 0.0900, Val Loss: 0.0900, Train Acc: 0.2511, Val Acc: 0.2457\n",
            "Epoch 4/5, Train Loss: 0.0900, Val Loss: 0.0900, Train Acc: 0.2511, Val Acc: 0.2457\n",
            "Epoch 5/5, Train Loss: 0.0900, Val Loss: 0.0900, Train Acc: 0.2511, Val Acc: 0.2457\n"
          ]
        },
        {
          "data": {
            "text/html": [],
            "text/plain": [
              "<IPython.core.display.HTML object>"
            ]
          },
          "metadata": {},
          "output_type": "display_data"
        },
        {
          "data": {
            "text/html": [
              "<br>    <style><br>        .wandb-row {<br>            display: flex;<br>            flex-direction: row;<br>            flex-wrap: wrap;<br>            justify-content: flex-start;<br>            width: 100%;<br>        }<br>        .wandb-col {<br>            display: flex;<br>            flex-direction: column;<br>            flex-basis: 100%;<br>            flex: 1;<br>            padding: 10px;<br>        }<br>    </style><br><div class=\"wandb-row\"><div class=\"wandb-col\"><h3>Run history:</h3><br/><table class=\"wandb\"><tr><td>epoch</td><td>▁▃▅▆█</td></tr><tr><td>train_acc</td><td>▁▁▁▁▁</td></tr><tr><td>train_loss</td><td>█▅▃▁▁</td></tr><tr><td>val_acc</td><td>▁▁▁▁▁</td></tr><tr><td>val_loss</td><td>▁▄▅▇█</td></tr></table><br/></div><div class=\"wandb-col\"><h3>Run summary:</h3><br/><table class=\"wandb\"><tr><td>epoch</td><td>5</td></tr><tr><td>train_acc</td><td>0.25106</td></tr><tr><td>train_loss</td><td>0.09</td></tr><tr><td>val_acc</td><td>0.24575</td></tr><tr><td>val_loss</td><td>0.09</td></tr></table><br/></div></div>"
            ],
            "text/plain": [
              "<IPython.core.display.HTML object>"
            ]
          },
          "metadata": {},
          "output_type": "display_data"
        },
        {
          "data": {
            "text/html": [
              " View run <strong style=\"color:#cdcd00\">eager-sweep-41</strong> at: <a href='https://wandb.ai/ajay-madkami-iitm-indian-institute-of-technology-mad/Assignment1/runs/brd7j10s' target=\"_blank\">https://wandb.ai/ajay-madkami-iitm-indian-institute-of-technology-mad/Assignment1/runs/brd7j10s</a><br> View project at: <a href='https://wandb.ai/ajay-madkami-iitm-indian-institute-of-technology-mad/Assignment1' target=\"_blank\">https://wandb.ai/ajay-madkami-iitm-indian-institute-of-technology-mad/Assignment1</a><br>Synced 5 W&B file(s), 0 media file(s), 0 artifact file(s) and 0 other file(s)"
            ],
            "text/plain": [
              "<IPython.core.display.HTML object>"
            ]
          },
          "metadata": {},
          "output_type": "display_data"
        },
        {
          "data": {
            "text/html": [
              "Find logs at: <code>./wandb/run-20250316_082004-brd7j10s/logs</code>"
            ],
            "text/plain": [
              "<IPython.core.display.HTML object>"
            ]
          },
          "metadata": {},
          "output_type": "display_data"
        },
        {
          "name": "stderr",
          "output_type": "stream",
          "text": [
            "\u001b[34m\u001b[1mwandb\u001b[0m: Agent Starting Run: 0rm0d4k6 with config:\n",
            "\u001b[34m\u001b[1mwandb\u001b[0m: \tactivation: tanh\n",
            "\u001b[34m\u001b[1mwandb\u001b[0m: \tbatch_size: 32\n",
            "\u001b[34m\u001b[1mwandb\u001b[0m: \tepochs: 10\n",
            "\u001b[34m\u001b[1mwandb\u001b[0m: \tinit_method: xavier\n",
            "\u001b[34m\u001b[1mwandb\u001b[0m: \tlearning_rate: 0.0001\n",
            "\u001b[34m\u001b[1mwandb\u001b[0m: \tloss: mse\n",
            "\u001b[34m\u001b[1mwandb\u001b[0m: \tnum_hidden_layers: 3\n",
            "\u001b[34m\u001b[1mwandb\u001b[0m: \tnum_hidden_nodes: 128\n",
            "\u001b[34m\u001b[1mwandb\u001b[0m: \toptimizer: rmsprop\n"
          ]
        },
        {
          "data": {
            "text/html": [
              "Ignoring project 'Assignment1' when running a sweep."
            ],
            "text/plain": [
              "<IPython.core.display.HTML object>"
            ]
          },
          "metadata": {},
          "output_type": "display_data"
        },
        {
          "data": {
            "text/html": [
              "Tracking run with wandb version 0.19.8"
            ],
            "text/plain": [
              "<IPython.core.display.HTML object>"
            ]
          },
          "metadata": {},
          "output_type": "display_data"
        },
        {
          "data": {
            "text/html": [
              "Run data is saved locally in <code>/content/wandb/run-20250316_082054-0rm0d4k6</code>"
            ],
            "text/plain": [
              "<IPython.core.display.HTML object>"
            ]
          },
          "metadata": {},
          "output_type": "display_data"
        },
        {
          "data": {
            "text/html": [
              "Syncing run <strong><a href='https://wandb.ai/ajay-madkami-iitm-indian-institute-of-technology-mad/Assignment1/runs/0rm0d4k6' target=\"_blank\">earnest-sweep-42</a></strong> to <a href='https://wandb.ai/ajay-madkami-iitm-indian-institute-of-technology-mad/Assignment1' target=\"_blank\">Weights & Biases</a> (<a href='https://wandb.me/developer-guide' target=\"_blank\">docs</a>)<br>Sweep page: <a href='https://wandb.ai/ajay-madkami-iitm-indian-institute-of-technology-mad/Assignment1/sweeps/mcgkxgsu' target=\"_blank\">https://wandb.ai/ajay-madkami-iitm-indian-institute-of-technology-mad/Assignment1/sweeps/mcgkxgsu</a>"
            ],
            "text/plain": [
              "<IPython.core.display.HTML object>"
            ]
          },
          "metadata": {},
          "output_type": "display_data"
        },
        {
          "data": {
            "text/html": [
              " View project at <a href='https://wandb.ai/ajay-madkami-iitm-indian-institute-of-technology-mad/Assignment1' target=\"_blank\">https://wandb.ai/ajay-madkami-iitm-indian-institute-of-technology-mad/Assignment1</a>"
            ],
            "text/plain": [
              "<IPython.core.display.HTML object>"
            ]
          },
          "metadata": {},
          "output_type": "display_data"
        },
        {
          "data": {
            "text/html": [
              " View sweep at <a href='https://wandb.ai/ajay-madkami-iitm-indian-institute-of-technology-mad/Assignment1/sweeps/mcgkxgsu' target=\"_blank\">https://wandb.ai/ajay-madkami-iitm-indian-institute-of-technology-mad/Assignment1/sweeps/mcgkxgsu</a>"
            ],
            "text/plain": [
              "<IPython.core.display.HTML object>"
            ]
          },
          "metadata": {},
          "output_type": "display_data"
        },
        {
          "data": {
            "text/html": [
              " View run at <a href='https://wandb.ai/ajay-madkami-iitm-indian-institute-of-technology-mad/Assignment1/runs/0rm0d4k6' target=\"_blank\">https://wandb.ai/ajay-madkami-iitm-indian-institute-of-technology-mad/Assignment1/runs/0rm0d4k6</a>"
            ],
            "text/plain": [
              "<IPython.core.display.HTML object>"
            ]
          },
          "metadata": {},
          "output_type": "display_data"
        },
        {
          "name": "stdout",
          "output_type": "stream",
          "text": [
            "Epoch 1/10, Train Loss: 0.0854, Val Loss: 0.0853, Train Acc: 0.5290, Val Acc: 0.5359\n",
            "Epoch 2/10, Train Loss: 0.0806, Val Loss: 0.0805, Train Acc: 0.6363, Val Acc: 0.6456\n",
            "Epoch 3/10, Train Loss: 0.0761, Val Loss: 0.0759, Train Acc: 0.6812, Val Acc: 0.6880\n",
            "Epoch 4/10, Train Loss: 0.0719, Val Loss: 0.0717, Train Acc: 0.7104, Val Acc: 0.7153\n",
            "Epoch 5/10, Train Loss: 0.0682, Val Loss: 0.0680, Train Acc: 0.7362, Val Acc: 0.7409\n",
            "Epoch 6/10, Train Loss: 0.0651, Val Loss: 0.0648, Train Acc: 0.7597, Val Acc: 0.7667\n",
            "Epoch 7/10, Train Loss: 0.0623, Val Loss: 0.0619, Train Acc: 0.7780, Val Acc: 0.7873\n",
            "Epoch 8/10, Train Loss: 0.0598, Val Loss: 0.0595, Train Acc: 0.7924, Val Acc: 0.8003\n",
            "Epoch 9/10, Train Loss: 0.0577, Val Loss: 0.0572, Train Acc: 0.8025, Val Acc: 0.8132\n",
            "Epoch 10/10, Train Loss: 0.0557, Val Loss: 0.0553, Train Acc: 0.8100, Val Acc: 0.8216\n"
          ]
        },
        {
          "data": {
            "text/html": [],
            "text/plain": [
              "<IPython.core.display.HTML object>"
            ]
          },
          "metadata": {},
          "output_type": "display_data"
        },
        {
          "data": {
            "text/html": [
              "<br>    <style><br>        .wandb-row {<br>            display: flex;<br>            flex-direction: row;<br>            flex-wrap: wrap;<br>            justify-content: flex-start;<br>            width: 100%;<br>        }<br>        .wandb-col {<br>            display: flex;<br>            flex-direction: column;<br>            flex-basis: 100%;<br>            flex: 1;<br>            padding: 10px;<br>        }<br>    </style><br><div class=\"wandb-row\"><div class=\"wandb-col\"><h3>Run history:</h3><br/><table class=\"wandb\"><tr><td>epoch</td><td>▁▂▃▃▄▅▆▆▇█</td></tr><tr><td>train_acc</td><td>▁▄▅▆▆▇▇███</td></tr><tr><td>train_loss</td><td>█▇▆▅▄▃▃▂▁▁</td></tr><tr><td>val_acc</td><td>▁▄▅▅▆▇▇▇██</td></tr><tr><td>val_loss</td><td>█▇▆▅▄▃▃▂▁▁</td></tr></table><br/></div><div class=\"wandb-col\"><h3>Run summary:</h3><br/><table class=\"wandb\"><tr><td>epoch</td><td>10</td></tr><tr><td>train_acc</td><td>0.80998</td></tr><tr><td>train_loss</td><td>0.05569</td></tr><tr><td>val_acc</td><td>0.82158</td></tr><tr><td>val_loss</td><td>0.05525</td></tr></table><br/></div></div>"
            ],
            "text/plain": [
              "<IPython.core.display.HTML object>"
            ]
          },
          "metadata": {},
          "output_type": "display_data"
        },
        {
          "data": {
            "text/html": [
              " View run <strong style=\"color:#cdcd00\">earnest-sweep-42</strong> at: <a href='https://wandb.ai/ajay-madkami-iitm-indian-institute-of-technology-mad/Assignment1/runs/0rm0d4k6' target=\"_blank\">https://wandb.ai/ajay-madkami-iitm-indian-institute-of-technology-mad/Assignment1/runs/0rm0d4k6</a><br> View project at: <a href='https://wandb.ai/ajay-madkami-iitm-indian-institute-of-technology-mad/Assignment1' target=\"_blank\">https://wandb.ai/ajay-madkami-iitm-indian-institute-of-technology-mad/Assignment1</a><br>Synced 5 W&B file(s), 0 media file(s), 0 artifact file(s) and 0 other file(s)"
            ],
            "text/plain": [
              "<IPython.core.display.HTML object>"
            ]
          },
          "metadata": {},
          "output_type": "display_data"
        },
        {
          "data": {
            "text/html": [
              "Find logs at: <code>./wandb/run-20250316_082054-0rm0d4k6/logs</code>"
            ],
            "text/plain": [
              "<IPython.core.display.HTML object>"
            ]
          },
          "metadata": {},
          "output_type": "display_data"
        },
        {
          "name": "stderr",
          "output_type": "stream",
          "text": [
            "\u001b[34m\u001b[1mwandb\u001b[0m: Agent Starting Run: fbde4b3h with config:\n",
            "\u001b[34m\u001b[1mwandb\u001b[0m: \tactivation: sigmoid\n",
            "\u001b[34m\u001b[1mwandb\u001b[0m: \tbatch_size: 32\n",
            "\u001b[34m\u001b[1mwandb\u001b[0m: \tepochs: 10\n",
            "\u001b[34m\u001b[1mwandb\u001b[0m: \tinit_method: random\n",
            "\u001b[34m\u001b[1mwandb\u001b[0m: \tlearning_rate: 0.0001\n",
            "\u001b[34m\u001b[1mwandb\u001b[0m: \tloss: mse\n",
            "\u001b[34m\u001b[1mwandb\u001b[0m: \tnum_hidden_layers: 4\n",
            "\u001b[34m\u001b[1mwandb\u001b[0m: \tnum_hidden_nodes: 64\n",
            "\u001b[34m\u001b[1mwandb\u001b[0m: \toptimizer: sgd\n"
          ]
        },
        {
          "data": {
            "text/html": [
              "Ignoring project 'Assignment1' when running a sweep."
            ],
            "text/plain": [
              "<IPython.core.display.HTML object>"
            ]
          },
          "metadata": {},
          "output_type": "display_data"
        },
        {
          "data": {
            "text/html": [
              "Tracking run with wandb version 0.19.8"
            ],
            "text/plain": [
              "<IPython.core.display.HTML object>"
            ]
          },
          "metadata": {},
          "output_type": "display_data"
        },
        {
          "data": {
            "text/html": [
              "Run data is saved locally in <code>/content/wandb/run-20250316_082231-fbde4b3h</code>"
            ],
            "text/plain": [
              "<IPython.core.display.HTML object>"
            ]
          },
          "metadata": {},
          "output_type": "display_data"
        },
        {
          "data": {
            "text/html": [
              "Syncing run <strong><a href='https://wandb.ai/ajay-madkami-iitm-indian-institute-of-technology-mad/Assignment1/runs/fbde4b3h' target=\"_blank\">glorious-sweep-43</a></strong> to <a href='https://wandb.ai/ajay-madkami-iitm-indian-institute-of-technology-mad/Assignment1' target=\"_blank\">Weights & Biases</a> (<a href='https://wandb.me/developer-guide' target=\"_blank\">docs</a>)<br>Sweep page: <a href='https://wandb.ai/ajay-madkami-iitm-indian-institute-of-technology-mad/Assignment1/sweeps/mcgkxgsu' target=\"_blank\">https://wandb.ai/ajay-madkami-iitm-indian-institute-of-technology-mad/Assignment1/sweeps/mcgkxgsu</a>"
            ],
            "text/plain": [
              "<IPython.core.display.HTML object>"
            ]
          },
          "metadata": {},
          "output_type": "display_data"
        },
        {
          "data": {
            "text/html": [
              " View project at <a href='https://wandb.ai/ajay-madkami-iitm-indian-institute-of-technology-mad/Assignment1' target=\"_blank\">https://wandb.ai/ajay-madkami-iitm-indian-institute-of-technology-mad/Assignment1</a>"
            ],
            "text/plain": [
              "<IPython.core.display.HTML object>"
            ]
          },
          "metadata": {},
          "output_type": "display_data"
        },
        {
          "data": {
            "text/html": [
              " View sweep at <a href='https://wandb.ai/ajay-madkami-iitm-indian-institute-of-technology-mad/Assignment1/sweeps/mcgkxgsu' target=\"_blank\">https://wandb.ai/ajay-madkami-iitm-indian-institute-of-technology-mad/Assignment1/sweeps/mcgkxgsu</a>"
            ],
            "text/plain": [
              "<IPython.core.display.HTML object>"
            ]
          },
          "metadata": {},
          "output_type": "display_data"
        },
        {
          "data": {
            "text/html": [
              " View run at <a href='https://wandb.ai/ajay-madkami-iitm-indian-institute-of-technology-mad/Assignment1/runs/fbde4b3h' target=\"_blank\">https://wandb.ai/ajay-madkami-iitm-indian-institute-of-technology-mad/Assignment1/runs/fbde4b3h</a>"
            ],
            "text/plain": [
              "<IPython.core.display.HTML object>"
            ]
          },
          "metadata": {},
          "output_type": "display_data"
        },
        {
          "name": "stdout",
          "output_type": "stream",
          "text": [
            "Epoch 1/10, Train Loss: 0.0900, Val Loss: 0.0900, Train Acc: 0.2499, Val Acc: 0.2505\n",
            "Epoch 2/10, Train Loss: 0.0900, Val Loss: 0.0900, Train Acc: 0.2499, Val Acc: 0.2505\n",
            "Epoch 3/10, Train Loss: 0.0900, Val Loss: 0.0900, Train Acc: 0.2499, Val Acc: 0.2505\n",
            "Epoch 4/10, Train Loss: 0.0900, Val Loss: 0.0900, Train Acc: 0.2511, Val Acc: 0.2457\n",
            "Epoch 5/10, Train Loss: 0.0900, Val Loss: 0.0900, Train Acc: 0.2511, Val Acc: 0.2457\n",
            "Epoch 6/10, Train Loss: 0.0900, Val Loss: 0.0900, Train Acc: 0.2511, Val Acc: 0.2457\n",
            "Epoch 7/10, Train Loss: 0.0900, Val Loss: 0.0900, Train Acc: 0.2511, Val Acc: 0.2457\n",
            "Epoch 8/10, Train Loss: 0.0900, Val Loss: 0.0900, Train Acc: 0.2511, Val Acc: 0.2457\n",
            "Epoch 9/10, Train Loss: 0.0900, Val Loss: 0.0900, Train Acc: 0.2511, Val Acc: 0.2457\n",
            "Epoch 10/10, Train Loss: 0.0900, Val Loss: 0.0900, Train Acc: 0.2511, Val Acc: 0.2457\n"
          ]
        },
        {
          "data": {
            "text/html": [],
            "text/plain": [
              "<IPython.core.display.HTML object>"
            ]
          },
          "metadata": {},
          "output_type": "display_data"
        },
        {
          "data": {
            "text/html": [
              "<br>    <style><br>        .wandb-row {<br>            display: flex;<br>            flex-direction: row;<br>            flex-wrap: wrap;<br>            justify-content: flex-start;<br>            width: 100%;<br>        }<br>        .wandb-col {<br>            display: flex;<br>            flex-direction: column;<br>            flex-basis: 100%;<br>            flex: 1;<br>            padding: 10px;<br>        }<br>    </style><br><div class=\"wandb-row\"><div class=\"wandb-col\"><h3>Run history:</h3><br/><table class=\"wandb\"><tr><td>epoch</td><td>▁▂▃▃▄▅▆▆▇█</td></tr><tr><td>train_acc</td><td>▁▁▁███████</td></tr><tr><td>train_loss</td><td>█▅▃▂▂▁▁▁▁▁</td></tr><tr><td>val_acc</td><td>███▁▁▁▁▁▁▁</td></tr><tr><td>val_loss</td><td>█▅▃▂▂▁▁▁▁▁</td></tr></table><br/></div><div class=\"wandb-col\"><h3>Run summary:</h3><br/><table class=\"wandb\"><tr><td>epoch</td><td>10</td></tr><tr><td>train_acc</td><td>0.25106</td></tr><tr><td>train_loss</td><td>0.09</td></tr><tr><td>val_acc</td><td>0.24575</td></tr><tr><td>val_loss</td><td>0.09</td></tr></table><br/></div></div>"
            ],
            "text/plain": [
              "<IPython.core.display.HTML object>"
            ]
          },
          "metadata": {},
          "output_type": "display_data"
        },
        {
          "data": {
            "text/html": [
              " View run <strong style=\"color:#cdcd00\">glorious-sweep-43</strong> at: <a href='https://wandb.ai/ajay-madkami-iitm-indian-institute-of-technology-mad/Assignment1/runs/fbde4b3h' target=\"_blank\">https://wandb.ai/ajay-madkami-iitm-indian-institute-of-technology-mad/Assignment1/runs/fbde4b3h</a><br> View project at: <a href='https://wandb.ai/ajay-madkami-iitm-indian-institute-of-technology-mad/Assignment1' target=\"_blank\">https://wandb.ai/ajay-madkami-iitm-indian-institute-of-technology-mad/Assignment1</a><br>Synced 5 W&B file(s), 0 media file(s), 0 artifact file(s) and 0 other file(s)"
            ],
            "text/plain": [
              "<IPython.core.display.HTML object>"
            ]
          },
          "metadata": {},
          "output_type": "display_data"
        },
        {
          "data": {
            "text/html": [
              "Find logs at: <code>./wandb/run-20250316_082231-fbde4b3h/logs</code>"
            ],
            "text/plain": [
              "<IPython.core.display.HTML object>"
            ]
          },
          "metadata": {},
          "output_type": "display_data"
        },
        {
          "name": "stderr",
          "output_type": "stream",
          "text": [
            "\u001b[34m\u001b[1mwandb\u001b[0m: Agent Starting Run: z8fozcjw with config:\n",
            "\u001b[34m\u001b[1mwandb\u001b[0m: \tactivation: tanh\n",
            "\u001b[34m\u001b[1mwandb\u001b[0m: \tbatch_size: 64\n",
            "\u001b[34m\u001b[1mwandb\u001b[0m: \tepochs: 5\n",
            "\u001b[34m\u001b[1mwandb\u001b[0m: \tinit_method: random\n",
            "\u001b[34m\u001b[1mwandb\u001b[0m: \tlearning_rate: 0.001\n",
            "\u001b[34m\u001b[1mwandb\u001b[0m: \tloss: mse\n",
            "\u001b[34m\u001b[1mwandb\u001b[0m: \tnum_hidden_layers: 5\n",
            "\u001b[34m\u001b[1mwandb\u001b[0m: \tnum_hidden_nodes: 64\n",
            "\u001b[34m\u001b[1mwandb\u001b[0m: \toptimizer: adam\n"
          ]
        },
        {
          "data": {
            "text/html": [
              "Ignoring project 'Assignment1' when running a sweep."
            ],
            "text/plain": [
              "<IPython.core.display.HTML object>"
            ]
          },
          "metadata": {},
          "output_type": "display_data"
        },
        {
          "data": {
            "text/html": [
              "Tracking run with wandb version 0.19.8"
            ],
            "text/plain": [
              "<IPython.core.display.HTML object>"
            ]
          },
          "metadata": {},
          "output_type": "display_data"
        },
        {
          "data": {
            "text/html": [
              "Run data is saved locally in <code>/content/wandb/run-20250316_082322-z8fozcjw</code>"
            ],
            "text/plain": [
              "<IPython.core.display.HTML object>"
            ]
          },
          "metadata": {},
          "output_type": "display_data"
        },
        {
          "data": {
            "text/html": [
              "Syncing run <strong><a href='https://wandb.ai/ajay-madkami-iitm-indian-institute-of-technology-mad/Assignment1/runs/z8fozcjw' target=\"_blank\">sweepy-sweep-44</a></strong> to <a href='https://wandb.ai/ajay-madkami-iitm-indian-institute-of-technology-mad/Assignment1' target=\"_blank\">Weights & Biases</a> (<a href='https://wandb.me/developer-guide' target=\"_blank\">docs</a>)<br>Sweep page: <a href='https://wandb.ai/ajay-madkami-iitm-indian-institute-of-technology-mad/Assignment1/sweeps/mcgkxgsu' target=\"_blank\">https://wandb.ai/ajay-madkami-iitm-indian-institute-of-technology-mad/Assignment1/sweeps/mcgkxgsu</a>"
            ],
            "text/plain": [
              "<IPython.core.display.HTML object>"
            ]
          },
          "metadata": {},
          "output_type": "display_data"
        },
        {
          "data": {
            "text/html": [
              " View project at <a href='https://wandb.ai/ajay-madkami-iitm-indian-institute-of-technology-mad/Assignment1' target=\"_blank\">https://wandb.ai/ajay-madkami-iitm-indian-institute-of-technology-mad/Assignment1</a>"
            ],
            "text/plain": [
              "<IPython.core.display.HTML object>"
            ]
          },
          "metadata": {},
          "output_type": "display_data"
        },
        {
          "data": {
            "text/html": [
              " View sweep at <a href='https://wandb.ai/ajay-madkami-iitm-indian-institute-of-technology-mad/Assignment1/sweeps/mcgkxgsu' target=\"_blank\">https://wandb.ai/ajay-madkami-iitm-indian-institute-of-technology-mad/Assignment1/sweeps/mcgkxgsu</a>"
            ],
            "text/plain": [
              "<IPython.core.display.HTML object>"
            ]
          },
          "metadata": {},
          "output_type": "display_data"
        },
        {
          "data": {
            "text/html": [
              " View run at <a href='https://wandb.ai/ajay-madkami-iitm-indian-institute-of-technology-mad/Assignment1/runs/z8fozcjw' target=\"_blank\">https://wandb.ai/ajay-madkami-iitm-indian-institute-of-technology-mad/Assignment1/runs/z8fozcjw</a>"
            ],
            "text/plain": [
              "<IPython.core.display.HTML object>"
            ]
          },
          "metadata": {},
          "output_type": "display_data"
        },
        {
          "name": "stdout",
          "output_type": "stream",
          "text": [
            "Epoch 1/5, Train Loss: 0.0900, Val Loss: 0.0900, Train Acc: 0.2511, Val Acc: 0.2457\n",
            "Epoch 2/5, Train Loss: 0.0900, Val Loss: 0.0900, Train Acc: 0.2511, Val Acc: 0.2457\n",
            "Epoch 3/5, Train Loss: 0.0900, Val Loss: 0.0900, Train Acc: 0.2511, Val Acc: 0.2457\n",
            "Epoch 4/5, Train Loss: 0.0900, Val Loss: 0.0900, Train Acc: 0.2511, Val Acc: 0.2457\n",
            "Epoch 5/5, Train Loss: 0.0900, Val Loss: 0.0900, Train Acc: 0.2511, Val Acc: 0.2457\n"
          ]
        },
        {
          "data": {
            "text/html": [],
            "text/plain": [
              "<IPython.core.display.HTML object>"
            ]
          },
          "metadata": {},
          "output_type": "display_data"
        },
        {
          "data": {
            "text/html": [
              "<br>    <style><br>        .wandb-row {<br>            display: flex;<br>            flex-direction: row;<br>            flex-wrap: wrap;<br>            justify-content: flex-start;<br>            width: 100%;<br>        }<br>        .wandb-col {<br>            display: flex;<br>            flex-direction: column;<br>            flex-basis: 100%;<br>            flex: 1;<br>            padding: 10px;<br>        }<br>    </style><br><div class=\"wandb-row\"><div class=\"wandb-col\"><h3>Run history:</h3><br/><table class=\"wandb\"><tr><td>epoch</td><td>▁▃▅▆█</td></tr><tr><td>train_acc</td><td>▁▁▁▁▁</td></tr><tr><td>train_loss</td><td>█▆▄▃▁</td></tr><tr><td>val_acc</td><td>▁▁▁▁▁</td></tr><tr><td>val_loss</td><td>▁▃▅▆█</td></tr></table><br/></div><div class=\"wandb-col\"><h3>Run summary:</h3><br/><table class=\"wandb\"><tr><td>epoch</td><td>5</td></tr><tr><td>train_acc</td><td>0.25106</td></tr><tr><td>train_loss</td><td>0.09</td></tr><tr><td>val_acc</td><td>0.24575</td></tr><tr><td>val_loss</td><td>0.09</td></tr></table><br/></div></div>"
            ],
            "text/plain": [
              "<IPython.core.display.HTML object>"
            ]
          },
          "metadata": {},
          "output_type": "display_data"
        },
        {
          "data": {
            "text/html": [
              " View run <strong style=\"color:#cdcd00\">sweepy-sweep-44</strong> at: <a href='https://wandb.ai/ajay-madkami-iitm-indian-institute-of-technology-mad/Assignment1/runs/z8fozcjw' target=\"_blank\">https://wandb.ai/ajay-madkami-iitm-indian-institute-of-technology-mad/Assignment1/runs/z8fozcjw</a><br> View project at: <a href='https://wandb.ai/ajay-madkami-iitm-indian-institute-of-technology-mad/Assignment1' target=\"_blank\">https://wandb.ai/ajay-madkami-iitm-indian-institute-of-technology-mad/Assignment1</a><br>Synced 5 W&B file(s), 0 media file(s), 0 artifact file(s) and 0 other file(s)"
            ],
            "text/plain": [
              "<IPython.core.display.HTML object>"
            ]
          },
          "metadata": {},
          "output_type": "display_data"
        },
        {
          "data": {
            "text/html": [
              "Find logs at: <code>./wandb/run-20250316_082322-z8fozcjw/logs</code>"
            ],
            "text/plain": [
              "<IPython.core.display.HTML object>"
            ]
          },
          "metadata": {},
          "output_type": "display_data"
        },
        {
          "name": "stderr",
          "output_type": "stream",
          "text": [
            "\u001b[34m\u001b[1mwandb\u001b[0m: Agent Starting Run: spsmodc0 with config:\n",
            "\u001b[34m\u001b[1mwandb\u001b[0m: \tactivation: relu\n",
            "\u001b[34m\u001b[1mwandb\u001b[0m: \tbatch_size: 16\n",
            "\u001b[34m\u001b[1mwandb\u001b[0m: \tepochs: 5\n",
            "\u001b[34m\u001b[1mwandb\u001b[0m: \tinit_method: random\n",
            "\u001b[34m\u001b[1mwandb\u001b[0m: \tlearning_rate: 0.0001\n",
            "\u001b[34m\u001b[1mwandb\u001b[0m: \tloss: mse\n",
            "\u001b[34m\u001b[1mwandb\u001b[0m: \tnum_hidden_layers: 4\n",
            "\u001b[34m\u001b[1mwandb\u001b[0m: \tnum_hidden_nodes: 32\n",
            "\u001b[34m\u001b[1mwandb\u001b[0m: \toptimizer: sgd\n"
          ]
        },
        {
          "data": {
            "text/html": [
              "Ignoring project 'Assignment1' when running a sweep."
            ],
            "text/plain": [
              "<IPython.core.display.HTML object>"
            ]
          },
          "metadata": {},
          "output_type": "display_data"
        },
        {
          "data": {
            "text/html": [
              "Tracking run with wandb version 0.19.8"
            ],
            "text/plain": [
              "<IPython.core.display.HTML object>"
            ]
          },
          "metadata": {},
          "output_type": "display_data"
        },
        {
          "data": {
            "text/html": [
              "Run data is saved locally in <code>/content/wandb/run-20250316_082402-spsmodc0</code>"
            ],
            "text/plain": [
              "<IPython.core.display.HTML object>"
            ]
          },
          "metadata": {},
          "output_type": "display_data"
        },
        {
          "data": {
            "text/html": [
              "Syncing run <strong><a href='https://wandb.ai/ajay-madkami-iitm-indian-institute-of-technology-mad/Assignment1/runs/spsmodc0' target=\"_blank\">lilac-sweep-45</a></strong> to <a href='https://wandb.ai/ajay-madkami-iitm-indian-institute-of-technology-mad/Assignment1' target=\"_blank\">Weights & Biases</a> (<a href='https://wandb.me/developer-guide' target=\"_blank\">docs</a>)<br>Sweep page: <a href='https://wandb.ai/ajay-madkami-iitm-indian-institute-of-technology-mad/Assignment1/sweeps/mcgkxgsu' target=\"_blank\">https://wandb.ai/ajay-madkami-iitm-indian-institute-of-technology-mad/Assignment1/sweeps/mcgkxgsu</a>"
            ],
            "text/plain": [
              "<IPython.core.display.HTML object>"
            ]
          },
          "metadata": {},
          "output_type": "display_data"
        },
        {
          "data": {
            "text/html": [
              " View project at <a href='https://wandb.ai/ajay-madkami-iitm-indian-institute-of-technology-mad/Assignment1' target=\"_blank\">https://wandb.ai/ajay-madkami-iitm-indian-institute-of-technology-mad/Assignment1</a>"
            ],
            "text/plain": [
              "<IPython.core.display.HTML object>"
            ]
          },
          "metadata": {},
          "output_type": "display_data"
        },
        {
          "data": {
            "text/html": [
              " View sweep at <a href='https://wandb.ai/ajay-madkami-iitm-indian-institute-of-technology-mad/Assignment1/sweeps/mcgkxgsu' target=\"_blank\">https://wandb.ai/ajay-madkami-iitm-indian-institute-of-technology-mad/Assignment1/sweeps/mcgkxgsu</a>"
            ],
            "text/plain": [
              "<IPython.core.display.HTML object>"
            ]
          },
          "metadata": {},
          "output_type": "display_data"
        },
        {
          "data": {
            "text/html": [
              " View run at <a href='https://wandb.ai/ajay-madkami-iitm-indian-institute-of-technology-mad/Assignment1/runs/spsmodc0' target=\"_blank\">https://wandb.ai/ajay-madkami-iitm-indian-institute-of-technology-mad/Assignment1/runs/spsmodc0</a>"
            ],
            "text/plain": [
              "<IPython.core.display.HTML object>"
            ]
          },
          "metadata": {},
          "output_type": "display_data"
        },
        {
          "name": "stdout",
          "output_type": "stream",
          "text": [
            "Epoch 1/5, Train Loss: 0.0900, Val Loss: 0.0900, Train Acc: 0.2511, Val Acc: 0.2457\n",
            "Epoch 2/5, Train Loss: 0.0900, Val Loss: 0.0900, Train Acc: 0.2511, Val Acc: 0.2457\n",
            "Epoch 3/5, Train Loss: 0.0900, Val Loss: 0.0900, Train Acc: 0.2511, Val Acc: 0.2457\n",
            "Epoch 4/5, Train Loss: 0.0900, Val Loss: 0.0900, Train Acc: 0.2511, Val Acc: 0.2457\n",
            "Epoch 5/5, Train Loss: 0.0900, Val Loss: 0.0900, Train Acc: 0.2511, Val Acc: 0.2457\n"
          ]
        },
        {
          "data": {
            "text/html": [],
            "text/plain": [
              "<IPython.core.display.HTML object>"
            ]
          },
          "metadata": {},
          "output_type": "display_data"
        },
        {
          "data": {
            "text/html": [
              "<br>    <style><br>        .wandb-row {<br>            display: flex;<br>            flex-direction: row;<br>            flex-wrap: wrap;<br>            justify-content: flex-start;<br>            width: 100%;<br>        }<br>        .wandb-col {<br>            display: flex;<br>            flex-direction: column;<br>            flex-basis: 100%;<br>            flex: 1;<br>            padding: 10px;<br>        }<br>    </style><br><div class=\"wandb-row\"><div class=\"wandb-col\"><h3>Run history:</h3><br/><table class=\"wandb\"><tr><td>epoch</td><td>▁▃▅▆█</td></tr><tr><td>train_acc</td><td>▁▁▁▁▁</td></tr><tr><td>train_loss</td><td>█▆▄▃▁</td></tr><tr><td>val_acc</td><td>▁▁▁▁▁</td></tr><tr><td>val_loss</td><td>▁▃▅▆█</td></tr></table><br/></div><div class=\"wandb-col\"><h3>Run summary:</h3><br/><table class=\"wandb\"><tr><td>epoch</td><td>5</td></tr><tr><td>train_acc</td><td>0.25106</td></tr><tr><td>train_loss</td><td>0.09</td></tr><tr><td>val_acc</td><td>0.24575</td></tr><tr><td>val_loss</td><td>0.09</td></tr></table><br/></div></div>"
            ],
            "text/plain": [
              "<IPython.core.display.HTML object>"
            ]
          },
          "metadata": {},
          "output_type": "display_data"
        },
        {
          "data": {
            "text/html": [
              " View run <strong style=\"color:#cdcd00\">lilac-sweep-45</strong> at: <a href='https://wandb.ai/ajay-madkami-iitm-indian-institute-of-technology-mad/Assignment1/runs/spsmodc0' target=\"_blank\">https://wandb.ai/ajay-madkami-iitm-indian-institute-of-technology-mad/Assignment1/runs/spsmodc0</a><br> View project at: <a href='https://wandb.ai/ajay-madkami-iitm-indian-institute-of-technology-mad/Assignment1' target=\"_blank\">https://wandb.ai/ajay-madkami-iitm-indian-institute-of-technology-mad/Assignment1</a><br>Synced 5 W&B file(s), 0 media file(s), 0 artifact file(s) and 0 other file(s)"
            ],
            "text/plain": [
              "<IPython.core.display.HTML object>"
            ]
          },
          "metadata": {},
          "output_type": "display_data"
        },
        {
          "data": {
            "text/html": [
              "Find logs at: <code>./wandb/run-20250316_082402-spsmodc0/logs</code>"
            ],
            "text/plain": [
              "<IPython.core.display.HTML object>"
            ]
          },
          "metadata": {},
          "output_type": "display_data"
        },
        {
          "name": "stderr",
          "output_type": "stream",
          "text": [
            "\u001b[34m\u001b[1mwandb\u001b[0m: Agent Starting Run: cgs01sn9 with config:\n",
            "\u001b[34m\u001b[1mwandb\u001b[0m: \tactivation: tanh\n",
            "\u001b[34m\u001b[1mwandb\u001b[0m: \tbatch_size: 64\n",
            "\u001b[34m\u001b[1mwandb\u001b[0m: \tepochs: 5\n",
            "\u001b[34m\u001b[1mwandb\u001b[0m: \tinit_method: xavier\n",
            "\u001b[34m\u001b[1mwandb\u001b[0m: \tlearning_rate: 0.001\n",
            "\u001b[34m\u001b[1mwandb\u001b[0m: \tloss: mse\n",
            "\u001b[34m\u001b[1mwandb\u001b[0m: \tnum_hidden_layers: 3\n",
            "\u001b[34m\u001b[1mwandb\u001b[0m: \tnum_hidden_nodes: 128\n",
            "\u001b[34m\u001b[1mwandb\u001b[0m: \toptimizer: nadam\n"
          ]
        },
        {
          "data": {
            "text/html": [
              "Ignoring project 'Assignment1' when running a sweep."
            ],
            "text/plain": [
              "<IPython.core.display.HTML object>"
            ]
          },
          "metadata": {},
          "output_type": "display_data"
        },
        {
          "data": {
            "text/html": [
              "Tracking run with wandb version 0.19.8"
            ],
            "text/plain": [
              "<IPython.core.display.HTML object>"
            ]
          },
          "metadata": {},
          "output_type": "display_data"
        },
        {
          "data": {
            "text/html": [
              "Run data is saved locally in <code>/content/wandb/run-20250316_082433-cgs01sn9</code>"
            ],
            "text/plain": [
              "<IPython.core.display.HTML object>"
            ]
          },
          "metadata": {},
          "output_type": "display_data"
        },
        {
          "data": {
            "text/html": [
              "Syncing run <strong><a href='https://wandb.ai/ajay-madkami-iitm-indian-institute-of-technology-mad/Assignment1/runs/cgs01sn9' target=\"_blank\">sunny-sweep-46</a></strong> to <a href='https://wandb.ai/ajay-madkami-iitm-indian-institute-of-technology-mad/Assignment1' target=\"_blank\">Weights & Biases</a> (<a href='https://wandb.me/developer-guide' target=\"_blank\">docs</a>)<br>Sweep page: <a href='https://wandb.ai/ajay-madkami-iitm-indian-institute-of-technology-mad/Assignment1/sweeps/mcgkxgsu' target=\"_blank\">https://wandb.ai/ajay-madkami-iitm-indian-institute-of-technology-mad/Assignment1/sweeps/mcgkxgsu</a>"
            ],
            "text/plain": [
              "<IPython.core.display.HTML object>"
            ]
          },
          "metadata": {},
          "output_type": "display_data"
        },
        {
          "data": {
            "text/html": [
              " View project at <a href='https://wandb.ai/ajay-madkami-iitm-indian-institute-of-technology-mad/Assignment1' target=\"_blank\">https://wandb.ai/ajay-madkami-iitm-indian-institute-of-technology-mad/Assignment1</a>"
            ],
            "text/plain": [
              "<IPython.core.display.HTML object>"
            ]
          },
          "metadata": {},
          "output_type": "display_data"
        },
        {
          "data": {
            "text/html": [
              " View sweep at <a href='https://wandb.ai/ajay-madkami-iitm-indian-institute-of-technology-mad/Assignment1/sweeps/mcgkxgsu' target=\"_blank\">https://wandb.ai/ajay-madkami-iitm-indian-institute-of-technology-mad/Assignment1/sweeps/mcgkxgsu</a>"
            ],
            "text/plain": [
              "<IPython.core.display.HTML object>"
            ]
          },
          "metadata": {},
          "output_type": "display_data"
        },
        {
          "data": {
            "text/html": [
              " View run at <a href='https://wandb.ai/ajay-madkami-iitm-indian-institute-of-technology-mad/Assignment1/runs/cgs01sn9' target=\"_blank\">https://wandb.ai/ajay-madkami-iitm-indian-institute-of-technology-mad/Assignment1/runs/cgs01sn9</a>"
            ],
            "text/plain": [
              "<IPython.core.display.HTML object>"
            ]
          },
          "metadata": {},
          "output_type": "display_data"
        },
        {
          "name": "stdout",
          "output_type": "stream",
          "text": [
            "Epoch 1/5, Train Loss: 0.0650, Val Loss: 0.0648, Train Acc: 0.7802, Val Acc: 0.7839\n",
            "Epoch 2/5, Train Loss: 0.0523, Val Loss: 0.0520, Train Acc: 0.8112, Val Acc: 0.8137\n",
            "Epoch 3/5, Train Loss: 0.0459, Val Loss: 0.0456, Train Acc: 0.8390, Val Acc: 0.8441\n",
            "Epoch 4/5, Train Loss: 0.0420, Val Loss: 0.0417, Train Acc: 0.8619, Val Acc: 0.8653\n",
            "Epoch 5/5, Train Loss: 0.0392, Val Loss: 0.0390, Train Acc: 0.8805, Val Acc: 0.8834\n"
          ]
        },
        {
          "data": {
            "text/html": [],
            "text/plain": [
              "<IPython.core.display.HTML object>"
            ]
          },
          "metadata": {},
          "output_type": "display_data"
        },
        {
          "data": {
            "text/html": [
              "<br>    <style><br>        .wandb-row {<br>            display: flex;<br>            flex-direction: row;<br>            flex-wrap: wrap;<br>            justify-content: flex-start;<br>            width: 100%;<br>        }<br>        .wandb-col {<br>            display: flex;<br>            flex-direction: column;<br>            flex-basis: 100%;<br>            flex: 1;<br>            padding: 10px;<br>        }<br>    </style><br><div class=\"wandb-row\"><div class=\"wandb-col\"><h3>Run history:</h3><br/><table class=\"wandb\"><tr><td>epoch</td><td>▁▃▅▆█</td></tr><tr><td>train_acc</td><td>▁▃▅▇█</td></tr><tr><td>train_loss</td><td>█▅▃▂▁</td></tr><tr><td>val_acc</td><td>▁▃▅▇█</td></tr><tr><td>val_loss</td><td>█▅▃▂▁</td></tr></table><br/></div><div class=\"wandb-col\"><h3>Run summary:</h3><br/><table class=\"wandb\"><tr><td>epoch</td><td>5</td></tr><tr><td>train_acc</td><td>0.8805</td></tr><tr><td>train_loss</td><td>0.03922</td></tr><tr><td>val_acc</td><td>0.88342</td></tr><tr><td>val_loss</td><td>0.03901</td></tr></table><br/></div></div>"
            ],
            "text/plain": [
              "<IPython.core.display.HTML object>"
            ]
          },
          "metadata": {},
          "output_type": "display_data"
        },
        {
          "data": {
            "text/html": [
              " View run <strong style=\"color:#cdcd00\">sunny-sweep-46</strong> at: <a href='https://wandb.ai/ajay-madkami-iitm-indian-institute-of-technology-mad/Assignment1/runs/cgs01sn9' target=\"_blank\">https://wandb.ai/ajay-madkami-iitm-indian-institute-of-technology-mad/Assignment1/runs/cgs01sn9</a><br> View project at: <a href='https://wandb.ai/ajay-madkami-iitm-indian-institute-of-technology-mad/Assignment1' target=\"_blank\">https://wandb.ai/ajay-madkami-iitm-indian-institute-of-technology-mad/Assignment1</a><br>Synced 5 W&B file(s), 0 media file(s), 0 artifact file(s) and 0 other file(s)"
            ],
            "text/plain": [
              "<IPython.core.display.HTML object>"
            ]
          },
          "metadata": {},
          "output_type": "display_data"
        },
        {
          "data": {
            "text/html": [
              "Find logs at: <code>./wandb/run-20250316_082433-cgs01sn9/logs</code>"
            ],
            "text/plain": [
              "<IPython.core.display.HTML object>"
            ]
          },
          "metadata": {},
          "output_type": "display_data"
        },
        {
          "name": "stderr",
          "output_type": "stream",
          "text": [
            "\u001b[34m\u001b[1mwandb\u001b[0m: Agent Starting Run: bb4bpvr2 with config:\n",
            "\u001b[34m\u001b[1mwandb\u001b[0m: \tactivation: relu\n",
            "\u001b[34m\u001b[1mwandb\u001b[0m: \tbatch_size: 16\n",
            "\u001b[34m\u001b[1mwandb\u001b[0m: \tepochs: 10\n",
            "\u001b[34m\u001b[1mwandb\u001b[0m: \tinit_method: random\n",
            "\u001b[34m\u001b[1mwandb\u001b[0m: \tlearning_rate: 0.0001\n",
            "\u001b[34m\u001b[1mwandb\u001b[0m: \tloss: mse\n",
            "\u001b[34m\u001b[1mwandb\u001b[0m: \tnum_hidden_layers: 3\n",
            "\u001b[34m\u001b[1mwandb\u001b[0m: \tnum_hidden_nodes: 64\n",
            "\u001b[34m\u001b[1mwandb\u001b[0m: \toptimizer: nesterov\n"
          ]
        },
        {
          "data": {
            "text/html": [
              "Ignoring project 'Assignment1' when running a sweep."
            ],
            "text/plain": [
              "<IPython.core.display.HTML object>"
            ]
          },
          "metadata": {},
          "output_type": "display_data"
        },
        {
          "data": {
            "text/html": [
              "Tracking run with wandb version 0.19.8"
            ],
            "text/plain": [
              "<IPython.core.display.HTML object>"
            ]
          },
          "metadata": {},
          "output_type": "display_data"
        },
        {
          "data": {
            "text/html": [
              "Run data is saved locally in <code>/content/wandb/run-20250316_082524-bb4bpvr2</code>"
            ],
            "text/plain": [
              "<IPython.core.display.HTML object>"
            ]
          },
          "metadata": {},
          "output_type": "display_data"
        },
        {
          "data": {
            "text/html": [
              "Syncing run <strong><a href='https://wandb.ai/ajay-madkami-iitm-indian-institute-of-technology-mad/Assignment1/runs/bb4bpvr2' target=\"_blank\">peach-sweep-47</a></strong> to <a href='https://wandb.ai/ajay-madkami-iitm-indian-institute-of-technology-mad/Assignment1' target=\"_blank\">Weights & Biases</a> (<a href='https://wandb.me/developer-guide' target=\"_blank\">docs</a>)<br>Sweep page: <a href='https://wandb.ai/ajay-madkami-iitm-indian-institute-of-technology-mad/Assignment1/sweeps/mcgkxgsu' target=\"_blank\">https://wandb.ai/ajay-madkami-iitm-indian-institute-of-technology-mad/Assignment1/sweeps/mcgkxgsu</a>"
            ],
            "text/plain": [
              "<IPython.core.display.HTML object>"
            ]
          },
          "metadata": {},
          "output_type": "display_data"
        },
        {
          "data": {
            "text/html": [
              " View project at <a href='https://wandb.ai/ajay-madkami-iitm-indian-institute-of-technology-mad/Assignment1' target=\"_blank\">https://wandb.ai/ajay-madkami-iitm-indian-institute-of-technology-mad/Assignment1</a>"
            ],
            "text/plain": [
              "<IPython.core.display.HTML object>"
            ]
          },
          "metadata": {},
          "output_type": "display_data"
        },
        {
          "data": {
            "text/html": [
              " View sweep at <a href='https://wandb.ai/ajay-madkami-iitm-indian-institute-of-technology-mad/Assignment1/sweeps/mcgkxgsu' target=\"_blank\">https://wandb.ai/ajay-madkami-iitm-indian-institute-of-technology-mad/Assignment1/sweeps/mcgkxgsu</a>"
            ],
            "text/plain": [
              "<IPython.core.display.HTML object>"
            ]
          },
          "metadata": {},
          "output_type": "display_data"
        },
        {
          "data": {
            "text/html": [
              " View run at <a href='https://wandb.ai/ajay-madkami-iitm-indian-institute-of-technology-mad/Assignment1/runs/bb4bpvr2' target=\"_blank\">https://wandb.ai/ajay-madkami-iitm-indian-institute-of-technology-mad/Assignment1/runs/bb4bpvr2</a>"
            ],
            "text/plain": [
              "<IPython.core.display.HTML object>"
            ]
          },
          "metadata": {},
          "output_type": "display_data"
        },
        {
          "name": "stdout",
          "output_type": "stream",
          "text": [
            "Epoch 1/10, Train Loss: 0.0900, Val Loss: 0.0900, Train Acc: 0.2511, Val Acc: 0.2457\n",
            "Epoch 2/10, Train Loss: 0.0900, Val Loss: 0.0900, Train Acc: 0.2511, Val Acc: 0.2457\n",
            "Epoch 3/10, Train Loss: 0.0900, Val Loss: 0.0900, Train Acc: 0.2511, Val Acc: 0.2457\n",
            "Epoch 4/10, Train Loss: 0.0900, Val Loss: 0.0900, Train Acc: 0.2511, Val Acc: 0.2457\n",
            "Epoch 5/10, Train Loss: 0.0900, Val Loss: 0.0900, Train Acc: 0.2511, Val Acc: 0.2457\n",
            "Epoch 6/10, Train Loss: 0.0900, Val Loss: 0.0900, Train Acc: 0.2511, Val Acc: 0.2457\n",
            "Epoch 7/10, Train Loss: 0.0900, Val Loss: 0.0900, Train Acc: 0.2511, Val Acc: 0.2457\n",
            "Epoch 8/10, Train Loss: 0.0900, Val Loss: 0.0900, Train Acc: 0.2511, Val Acc: 0.2457\n",
            "Epoch 9/10, Train Loss: 0.0900, Val Loss: 0.0900, Train Acc: 0.2511, Val Acc: 0.2457\n",
            "Epoch 10/10, Train Loss: 0.0900, Val Loss: 0.0900, Train Acc: 0.2511, Val Acc: 0.2457\n"
          ]
        },
        {
          "data": {
            "text/html": [],
            "text/plain": [
              "<IPython.core.display.HTML object>"
            ]
          },
          "metadata": {},
          "output_type": "display_data"
        },
        {
          "data": {
            "text/html": [
              "<br>    <style><br>        .wandb-row {<br>            display: flex;<br>            flex-direction: row;<br>            flex-wrap: wrap;<br>            justify-content: flex-start;<br>            width: 100%;<br>        }<br>        .wandb-col {<br>            display: flex;<br>            flex-direction: column;<br>            flex-basis: 100%;<br>            flex: 1;<br>            padding: 10px;<br>        }<br>    </style><br><div class=\"wandb-row\"><div class=\"wandb-col\"><h3>Run history:</h3><br/><table class=\"wandb\"><tr><td>epoch</td><td>▁▂▃▃▄▅▆▆▇█</td></tr><tr><td>train_acc</td><td>▁▁▁▁▁▁▁▁▁▁</td></tr><tr><td>train_loss</td><td>█▇▅▅▄▃▂▂▁▁</td></tr><tr><td>val_acc</td><td>▁▁▁▁▁▁▁▁▁▁</td></tr><tr><td>val_loss</td><td>▁▂▂▃▄▅▆▆▇█</td></tr></table><br/></div><div class=\"wandb-col\"><h3>Run summary:</h3><br/><table class=\"wandb\"><tr><td>epoch</td><td>10</td></tr><tr><td>train_acc</td><td>0.25106</td></tr><tr><td>train_loss</td><td>0.09</td></tr><tr><td>val_acc</td><td>0.24575</td></tr><tr><td>val_loss</td><td>0.09</td></tr></table><br/></div></div>"
            ],
            "text/plain": [
              "<IPython.core.display.HTML object>"
            ]
          },
          "metadata": {},
          "output_type": "display_data"
        },
        {
          "data": {
            "text/html": [
              " View run <strong style=\"color:#cdcd00\">peach-sweep-47</strong> at: <a href='https://wandb.ai/ajay-madkami-iitm-indian-institute-of-technology-mad/Assignment1/runs/bb4bpvr2' target=\"_blank\">https://wandb.ai/ajay-madkami-iitm-indian-institute-of-technology-mad/Assignment1/runs/bb4bpvr2</a><br> View project at: <a href='https://wandb.ai/ajay-madkami-iitm-indian-institute-of-technology-mad/Assignment1' target=\"_blank\">https://wandb.ai/ajay-madkami-iitm-indian-institute-of-technology-mad/Assignment1</a><br>Synced 5 W&B file(s), 0 media file(s), 0 artifact file(s) and 0 other file(s)"
            ],
            "text/plain": [
              "<IPython.core.display.HTML object>"
            ]
          },
          "metadata": {},
          "output_type": "display_data"
        },
        {
          "data": {
            "text/html": [
              "Find logs at: <code>./wandb/run-20250316_082524-bb4bpvr2/logs</code>"
            ],
            "text/plain": [
              "<IPython.core.display.HTML object>"
            ]
          },
          "metadata": {},
          "output_type": "display_data"
        },
        {
          "name": "stderr",
          "output_type": "stream",
          "text": [
            "\u001b[34m\u001b[1mwandb\u001b[0m: Agent Starting Run: euaz0b8i with config:\n",
            "\u001b[34m\u001b[1mwandb\u001b[0m: \tactivation: sigmoid\n",
            "\u001b[34m\u001b[1mwandb\u001b[0m: \tbatch_size: 32\n",
            "\u001b[34m\u001b[1mwandb\u001b[0m: \tepochs: 10\n",
            "\u001b[34m\u001b[1mwandb\u001b[0m: \tinit_method: random\n",
            "\u001b[34m\u001b[1mwandb\u001b[0m: \tlearning_rate: 0.001\n",
            "\u001b[34m\u001b[1mwandb\u001b[0m: \tloss: mse\n",
            "\u001b[34m\u001b[1mwandb\u001b[0m: \tnum_hidden_layers: 4\n",
            "\u001b[34m\u001b[1mwandb\u001b[0m: \tnum_hidden_nodes: 64\n",
            "\u001b[34m\u001b[1mwandb\u001b[0m: \toptimizer: nesterov\n"
          ]
        },
        {
          "data": {
            "text/html": [
              "Ignoring project 'Assignment1' when running a sweep."
            ],
            "text/plain": [
              "<IPython.core.display.HTML object>"
            ]
          },
          "metadata": {},
          "output_type": "display_data"
        },
        {
          "data": {
            "text/html": [
              "Tracking run with wandb version 0.19.8"
            ],
            "text/plain": [
              "<IPython.core.display.HTML object>"
            ]
          },
          "metadata": {},
          "output_type": "display_data"
        },
        {
          "data": {
            "text/html": [
              "Run data is saved locally in <code>/content/wandb/run-20250316_082619-euaz0b8i</code>"
            ],
            "text/plain": [
              "<IPython.core.display.HTML object>"
            ]
          },
          "metadata": {},
          "output_type": "display_data"
        },
        {
          "data": {
            "text/html": [
              "Syncing run <strong><a href='https://wandb.ai/ajay-madkami-iitm-indian-institute-of-technology-mad/Assignment1/runs/euaz0b8i' target=\"_blank\">electric-sweep-48</a></strong> to <a href='https://wandb.ai/ajay-madkami-iitm-indian-institute-of-technology-mad/Assignment1' target=\"_blank\">Weights & Biases</a> (<a href='https://wandb.me/developer-guide' target=\"_blank\">docs</a>)<br>Sweep page: <a href='https://wandb.ai/ajay-madkami-iitm-indian-institute-of-technology-mad/Assignment1/sweeps/mcgkxgsu' target=\"_blank\">https://wandb.ai/ajay-madkami-iitm-indian-institute-of-technology-mad/Assignment1/sweeps/mcgkxgsu</a>"
            ],
            "text/plain": [
              "<IPython.core.display.HTML object>"
            ]
          },
          "metadata": {},
          "output_type": "display_data"
        },
        {
          "data": {
            "text/html": [
              " View project at <a href='https://wandb.ai/ajay-madkami-iitm-indian-institute-of-technology-mad/Assignment1' target=\"_blank\">https://wandb.ai/ajay-madkami-iitm-indian-institute-of-technology-mad/Assignment1</a>"
            ],
            "text/plain": [
              "<IPython.core.display.HTML object>"
            ]
          },
          "metadata": {},
          "output_type": "display_data"
        },
        {
          "data": {
            "text/html": [
              " View sweep at <a href='https://wandb.ai/ajay-madkami-iitm-indian-institute-of-technology-mad/Assignment1/sweeps/mcgkxgsu' target=\"_blank\">https://wandb.ai/ajay-madkami-iitm-indian-institute-of-technology-mad/Assignment1/sweeps/mcgkxgsu</a>"
            ],
            "text/plain": [
              "<IPython.core.display.HTML object>"
            ]
          },
          "metadata": {},
          "output_type": "display_data"
        },
        {
          "data": {
            "text/html": [
              " View run at <a href='https://wandb.ai/ajay-madkami-iitm-indian-institute-of-technology-mad/Assignment1/runs/euaz0b8i' target=\"_blank\">https://wandb.ai/ajay-madkami-iitm-indian-institute-of-technology-mad/Assignment1/runs/euaz0b8i</a>"
            ],
            "text/plain": [
              "<IPython.core.display.HTML object>"
            ]
          },
          "metadata": {},
          "output_type": "display_data"
        },
        {
          "name": "stdout",
          "output_type": "stream",
          "text": [
            "Epoch 1/10, Train Loss: 0.0900, Val Loss: 0.0900, Train Acc: 0.2504, Val Acc: 0.2483\n",
            "Epoch 2/10, Train Loss: 0.0900, Val Loss: 0.0900, Train Acc: 0.2504, Val Acc: 0.2483\n",
            "Epoch 3/10, Train Loss: 0.0900, Val Loss: 0.0900, Train Acc: 0.2504, Val Acc: 0.2483\n",
            "Epoch 4/10, Train Loss: 0.0900, Val Loss: 0.0900, Train Acc: 0.2504, Val Acc: 0.2483\n",
            "Epoch 5/10, Train Loss: 0.0900, Val Loss: 0.0900, Train Acc: 0.2504, Val Acc: 0.2483\n",
            "Epoch 6/10, Train Loss: 0.0900, Val Loss: 0.0900, Train Acc: 0.2504, Val Acc: 0.2483\n",
            "Epoch 7/10, Train Loss: 0.0900, Val Loss: 0.0900, Train Acc: 0.2504, Val Acc: 0.2483\n",
            "Epoch 8/10, Train Loss: 0.0900, Val Loss: 0.0900, Train Acc: 0.2504, Val Acc: 0.2483\n",
            "Epoch 9/10, Train Loss: 0.0900, Val Loss: 0.0900, Train Acc: 0.2504, Val Acc: 0.2483\n",
            "Epoch 10/10, Train Loss: 0.0900, Val Loss: 0.0900, Train Acc: 0.2504, Val Acc: 0.2483\n"
          ]
        },
        {
          "data": {
            "text/html": [],
            "text/plain": [
              "<IPython.core.display.HTML object>"
            ]
          },
          "metadata": {},
          "output_type": "display_data"
        },
        {
          "data": {
            "text/html": [
              "<br>    <style><br>        .wandb-row {<br>            display: flex;<br>            flex-direction: row;<br>            flex-wrap: wrap;<br>            justify-content: flex-start;<br>            width: 100%;<br>        }<br>        .wandb-col {<br>            display: flex;<br>            flex-direction: column;<br>            flex-basis: 100%;<br>            flex: 1;<br>            padding: 10px;<br>        }<br>    </style><br><div class=\"wandb-row\"><div class=\"wandb-col\"><h3>Run history:</h3><br/><table class=\"wandb\"><tr><td>epoch</td><td>▁▂▃▃▄▅▆▆▇█</td></tr><tr><td>train_acc</td><td>▁▁▁▁▁▁▁▁▁▁</td></tr><tr><td>train_loss</td><td>▁▆████████</td></tr><tr><td>val_acc</td><td>▁▁▁▁▁▁▁▁▁▁</td></tr><tr><td>val_loss</td><td>▁▇████████</td></tr></table><br/></div><div class=\"wandb-col\"><h3>Run summary:</h3><br/><table class=\"wandb\"><tr><td>epoch</td><td>10</td></tr><tr><td>train_acc</td><td>0.25042</td></tr><tr><td>train_loss</td><td>0.09</td></tr><tr><td>val_acc</td><td>0.24833</td></tr><tr><td>val_loss</td><td>0.09</td></tr></table><br/></div></div>"
            ],
            "text/plain": [
              "<IPython.core.display.HTML object>"
            ]
          },
          "metadata": {},
          "output_type": "display_data"
        },
        {
          "data": {
            "text/html": [
              " View run <strong style=\"color:#cdcd00\">electric-sweep-48</strong> at: <a href='https://wandb.ai/ajay-madkami-iitm-indian-institute-of-technology-mad/Assignment1/runs/euaz0b8i' target=\"_blank\">https://wandb.ai/ajay-madkami-iitm-indian-institute-of-technology-mad/Assignment1/runs/euaz0b8i</a><br> View project at: <a href='https://wandb.ai/ajay-madkami-iitm-indian-institute-of-technology-mad/Assignment1' target=\"_blank\">https://wandb.ai/ajay-madkami-iitm-indian-institute-of-technology-mad/Assignment1</a><br>Synced 5 W&B file(s), 0 media file(s), 0 artifact file(s) and 0 other file(s)"
            ],
            "text/plain": [
              "<IPython.core.display.HTML object>"
            ]
          },
          "metadata": {},
          "output_type": "display_data"
        },
        {
          "data": {
            "text/html": [
              "Find logs at: <code>./wandb/run-20250316_082619-euaz0b8i/logs</code>"
            ],
            "text/plain": [
              "<IPython.core.display.HTML object>"
            ]
          },
          "metadata": {},
          "output_type": "display_data"
        },
        {
          "name": "stderr",
          "output_type": "stream",
          "text": [
            "\u001b[34m\u001b[1mwandb\u001b[0m: Agent Starting Run: n3n45m8c with config:\n",
            "\u001b[34m\u001b[1mwandb\u001b[0m: \tactivation: sigmoid\n",
            "\u001b[34m\u001b[1mwandb\u001b[0m: \tbatch_size: 64\n",
            "\u001b[34m\u001b[1mwandb\u001b[0m: \tepochs: 5\n",
            "\u001b[34m\u001b[1mwandb\u001b[0m: \tinit_method: random\n",
            "\u001b[34m\u001b[1mwandb\u001b[0m: \tlearning_rate: 0.001\n",
            "\u001b[34m\u001b[1mwandb\u001b[0m: \tloss: mse\n",
            "\u001b[34m\u001b[1mwandb\u001b[0m: \tnum_hidden_layers: 5\n",
            "\u001b[34m\u001b[1mwandb\u001b[0m: \tnum_hidden_nodes: 32\n",
            "\u001b[34m\u001b[1mwandb\u001b[0m: \toptimizer: rmsprop\n"
          ]
        },
        {
          "data": {
            "text/html": [
              "Ignoring project 'Assignment1' when running a sweep."
            ],
            "text/plain": [
              "<IPython.core.display.HTML object>"
            ]
          },
          "metadata": {},
          "output_type": "display_data"
        },
        {
          "data": {
            "text/html": [
              "Tracking run with wandb version 0.19.8"
            ],
            "text/plain": [
              "<IPython.core.display.HTML object>"
            ]
          },
          "metadata": {},
          "output_type": "display_data"
        },
        {
          "data": {
            "text/html": [
              "Run data is saved locally in <code>/content/wandb/run-20250316_082716-n3n45m8c</code>"
            ],
            "text/plain": [
              "<IPython.core.display.HTML object>"
            ]
          },
          "metadata": {},
          "output_type": "display_data"
        },
        {
          "data": {
            "text/html": [
              "Syncing run <strong><a href='https://wandb.ai/ajay-madkami-iitm-indian-institute-of-technology-mad/Assignment1/runs/n3n45m8c' target=\"_blank\">true-sweep-49</a></strong> to <a href='https://wandb.ai/ajay-madkami-iitm-indian-institute-of-technology-mad/Assignment1' target=\"_blank\">Weights & Biases</a> (<a href='https://wandb.me/developer-guide' target=\"_blank\">docs</a>)<br>Sweep page: <a href='https://wandb.ai/ajay-madkami-iitm-indian-institute-of-technology-mad/Assignment1/sweeps/mcgkxgsu' target=\"_blank\">https://wandb.ai/ajay-madkami-iitm-indian-institute-of-technology-mad/Assignment1/sweeps/mcgkxgsu</a>"
            ],
            "text/plain": [
              "<IPython.core.display.HTML object>"
            ]
          },
          "metadata": {},
          "output_type": "display_data"
        },
        {
          "data": {
            "text/html": [
              " View project at <a href='https://wandb.ai/ajay-madkami-iitm-indian-institute-of-technology-mad/Assignment1' target=\"_blank\">https://wandb.ai/ajay-madkami-iitm-indian-institute-of-technology-mad/Assignment1</a>"
            ],
            "text/plain": [
              "<IPython.core.display.HTML object>"
            ]
          },
          "metadata": {},
          "output_type": "display_data"
        },
        {
          "data": {
            "text/html": [
              " View sweep at <a href='https://wandb.ai/ajay-madkami-iitm-indian-institute-of-technology-mad/Assignment1/sweeps/mcgkxgsu' target=\"_blank\">https://wandb.ai/ajay-madkami-iitm-indian-institute-of-technology-mad/Assignment1/sweeps/mcgkxgsu</a>"
            ],
            "text/plain": [
              "<IPython.core.display.HTML object>"
            ]
          },
          "metadata": {},
          "output_type": "display_data"
        },
        {
          "data": {
            "text/html": [
              " View run at <a href='https://wandb.ai/ajay-madkami-iitm-indian-institute-of-technology-mad/Assignment1/runs/n3n45m8c' target=\"_blank\">https://wandb.ai/ajay-madkami-iitm-indian-institute-of-technology-mad/Assignment1/runs/n3n45m8c</a>"
            ],
            "text/plain": [
              "<IPython.core.display.HTML object>"
            ]
          },
          "metadata": {},
          "output_type": "display_data"
        },
        {
          "name": "stdout",
          "output_type": "stream",
          "text": [
            "Epoch 1/5, Train Loss: 0.0900, Val Loss: 0.0900, Train Acc: 0.2499, Val Acc: 0.2503\n",
            "Epoch 2/5, Train Loss: 0.0900, Val Loss: 0.0900, Train Acc: 0.2499, Val Acc: 0.2503\n",
            "Epoch 3/5, Train Loss: 0.0900, Val Loss: 0.0900, Train Acc: 0.2504, Val Acc: 0.2483\n",
            "Epoch 4/5, Train Loss: 0.0900, Val Loss: 0.0900, Train Acc: 0.2504, Val Acc: 0.2483\n",
            "Epoch 5/5, Train Loss: 0.0900, Val Loss: 0.0900, Train Acc: 0.2504, Val Acc: 0.2483\n"
          ]
        },
        {
          "data": {
            "text/html": [],
            "text/plain": [
              "<IPython.core.display.HTML object>"
            ]
          },
          "metadata": {},
          "output_type": "display_data"
        },
        {
          "data": {
            "text/html": [
              "<br>    <style><br>        .wandb-row {<br>            display: flex;<br>            flex-direction: row;<br>            flex-wrap: wrap;<br>            justify-content: flex-start;<br>            width: 100%;<br>        }<br>        .wandb-col {<br>            display: flex;<br>            flex-direction: column;<br>            flex-basis: 100%;<br>            flex: 1;<br>            padding: 10px;<br>        }<br>    </style><br><div class=\"wandb-row\"><div class=\"wandb-col\"><h3>Run history:</h3><br/><table class=\"wandb\"><tr><td>epoch</td><td>▁▃▅▆█</td></tr><tr><td>train_acc</td><td>▁▁███</td></tr><tr><td>train_loss</td><td>█▃▁▁▁</td></tr><tr><td>val_acc</td><td>██▁▁▁</td></tr><tr><td>val_loss</td><td>█▃▁▁▁</td></tr></table><br/></div><div class=\"wandb-col\"><h3>Run summary:</h3><br/><table class=\"wandb\"><tr><td>epoch</td><td>5</td></tr><tr><td>train_acc</td><td>0.25042</td></tr><tr><td>train_loss</td><td>0.09</td></tr><tr><td>val_acc</td><td>0.24833</td></tr><tr><td>val_loss</td><td>0.09</td></tr></table><br/></div></div>"
            ],
            "text/plain": [
              "<IPython.core.display.HTML object>"
            ]
          },
          "metadata": {},
          "output_type": "display_data"
        },
        {
          "data": {
            "text/html": [
              " View run <strong style=\"color:#cdcd00\">true-sweep-49</strong> at: <a href='https://wandb.ai/ajay-madkami-iitm-indian-institute-of-technology-mad/Assignment1/runs/n3n45m8c' target=\"_blank\">https://wandb.ai/ajay-madkami-iitm-indian-institute-of-technology-mad/Assignment1/runs/n3n45m8c</a><br> View project at: <a href='https://wandb.ai/ajay-madkami-iitm-indian-institute-of-technology-mad/Assignment1' target=\"_blank\">https://wandb.ai/ajay-madkami-iitm-indian-institute-of-technology-mad/Assignment1</a><br>Synced 5 W&B file(s), 0 media file(s), 0 artifact file(s) and 0 other file(s)"
            ],
            "text/plain": [
              "<IPython.core.display.HTML object>"
            ]
          },
          "metadata": {},
          "output_type": "display_data"
        },
        {
          "data": {
            "text/html": [
              "Find logs at: <code>./wandb/run-20250316_082716-n3n45m8c/logs</code>"
            ],
            "text/plain": [
              "<IPython.core.display.HTML object>"
            ]
          },
          "metadata": {},
          "output_type": "display_data"
        },
        {
          "name": "stderr",
          "output_type": "stream",
          "text": [
            "\u001b[34m\u001b[1mwandb\u001b[0m: Agent Starting Run: jt45ngsw with config:\n",
            "\u001b[34m\u001b[1mwandb\u001b[0m: \tactivation: relu\n",
            "\u001b[34m\u001b[1mwandb\u001b[0m: \tbatch_size: 64\n",
            "\u001b[34m\u001b[1mwandb\u001b[0m: \tepochs: 5\n",
            "\u001b[34m\u001b[1mwandb\u001b[0m: \tinit_method: random\n",
            "\u001b[34m\u001b[1mwandb\u001b[0m: \tlearning_rate: 0.0001\n",
            "\u001b[34m\u001b[1mwandb\u001b[0m: \tloss: mse\n",
            "\u001b[34m\u001b[1mwandb\u001b[0m: \tnum_hidden_layers: 4\n",
            "\u001b[34m\u001b[1mwandb\u001b[0m: \tnum_hidden_nodes: 64\n",
            "\u001b[34m\u001b[1mwandb\u001b[0m: \toptimizer: sgd\n"
          ]
        },
        {
          "data": {
            "text/html": [
              "Ignoring project 'Assignment1' when running a sweep."
            ],
            "text/plain": [
              "<IPython.core.display.HTML object>"
            ]
          },
          "metadata": {},
          "output_type": "display_data"
        },
        {
          "data": {
            "text/html": [
              "Tracking run with wandb version 0.19.8"
            ],
            "text/plain": [
              "<IPython.core.display.HTML object>"
            ]
          },
          "metadata": {},
          "output_type": "display_data"
        },
        {
          "data": {
            "text/html": [
              "Run data is saved locally in <code>/content/wandb/run-20250316_082741-jt45ngsw</code>"
            ],
            "text/plain": [
              "<IPython.core.display.HTML object>"
            ]
          },
          "metadata": {},
          "output_type": "display_data"
        },
        {
          "data": {
            "text/html": [
              "Syncing run <strong><a href='https://wandb.ai/ajay-madkami-iitm-indian-institute-of-technology-mad/Assignment1/runs/jt45ngsw' target=\"_blank\">floral-sweep-50</a></strong> to <a href='https://wandb.ai/ajay-madkami-iitm-indian-institute-of-technology-mad/Assignment1' target=\"_blank\">Weights & Biases</a> (<a href='https://wandb.me/developer-guide' target=\"_blank\">docs</a>)<br>Sweep page: <a href='https://wandb.ai/ajay-madkami-iitm-indian-institute-of-technology-mad/Assignment1/sweeps/mcgkxgsu' target=\"_blank\">https://wandb.ai/ajay-madkami-iitm-indian-institute-of-technology-mad/Assignment1/sweeps/mcgkxgsu</a>"
            ],
            "text/plain": [
              "<IPython.core.display.HTML object>"
            ]
          },
          "metadata": {},
          "output_type": "display_data"
        },
        {
          "data": {
            "text/html": [
              " View project at <a href='https://wandb.ai/ajay-madkami-iitm-indian-institute-of-technology-mad/Assignment1' target=\"_blank\">https://wandb.ai/ajay-madkami-iitm-indian-institute-of-technology-mad/Assignment1</a>"
            ],
            "text/plain": [
              "<IPython.core.display.HTML object>"
            ]
          },
          "metadata": {},
          "output_type": "display_data"
        },
        {
          "data": {
            "text/html": [
              " View sweep at <a href='https://wandb.ai/ajay-madkami-iitm-indian-institute-of-technology-mad/Assignment1/sweeps/mcgkxgsu' target=\"_blank\">https://wandb.ai/ajay-madkami-iitm-indian-institute-of-technology-mad/Assignment1/sweeps/mcgkxgsu</a>"
            ],
            "text/plain": [
              "<IPython.core.display.HTML object>"
            ]
          },
          "metadata": {},
          "output_type": "display_data"
        },
        {
          "data": {
            "text/html": [
              " View run at <a href='https://wandb.ai/ajay-madkami-iitm-indian-institute-of-technology-mad/Assignment1/runs/jt45ngsw' target=\"_blank\">https://wandb.ai/ajay-madkami-iitm-indian-institute-of-technology-mad/Assignment1/runs/jt45ngsw</a>"
            ],
            "text/plain": [
              "<IPython.core.display.HTML object>"
            ]
          },
          "metadata": {},
          "output_type": "display_data"
        },
        {
          "name": "stdout",
          "output_type": "stream",
          "text": [
            "Epoch 1/5, Train Loss: 0.0900, Val Loss: 0.0900, Train Acc: 0.2511, Val Acc: 0.2457\n",
            "Epoch 2/5, Train Loss: 0.0900, Val Loss: 0.0900, Train Acc: 0.2511, Val Acc: 0.2457\n",
            "Epoch 3/5, Train Loss: 0.0900, Val Loss: 0.0900, Train Acc: 0.2511, Val Acc: 0.2457\n",
            "Epoch 4/5, Train Loss: 0.0900, Val Loss: 0.0900, Train Acc: 0.2511, Val Acc: 0.2457\n",
            "Epoch 5/5, Train Loss: 0.0900, Val Loss: 0.0900, Train Acc: 0.2511, Val Acc: 0.2457\n"
          ]
        },
        {
          "data": {
            "text/html": [],
            "text/plain": [
              "<IPython.core.display.HTML object>"
            ]
          },
          "metadata": {},
          "output_type": "display_data"
        },
        {
          "data": {
            "text/html": [
              "<br>    <style><br>        .wandb-row {<br>            display: flex;<br>            flex-direction: row;<br>            flex-wrap: wrap;<br>            justify-content: flex-start;<br>            width: 100%;<br>        }<br>        .wandb-col {<br>            display: flex;<br>            flex-direction: column;<br>            flex-basis: 100%;<br>            flex: 1;<br>            padding: 10px;<br>        }<br>    </style><br><div class=\"wandb-row\"><div class=\"wandb-col\"><h3>Run history:</h3><br/><table class=\"wandb\"><tr><td>epoch</td><td>▁▃▅▆█</td></tr><tr><td>train_acc</td><td>▁▁▁▁▁</td></tr><tr><td>train_loss</td><td>█▅▅▁▁</td></tr><tr><td>val_acc</td><td>▁▁▁▁▁</td></tr><tr><td>val_loss</td><td>▁▃▅▆█</td></tr></table><br/></div><div class=\"wandb-col\"><h3>Run summary:</h3><br/><table class=\"wandb\"><tr><td>epoch</td><td>5</td></tr><tr><td>train_acc</td><td>0.25106</td></tr><tr><td>train_loss</td><td>0.09</td></tr><tr><td>val_acc</td><td>0.24575</td></tr><tr><td>val_loss</td><td>0.09</td></tr></table><br/></div></div>"
            ],
            "text/plain": [
              "<IPython.core.display.HTML object>"
            ]
          },
          "metadata": {},
          "output_type": "display_data"
        },
        {
          "data": {
            "text/html": [
              " View run <strong style=\"color:#cdcd00\">floral-sweep-50</strong> at: <a href='https://wandb.ai/ajay-madkami-iitm-indian-institute-of-technology-mad/Assignment1/runs/jt45ngsw' target=\"_blank\">https://wandb.ai/ajay-madkami-iitm-indian-institute-of-technology-mad/Assignment1/runs/jt45ngsw</a><br> View project at: <a href='https://wandb.ai/ajay-madkami-iitm-indian-institute-of-technology-mad/Assignment1' target=\"_blank\">https://wandb.ai/ajay-madkami-iitm-indian-institute-of-technology-mad/Assignment1</a><br>Synced 5 W&B file(s), 0 media file(s), 0 artifact file(s) and 0 other file(s)"
            ],
            "text/plain": [
              "<IPython.core.display.HTML object>"
            ]
          },
          "metadata": {},
          "output_type": "display_data"
        },
        {
          "data": {
            "text/html": [
              "Find logs at: <code>./wandb/run-20250316_082741-jt45ngsw/logs</code>"
            ],
            "text/plain": [
              "<IPython.core.display.HTML object>"
            ]
          },
          "metadata": {},
          "output_type": "display_data"
        }
      ],
      "source": [
        "import numpy as np\n",
        "import wandb\n",
        "from keras.datasets import fashion_mnist\n",
        "from keras.utils import to_categorical\n",
        "\n",
        "def initialize_network(num_hidden_layers, num_nodes_hidden_layers, input_size, output_size, init_method):\n",
        "    weights, biases, velocities_w, velocities_b, moment_w, moment_b = [], [], [], [], [], []\n",
        "    layer_sizes = [input_size] + [num_nodes_hidden_layers] * num_hidden_layers + [output_size]\n",
        "\n",
        "    for i in range(len(layer_sizes) - 1):\n",
        "        if init_method == \"xavier\":\n",
        "            weights.append(np.random.randn(layer_sizes[i], layer_sizes[i+1]) * np.sqrt(1. / layer_sizes[i]))\n",
        "        else:\n",
        "            weights.append(np.random.randn(layer_sizes[i], layer_sizes[i+1]) * 0.01)\n",
        "        biases.append(np.zeros((1, layer_sizes[i+1])))\n",
        "        velocities_w.append(np.zeros_like(weights[-1]))\n",
        "        velocities_b.append(np.zeros_like(biases[-1]))\n",
        "        moment_w.append(np.zeros_like(weights[-1]))\n",
        "        moment_b.append(np.zeros_like(biases[-1]))\n",
        "\n",
        "    return weights, biases, velocities_w, velocities_b, moment_w, moment_b\n",
        "\n",
        "def forward_propagation(X, weights, biases, activation):\n",
        "    activations = [X]\n",
        "    for i in range(len(weights) - 1):\n",
        "        Z = np.dot(activations[-1], weights[i]) + biases[i]\n",
        "        if activation == \"relu\":\n",
        "            A = np.maximum(0, Z)\n",
        "        elif activation == \"tanh\":\n",
        "            A = np.tanh(Z)\n",
        "        else:\n",
        "            A = 1 / (1 + np.exp(-Z))\n",
        "        activations.append(A)\n",
        "\n",
        "    Z_final = np.dot(activations[-1], weights[-1]) + biases[-1]\n",
        "    exp_vals = np.exp(Z_final - np.max(Z_final, axis=1, keepdims=True))\n",
        "    activations.append(exp_vals / np.sum(exp_vals, axis=1, keepdims=True))\n",
        "    return activations\n",
        "\n",
        "def backward_propagation(X, Y, weights, biases, activations, activation):\n",
        "    gradients_w, gradients_b = [None] * len(weights), [None] * len(biases)\n",
        "    dA = activations[-1] - Y\n",
        "\n",
        "    for i in reversed(range(len(weights))):\n",
        "        dZ = dA\n",
        "        gradients_w[i] = np.dot(activations[i].T, dZ) / X.shape[0]\n",
        "        gradients_b[i] = np.sum(dZ, axis=0, keepdims=True) / X.shape[0]\n",
        "        if i > 0:\n",
        "            dA = np.dot(dZ, weights[i].T)\n",
        "            if activation == \"relu\":\n",
        "                dA[activations[i] <= 0] = 0\n",
        "            elif activation == \"tanh\":\n",
        "                dA *= 1 - activations[i] ** 2\n",
        "\n",
        "    return gradients_w, gradients_b\n",
        "\n",
        "def compute_loss(Y, predictions, loss_type):\n",
        "    if loss_type == \"cross_entropy\":\n",
        "        return -np.mean(Y * np.log(predictions + 1e-8))\n",
        "    elif loss_type == \"mse\":\n",
        "        return np.mean((Y - predictions) ** 2)\n",
        "\n",
        "def compute_accuracy(y_true, y_pred):\n",
        "    \"\"\"\n",
        "    Compute accuracy by comparing predicted labels with true labels.\n",
        "\n",
        "    Args:\n",
        "    - y_true: Ground truth labels (one-hot encoded or class indices).\n",
        "    - y_pred: Model predictions (raw scores or probabilities).\n",
        "\n",
        "    Returns:\n",
        "    - Accuracy as a float between 0 and 1.\n",
        "    \"\"\"\n",
        "    # Convert predictions to class indices if they are probabilities\n",
        "    y_pred_labels = np.argmax(y_pred, axis=1)\n",
        "\n",
        "    # Convert one-hot encoded true labels to class indices if needed\n",
        "    if len(y_true.shape) > 1 and y_true.shape[1] > 1:\n",
        "        y_true_labels = np.argmax(y_true, axis=1)\n",
        "    else:\n",
        "        y_true_labels = y_true  # Already class indices\n",
        "\n",
        "    accuracy = np.mean(y_pred_labels == y_true_labels)\n",
        "    return accuracy\n",
        "\n",
        "def train_model():\n",
        "    wandb.init(project='Assignment1')\n",
        "    config = wandb.config\n",
        "\n",
        "    weights, biases, velocities_w, velocities_b, moment_w, moment_b = initialize_network(\n",
        "        config.num_hidden_layers, config.num_hidden_nodes, 28*28, 10, config.init_method)\n",
        "\n",
        "    for epoch in range(config.epochs):\n",
        "        for i in range(0, X_train.shape[0], config.batch_size):\n",
        "            x_batch = X_train[i:i+config.batch_size]\n",
        "            y_batch = Y_train[i:i+config.batch_size]\n",
        "\n",
        "            activations = forward_propagation(x_batch, weights, biases, config.activation)\n",
        "            gradients_w, gradients_b = backward_propagation(x_batch, y_batch, weights, biases, activations, config.activation)\n",
        "\n",
        "            for j in range(len(weights)):\n",
        "                weights[j] -= config.learning_rate * gradients_w[j]\n",
        "                biases[j] -= config.learning_rate * gradients_b[j]\n",
        "\n",
        "        predictions_train = forward_propagation(X_train, weights, biases, config.activation)[-1]\n",
        "        predictions_val = forward_propagation(X_valid, weights, biases, config.activation)[-1]\n",
        "\n",
        "        train_loss = compute_loss(Y_train, predictions_train, config.loss)\n",
        "        val_loss = compute_loss(Y_valid, predictions_val, config.loss)\n",
        "\n",
        "        train_acc = compute_accuracy(Y_train, predictions_train)\n",
        "        val_acc = compute_accuracy(Y_valid, predictions_val)\n",
        "\n",
        "        print(f\"Epoch {epoch+1}/{config.epochs}, Train Loss: {train_loss:.4f}, Val Loss: {val_loss:.4f}, Train Acc: {train_acc:.4f}, Val Acc: {val_acc:.4f}\")\n",
        "\n",
        "        wandb.log({\"epoch\": epoch+1, \"train_loss\": train_loss, \"val_loss\": val_loss, \"train_acc\": train_acc, \"val_acc\": val_acc})\n",
        "\n",
        "    wandb.finish()\n",
        "\n",
        "(X_train, Y_train), (X_test, Y_test) = fashion_mnist.load_data()\n",
        "X_train, X_test = X_train.reshape(-1, 28*28) / 255.0, X_test.reshape(-1, 28*28) / 255.0\n",
        "Y_train, Y_test = to_categorical(Y_train, 10), to_categorical(Y_test, 10)\n",
        "split_idx = int(0.8 * X_train.shape[0])\n",
        "X_valid, Y_valid = X_train[split_idx:], Y_train[split_idx:]\n",
        "X_train, Y_train = X_train[:split_idx], Y_train[:split_idx]\n",
        "\n",
        "sweep_config = {\n",
        "    'method': 'random',\n",
        "    'metric': {'name': 'val_accuracy', 'goal': 'maximize'},\n",
        "    'parameters': {\n",
        "        'epochs': {'values': [5, 10]},\n",
        "        'num_hidden_layers': {'values': [3, 4, 5]},\n",
        "        'num_hidden_nodes': {'values': [32, 64, 128]},\n",
        "        'batch_size': {'values': [16, 32, 64]},\n",
        "        'learning_rate': {'values': [0.0001, 0.001]},\n",
        "        'activation': {'values': ['relu', 'tanh', 'sigmoid']},\n",
        "        'optimizer': {'values': ['sgd', 'momentum', 'nesterov', 'rmsprop', 'adam', 'nadam']},\n",
        "        'init_method': {'values': ['xavier', 'random']},\n",
        "        'loss': {'values': ['mse']}  # Added loss function\n",
        "    }\n",
        "}\n",
        "\n",
        "\n",
        "sweep_id = wandb.sweep(sweep=sweep_config, project='Assignment1')\n",
        "wandb.agent(sweep_id, function=train_model, count=50)\n"
      ]
    },
    {
      "cell_type": "markdown",
      "source": [
        "**Question 10**\n",
        "Based on your learnings above, give me 3 recommendations for what would work for the MNIST dataset (not Fashion-MNIST). Just to be clear, I am asking you to take your learnings based on extensive experimentation with one dataset and see if these learnings help on another dataset. If I give you a budget of running only 3 hyperparameter configurations as opposed to the large number of experiments you have run above then which 3 would you use and why. Report the accuracies that you obtain using these 3 configurations."
      ],
      "metadata": {
        "id": "3ONCH-qb_vdI"
      }
    },
    {
      "cell_type": "code",
      "execution_count": null,
      "metadata": {
        "id": "zA5u4_7xYuhC",
        "colab": {
          "base_uri": "https://localhost:8080/",
          "height": 277
        },
        "outputId": "640dacfc-791a-4055-abf0-b318ce041c8f"
      },
      "outputs": [
        {
          "output_type": "display_data",
          "data": {
            "text/plain": [
              "<IPython.core.display.HTML object>"
            ],
            "text/html": [
              "Tracking run with wandb version 0.19.8"
            ]
          },
          "metadata": {}
        },
        {
          "output_type": "display_data",
          "data": {
            "text/plain": [
              "<IPython.core.display.HTML object>"
            ],
            "text/html": [
              "Run data is saved locally in <code>/content/wandb/run-20250317_025147-yqdt12wp</code>"
            ]
          },
          "metadata": {}
        },
        {
          "output_type": "display_data",
          "data": {
            "text/plain": [
              "<IPython.core.display.HTML object>"
            ],
            "text/html": [
              "Syncing run <strong><a href='https://wandb.ai/ajay-madkami-iitm-indian-institute-of-technology-mad/Assignment1/runs/yqdt12wp' target=\"_blank\">firm-firefly-876</a></strong> to <a href='https://wandb.ai/ajay-madkami-iitm-indian-institute-of-technology-mad/Assignment1' target=\"_blank\">Weights & Biases</a> (<a href='https://wandb.me/developer-guide' target=\"_blank\">docs</a>)<br>"
            ]
          },
          "metadata": {}
        },
        {
          "output_type": "display_data",
          "data": {
            "text/plain": [
              "<IPython.core.display.HTML object>"
            ],
            "text/html": [
              " View project at <a href='https://wandb.ai/ajay-madkami-iitm-indian-institute-of-technology-mad/Assignment1' target=\"_blank\">https://wandb.ai/ajay-madkami-iitm-indian-institute-of-technology-mad/Assignment1</a>"
            ]
          },
          "metadata": {}
        },
        {
          "output_type": "display_data",
          "data": {
            "text/plain": [
              "<IPython.core.display.HTML object>"
            ],
            "text/html": [
              " View run at <a href='https://wandb.ai/ajay-madkami-iitm-indian-institute-of-technology-mad/Assignment1/runs/yqdt12wp' target=\"_blank\">https://wandb.ai/ajay-madkami-iitm-indian-institute-of-technology-mad/Assignment1/runs/yqdt12wp</a>"
            ]
          },
          "metadata": {}
        },
        {
          "output_type": "stream",
          "name": "stdout",
          "text": [
            "X_train shape: (48000, 784)\n",
            "Y_train shape: (48000, 10)\n",
            "X_validation shape: (12000, 784)\n",
            "Y_validation shape: (12000, 10)\n",
            "X_test shape: (10000, 784)\n",
            "Y_test shape: (10000, 10)\n"
          ]
        },
        {
          "output_type": "display_data",
          "data": {
            "text/plain": [
              "<IPython.core.display.HTML object>"
            ],
            "text/html": []
          },
          "metadata": {}
        },
        {
          "output_type": "display_data",
          "data": {
            "text/plain": [
              "<IPython.core.display.HTML object>"
            ],
            "text/html": [
              " View run <strong style=\"color:#cdcd00\">firm-firefly-876</strong> at: <a href='https://wandb.ai/ajay-madkami-iitm-indian-institute-of-technology-mad/Assignment1/runs/yqdt12wp' target=\"_blank\">https://wandb.ai/ajay-madkami-iitm-indian-institute-of-technology-mad/Assignment1/runs/yqdt12wp</a><br> View project at: <a href='https://wandb.ai/ajay-madkami-iitm-indian-institute-of-technology-mad/Assignment1' target=\"_blank\">https://wandb.ai/ajay-madkami-iitm-indian-institute-of-technology-mad/Assignment1</a><br>Synced 5 W&B file(s), 10 media file(s), 0 artifact file(s) and 0 other file(s)"
            ]
          },
          "metadata": {}
        },
        {
          "output_type": "display_data",
          "data": {
            "text/plain": [
              "<IPython.core.display.HTML object>"
            ],
            "text/html": [
              "Find logs at: <code>./wandb/run-20250317_025147-yqdt12wp/logs</code>"
            ]
          },
          "metadata": {}
        }
      ],
      "source": [
        "import numpy as np\n",
        "import matplotlib.pyplot as plt\n",
        "import wandb\n",
        "from keras.datasets import mnist\n",
        "from keras.utils import to_categorical\n",
        "\n",
        "# Initialize WandB\n",
        "wandb.init(project=\"Assignment1\")\n",
        "\n",
        "# Load the dataset\n",
        "(X_train, Y_train), (X_test, Y_test) = mnist.load_data()\n",
        "\n",
        "# Split training set into training and validation sets\n",
        "split = int(0.8 * len(X_train))  # 80% for training, 20% for validation\n",
        "X_validation, Y_validation = X_train[split:], Y_train[split:]\n",
        "X_train, Y_train = X_train[:split], Y_train[:split]\n",
        "\n",
        "# Flatten the images\n",
        "X_train = X_train.reshape(X_train.shape[0], 28 * 28)\n",
        "X_validation = X_validation.reshape(X_validation.shape[0], 28 * 28)\n",
        "X_test = X_test.reshape(X_test.shape[0], 28 * 28)\n",
        "\n",
        "# Normalize the data (scale pixel values to [0, 1])\n",
        "X_train = X_train.astype('float32') / 255.0\n",
        "X_validation = X_validation.astype('float32') / 255.0\n",
        "X_test = X_test.astype('float32') / 255.0\n",
        "\n",
        "# One-hot encoding of labels\n",
        "Y_train = to_categorical(Y_train, 10)\n",
        "Y_validation = to_categorical(Y_validation, 10)\n",
        "Y_test = to_categorical(Y_test, 10)\n",
        "\n",
        "# Log dataset details to WandB\n",
        "wandb.config.update({\n",
        "    \"train_size\": X_train.shape[0],\n",
        "    \"validation_size\": X_validation.shape[0],\n",
        "    \"test_size\": X_test.shape[0],\n",
        "    \"image_shape\": (28, 28)\n",
        "})\n",
        "\n",
        "# Log sample images to WandB\n",
        "wandb.log({\"sample_images\": [wandb.Image(X_train[i].reshape(28, 28), caption=str(Y_train[i].argmax())) for i in range(10)]})\n",
        "\n",
        "# Print dataset shapes\n",
        "print(\"X_train shape:\", X_train.shape)\n",
        "print(\"Y_train shape:\", Y_train.shape)\n",
        "print(\"X_validation shape:\", X_validation.shape)\n",
        "print(\"Y_validation shape:\", Y_validation.shape)\n",
        "print(\"X_test shape:\", X_test.shape)\n",
        "print(\"Y_test shape:\", Y_test.shape)\n",
        "\n",
        "# Finish WandB run\n",
        "wandb.finish()\n"
      ]
    },
    {
      "cell_type": "code",
      "source": [
        "import numpy as np\n",
        "import matplotlib.pyplot as plt\n",
        "import wandb\n",
        "from keras.datasets import mnist\n",
        "\n",
        "# Initialize WandB\n",
        "wandb.init(project=\"Assignment1_MNIST\")\n",
        "\n",
        "# Load the dataset\n",
        "(X_train, Y_train), (X_test, Y_test) = mnist.load_data()\n",
        "\n",
        "# Flatten and normalize the images\n",
        "X_train = X_train.reshape(X_train.shape[0], 28 * 28) / 255.0\n",
        "X_test = X_test.reshape(X_test.shape[0], 28 * 28) / 255.0\n",
        "\n",
        "# One-hot encoding of labels\n",
        "def one_hot_encode(Y, num_classes=10):\n",
        "    return np.eye(num_classes)[Y]\n",
        "\n",
        "Y_train = one_hot_encode(Y_train)\n",
        "Y_test = one_hot_encode(Y_test)\n",
        "\n",
        "# Activation functions\n",
        "def relu(Z):\n",
        "    return np.maximum(0, Z)\n",
        "\n",
        "def softmax(Z):\n",
        "    exp_Z = np.exp(Z - np.max(Z, axis=1, keepdims=True))\n",
        "    return exp_Z / np.sum(exp_Z, axis=1, keepdims=True)\n",
        "\n",
        "# Xavier Initialization\n",
        "def xavier_init(shape):\n",
        "    return np.random.randn(*shape) * np.sqrt(2.0 / shape[0])\n",
        "\n",
        "# Neural Network Class with Batch Normalization\n",
        "class NeuralNetwork:\n",
        "    def __init__(self, layer_sizes, learning_rate=0.01, optimizer='sgd'):\n",
        "        self.layers = layer_sizes\n",
        "        self.learning_rate = learning_rate\n",
        "        self.optimizer = optimizer\n",
        "        self.initialize_weights()\n",
        "\n",
        "    def initialize_weights(self):\n",
        "        self.weights = {}\n",
        "        for i in range(1, len(self.layers)):\n",
        "            self.weights[f'W{i}'] = xavier_init((self.layers[i-1], self.layers[i]))\n",
        "            self.weights[f'b{i}'] = np.zeros((1, self.layers[i]))\n",
        "\n",
        "    def forward(self, X):\n",
        "        self.cache = {\"A0\": X}\n",
        "        for i in range(1, len(self.layers) - 1):\n",
        "            Z = np.dot(self.cache[f\"A{i-1}\"], self.weights[f\"W{i}\"]) + self.weights[f\"b{i}\"]\n",
        "            self.cache[f\"A{i}\"] = relu(Z)\n",
        "\n",
        "        Z_final = np.dot(self.cache[f\"A{len(self.layers)-2}\"], self.weights[f\"W{len(self.layers)-1}\"]) + self.weights[f\"b{len(self.layers)-1}\"]\n",
        "        self.cache[f\"A{len(self.layers)-1}\"] = softmax(Z_final)\n",
        "        return self.cache[f\"A{len(self.layers)-1}\"]\n",
        "\n",
        "    def compute_loss(self, Y_hat, Y):\n",
        "        m = Y.shape[0]\n",
        "        return -np.sum(Y * np.log(Y_hat + 1e-9)) / m\n",
        "\n",
        "    def backward(self, X, Y):\n",
        "        m = X.shape[0]\n",
        "        grads = {}\n",
        "        L = len(self.layers) - 1\n",
        "        dZ = self.cache[f\"A{L}\"] - Y\n",
        "\n",
        "        for i in range(L, 0, -1):\n",
        "            grads[f\"dW{i}\"] = np.dot(self.cache[f\"A{i-1}\"].T, dZ) / m\n",
        "            grads[f\"db{i}\"] = np.sum(dZ, axis=0, keepdims=True) / m\n",
        "            if i > 1:\n",
        "                dZ = np.dot(dZ, self.weights[f\"W{i}\"].T) * (self.cache[f\"A{i-1}\"] > 0)\n",
        "\n",
        "        return grads\n",
        "\n",
        "    def update_weights(self, grads):\n",
        "        for i in range(1, len(self.layers)):\n",
        "            self.weights[f\"W{i}\"] -= self.learning_rate * grads[f\"dW{i}\"]\n",
        "            self.weights[f\"b{i}\"] -= self.learning_rate * grads[f\"db{i}\"]\n",
        "\n",
        "    def train(self, X, Y, epochs=10, batch_size=32):\n",
        "        for epoch in range(epochs):\n",
        "            loss = 0\n",
        "            for i in range(0, X.shape[0], batch_size):\n",
        "                X_batch = X[i:i+batch_size]\n",
        "                Y_batch = Y[i:i+batch_size]\n",
        "                Y_hat = self.forward(X_batch)\n",
        "                loss += self.compute_loss(Y_hat, Y_batch)\n",
        "                grads = self.backward(X_batch, Y_batch)\n",
        "                self.update_weights(grads)\n",
        "            print(f\"Epoch {epoch+1}, Loss: {loss/X.shape[0]}\")\n",
        "\n",
        "    def predict(self, X):\n",
        "        Y_hat = self.forward(X)\n",
        "        return np.argmax(Y_hat, axis=1)\n",
        "\n",
        "# Define the corrected configurations\n",
        "configs = [\n",
        "    {'layers': [784, 128, 10], 'lr': 0.01, 'optimizer': 'sgd'},\n",
        "    {'layers': [784, 256, 128, 10], 'lr': 0.0005, 'optimizer': 'adam'},\n",
        "    {'layers': [784, 512, 256, 128, 10], 'lr': 0.0005, 'optimizer': 'rmsprop'}\n",
        "]\n",
        "\n",
        "# Train models and report accuracies\n",
        "for i, config in enumerate(configs):\n",
        "    print(f\"\\nTraining Configuration {i+1}: {config}\")\n",
        "    model = NeuralNetwork(layer_sizes=config['layers'], learning_rate=config['lr'], optimizer=config['optimizer'])\n",
        "    model.train(X_train, Y_train, epochs=5, batch_size=64)\n",
        "\n",
        "    Y_pred = model.predict(X_test)\n",
        "    accuracy = np.mean(Y_pred == np.argmax(Y_test, axis=1))\n",
        "    print(f\"Test Accuracy for Config {i+1}: {accuracy:.4f}\")\n",
        "\n",
        "    wandb.log({f\"accuracy_config_{i+1}\": accuracy})\n",
        "\n",
        "# Finish WandB run\n",
        "wandb.finish()\n"
      ],
      "metadata": {
        "colab": {
          "base_uri": "https://localhost:8080/",
          "height": 1000
        },
        "id": "rHI7s15iDUjI",
        "outputId": "0a740846-0851-4f65-9d0c-899c133f50c9"
      },
      "execution_count": null,
      "outputs": [
        {
          "output_type": "stream",
          "name": "stderr",
          "text": [
            "\u001b[34m\u001b[1mwandb\u001b[0m: Using wandb-core as the SDK backend.  Please refer to https://wandb.me/wandb-core for more information.\n"
          ]
        },
        {
          "output_type": "display_data",
          "data": {
            "text/plain": [
              "<IPython.core.display.Javascript object>"
            ],
            "application/javascript": [
              "\n",
              "        window._wandbApiKey = new Promise((resolve, reject) => {\n",
              "            function loadScript(url) {\n",
              "            return new Promise(function(resolve, reject) {\n",
              "                let newScript = document.createElement(\"script\");\n",
              "                newScript.onerror = reject;\n",
              "                newScript.onload = resolve;\n",
              "                document.body.appendChild(newScript);\n",
              "                newScript.src = url;\n",
              "            });\n",
              "            }\n",
              "            loadScript(\"https://cdn.jsdelivr.net/npm/postmate/build/postmate.min.js\").then(() => {\n",
              "            const iframe = document.createElement('iframe')\n",
              "            iframe.style.cssText = \"width:0;height:0;border:none\"\n",
              "            document.body.appendChild(iframe)\n",
              "            const handshake = new Postmate({\n",
              "                container: iframe,\n",
              "                url: 'https://wandb.ai/authorize'\n",
              "            });\n",
              "            const timeout = setTimeout(() => reject(\"Couldn't auto authenticate\"), 5000)\n",
              "            handshake.then(function(child) {\n",
              "                child.on('authorize', data => {\n",
              "                    clearTimeout(timeout)\n",
              "                    resolve(data)\n",
              "                });\n",
              "            });\n",
              "            })\n",
              "        });\n",
              "    "
            ]
          },
          "metadata": {}
        },
        {
          "output_type": "stream",
          "name": "stderr",
          "text": [
            "\u001b[34m\u001b[1mwandb\u001b[0m: Logging into wandb.ai. (Learn how to deploy a W&B server locally: https://wandb.me/wandb-server)\n",
            "\u001b[34m\u001b[1mwandb\u001b[0m: You can find your API key in your browser here: https://wandb.ai/authorize\n",
            "wandb: Paste an API key from your profile and hit enter:"
          ]
        },
        {
          "name": "stdout",
          "output_type": "stream",
          "text": [
            " ··········\n"
          ]
        },
        {
          "output_type": "stream",
          "name": "stderr",
          "text": [
            "\u001b[34m\u001b[1mwandb\u001b[0m: \u001b[33mWARNING\u001b[0m If you're specifying your api key in code, ensure this code is not shared publicly.\n",
            "\u001b[34m\u001b[1mwandb\u001b[0m: \u001b[33mWARNING\u001b[0m Consider setting the WANDB_API_KEY environment variable, or running `wandb login` from the command line.\n",
            "\u001b[34m\u001b[1mwandb\u001b[0m: No netrc file found, creating one.\n",
            "\u001b[34m\u001b[1mwandb\u001b[0m: Appending key for api.wandb.ai to your netrc file: /root/.netrc\n",
            "\u001b[34m\u001b[1mwandb\u001b[0m: Currently logged in as: \u001b[33majay-madkami-iitm\u001b[0m (\u001b[33majay-madkami-iitm-indian-institute-of-technology-mad\u001b[0m) to \u001b[32mhttps://api.wandb.ai\u001b[0m. Use \u001b[1m`wandb login --relogin`\u001b[0m to force relogin\n"
          ]
        },
        {
          "output_type": "display_data",
          "data": {
            "text/plain": [
              "<IPython.core.display.HTML object>"
            ],
            "text/html": [
              "Tracking run with wandb version 0.19.8"
            ]
          },
          "metadata": {}
        },
        {
          "output_type": "display_data",
          "data": {
            "text/plain": [
              "<IPython.core.display.HTML object>"
            ],
            "text/html": [
              "Run data is saved locally in <code>/content/wandb/run-20250317_044146-ljnpk11r</code>"
            ]
          },
          "metadata": {}
        },
        {
          "output_type": "display_data",
          "data": {
            "text/plain": [
              "<IPython.core.display.HTML object>"
            ],
            "text/html": [
              "Syncing run <strong><a href='https://wandb.ai/ajay-madkami-iitm-indian-institute-of-technology-mad/Assignment1_MNIST/runs/ljnpk11r' target=\"_blank\">playful-night-3</a></strong> to <a href='https://wandb.ai/ajay-madkami-iitm-indian-institute-of-technology-mad/Assignment1_MNIST' target=\"_blank\">Weights & Biases</a> (<a href='https://wandb.me/developer-guide' target=\"_blank\">docs</a>)<br>"
            ]
          },
          "metadata": {}
        },
        {
          "output_type": "display_data",
          "data": {
            "text/plain": [
              "<IPython.core.display.HTML object>"
            ],
            "text/html": [
              " View project at <a href='https://wandb.ai/ajay-madkami-iitm-indian-institute-of-technology-mad/Assignment1_MNIST' target=\"_blank\">https://wandb.ai/ajay-madkami-iitm-indian-institute-of-technology-mad/Assignment1_MNIST</a>"
            ]
          },
          "metadata": {}
        },
        {
          "output_type": "display_data",
          "data": {
            "text/plain": [
              "<IPython.core.display.HTML object>"
            ],
            "text/html": [
              " View run at <a href='https://wandb.ai/ajay-madkami-iitm-indian-institute-of-technology-mad/Assignment1_MNIST/runs/ljnpk11r' target=\"_blank\">https://wandb.ai/ajay-madkami-iitm-indian-institute-of-technology-mad/Assignment1_MNIST/runs/ljnpk11r</a>"
            ]
          },
          "metadata": {}
        },
        {
          "output_type": "stream",
          "name": "stdout",
          "text": [
            "Downloading data from https://storage.googleapis.com/tensorflow/tf-keras-datasets/mnist.npz\n",
            "\u001b[1m11490434/11490434\u001b[0m \u001b[32m━━━━━━━━━━━━━━━━━━━━\u001b[0m\u001b[37m\u001b[0m \u001b[1m0s\u001b[0m 0us/step\n",
            "\n",
            "Training Configuration 1: {'layers': [784, 128, 10], 'lr': 0.01, 'optimizer': 'sgd'}\n",
            "Epoch 1, Loss: 0.014054811048954403\n",
            "Epoch 2, Loss: 0.0067291064180054405\n",
            "Epoch 3, Loss: 0.005665424590959189\n",
            "Epoch 4, Loss: 0.005151324961259581\n",
            "Epoch 5, Loss: 0.004806330667207223\n",
            "Test Accuracy for Config 1: 0.9191\n",
            "\n",
            "Training Configuration 2: {'layers': [784, 256, 128, 10], 'lr': 0.0005, 'optimizer': 'adam'}\n",
            "Epoch 1, Loss: 0.034256863497324486\n",
            "Epoch 2, Loss: 0.028060075937408724\n",
            "Epoch 3, Loss: 0.022423137898527658\n",
            "Epoch 4, Loss: 0.017870272334067287\n",
            "Epoch 5, Loss: 0.0146829617753687\n",
            "Test Accuracy for Config 2: 0.8204\n",
            "\n",
            "Training Configuration 3: {'layers': [784, 512, 256, 128, 10], 'lr': 0.0005, 'optimizer': 'rmsprop'}\n",
            "Epoch 1, Loss: 0.03268416193409585\n",
            "Epoch 2, Loss: 0.024735794976642418\n",
            "Epoch 3, Loss: 0.017935230616193995\n",
            "Epoch 4, Loss: 0.013510595668154681\n",
            "Epoch 5, Loss: 0.010962759983876053\n",
            "Test Accuracy for Config 3: 0.8516\n"
          ]
        },
        {
          "output_type": "display_data",
          "data": {
            "text/plain": [
              "<IPython.core.display.HTML object>"
            ],
            "text/html": []
          },
          "metadata": {}
        },
        {
          "output_type": "display_data",
          "data": {
            "text/plain": [
              "<IPython.core.display.HTML object>"
            ],
            "text/html": [
              "<br>    <style><br>        .wandb-row {<br>            display: flex;<br>            flex-direction: row;<br>            flex-wrap: wrap;<br>            justify-content: flex-start;<br>            width: 100%;<br>        }<br>        .wandb-col {<br>            display: flex;<br>            flex-direction: column;<br>            flex-basis: 100%;<br>            flex: 1;<br>            padding: 10px;<br>        }<br>    </style><br><div class=\"wandb-row\"><div class=\"wandb-col\"><h3>Run history:</h3><br/><table class=\"wandb\"><tr><td>accuracy_config_1</td><td>▁</td></tr><tr><td>accuracy_config_2</td><td>▁</td></tr><tr><td>accuracy_config_3</td><td>▁</td></tr></table><br/></div><div class=\"wandb-col\"><h3>Run summary:</h3><br/><table class=\"wandb\"><tr><td>accuracy_config_1</td><td>0.9191</td></tr><tr><td>accuracy_config_2</td><td>0.8204</td></tr><tr><td>accuracy_config_3</td><td>0.8516</td></tr></table><br/></div></div>"
            ]
          },
          "metadata": {}
        },
        {
          "output_type": "display_data",
          "data": {
            "text/plain": [
              "<IPython.core.display.HTML object>"
            ],
            "text/html": [
              " View run <strong style=\"color:#cdcd00\">playful-night-3</strong> at: <a href='https://wandb.ai/ajay-madkami-iitm-indian-institute-of-technology-mad/Assignment1_MNIST/runs/ljnpk11r' target=\"_blank\">https://wandb.ai/ajay-madkami-iitm-indian-institute-of-technology-mad/Assignment1_MNIST/runs/ljnpk11r</a><br> View project at: <a href='https://wandb.ai/ajay-madkami-iitm-indian-institute-of-technology-mad/Assignment1_MNIST' target=\"_blank\">https://wandb.ai/ajay-madkami-iitm-indian-institute-of-technology-mad/Assignment1_MNIST</a><br>Synced 5 W&B file(s), 0 media file(s), 0 artifact file(s) and 0 other file(s)"
            ]
          },
          "metadata": {}
        },
        {
          "output_type": "display_data",
          "data": {
            "text/plain": [
              "<IPython.core.display.HTML object>"
            ],
            "text/html": [
              "Find logs at: <code>./wandb/run-20250317_044146-ljnpk11r/logs</code>"
            ]
          },
          "metadata": {}
        }
      ]
    },
    {
      "cell_type": "code",
      "source": [],
      "metadata": {
        "id": "ruPWZ-hEZy7x"
      },
      "execution_count": null,
      "outputs": []
    }
  ],
  "metadata": {
    "colab": {
      "provenance": []
    },
    "kernelspec": {
      "display_name": "Python 3",
      "name": "python3"
    },
    "language_info": {
      "name": "python"
    }
  },
  "nbformat": 4,
  "nbformat_minor": 0
}